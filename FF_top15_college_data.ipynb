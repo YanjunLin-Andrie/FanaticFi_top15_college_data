{
  "cells": [
    {
      "cell_type": "markdown",
      "metadata": {
        "id": "view-in-github",
        "colab_type": "text"
      },
      "source": [
        "<a href=\"https://colab.research.google.com/github/YanjunLin-Andrie/FanaticFi_top15_college_data/blob/main/FF_top15_college_data.ipynb\" target=\"_parent\"><img src=\"https://colab.research.google.com/assets/colab-badge.svg\" alt=\"Open In Colab\"/></a>"
      ]
    },
    {
      "cell_type": "code",
      "execution_count": 1,
      "id": "88acc28f-848d-4881-b818-3e1afc45797a",
      "metadata": {
        "tags": [],
        "id": "88acc28f-848d-4881-b818-3e1afc45797a"
      },
      "outputs": [],
      "source": [
        "# Imports\n",
        "import pandas as pd\n",
        "from pathlib import Path"
      ]
    },
    {
      "cell_type": "markdown",
      "source": [
        "### Data referrence:\n",
        "\n",
        "* Data credit to `T-Rank Era Player Finder` by Bart Torvik. Click [here](https://barttorvik.com/) for more information\n",
        "\n",
        "* Bart Torvik's [blog](http://adamcwisports.blogspot.com/p/data.html) provides information on how to scrape data from his website.\n",
        "\n",
        "* I followed guidance from `College Basketball 2009-2021 + NBA Advanced Stats` by Aditya Jumar. Click [here](https://www.kaggle.com/datasets/adityak2003/college-basketball-players-20092021) for more information\n",
        "\n",
        "* 2022 Draft Data were collected from nba.com, click [here](https://www.nba.com/stats/draft/history/) for more information"
      ],
      "metadata": {
        "id": "NOnFnGMDiw-h"
      },
      "id": "NOnFnGMDiw-h"
    },
    {
      "cell_type": "code",
      "source": [
        "# Load data and fill blank cells with 0\n",
        "df_all = pd.read_csv(Path('2009-2022-no-16-resized.csv'), low_memory = False)\n",
        "df_all = df_all.fillna(0)\n",
        "\n",
        "df_all"
      ],
      "metadata": {
        "colab": {
          "base_uri": "https://localhost:8080/",
          "height": 644
        },
        "id": "AVcgSIC_Aw77",
        "outputId": "8fb946b7-5a74-4262-ee1c-3caf622ae12f"
      },
      "id": "AVcgSIC_Aw77",
      "execution_count": 2,
      "outputs": [
        {
          "output_type": "execute_result",
          "data": {
            "text/plain": [
              "          player_name  pick  year               team  conf  GP  Min_per  \\\n",
              "0           Jake Drum   0.0  2011             Auburn   SEC  10      4.6   \n",
              "1     Christian Braun  21.0  2022             Kansas   B12  40     85.1   \n",
              "2        Taylor Brown   0.0  2009        Utah Valley   ind  26     25.9   \n",
              "3       Glorind Lisha   0.0  2016     Loyola Chicago   MVC   6      0.4   \n",
              "4          Zach Pirog   0.0  2017     Nebraska Omaha   Sum  30     23.8   \n",
              "...               ...   ...   ...                ...   ...  ..      ...   \n",
              "1076       Hamid Ford   0.0  2009     Texas Southern  SWAC  23     17.1   \n",
              "1077   Cameron Steele   0.0  2021  Abilene Christian  Slnd  19      8.9   \n",
              "1078    Miles Overton   0.0  2015        Wake Forest   ACC   7      6.9   \n",
              "1079      Austin Daye  15.0  2009            Gonzaga   WCC  33     65.4   \n",
              "1080  Marcus Tsohonis   0.0  2022                VCU   A10  29     32.5   \n",
              "\n",
              "       Ortg   usg   eFG  ...     dgbpm    oreb    dreb    treb     ast  \\\n",
              "0      76.5  13.0  28.6  ...  0.745059  0.5000  0.4000  0.9000  0.2000   \n",
              "1     114.1  20.2  55.6  ...  2.811760  1.4000  5.1250  6.5250  2.7750   \n",
              "2     109.1  12.9  54.3  ... -0.370023  0.2308  1.1538  1.3846  0.4231   \n",
              "3     138.1  17.2  75.0  ... -1.509290  0.0000  0.0000  0.0000  0.0000   \n",
              "4     107.3  14.4  56.5  ...  0.387186  1.0645  1.4839  2.5484  0.0968   \n",
              "...     ...   ...   ...  ...       ...     ...     ...     ...     ...   \n",
              "1076   60.3  17.0  35.7  ... -3.034670  0.0435  0.6522  0.6957  0.6957   \n",
              "1077  120.2  21.0  69.0  ...  0.186072  0.2609  1.0000  1.2609  0.4348   \n",
              "1078   84.2  24.8  41.1  ...  0.318346  0.1429  1.5714  1.7143  0.4286   \n",
              "1079  102.6  24.4  53.6  ...  3.474370  1.0000  5.6667  6.6667  1.1212   \n",
              "1080   95.3  20.9  46.9  ...  0.373496  0.2069  1.4483  1.6552  1.1379   \n",
              "\n",
              "         stl     blk      pts  Unnamed: 64  Unnamed: 65  \n",
              "0     0.4000  0.1000   0.7000       Wing G      1.08042  \n",
              "1     0.9750  0.8250  14.1000       Wing G      5.52882  \n",
              "2     0.2308  0.0769   2.4231            0      9.27719  \n",
              "3     0.0000  0.0000   0.5000      Combo G     12.17310  \n",
              "4     0.1935  0.9032   2.8710            C      0.00000  \n",
              "...      ...     ...      ...          ...          ...  \n",
              "1076  0.3913  0.0435   1.5652            0      2.60319  \n",
              "1077  0.0435  0.0870   2.8261    Stretch 4      8.81743  \n",
              "1078  0.4286  0.1429   5.1429       Wing G     11.65950  \n",
              "1079  0.7273  2.0000  12.6061            0      5.33910  \n",
              "1080  0.2759  0.0345   5.1034      Combo G     10.65530  \n",
              "\n",
              "[1081 rows x 66 columns]"
            ],
            "text/html": [
              "\n",
              "  <div id=\"df-9bcaa01f-792b-4e93-ab92-fc9a7e03b09a\">\n",
              "    <div class=\"colab-df-container\">\n",
              "      <div>\n",
              "<style scoped>\n",
              "    .dataframe tbody tr th:only-of-type {\n",
              "        vertical-align: middle;\n",
              "    }\n",
              "\n",
              "    .dataframe tbody tr th {\n",
              "        vertical-align: top;\n",
              "    }\n",
              "\n",
              "    .dataframe thead th {\n",
              "        text-align: right;\n",
              "    }\n",
              "</style>\n",
              "<table border=\"1\" class=\"dataframe\">\n",
              "  <thead>\n",
              "    <tr style=\"text-align: right;\">\n",
              "      <th></th>\n",
              "      <th>player_name</th>\n",
              "      <th>pick</th>\n",
              "      <th>year</th>\n",
              "      <th>team</th>\n",
              "      <th>conf</th>\n",
              "      <th>GP</th>\n",
              "      <th>Min_per</th>\n",
              "      <th>Ortg</th>\n",
              "      <th>usg</th>\n",
              "      <th>eFG</th>\n",
              "      <th>...</th>\n",
              "      <th>dgbpm</th>\n",
              "      <th>oreb</th>\n",
              "      <th>dreb</th>\n",
              "      <th>treb</th>\n",
              "      <th>ast</th>\n",
              "      <th>stl</th>\n",
              "      <th>blk</th>\n",
              "      <th>pts</th>\n",
              "      <th>Unnamed: 64</th>\n",
              "      <th>Unnamed: 65</th>\n",
              "    </tr>\n",
              "  </thead>\n",
              "  <tbody>\n",
              "    <tr>\n",
              "      <th>0</th>\n",
              "      <td>Jake Drum</td>\n",
              "      <td>0.0</td>\n",
              "      <td>2011</td>\n",
              "      <td>Auburn</td>\n",
              "      <td>SEC</td>\n",
              "      <td>10</td>\n",
              "      <td>4.6</td>\n",
              "      <td>76.5</td>\n",
              "      <td>13.0</td>\n",
              "      <td>28.6</td>\n",
              "      <td>...</td>\n",
              "      <td>0.745059</td>\n",
              "      <td>0.5000</td>\n",
              "      <td>0.4000</td>\n",
              "      <td>0.9000</td>\n",
              "      <td>0.2000</td>\n",
              "      <td>0.4000</td>\n",
              "      <td>0.1000</td>\n",
              "      <td>0.7000</td>\n",
              "      <td>Wing G</td>\n",
              "      <td>1.08042</td>\n",
              "    </tr>\n",
              "    <tr>\n",
              "      <th>1</th>\n",
              "      <td>Christian Braun</td>\n",
              "      <td>21.0</td>\n",
              "      <td>2022</td>\n",
              "      <td>Kansas</td>\n",
              "      <td>B12</td>\n",
              "      <td>40</td>\n",
              "      <td>85.1</td>\n",
              "      <td>114.1</td>\n",
              "      <td>20.2</td>\n",
              "      <td>55.6</td>\n",
              "      <td>...</td>\n",
              "      <td>2.811760</td>\n",
              "      <td>1.4000</td>\n",
              "      <td>5.1250</td>\n",
              "      <td>6.5250</td>\n",
              "      <td>2.7750</td>\n",
              "      <td>0.9750</td>\n",
              "      <td>0.8250</td>\n",
              "      <td>14.1000</td>\n",
              "      <td>Wing G</td>\n",
              "      <td>5.52882</td>\n",
              "    </tr>\n",
              "    <tr>\n",
              "      <th>2</th>\n",
              "      <td>Taylor Brown</td>\n",
              "      <td>0.0</td>\n",
              "      <td>2009</td>\n",
              "      <td>Utah Valley</td>\n",
              "      <td>ind</td>\n",
              "      <td>26</td>\n",
              "      <td>25.9</td>\n",
              "      <td>109.1</td>\n",
              "      <td>12.9</td>\n",
              "      <td>54.3</td>\n",
              "      <td>...</td>\n",
              "      <td>-0.370023</td>\n",
              "      <td>0.2308</td>\n",
              "      <td>1.1538</td>\n",
              "      <td>1.3846</td>\n",
              "      <td>0.4231</td>\n",
              "      <td>0.2308</td>\n",
              "      <td>0.0769</td>\n",
              "      <td>2.4231</td>\n",
              "      <td>0</td>\n",
              "      <td>9.27719</td>\n",
              "    </tr>\n",
              "    <tr>\n",
              "      <th>3</th>\n",
              "      <td>Glorind Lisha</td>\n",
              "      <td>0.0</td>\n",
              "      <td>2016</td>\n",
              "      <td>Loyola Chicago</td>\n",
              "      <td>MVC</td>\n",
              "      <td>6</td>\n",
              "      <td>0.4</td>\n",
              "      <td>138.1</td>\n",
              "      <td>17.2</td>\n",
              "      <td>75.0</td>\n",
              "      <td>...</td>\n",
              "      <td>-1.509290</td>\n",
              "      <td>0.0000</td>\n",
              "      <td>0.0000</td>\n",
              "      <td>0.0000</td>\n",
              "      <td>0.0000</td>\n",
              "      <td>0.0000</td>\n",
              "      <td>0.0000</td>\n",
              "      <td>0.5000</td>\n",
              "      <td>Combo G</td>\n",
              "      <td>12.17310</td>\n",
              "    </tr>\n",
              "    <tr>\n",
              "      <th>4</th>\n",
              "      <td>Zach Pirog</td>\n",
              "      <td>0.0</td>\n",
              "      <td>2017</td>\n",
              "      <td>Nebraska Omaha</td>\n",
              "      <td>Sum</td>\n",
              "      <td>30</td>\n",
              "      <td>23.8</td>\n",
              "      <td>107.3</td>\n",
              "      <td>14.4</td>\n",
              "      <td>56.5</td>\n",
              "      <td>...</td>\n",
              "      <td>0.387186</td>\n",
              "      <td>1.0645</td>\n",
              "      <td>1.4839</td>\n",
              "      <td>2.5484</td>\n",
              "      <td>0.0968</td>\n",
              "      <td>0.1935</td>\n",
              "      <td>0.9032</td>\n",
              "      <td>2.8710</td>\n",
              "      <td>C</td>\n",
              "      <td>0.00000</td>\n",
              "    </tr>\n",
              "    <tr>\n",
              "      <th>...</th>\n",
              "      <td>...</td>\n",
              "      <td>...</td>\n",
              "      <td>...</td>\n",
              "      <td>...</td>\n",
              "      <td>...</td>\n",
              "      <td>...</td>\n",
              "      <td>...</td>\n",
              "      <td>...</td>\n",
              "      <td>...</td>\n",
              "      <td>...</td>\n",
              "      <td>...</td>\n",
              "      <td>...</td>\n",
              "      <td>...</td>\n",
              "      <td>...</td>\n",
              "      <td>...</td>\n",
              "      <td>...</td>\n",
              "      <td>...</td>\n",
              "      <td>...</td>\n",
              "      <td>...</td>\n",
              "      <td>...</td>\n",
              "      <td>...</td>\n",
              "    </tr>\n",
              "    <tr>\n",
              "      <th>1076</th>\n",
              "      <td>Hamid Ford</td>\n",
              "      <td>0.0</td>\n",
              "      <td>2009</td>\n",
              "      <td>Texas Southern</td>\n",
              "      <td>SWAC</td>\n",
              "      <td>23</td>\n",
              "      <td>17.1</td>\n",
              "      <td>60.3</td>\n",
              "      <td>17.0</td>\n",
              "      <td>35.7</td>\n",
              "      <td>...</td>\n",
              "      <td>-3.034670</td>\n",
              "      <td>0.0435</td>\n",
              "      <td>0.6522</td>\n",
              "      <td>0.6957</td>\n",
              "      <td>0.6957</td>\n",
              "      <td>0.3913</td>\n",
              "      <td>0.0435</td>\n",
              "      <td>1.5652</td>\n",
              "      <td>0</td>\n",
              "      <td>2.60319</td>\n",
              "    </tr>\n",
              "    <tr>\n",
              "      <th>1077</th>\n",
              "      <td>Cameron Steele</td>\n",
              "      <td>0.0</td>\n",
              "      <td>2021</td>\n",
              "      <td>Abilene Christian</td>\n",
              "      <td>Slnd</td>\n",
              "      <td>19</td>\n",
              "      <td>8.9</td>\n",
              "      <td>120.2</td>\n",
              "      <td>21.0</td>\n",
              "      <td>69.0</td>\n",
              "      <td>...</td>\n",
              "      <td>0.186072</td>\n",
              "      <td>0.2609</td>\n",
              "      <td>1.0000</td>\n",
              "      <td>1.2609</td>\n",
              "      <td>0.4348</td>\n",
              "      <td>0.0435</td>\n",
              "      <td>0.0870</td>\n",
              "      <td>2.8261</td>\n",
              "      <td>Stretch 4</td>\n",
              "      <td>8.81743</td>\n",
              "    </tr>\n",
              "    <tr>\n",
              "      <th>1078</th>\n",
              "      <td>Miles Overton</td>\n",
              "      <td>0.0</td>\n",
              "      <td>2015</td>\n",
              "      <td>Wake Forest</td>\n",
              "      <td>ACC</td>\n",
              "      <td>7</td>\n",
              "      <td>6.9</td>\n",
              "      <td>84.2</td>\n",
              "      <td>24.8</td>\n",
              "      <td>41.1</td>\n",
              "      <td>...</td>\n",
              "      <td>0.318346</td>\n",
              "      <td>0.1429</td>\n",
              "      <td>1.5714</td>\n",
              "      <td>1.7143</td>\n",
              "      <td>0.4286</td>\n",
              "      <td>0.4286</td>\n",
              "      <td>0.1429</td>\n",
              "      <td>5.1429</td>\n",
              "      <td>Wing G</td>\n",
              "      <td>11.65950</td>\n",
              "    </tr>\n",
              "    <tr>\n",
              "      <th>1079</th>\n",
              "      <td>Austin Daye</td>\n",
              "      <td>15.0</td>\n",
              "      <td>2009</td>\n",
              "      <td>Gonzaga</td>\n",
              "      <td>WCC</td>\n",
              "      <td>33</td>\n",
              "      <td>65.4</td>\n",
              "      <td>102.6</td>\n",
              "      <td>24.4</td>\n",
              "      <td>53.6</td>\n",
              "      <td>...</td>\n",
              "      <td>3.474370</td>\n",
              "      <td>1.0000</td>\n",
              "      <td>5.6667</td>\n",
              "      <td>6.6667</td>\n",
              "      <td>1.1212</td>\n",
              "      <td>0.7273</td>\n",
              "      <td>2.0000</td>\n",
              "      <td>12.6061</td>\n",
              "      <td>0</td>\n",
              "      <td>5.33910</td>\n",
              "    </tr>\n",
              "    <tr>\n",
              "      <th>1080</th>\n",
              "      <td>Marcus Tsohonis</td>\n",
              "      <td>0.0</td>\n",
              "      <td>2022</td>\n",
              "      <td>VCU</td>\n",
              "      <td>A10</td>\n",
              "      <td>29</td>\n",
              "      <td>32.5</td>\n",
              "      <td>95.3</td>\n",
              "      <td>20.9</td>\n",
              "      <td>46.9</td>\n",
              "      <td>...</td>\n",
              "      <td>0.373496</td>\n",
              "      <td>0.2069</td>\n",
              "      <td>1.4483</td>\n",
              "      <td>1.6552</td>\n",
              "      <td>1.1379</td>\n",
              "      <td>0.2759</td>\n",
              "      <td>0.0345</td>\n",
              "      <td>5.1034</td>\n",
              "      <td>Combo G</td>\n",
              "      <td>10.65530</td>\n",
              "    </tr>\n",
              "  </tbody>\n",
              "</table>\n",
              "<p>1081 rows × 66 columns</p>\n",
              "</div>\n",
              "      <button class=\"colab-df-convert\" onclick=\"convertToInteractive('df-9bcaa01f-792b-4e93-ab92-fc9a7e03b09a')\"\n",
              "              title=\"Convert this dataframe to an interactive table.\"\n",
              "              style=\"display:none;\">\n",
              "        \n",
              "  <svg xmlns=\"http://www.w3.org/2000/svg\" height=\"24px\"viewBox=\"0 0 24 24\"\n",
              "       width=\"24px\">\n",
              "    <path d=\"M0 0h24v24H0V0z\" fill=\"none\"/>\n",
              "    <path d=\"M18.56 5.44l.94 2.06.94-2.06 2.06-.94-2.06-.94-.94-2.06-.94 2.06-2.06.94zm-11 1L8.5 8.5l.94-2.06 2.06-.94-2.06-.94L8.5 2.5l-.94 2.06-2.06.94zm10 10l.94 2.06.94-2.06 2.06-.94-2.06-.94-.94-2.06-.94 2.06-2.06.94z\"/><path d=\"M17.41 7.96l-1.37-1.37c-.4-.4-.92-.59-1.43-.59-.52 0-1.04.2-1.43.59L10.3 9.45l-7.72 7.72c-.78.78-.78 2.05 0 2.83L4 21.41c.39.39.9.59 1.41.59.51 0 1.02-.2 1.41-.59l7.78-7.78 2.81-2.81c.8-.78.8-2.07 0-2.86zM5.41 20L4 18.59l7.72-7.72 1.47 1.35L5.41 20z\"/>\n",
              "  </svg>\n",
              "      </button>\n",
              "      \n",
              "  <style>\n",
              "    .colab-df-container {\n",
              "      display:flex;\n",
              "      flex-wrap:wrap;\n",
              "      gap: 12px;\n",
              "    }\n",
              "\n",
              "    .colab-df-convert {\n",
              "      background-color: #E8F0FE;\n",
              "      border: none;\n",
              "      border-radius: 50%;\n",
              "      cursor: pointer;\n",
              "      display: none;\n",
              "      fill: #1967D2;\n",
              "      height: 32px;\n",
              "      padding: 0 0 0 0;\n",
              "      width: 32px;\n",
              "    }\n",
              "\n",
              "    .colab-df-convert:hover {\n",
              "      background-color: #E2EBFA;\n",
              "      box-shadow: 0px 1px 2px rgba(60, 64, 67, 0.3), 0px 1px 3px 1px rgba(60, 64, 67, 0.15);\n",
              "      fill: #174EA6;\n",
              "    }\n",
              "\n",
              "    [theme=dark] .colab-df-convert {\n",
              "      background-color: #3B4455;\n",
              "      fill: #D2E3FC;\n",
              "    }\n",
              "\n",
              "    [theme=dark] .colab-df-convert:hover {\n",
              "      background-color: #434B5C;\n",
              "      box-shadow: 0px 1px 3px 1px rgba(0, 0, 0, 0.15);\n",
              "      filter: drop-shadow(0px 1px 2px rgba(0, 0, 0, 0.3));\n",
              "      fill: #FFFFFF;\n",
              "    }\n",
              "  </style>\n",
              "\n",
              "      <script>\n",
              "        const buttonEl =\n",
              "          document.querySelector('#df-9bcaa01f-792b-4e93-ab92-fc9a7e03b09a button.colab-df-convert');\n",
              "        buttonEl.style.display =\n",
              "          google.colab.kernel.accessAllowed ? 'block' : 'none';\n",
              "\n",
              "        async function convertToInteractive(key) {\n",
              "          const element = document.querySelector('#df-9bcaa01f-792b-4e93-ab92-fc9a7e03b09a');\n",
              "          const dataTable =\n",
              "            await google.colab.kernel.invokeFunction('convertToInteractive',\n",
              "                                                     [key], {});\n",
              "          if (!dataTable) return;\n",
              "\n",
              "          const docLinkHtml = 'Like what you see? Visit the ' +\n",
              "            '<a target=\"_blank\" href=https://colab.research.google.com/notebooks/data_table.ipynb>data table notebook</a>'\n",
              "            + ' to learn more about interactive tables.';\n",
              "          element.innerHTML = '';\n",
              "          dataTable['output_type'] = 'display_data';\n",
              "          await google.colab.output.renderOutput(dataTable, element);\n",
              "          const docLink = document.createElement('div');\n",
              "          docLink.innerHTML = docLinkHtml;\n",
              "          element.appendChild(docLink);\n",
              "        }\n",
              "      </script>\n",
              "    </div>\n",
              "  </div>\n",
              "  "
            ]
          },
          "metadata": {},
          "execution_count": 2
        }
      ]
    },
    {
      "cell_type": "code",
      "source": [
        "# Select from the following to be X\n",
        "df_all.columns"
      ],
      "metadata": {
        "colab": {
          "base_uri": "https://localhost:8080/"
        },
        "id": "yA73e-9-WLsr",
        "outputId": "0fb2d2cd-0aea-4b27-91dc-3354b593b671"
      },
      "id": "yA73e-9-WLsr",
      "execution_count": 3,
      "outputs": [
        {
          "output_type": "execute_result",
          "data": {
            "text/plain": [
              "Index(['player_name', 'pick', 'year', 'team', 'conf', 'GP', 'Min_per', 'Ortg',\n",
              "       'usg', 'eFG', 'TS_per', 'ORB_per', 'DRB_per', 'AST_per', 'TO_per',\n",
              "       'FTM', 'FTA', 'FT_per', 'twoPM', 'twoPA', 'twoP_per', 'TPM', 'TPA',\n",
              "       'TP_per', 'blk_per', 'stl_per', 'ftr', 'yr', 'ht', 'num', 'porpag',\n",
              "       'adjoe', 'pfr', 'pid', 'type', 'Rec Rank', 'ast/tov', 'rimmade',\n",
              "       'rimmade+rimmiss', 'midmade', 'midmade+midmiss',\n",
              "       'rimmade/(rimmade+rimmiss)', 'midmade/(midmade+midmiss)', 'dunksmade',\n",
              "       'dunksmiss+dunksmade', 'dunksmade/(dunksmade+dunksmiss)', 'drtg',\n",
              "       'adrtg', 'dporpag', 'stops', 'bpm', 'obpm', 'dbpm', 'gbpm', 'mp',\n",
              "       'ogbpm', 'dgbpm', 'oreb', 'dreb', 'treb', 'ast', 'stl', 'blk', 'pts',\n",
              "       'Unnamed: 64', 'Unnamed: 65'],\n",
              "      dtype='object')"
            ]
          },
          "metadata": {},
          "execution_count": 3
        }
      ]
    },
    {
      "cell_type": "markdown",
      "source": [
        "add 3pt, pts, assist, GP, MinP, school,\n",
        "\n",
        "Offense: points, usg, FTA vs FT%, TPA, TPM, O-rebounds, AST/tov\n",
        "\n",
        "defense: D-rebounds, stl, blocks\n",
        "\n",
        "Bigman: "
      ],
      "metadata": {
        "id": "irhIDJNV-HWR"
      },
      "id": "irhIDJNV-HWR"
    },
    {
      "cell_type": "code",
      "source": [
        "# Creates X by using specific statistics\n",
        "features = ['GP', 'Min_per', 'FTM','twoPM', 'stops', 'mp']"
      ],
      "metadata": {
        "id": "Xr0Db8m1WXgP"
      },
      "id": "Xr0Db8m1WXgP",
      "execution_count": 4,
      "outputs": []
    },
    {
      "cell_type": "code",
      "source": [
        "# Select evaluation parameters for correlation datafram and convert it to correlation dataframe\n",
        "corr_df = df_all[features].corr()\n",
        "# Review the correlation dataframe\n",
        "corr_df.head()"
      ],
      "metadata": {
        "colab": {
          "base_uri": "https://localhost:8080/",
          "height": 206
        },
        "id": "5tzac9byVhzc",
        "outputId": "2d2f5fd5-24e6-43dd-bd45-d04512271fcd"
      },
      "id": "5tzac9byVhzc",
      "execution_count": 5,
      "outputs": [
        {
          "output_type": "execute_result",
          "data": {
            "text/plain": [
              "               GP   Min_per       FTM     twoPM     stops        mp\n",
              "GP       1.000000  0.779975  0.608520  0.656229  0.789306  0.674219\n",
              "Min_per  0.779975  1.000000  0.785407  0.785661  0.929357  0.958413\n",
              "FTM      0.608520  0.785407  1.000000  0.860646  0.835498  0.766680\n",
              "twoPM    0.656229  0.785661  0.860646  1.000000  0.878842  0.759871\n",
              "stops    0.789306  0.929357  0.835498  0.878842  1.000000  0.893495"
            ],
            "text/html": [
              "\n",
              "  <div id=\"df-712c36f9-46b1-43aa-aae1-011ed79f502c\">\n",
              "    <div class=\"colab-df-container\">\n",
              "      <div>\n",
              "<style scoped>\n",
              "    .dataframe tbody tr th:only-of-type {\n",
              "        vertical-align: middle;\n",
              "    }\n",
              "\n",
              "    .dataframe tbody tr th {\n",
              "        vertical-align: top;\n",
              "    }\n",
              "\n",
              "    .dataframe thead th {\n",
              "        text-align: right;\n",
              "    }\n",
              "</style>\n",
              "<table border=\"1\" class=\"dataframe\">\n",
              "  <thead>\n",
              "    <tr style=\"text-align: right;\">\n",
              "      <th></th>\n",
              "      <th>GP</th>\n",
              "      <th>Min_per</th>\n",
              "      <th>FTM</th>\n",
              "      <th>twoPM</th>\n",
              "      <th>stops</th>\n",
              "      <th>mp</th>\n",
              "    </tr>\n",
              "  </thead>\n",
              "  <tbody>\n",
              "    <tr>\n",
              "      <th>GP</th>\n",
              "      <td>1.000000</td>\n",
              "      <td>0.779975</td>\n",
              "      <td>0.608520</td>\n",
              "      <td>0.656229</td>\n",
              "      <td>0.789306</td>\n",
              "      <td>0.674219</td>\n",
              "    </tr>\n",
              "    <tr>\n",
              "      <th>Min_per</th>\n",
              "      <td>0.779975</td>\n",
              "      <td>1.000000</td>\n",
              "      <td>0.785407</td>\n",
              "      <td>0.785661</td>\n",
              "      <td>0.929357</td>\n",
              "      <td>0.958413</td>\n",
              "    </tr>\n",
              "    <tr>\n",
              "      <th>FTM</th>\n",
              "      <td>0.608520</td>\n",
              "      <td>0.785407</td>\n",
              "      <td>1.000000</td>\n",
              "      <td>0.860646</td>\n",
              "      <td>0.835498</td>\n",
              "      <td>0.766680</td>\n",
              "    </tr>\n",
              "    <tr>\n",
              "      <th>twoPM</th>\n",
              "      <td>0.656229</td>\n",
              "      <td>0.785661</td>\n",
              "      <td>0.860646</td>\n",
              "      <td>1.000000</td>\n",
              "      <td>0.878842</td>\n",
              "      <td>0.759871</td>\n",
              "    </tr>\n",
              "    <tr>\n",
              "      <th>stops</th>\n",
              "      <td>0.789306</td>\n",
              "      <td>0.929357</td>\n",
              "      <td>0.835498</td>\n",
              "      <td>0.878842</td>\n",
              "      <td>1.000000</td>\n",
              "      <td>0.893495</td>\n",
              "    </tr>\n",
              "  </tbody>\n",
              "</table>\n",
              "</div>\n",
              "      <button class=\"colab-df-convert\" onclick=\"convertToInteractive('df-712c36f9-46b1-43aa-aae1-011ed79f502c')\"\n",
              "              title=\"Convert this dataframe to an interactive table.\"\n",
              "              style=\"display:none;\">\n",
              "        \n",
              "  <svg xmlns=\"http://www.w3.org/2000/svg\" height=\"24px\"viewBox=\"0 0 24 24\"\n",
              "       width=\"24px\">\n",
              "    <path d=\"M0 0h24v24H0V0z\" fill=\"none\"/>\n",
              "    <path d=\"M18.56 5.44l.94 2.06.94-2.06 2.06-.94-2.06-.94-.94-2.06-.94 2.06-2.06.94zm-11 1L8.5 8.5l.94-2.06 2.06-.94-2.06-.94L8.5 2.5l-.94 2.06-2.06.94zm10 10l.94 2.06.94-2.06 2.06-.94-2.06-.94-.94-2.06-.94 2.06-2.06.94z\"/><path d=\"M17.41 7.96l-1.37-1.37c-.4-.4-.92-.59-1.43-.59-.52 0-1.04.2-1.43.59L10.3 9.45l-7.72 7.72c-.78.78-.78 2.05 0 2.83L4 21.41c.39.39.9.59 1.41.59.51 0 1.02-.2 1.41-.59l7.78-7.78 2.81-2.81c.8-.78.8-2.07 0-2.86zM5.41 20L4 18.59l7.72-7.72 1.47 1.35L5.41 20z\"/>\n",
              "  </svg>\n",
              "      </button>\n",
              "      \n",
              "  <style>\n",
              "    .colab-df-container {\n",
              "      display:flex;\n",
              "      flex-wrap:wrap;\n",
              "      gap: 12px;\n",
              "    }\n",
              "\n",
              "    .colab-df-convert {\n",
              "      background-color: #E8F0FE;\n",
              "      border: none;\n",
              "      border-radius: 50%;\n",
              "      cursor: pointer;\n",
              "      display: none;\n",
              "      fill: #1967D2;\n",
              "      height: 32px;\n",
              "      padding: 0 0 0 0;\n",
              "      width: 32px;\n",
              "    }\n",
              "\n",
              "    .colab-df-convert:hover {\n",
              "      background-color: #E2EBFA;\n",
              "      box-shadow: 0px 1px 2px rgba(60, 64, 67, 0.3), 0px 1px 3px 1px rgba(60, 64, 67, 0.15);\n",
              "      fill: #174EA6;\n",
              "    }\n",
              "\n",
              "    [theme=dark] .colab-df-convert {\n",
              "      background-color: #3B4455;\n",
              "      fill: #D2E3FC;\n",
              "    }\n",
              "\n",
              "    [theme=dark] .colab-df-convert:hover {\n",
              "      background-color: #434B5C;\n",
              "      box-shadow: 0px 1px 3px 1px rgba(0, 0, 0, 0.15);\n",
              "      filter: drop-shadow(0px 1px 2px rgba(0, 0, 0, 0.3));\n",
              "      fill: #FFFFFF;\n",
              "    }\n",
              "  </style>\n",
              "\n",
              "      <script>\n",
              "        const buttonEl =\n",
              "          document.querySelector('#df-712c36f9-46b1-43aa-aae1-011ed79f502c button.colab-df-convert');\n",
              "        buttonEl.style.display =\n",
              "          google.colab.kernel.accessAllowed ? 'block' : 'none';\n",
              "\n",
              "        async function convertToInteractive(key) {\n",
              "          const element = document.querySelector('#df-712c36f9-46b1-43aa-aae1-011ed79f502c');\n",
              "          const dataTable =\n",
              "            await google.colab.kernel.invokeFunction('convertToInteractive',\n",
              "                                                     [key], {});\n",
              "          if (!dataTable) return;\n",
              "\n",
              "          const docLinkHtml = 'Like what you see? Visit the ' +\n",
              "            '<a target=\"_blank\" href=https://colab.research.google.com/notebooks/data_table.ipynb>data table notebook</a>'\n",
              "            + ' to learn more about interactive tables.';\n",
              "          element.innerHTML = '';\n",
              "          dataTable['output_type'] = 'display_data';\n",
              "          await google.colab.output.renderOutput(dataTable, element);\n",
              "          const docLink = document.createElement('div');\n",
              "          docLink.innerHTML = docLinkHtml;\n",
              "          element.appendChild(docLink);\n",
              "        }\n",
              "      </script>\n",
              "    </div>\n",
              "  </div>\n",
              "  "
            ]
          },
          "metadata": {},
          "execution_count": 5
        }
      ]
    },
    {
      "cell_type": "code",
      "source": [
        "import seaborn as sns\n",
        "# Use Seaborn heatmap to visualize the correlations of each parameter with Contract Worth\n",
        "sns.set(rc = {'figure.figsize':(15,8)})\n",
        "sns.heatmap(corr_df, vmin = -1, vmax=1, cmap='inferno')"
      ],
      "metadata": {
        "colab": {
          "base_uri": "https://localhost:8080/",
          "height": 508
        },
        "id": "bDRDbAxXV7b3",
        "outputId": "eb6e204f-a1b3-42f8-aa0d-db67942b0bf8"
      },
      "id": "bDRDbAxXV7b3",
      "execution_count": 6,
      "outputs": [
        {
          "output_type": "execute_result",
          "data": {
            "text/plain": [
              "<matplotlib.axes._subplots.AxesSubplot at 0x7fba69ba7ad0>"
            ]
          },
          "metadata": {},
          "execution_count": 6
        },
        {
          "output_type": "display_data",
          "data": {
            "text/plain": [
              "<Figure size 1080x576 with 2 Axes>"
            ],
            "image/png": "[encoded data removed]"
          },
          "metadata": {}
        }
      ]
    },
    {
      "cell_type": "markdown",
      "id": "5f7b85bc-b2ff-4939-9e9e-a5cbd168c1d1",
      "metadata": {
        "id": "5f7b85bc-b2ff-4939-9e9e-a5cbd168c1d1"
      },
      "source": [
        "---\n",
        "## Find top 15\n",
        "### Binary Classification"
      ]
    },
    {
      "cell_type": "code",
      "execution_count": 7,
      "id": "518b1441-c425-4483-98b6-2c8dd9bdcf69",
      "metadata": {
        "tags": [],
        "colab": {
          "base_uri": "https://localhost:8080/",
          "height": 644
        },
        "id": "518b1441-c425-4483-98b6-2c8dd9bdcf69",
        "outputId": "d3634137-0039-4863-f7af-d9631bb31711"
      },
      "outputs": [
        {
          "output_type": "execute_result",
          "data": {
            "text/plain": [
              "          player_name  pick  year               team  conf  GP  Min_per  \\\n",
              "0           Jake Drum   0.0  2011             Auburn   SEC  10      4.6   \n",
              "1     Christian Braun  21.0  2022             Kansas   B12  40     85.1   \n",
              "2        Taylor Brown   0.0  2009        Utah Valley   ind  26     25.9   \n",
              "3       Glorind Lisha   0.0  2016     Loyola Chicago   MVC   6      0.4   \n",
              "4          Zach Pirog   0.0  2017     Nebraska Omaha   Sum  30     23.8   \n",
              "...               ...   ...   ...                ...   ...  ..      ...   \n",
              "1076       Hamid Ford   0.0  2009     Texas Southern  SWAC  23     17.1   \n",
              "1077   Cameron Steele   0.0  2021  Abilene Christian  Slnd  19      8.9   \n",
              "1078    Miles Overton   0.0  2015        Wake Forest   ACC   7      6.9   \n",
              "1079      Austin Daye  15.0  2009            Gonzaga   WCC  33     65.4   \n",
              "1080  Marcus Tsohonis   0.0  2022                VCU   A10  29     32.5   \n",
              "\n",
              "       Ortg   usg   eFG  ...    oreb    dreb    treb     ast     stl     blk  \\\n",
              "0      76.5  13.0  28.6  ...  0.5000  0.4000  0.9000  0.2000  0.4000  0.1000   \n",
              "1     114.1  20.2  55.6  ...  1.4000  5.1250  6.5250  2.7750  0.9750  0.8250   \n",
              "2     109.1  12.9  54.3  ...  0.2308  1.1538  1.3846  0.4231  0.2308  0.0769   \n",
              "3     138.1  17.2  75.0  ...  0.0000  0.0000  0.0000  0.0000  0.0000  0.0000   \n",
              "4     107.3  14.4  56.5  ...  1.0645  1.4839  2.5484  0.0968  0.1935  0.9032   \n",
              "...     ...   ...   ...  ...     ...     ...     ...     ...     ...     ...   \n",
              "1076   60.3  17.0  35.7  ...  0.0435  0.6522  0.6957  0.6957  0.3913  0.0435   \n",
              "1077  120.2  21.0  69.0  ...  0.2609  1.0000  1.2609  0.4348  0.0435  0.0870   \n",
              "1078   84.2  24.8  41.1  ...  0.1429  1.5714  1.7143  0.4286  0.4286  0.1429   \n",
              "1079  102.6  24.4  53.6  ...  1.0000  5.6667  6.6667  1.1212  0.7273  2.0000   \n",
              "1080   95.3  20.9  46.9  ...  0.2069  1.4483  1.6552  1.1379  0.2759  0.0345   \n",
              "\n",
              "          pts  Unnamed: 64  Unnamed: 65  Group  \n",
              "0      0.7000       Wing G      1.08042    0.0  \n",
              "1     14.1000       Wing G      5.52882    0.0  \n",
              "2      2.4231            0      9.27719    0.0  \n",
              "3      0.5000      Combo G     12.17310    0.0  \n",
              "4      2.8710            C      0.00000    0.0  \n",
              "...       ...          ...          ...    ...  \n",
              "1076   1.5652            0      2.60319    0.0  \n",
              "1077   2.8261    Stretch 4      8.81743    0.0  \n",
              "1078   5.1429       Wing G     11.65950    0.0  \n",
              "1079  12.6061            0      5.33910    1.0  \n",
              "1080   5.1034      Combo G     10.65530    0.0  \n",
              "\n",
              "[1081 rows x 67 columns]"
            ],
            "text/html": [
              "\n",
              "  <div id=\"df-afdcafe3-7d77-4d3f-b174-2393883a676c\">\n",
              "    <div class=\"colab-df-container\">\n",
              "      <div>\n",
              "<style scoped>\n",
              "    .dataframe tbody tr th:only-of-type {\n",
              "        vertical-align: middle;\n",
              "    }\n",
              "\n",
              "    .dataframe tbody tr th {\n",
              "        vertical-align: top;\n",
              "    }\n",
              "\n",
              "    .dataframe thead th {\n",
              "        text-align: right;\n",
              "    }\n",
              "</style>\n",
              "<table border=\"1\" class=\"dataframe\">\n",
              "  <thead>\n",
              "    <tr style=\"text-align: right;\">\n",
              "      <th></th>\n",
              "      <th>player_name</th>\n",
              "      <th>pick</th>\n",
              "      <th>year</th>\n",
              "      <th>team</th>\n",
              "      <th>conf</th>\n",
              "      <th>GP</th>\n",
              "      <th>Min_per</th>\n",
              "      <th>Ortg</th>\n",
              "      <th>usg</th>\n",
              "      <th>eFG</th>\n",
              "      <th>...</th>\n",
              "      <th>oreb</th>\n",
              "      <th>dreb</th>\n",
              "      <th>treb</th>\n",
              "      <th>ast</th>\n",
              "      <th>stl</th>\n",
              "      <th>blk</th>\n",
              "      <th>pts</th>\n",
              "      <th>Unnamed: 64</th>\n",
              "      <th>Unnamed: 65</th>\n",
              "      <th>Group</th>\n",
              "    </tr>\n",
              "  </thead>\n",
              "  <tbody>\n",
              "    <tr>\n",
              "      <th>0</th>\n",
              "      <td>Jake Drum</td>\n",
              "      <td>0.0</td>\n",
              "      <td>2011</td>\n",
              "      <td>Auburn</td>\n",
              "      <td>SEC</td>\n",
              "      <td>10</td>\n",
              "      <td>4.6</td>\n",
              "      <td>76.5</td>\n",
              "      <td>13.0</td>\n",
              "      <td>28.6</td>\n",
              "      <td>...</td>\n",
              "      <td>0.5000</td>\n",
              "      <td>0.4000</td>\n",
              "      <td>0.9000</td>\n",
              "      <td>0.2000</td>\n",
              "      <td>0.4000</td>\n",
              "      <td>0.1000</td>\n",
              "      <td>0.7000</td>\n",
              "      <td>Wing G</td>\n",
              "      <td>1.08042</td>\n",
              "      <td>0.0</td>\n",
              "    </tr>\n",
              "    <tr>\n",
              "      <th>1</th>\n",
              "      <td>Christian Braun</td>\n",
              "      <td>21.0</td>\n",
              "      <td>2022</td>\n",
              "      <td>Kansas</td>\n",
              "      <td>B12</td>\n",
              "      <td>40</td>\n",
              "      <td>85.1</td>\n",
              "      <td>114.1</td>\n",
              "      <td>20.2</td>\n",
              "      <td>55.6</td>\n",
              "      <td>...</td>\n",
              "      <td>1.4000</td>\n",
              "      <td>5.1250</td>\n",
              "      <td>6.5250</td>\n",
              "      <td>2.7750</td>\n",
              "      <td>0.9750</td>\n",
              "      <td>0.8250</td>\n",
              "      <td>14.1000</td>\n",
              "      <td>Wing G</td>\n",
              "      <td>5.52882</td>\n",
              "      <td>0.0</td>\n",
              "    </tr>\n",
              "    <tr>\n",
              "      <th>2</th>\n",
              "      <td>Taylor Brown</td>\n",
              "      <td>0.0</td>\n",
              "      <td>2009</td>\n",
              "      <td>Utah Valley</td>\n",
              "      <td>ind</td>\n",
              "      <td>26</td>\n",
              "      <td>25.9</td>\n",
              "      <td>109.1</td>\n",
              "      <td>12.9</td>\n",
              "      <td>54.3</td>\n",
              "      <td>...</td>\n",
              "      <td>0.2308</td>\n",
              "      <td>1.1538</td>\n",
              "      <td>1.3846</td>\n",
              "      <td>0.4231</td>\n",
              "      <td>0.2308</td>\n",
              "      <td>0.0769</td>\n",
              "      <td>2.4231</td>\n",
              "      <td>0</td>\n",
              "      <td>9.27719</td>\n",
              "      <td>0.0</td>\n",
              "    </tr>\n",
              "    <tr>\n",
              "      <th>3</th>\n",
              "      <td>Glorind Lisha</td>\n",
              "      <td>0.0</td>\n",
              "      <td>2016</td>\n",
              "      <td>Loyola Chicago</td>\n",
              "      <td>MVC</td>\n",
              "      <td>6</td>\n",
              "      <td>0.4</td>\n",
              "      <td>138.1</td>\n",
              "      <td>17.2</td>\n",
              "      <td>75.0</td>\n",
              "      <td>...</td>\n",
              "      <td>0.0000</td>\n",
              "      <td>0.0000</td>\n",
              "      <td>0.0000</td>\n",
              "      <td>0.0000</td>\n",
              "      <td>0.0000</td>\n",
              "      <td>0.0000</td>\n",
              "      <td>0.5000</td>\n",
              "      <td>Combo G</td>\n",
              "      <td>12.17310</td>\n",
              "      <td>0.0</td>\n",
              "    </tr>\n",
              "    <tr>\n",
              "      <th>4</th>\n",
              "      <td>Zach Pirog</td>\n",
              "      <td>0.0</td>\n",
              "      <td>2017</td>\n",
              "      <td>Nebraska Omaha</td>\n",
              "      <td>Sum</td>\n",
              "      <td>30</td>\n",
              "      <td>23.8</td>\n",
              "      <td>107.3</td>\n",
              "      <td>14.4</td>\n",
              "      <td>56.5</td>\n",
              "      <td>...</td>\n",
              "      <td>1.0645</td>\n",
              "      <td>1.4839</td>\n",
              "      <td>2.5484</td>\n",
              "      <td>0.0968</td>\n",
              "      <td>0.1935</td>\n",
              "      <td>0.9032</td>\n",
              "      <td>2.8710</td>\n",
              "      <td>C</td>\n",
              "      <td>0.00000</td>\n",
              "      <td>0.0</td>\n",
              "    </tr>\n",
              "    <tr>\n",
              "      <th>...</th>\n",
              "      <td>...</td>\n",
              "      <td>...</td>\n",
              "      <td>...</td>\n",
              "      <td>...</td>\n",
              "      <td>...</td>\n",
              "      <td>...</td>\n",
              "      <td>...</td>\n",
              "      <td>...</td>\n",
              "      <td>...</td>\n",
              "      <td>...</td>\n",
              "      <td>...</td>\n",
              "      <td>...</td>\n",
              "      <td>...</td>\n",
              "      <td>...</td>\n",
              "      <td>...</td>\n",
              "      <td>...</td>\n",
              "      <td>...</td>\n",
              "      <td>...</td>\n",
              "      <td>...</td>\n",
              "      <td>...</td>\n",
              "      <td>...</td>\n",
              "    </tr>\n",
              "    <tr>\n",
              "      <th>1076</th>\n",
              "      <td>Hamid Ford</td>\n",
              "      <td>0.0</td>\n",
              "      <td>2009</td>\n",
              "      <td>Texas Southern</td>\n",
              "      <td>SWAC</td>\n",
              "      <td>23</td>\n",
              "      <td>17.1</td>\n",
              "      <td>60.3</td>\n",
              "      <td>17.0</td>\n",
              "      <td>35.7</td>\n",
              "      <td>...</td>\n",
              "      <td>0.0435</td>\n",
              "      <td>0.6522</td>\n",
              "      <td>0.6957</td>\n",
              "      <td>0.6957</td>\n",
              "      <td>0.3913</td>\n",
              "      <td>0.0435</td>\n",
              "      <td>1.5652</td>\n",
              "      <td>0</td>\n",
              "      <td>2.60319</td>\n",
              "      <td>0.0</td>\n",
              "    </tr>\n",
              "    <tr>\n",
              "      <th>1077</th>\n",
              "      <td>Cameron Steele</td>\n",
              "      <td>0.0</td>\n",
              "      <td>2021</td>\n",
              "      <td>Abilene Christian</td>\n",
              "      <td>Slnd</td>\n",
              "      <td>19</td>\n",
              "      <td>8.9</td>\n",
              "      <td>120.2</td>\n",
              "      <td>21.0</td>\n",
              "      <td>69.0</td>\n",
              "      <td>...</td>\n",
              "      <td>0.2609</td>\n",
              "      <td>1.0000</td>\n",
              "      <td>1.2609</td>\n",
              "      <td>0.4348</td>\n",
              "      <td>0.0435</td>\n",
              "      <td>0.0870</td>\n",
              "      <td>2.8261</td>\n",
              "      <td>Stretch 4</td>\n",
              "      <td>8.81743</td>\n",
              "      <td>0.0</td>\n",
              "    </tr>\n",
              "    <tr>\n",
              "      <th>1078</th>\n",
              "      <td>Miles Overton</td>\n",
              "      <td>0.0</td>\n",
              "      <td>2015</td>\n",
              "      <td>Wake Forest</td>\n",
              "      <td>ACC</td>\n",
              "      <td>7</td>\n",
              "      <td>6.9</td>\n",
              "      <td>84.2</td>\n",
              "      <td>24.8</td>\n",
              "      <td>41.1</td>\n",
              "      <td>...</td>\n",
              "      <td>0.1429</td>\n",
              "      <td>1.5714</td>\n",
              "      <td>1.7143</td>\n",
              "      <td>0.4286</td>\n",
              "      <td>0.4286</td>\n",
              "      <td>0.1429</td>\n",
              "      <td>5.1429</td>\n",
              "      <td>Wing G</td>\n",
              "      <td>11.65950</td>\n",
              "      <td>0.0</td>\n",
              "    </tr>\n",
              "    <tr>\n",
              "      <th>1079</th>\n",
              "      <td>Austin Daye</td>\n",
              "      <td>15.0</td>\n",
              "      <td>2009</td>\n",
              "      <td>Gonzaga</td>\n",
              "      <td>WCC</td>\n",
              "      <td>33</td>\n",
              "      <td>65.4</td>\n",
              "      <td>102.6</td>\n",
              "      <td>24.4</td>\n",
              "      <td>53.6</td>\n",
              "      <td>...</td>\n",
              "      <td>1.0000</td>\n",
              "      <td>5.6667</td>\n",
              "      <td>6.6667</td>\n",
              "      <td>1.1212</td>\n",
              "      <td>0.7273</td>\n",
              "      <td>2.0000</td>\n",
              "      <td>12.6061</td>\n",
              "      <td>0</td>\n",
              "      <td>5.33910</td>\n",
              "      <td>1.0</td>\n",
              "    </tr>\n",
              "    <tr>\n",
              "      <th>1080</th>\n",
              "      <td>Marcus Tsohonis</td>\n",
              "      <td>0.0</td>\n",
              "      <td>2022</td>\n",
              "      <td>VCU</td>\n",
              "      <td>A10</td>\n",
              "      <td>29</td>\n",
              "      <td>32.5</td>\n",
              "      <td>95.3</td>\n",
              "      <td>20.9</td>\n",
              "      <td>46.9</td>\n",
              "      <td>...</td>\n",
              "      <td>0.2069</td>\n",
              "      <td>1.4483</td>\n",
              "      <td>1.6552</td>\n",
              "      <td>1.1379</td>\n",
              "      <td>0.2759</td>\n",
              "      <td>0.0345</td>\n",
              "      <td>5.1034</td>\n",
              "      <td>Combo G</td>\n",
              "      <td>10.65530</td>\n",
              "      <td>0.0</td>\n",
              "    </tr>\n",
              "  </tbody>\n",
              "</table>\n",
              "<p>1081 rows × 67 columns</p>\n",
              "</div>\n",
              "      <button class=\"colab-df-convert\" onclick=\"convertToInteractive('df-afdcafe3-7d77-4d3f-b174-2393883a676c')\"\n",
              "              title=\"Convert this dataframe to an interactive table.\"\n",
              "              style=\"display:none;\">\n",
              "        \n",
              "  <svg xmlns=\"http://www.w3.org/2000/svg\" height=\"24px\"viewBox=\"0 0 24 24\"\n",
              "       width=\"24px\">\n",
              "    <path d=\"M0 0h24v24H0V0z\" fill=\"none\"/>\n",
              "    <path d=\"M18.56 5.44l.94 2.06.94-2.06 2.06-.94-2.06-.94-.94-2.06-.94 2.06-2.06.94zm-11 1L8.5 8.5l.94-2.06 2.06-.94-2.06-.94L8.5 2.5l-.94 2.06-2.06.94zm10 10l.94 2.06.94-2.06 2.06-.94-2.06-.94-.94-2.06-.94 2.06-2.06.94z\"/><path d=\"M17.41 7.96l-1.37-1.37c-.4-.4-.92-.59-1.43-.59-.52 0-1.04.2-1.43.59L10.3 9.45l-7.72 7.72c-.78.78-.78 2.05 0 2.83L4 21.41c.39.39.9.59 1.41.59.51 0 1.02-.2 1.41-.59l7.78-7.78 2.81-2.81c.8-.78.8-2.07 0-2.86zM5.41 20L4 18.59l7.72-7.72 1.47 1.35L5.41 20z\"/>\n",
              "  </svg>\n",
              "      </button>\n",
              "      \n",
              "  <style>\n",
              "    .colab-df-container {\n",
              "      display:flex;\n",
              "      flex-wrap:wrap;\n",
              "      gap: 12px;\n",
              "    }\n",
              "\n",
              "    .colab-df-convert {\n",
              "      background-color: #E8F0FE;\n",
              "      border: none;\n",
              "      border-radius: 50%;\n",
              "      cursor: pointer;\n",
              "      display: none;\n",
              "      fill: #1967D2;\n",
              "      height: 32px;\n",
              "      padding: 0 0 0 0;\n",
              "      width: 32px;\n",
              "    }\n",
              "\n",
              "    .colab-df-convert:hover {\n",
              "      background-color: #E2EBFA;\n",
              "      box-shadow: 0px 1px 2px rgba(60, 64, 67, 0.3), 0px 1px 3px 1px rgba(60, 64, 67, 0.15);\n",
              "      fill: #174EA6;\n",
              "    }\n",
              "\n",
              "    [theme=dark] .colab-df-convert {\n",
              "      background-color: #3B4455;\n",
              "      fill: #D2E3FC;\n",
              "    }\n",
              "\n",
              "    [theme=dark] .colab-df-convert:hover {\n",
              "      background-color: #434B5C;\n",
              "      box-shadow: 0px 1px 3px 1px rgba(0, 0, 0, 0.15);\n",
              "      filter: drop-shadow(0px 1px 2px rgba(0, 0, 0, 0.3));\n",
              "      fill: #FFFFFF;\n",
              "    }\n",
              "  </style>\n",
              "\n",
              "      <script>\n",
              "        const buttonEl =\n",
              "          document.querySelector('#df-afdcafe3-7d77-4d3f-b174-2393883a676c button.colab-df-convert');\n",
              "        buttonEl.style.display =\n",
              "          google.colab.kernel.accessAllowed ? 'block' : 'none';\n",
              "\n",
              "        async function convertToInteractive(key) {\n",
              "          const element = document.querySelector('#df-afdcafe3-7d77-4d3f-b174-2393883a676c');\n",
              "          const dataTable =\n",
              "            await google.colab.kernel.invokeFunction('convertToInteractive',\n",
              "                                                     [key], {});\n",
              "          if (!dataTable) return;\n",
              "\n",
              "          const docLinkHtml = 'Like what you see? Visit the ' +\n",
              "            '<a target=\"_blank\" href=https://colab.research.google.com/notebooks/data_table.ipynb>data table notebook</a>'\n",
              "            + ' to learn more about interactive tables.';\n",
              "          element.innerHTML = '';\n",
              "          dataTable['output_type'] = 'display_data';\n",
              "          await google.colab.output.renderOutput(dataTable, element);\n",
              "          const docLink = document.createElement('div');\n",
              "          docLink.innerHTML = docLinkHtml;\n",
              "          element.appendChild(docLink);\n",
              "        }\n",
              "      </script>\n",
              "    </div>\n",
              "  </div>\n",
              "  "
            ]
          },
          "metadata": {},
          "execution_count": 7
        }
      ],
      "source": [
        "# Create groups based on ranks\n",
        "for index, row in df_all.iterrows():\n",
        "    if row['pick'] <= 15 and row['pick'] > 0:\n",
        "        df_all.at[index,'Group'] = 1\n",
        "    else:\n",
        "        df_all.at[index,'Group'] = 0\n",
        "    \n",
        "df_all"
      ]
    },
    {
      "cell_type": "code",
      "source": [
        "df_top15 = df_all.loc[df_all['Group'] == 1]\n",
        "df_below15 = df_all.loc[df_all['Group'] == 0]"
      ],
      "metadata": {
        "id": "dK4c2yMwpd-R"
      },
      "id": "dK4c2yMwpd-R",
      "execution_count": 8,
      "outputs": []
    },
    {
      "cell_type": "code",
      "source": [
        "top_schools = df_top15['team'].value_counts()\n",
        "top_schools.plot.bar(figsize = (15,7))"
      ],
      "metadata": {
        "colab": {
          "base_uri": "https://localhost:8080/",
          "height": 548
        },
        "id": "WWbWPbaEp2eI",
        "outputId": "f9512111-0be4-48a5-e83e-2e245191201b"
      },
      "id": "WWbWPbaEp2eI",
      "execution_count": 9,
      "outputs": [
        {
          "output_type": "execute_result",
          "data": {
            "text/plain": [
              "<matplotlib.axes._subplots.AxesSubplot at 0x7fba66367710>"
            ]
          },
          "metadata": {},
          "execution_count": 9
        },
        {
          "output_type": "display_data",
          "data": {
            "text/plain": [
              "<Figure size 1080x504 with 1 Axes>"
            ],
            "image/png": "[encoded data removed]"
          },
          "metadata": {}
        }
      ]
    },
    {
      "cell_type": "code",
      "source": [
        "top_schools[:15]"
      ],
      "metadata": {
        "colab": {
          "base_uri": "https://localhost:8080/"
        },
        "id": "eJt3ZwvLKq48",
        "outputId": "8135df85-e11c-4370-a3fb-7d310e739aa2"
      },
      "id": "eJt3ZwvLKq48",
      "execution_count": 10,
      "outputs": [
        {
          "output_type": "execute_result",
          "data": {
            "text/plain": [
              "Kentucky          24\n",
              "Kansas            21\n",
              "Duke              18\n",
              "North Carolina    17\n",
              "Gonzaga           16\n",
              "Michigan St.      11\n",
              "Arizona            9\n",
              "Connecticut        9\n",
              "Baylor             8\n",
              "Indiana            7\n",
              "Oklahoma           6\n",
              "Michigan           6\n",
              "Syracuse           6\n",
              "Wisconsin          6\n",
              "Florida St.        5\n",
              "Name: team, dtype: int64"
            ]
          },
          "metadata": {},
          "execution_count": 10
        }
      ]
    },
    {
      "cell_type": "code",
      "source": [
        "# Create groups based on team\n",
        "for index, row in df_all.iterrows():\n",
        "    if row['team'] in top_schools[:15]:\n",
        "        df_all.at[index,'Top_teams'] = 1\n",
        "    else:\n",
        "        df_all.at[index,'Top_teams'] = 0\n",
        "    \n",
        "df_all"
      ],
      "metadata": {
        "colab": {
          "base_uri": "https://localhost:8080/",
          "height": 644
        },
        "id": "ArNuBtyjNNzj",
        "outputId": "0f72b732-8c55-42f3-e03e-1c891ce8605c"
      },
      "id": "ArNuBtyjNNzj",
      "execution_count": 11,
      "outputs": [
        {
          "output_type": "execute_result",
          "data": {
            "text/plain": [
              "          player_name  pick  year               team  conf  GP  Min_per  \\\n",
              "0           Jake Drum   0.0  2011             Auburn   SEC  10      4.6   \n",
              "1     Christian Braun  21.0  2022             Kansas   B12  40     85.1   \n",
              "2        Taylor Brown   0.0  2009        Utah Valley   ind  26     25.9   \n",
              "3       Glorind Lisha   0.0  2016     Loyola Chicago   MVC   6      0.4   \n",
              "4          Zach Pirog   0.0  2017     Nebraska Omaha   Sum  30     23.8   \n",
              "...               ...   ...   ...                ...   ...  ..      ...   \n",
              "1076       Hamid Ford   0.0  2009     Texas Southern  SWAC  23     17.1   \n",
              "1077   Cameron Steele   0.0  2021  Abilene Christian  Slnd  19      8.9   \n",
              "1078    Miles Overton   0.0  2015        Wake Forest   ACC   7      6.9   \n",
              "1079      Austin Daye  15.0  2009            Gonzaga   WCC  33     65.4   \n",
              "1080  Marcus Tsohonis   0.0  2022                VCU   A10  29     32.5   \n",
              "\n",
              "       Ortg   usg   eFG  ...    dreb    treb     ast     stl     blk      pts  \\\n",
              "0      76.5  13.0  28.6  ...  0.4000  0.9000  0.2000  0.4000  0.1000   0.7000   \n",
              "1     114.1  20.2  55.6  ...  5.1250  6.5250  2.7750  0.9750  0.8250  14.1000   \n",
              "2     109.1  12.9  54.3  ...  1.1538  1.3846  0.4231  0.2308  0.0769   2.4231   \n",
              "3     138.1  17.2  75.0  ...  0.0000  0.0000  0.0000  0.0000  0.0000   0.5000   \n",
              "4     107.3  14.4  56.5  ...  1.4839  2.5484  0.0968  0.1935  0.9032   2.8710   \n",
              "...     ...   ...   ...  ...     ...     ...     ...     ...     ...      ...   \n",
              "1076   60.3  17.0  35.7  ...  0.6522  0.6957  0.6957  0.3913  0.0435   1.5652   \n",
              "1077  120.2  21.0  69.0  ...  1.0000  1.2609  0.4348  0.0435  0.0870   2.8261   \n",
              "1078   84.2  24.8  41.1  ...  1.5714  1.7143  0.4286  0.4286  0.1429   5.1429   \n",
              "1079  102.6  24.4  53.6  ...  5.6667  6.6667  1.1212  0.7273  2.0000  12.6061   \n",
              "1080   95.3  20.9  46.9  ...  1.4483  1.6552  1.1379  0.2759  0.0345   5.1034   \n",
              "\n",
              "      Unnamed: 64  Unnamed: 65  Group  Top_teams  \n",
              "0          Wing G      1.08042    0.0        0.0  \n",
              "1          Wing G      5.52882    0.0        1.0  \n",
              "2               0      9.27719    0.0        0.0  \n",
              "3         Combo G     12.17310    0.0        0.0  \n",
              "4               C      0.00000    0.0        0.0  \n",
              "...           ...          ...    ...        ...  \n",
              "1076            0      2.60319    0.0        0.0  \n",
              "1077    Stretch 4      8.81743    0.0        0.0  \n",
              "1078       Wing G     11.65950    0.0        0.0  \n",
              "1079            0      5.33910    1.0        1.0  \n",
              "1080      Combo G     10.65530    0.0        0.0  \n",
              "\n",
              "[1081 rows x 68 columns]"
            ],
            "text/html": [
              "\n",
              "  <div id=\"df-03a5e596-00b3-4413-89db-9529f860740b\">\n",
              "    <div class=\"colab-df-container\">\n",
              "      <div>\n",
              "<style scoped>\n",
              "    .dataframe tbody tr th:only-of-type {\n",
              "        vertical-align: middle;\n",
              "    }\n",
              "\n",
              "    .dataframe tbody tr th {\n",
              "        vertical-align: top;\n",
              "    }\n",
              "\n",
              "    .dataframe thead th {\n",
              "        text-align: right;\n",
              "    }\n",
              "</style>\n",
              "<table border=\"1\" class=\"dataframe\">\n",
              "  <thead>\n",
              "    <tr style=\"text-align: right;\">\n",
              "      <th></th>\n",
              "      <th>player_name</th>\n",
              "      <th>pick</th>\n",
              "      <th>year</th>\n",
              "      <th>team</th>\n",
              "      <th>conf</th>\n",
              "      <th>GP</th>\n",
              "      <th>Min_per</th>\n",
              "      <th>Ortg</th>\n",
              "      <th>usg</th>\n",
              "      <th>eFG</th>\n",
              "      <th>...</th>\n",
              "      <th>dreb</th>\n",
              "      <th>treb</th>\n",
              "      <th>ast</th>\n",
              "      <th>stl</th>\n",
              "      <th>blk</th>\n",
              "      <th>pts</th>\n",
              "      <th>Unnamed: 64</th>\n",
              "      <th>Unnamed: 65</th>\n",
              "      <th>Group</th>\n",
              "      <th>Top_teams</th>\n",
              "    </tr>\n",
              "  </thead>\n",
              "  <tbody>\n",
              "    <tr>\n",
              "      <th>0</th>\n",
              "      <td>Jake Drum</td>\n",
              "      <td>0.0</td>\n",
              "      <td>2011</td>\n",
              "      <td>Auburn</td>\n",
              "      <td>SEC</td>\n",
              "      <td>10</td>\n",
              "      <td>4.6</td>\n",
              "      <td>76.5</td>\n",
              "      <td>13.0</td>\n",
              "      <td>28.6</td>\n",
              "      <td>...</td>\n",
              "      <td>0.4000</td>\n",
              "      <td>0.9000</td>\n",
              "      <td>0.2000</td>\n",
              "      <td>0.4000</td>\n",
              "      <td>0.1000</td>\n",
              "      <td>0.7000</td>\n",
              "      <td>Wing G</td>\n",
              "      <td>1.08042</td>\n",
              "      <td>0.0</td>\n",
              "      <td>0.0</td>\n",
              "    </tr>\n",
              "    <tr>\n",
              "      <th>1</th>\n",
              "      <td>Christian Braun</td>\n",
              "      <td>21.0</td>\n",
              "      <td>2022</td>\n",
              "      <td>Kansas</td>\n",
              "      <td>B12</td>\n",
              "      <td>40</td>\n",
              "      <td>85.1</td>\n",
              "      <td>114.1</td>\n",
              "      <td>20.2</td>\n",
              "      <td>55.6</td>\n",
              "      <td>...</td>\n",
              "      <td>5.1250</td>\n",
              "      <td>6.5250</td>\n",
              "      <td>2.7750</td>\n",
              "      <td>0.9750</td>\n",
              "      <td>0.8250</td>\n",
              "      <td>14.1000</td>\n",
              "      <td>Wing G</td>\n",
              "      <td>5.52882</td>\n",
              "      <td>0.0</td>\n",
              "      <td>1.0</td>\n",
              "    </tr>\n",
              "    <tr>\n",
              "      <th>2</th>\n",
              "      <td>Taylor Brown</td>\n",
              "      <td>0.0</td>\n",
              "      <td>2009</td>\n",
              "      <td>Utah Valley</td>\n",
              "      <td>ind</td>\n",
              "      <td>26</td>\n",
              "      <td>25.9</td>\n",
              "      <td>109.1</td>\n",
              "      <td>12.9</td>\n",
              "      <td>54.3</td>\n",
              "      <td>...</td>\n",
              "      <td>1.1538</td>\n",
              "      <td>1.3846</td>\n",
              "      <td>0.4231</td>\n",
              "      <td>0.2308</td>\n",
              "      <td>0.0769</td>\n",
              "      <td>2.4231</td>\n",
              "      <td>0</td>\n",
              "      <td>9.27719</td>\n",
              "      <td>0.0</td>\n",
              "      <td>0.0</td>\n",
              "    </tr>\n",
              "    <tr>\n",
              "      <th>3</th>\n",
              "      <td>Glorind Lisha</td>\n",
              "      <td>0.0</td>\n",
              "      <td>2016</td>\n",
              "      <td>Loyola Chicago</td>\n",
              "      <td>MVC</td>\n",
              "      <td>6</td>\n",
              "      <td>0.4</td>\n",
              "      <td>138.1</td>\n",
              "      <td>17.2</td>\n",
              "      <td>75.0</td>\n",
              "      <td>...</td>\n",
              "      <td>0.0000</td>\n",
              "      <td>0.0000</td>\n",
              "      <td>0.0000</td>\n",
              "      <td>0.0000</td>\n",
              "      <td>0.0000</td>\n",
              "      <td>0.5000</td>\n",
              "      <td>Combo G</td>\n",
              "      <td>12.17310</td>\n",
              "      <td>0.0</td>\n",
              "      <td>0.0</td>\n",
              "    </tr>\n",
              "    <tr>\n",
              "      <th>4</th>\n",
              "      <td>Zach Pirog</td>\n",
              "      <td>0.0</td>\n",
              "      <td>2017</td>\n",
              "      <td>Nebraska Omaha</td>\n",
              "      <td>Sum</td>\n",
              "      <td>30</td>\n",
              "      <td>23.8</td>\n",
              "      <td>107.3</td>\n",
              "      <td>14.4</td>\n",
              "      <td>56.5</td>\n",
              "      <td>...</td>\n",
              "      <td>1.4839</td>\n",
              "      <td>2.5484</td>\n",
              "      <td>0.0968</td>\n",
              "      <td>0.1935</td>\n",
              "      <td>0.9032</td>\n",
              "      <td>2.8710</td>\n",
              "      <td>C</td>\n",
              "      <td>0.00000</td>\n",
              "      <td>0.0</td>\n",
              "      <td>0.0</td>\n",
              "    </tr>\n",
              "    <tr>\n",
              "      <th>...</th>\n",
              "      <td>...</td>\n",
              "      <td>...</td>\n",
              "      <td>...</td>\n",
              "      <td>...</td>\n",
              "      <td>...</td>\n",
              "      <td>...</td>\n",
              "      <td>...</td>\n",
              "      <td>...</td>\n",
              "      <td>...</td>\n",
              "      <td>...</td>\n",
              "      <td>...</td>\n",
              "      <td>...</td>\n",
              "      <td>...</td>\n",
              "      <td>...</td>\n",
              "      <td>...</td>\n",
              "      <td>...</td>\n",
              "      <td>...</td>\n",
              "      <td>...</td>\n",
              "      <td>...</td>\n",
              "      <td>...</td>\n",
              "      <td>...</td>\n",
              "    </tr>\n",
              "    <tr>\n",
              "      <th>1076</th>\n",
              "      <td>Hamid Ford</td>\n",
              "      <td>0.0</td>\n",
              "      <td>2009</td>\n",
              "      <td>Texas Southern</td>\n",
              "      <td>SWAC</td>\n",
              "      <td>23</td>\n",
              "      <td>17.1</td>\n",
              "      <td>60.3</td>\n",
              "      <td>17.0</td>\n",
              "      <td>35.7</td>\n",
              "      <td>...</td>\n",
              "      <td>0.6522</td>\n",
              "      <td>0.6957</td>\n",
              "      <td>0.6957</td>\n",
              "      <td>0.3913</td>\n",
              "      <td>0.0435</td>\n",
              "      <td>1.5652</td>\n",
              "      <td>0</td>\n",
              "      <td>2.60319</td>\n",
              "      <td>0.0</td>\n",
              "      <td>0.0</td>\n",
              "    </tr>\n",
              "    <tr>\n",
              "      <th>1077</th>\n",
              "      <td>Cameron Steele</td>\n",
              "      <td>0.0</td>\n",
              "      <td>2021</td>\n",
              "      <td>Abilene Christian</td>\n",
              "      <td>Slnd</td>\n",
              "      <td>19</td>\n",
              "      <td>8.9</td>\n",
              "      <td>120.2</td>\n",
              "      <td>21.0</td>\n",
              "      <td>69.0</td>\n",
              "      <td>...</td>\n",
              "      <td>1.0000</td>\n",
              "      <td>1.2609</td>\n",
              "      <td>0.4348</td>\n",
              "      <td>0.0435</td>\n",
              "      <td>0.0870</td>\n",
              "      <td>2.8261</td>\n",
              "      <td>Stretch 4</td>\n",
              "      <td>8.81743</td>\n",
              "      <td>0.0</td>\n",
              "      <td>0.0</td>\n",
              "    </tr>\n",
              "    <tr>\n",
              "      <th>1078</th>\n",
              "      <td>Miles Overton</td>\n",
              "      <td>0.0</td>\n",
              "      <td>2015</td>\n",
              "      <td>Wake Forest</td>\n",
              "      <td>ACC</td>\n",
              "      <td>7</td>\n",
              "      <td>6.9</td>\n",
              "      <td>84.2</td>\n",
              "      <td>24.8</td>\n",
              "      <td>41.1</td>\n",
              "      <td>...</td>\n",
              "      <td>1.5714</td>\n",
              "      <td>1.7143</td>\n",
              "      <td>0.4286</td>\n",
              "      <td>0.4286</td>\n",
              "      <td>0.1429</td>\n",
              "      <td>5.1429</td>\n",
              "      <td>Wing G</td>\n",
              "      <td>11.65950</td>\n",
              "      <td>0.0</td>\n",
              "      <td>0.0</td>\n",
              "    </tr>\n",
              "    <tr>\n",
              "      <th>1079</th>\n",
              "      <td>Austin Daye</td>\n",
              "      <td>15.0</td>\n",
              "      <td>2009</td>\n",
              "      <td>Gonzaga</td>\n",
              "      <td>WCC</td>\n",
              "      <td>33</td>\n",
              "      <td>65.4</td>\n",
              "      <td>102.6</td>\n",
              "      <td>24.4</td>\n",
              "      <td>53.6</td>\n",
              "      <td>...</td>\n",
              "      <td>5.6667</td>\n",
              "      <td>6.6667</td>\n",
              "      <td>1.1212</td>\n",
              "      <td>0.7273</td>\n",
              "      <td>2.0000</td>\n",
              "      <td>12.6061</td>\n",
              "      <td>0</td>\n",
              "      <td>5.33910</td>\n",
              "      <td>1.0</td>\n",
              "      <td>1.0</td>\n",
              "    </tr>\n",
              "    <tr>\n",
              "      <th>1080</th>\n",
              "      <td>Marcus Tsohonis</td>\n",
              "      <td>0.0</td>\n",
              "      <td>2022</td>\n",
              "      <td>VCU</td>\n",
              "      <td>A10</td>\n",
              "      <td>29</td>\n",
              "      <td>32.5</td>\n",
              "      <td>95.3</td>\n",
              "      <td>20.9</td>\n",
              "      <td>46.9</td>\n",
              "      <td>...</td>\n",
              "      <td>1.4483</td>\n",
              "      <td>1.6552</td>\n",
              "      <td>1.1379</td>\n",
              "      <td>0.2759</td>\n",
              "      <td>0.0345</td>\n",
              "      <td>5.1034</td>\n",
              "      <td>Combo G</td>\n",
              "      <td>10.65530</td>\n",
              "      <td>0.0</td>\n",
              "      <td>0.0</td>\n",
              "    </tr>\n",
              "  </tbody>\n",
              "</table>\n",
              "<p>1081 rows × 68 columns</p>\n",
              "</div>\n",
              "      <button class=\"colab-df-convert\" onclick=\"convertToInteractive('df-03a5e596-00b3-4413-89db-9529f860740b')\"\n",
              "              title=\"Convert this dataframe to an interactive table.\"\n",
              "              style=\"display:none;\">\n",
              "        \n",
              "  <svg xmlns=\"http://www.w3.org/2000/svg\" height=\"24px\"viewBox=\"0 0 24 24\"\n",
              "       width=\"24px\">\n",
              "    <path d=\"M0 0h24v24H0V0z\" fill=\"none\"/>\n",
              "    <path d=\"M18.56 5.44l.94 2.06.94-2.06 2.06-.94-2.06-.94-.94-2.06-.94 2.06-2.06.94zm-11 1L8.5 8.5l.94-2.06 2.06-.94-2.06-.94L8.5 2.5l-.94 2.06-2.06.94zm10 10l.94 2.06.94-2.06 2.06-.94-2.06-.94-.94-2.06-.94 2.06-2.06.94z\"/><path d=\"M17.41 7.96l-1.37-1.37c-.4-.4-.92-.59-1.43-.59-.52 0-1.04.2-1.43.59L10.3 9.45l-7.72 7.72c-.78.78-.78 2.05 0 2.83L4 21.41c.39.39.9.59 1.41.59.51 0 1.02-.2 1.41-.59l7.78-7.78 2.81-2.81c.8-.78.8-2.07 0-2.86zM5.41 20L4 18.59l7.72-7.72 1.47 1.35L5.41 20z\"/>\n",
              "  </svg>\n",
              "      </button>\n",
              "      \n",
              "  <style>\n",
              "    .colab-df-container {\n",
              "      display:flex;\n",
              "      flex-wrap:wrap;\n",
              "      gap: 12px;\n",
              "    }\n",
              "\n",
              "    .colab-df-convert {\n",
              "      background-color: #E8F0FE;\n",
              "      border: none;\n",
              "      border-radius: 50%;\n",
              "      cursor: pointer;\n",
              "      display: none;\n",
              "      fill: #1967D2;\n",
              "      height: 32px;\n",
              "      padding: 0 0 0 0;\n",
              "      width: 32px;\n",
              "    }\n",
              "\n",
              "    .colab-df-convert:hover {\n",
              "      background-color: #E2EBFA;\n",
              "      box-shadow: 0px 1px 2px rgba(60, 64, 67, 0.3), 0px 1px 3px 1px rgba(60, 64, 67, 0.15);\n",
              "      fill: #174EA6;\n",
              "    }\n",
              "\n",
              "    [theme=dark] .colab-df-convert {\n",
              "      background-color: #3B4455;\n",
              "      fill: #D2E3FC;\n",
              "    }\n",
              "\n",
              "    [theme=dark] .colab-df-convert:hover {\n",
              "      background-color: #434B5C;\n",
              "      box-shadow: 0px 1px 3px 1px rgba(0, 0, 0, 0.15);\n",
              "      filter: drop-shadow(0px 1px 2px rgba(0, 0, 0, 0.3));\n",
              "      fill: #FFFFFF;\n",
              "    }\n",
              "  </style>\n",
              "\n",
              "      <script>\n",
              "        const buttonEl =\n",
              "          document.querySelector('#df-03a5e596-00b3-4413-89db-9529f860740b button.colab-df-convert');\n",
              "        buttonEl.style.display =\n",
              "          google.colab.kernel.accessAllowed ? 'block' : 'none';\n",
              "\n",
              "        async function convertToInteractive(key) {\n",
              "          const element = document.querySelector('#df-03a5e596-00b3-4413-89db-9529f860740b');\n",
              "          const dataTable =\n",
              "            await google.colab.kernel.invokeFunction('convertToInteractive',\n",
              "                                                     [key], {});\n",
              "          if (!dataTable) return;\n",
              "\n",
              "          const docLinkHtml = 'Like what you see? Visit the ' +\n",
              "            '<a target=\"_blank\" href=https://colab.research.google.com/notebooks/data_table.ipynb>data table notebook</a>'\n",
              "            + ' to learn more about interactive tables.';\n",
              "          element.innerHTML = '';\n",
              "          dataTable['output_type'] = 'display_data';\n",
              "          await google.colab.output.renderOutput(dataTable, element);\n",
              "          const docLink = document.createElement('div');\n",
              "          docLink.innerHTML = docLinkHtml;\n",
              "          element.appendChild(docLink);\n",
              "        }\n",
              "      </script>\n",
              "    </div>\n",
              "  </div>\n",
              "  "
            ]
          },
          "metadata": {},
          "execution_count": 11
        }
      ]
    },
    {
      "cell_type": "code",
      "source": [
        "df_top15[features].describe()"
      ],
      "metadata": {
        "colab": {
          "base_uri": "https://localhost:8080/",
          "height": 300
        },
        "id": "CXFOb6nyqnYm",
        "outputId": "df3569fa-9148-4ca7-cc25-f366ef5c2637"
      },
      "id": "CXFOb6nyqnYm",
      "execution_count": 12,
      "outputs": [
        {
          "output_type": "execute_result",
          "data": {
            "text/plain": [
              "               GP     Min_per         FTM       twoPM       stops          mp\n",
              "count  303.000000  303.000000  303.000000  303.000000  303.000000  303.000000\n",
              "mean    32.729373   67.601650   99.587459  127.594059  192.784276   28.759621\n",
              "std      6.114202   18.879858   52.764673   59.046313   60.030218    6.480007\n",
              "min      3.000000    4.100000    2.000000    5.000000   12.540000    4.571400\n",
              "25%     31.000000   59.100000   60.500000   84.000000  168.463500   26.245250\n",
              "50%     34.000000   72.800000   97.000000  126.000000  203.764000   30.740700\n",
              "75%     36.500000   81.100000  133.500000  167.500000  233.879000   33.311400\n",
              "max     41.000000   93.500000  258.000000  311.000000  360.572000   37.634100"
            ],
            "text/html": [
              "\n",
              "  <div id=\"df-26702bb9-608c-4800-a28d-bff7c1640445\">\n",
              "    <div class=\"colab-df-container\">\n",
              "      <div>\n",
              "<style scoped>\n",
              "    .dataframe tbody tr th:only-of-type {\n",
              "        vertical-align: middle;\n",
              "    }\n",
              "\n",
              "    .dataframe tbody tr th {\n",
              "        vertical-align: top;\n",
              "    }\n",
              "\n",
              "    .dataframe thead th {\n",
              "        text-align: right;\n",
              "    }\n",
              "</style>\n",
              "<table border=\"1\" class=\"dataframe\">\n",
              "  <thead>\n",
              "    <tr style=\"text-align: right;\">\n",
              "      <th></th>\n",
              "      <th>GP</th>\n",
              "      <th>Min_per</th>\n",
              "      <th>FTM</th>\n",
              "      <th>twoPM</th>\n",
              "      <th>stops</th>\n",
              "      <th>mp</th>\n",
              "    </tr>\n",
              "  </thead>\n",
              "  <tbody>\n",
              "    <tr>\n",
              "      <th>count</th>\n",
              "      <td>303.000000</td>\n",
              "      <td>303.000000</td>\n",
              "      <td>303.000000</td>\n",
              "      <td>303.000000</td>\n",
              "      <td>303.000000</td>\n",
              "      <td>303.000000</td>\n",
              "    </tr>\n",
              "    <tr>\n",
              "      <th>mean</th>\n",
              "      <td>32.729373</td>\n",
              "      <td>67.601650</td>\n",
              "      <td>99.587459</td>\n",
              "      <td>127.594059</td>\n",
              "      <td>192.784276</td>\n",
              "      <td>28.759621</td>\n",
              "    </tr>\n",
              "    <tr>\n",
              "      <th>std</th>\n",
              "      <td>6.114202</td>\n",
              "      <td>18.879858</td>\n",
              "      <td>52.764673</td>\n",
              "      <td>59.046313</td>\n",
              "      <td>60.030218</td>\n",
              "      <td>6.480007</td>\n",
              "    </tr>\n",
              "    <tr>\n",
              "      <th>min</th>\n",
              "      <td>3.000000</td>\n",
              "      <td>4.100000</td>\n",
              "      <td>2.000000</td>\n",
              "      <td>5.000000</td>\n",
              "      <td>12.540000</td>\n",
              "      <td>4.571400</td>\n",
              "    </tr>\n",
              "    <tr>\n",
              "      <th>25%</th>\n",
              "      <td>31.000000</td>\n",
              "      <td>59.100000</td>\n",
              "      <td>60.500000</td>\n",
              "      <td>84.000000</td>\n",
              "      <td>168.463500</td>\n",
              "      <td>26.245250</td>\n",
              "    </tr>\n",
              "    <tr>\n",
              "      <th>50%</th>\n",
              "      <td>34.000000</td>\n",
              "      <td>72.800000</td>\n",
              "      <td>97.000000</td>\n",
              "      <td>126.000000</td>\n",
              "      <td>203.764000</td>\n",
              "      <td>30.740700</td>\n",
              "    </tr>\n",
              "    <tr>\n",
              "      <th>75%</th>\n",
              "      <td>36.500000</td>\n",
              "      <td>81.100000</td>\n",
              "      <td>133.500000</td>\n",
              "      <td>167.500000</td>\n",
              "      <td>233.879000</td>\n",
              "      <td>33.311400</td>\n",
              "    </tr>\n",
              "    <tr>\n",
              "      <th>max</th>\n",
              "      <td>41.000000</td>\n",
              "      <td>93.500000</td>\n",
              "      <td>258.000000</td>\n",
              "      <td>311.000000</td>\n",
              "      <td>360.572000</td>\n",
              "      <td>37.634100</td>\n",
              "    </tr>\n",
              "  </tbody>\n",
              "</table>\n",
              "</div>\n",
              "      <button class=\"colab-df-convert\" onclick=\"convertToInteractive('df-26702bb9-608c-4800-a28d-bff7c1640445')\"\n",
              "              title=\"Convert this dataframe to an interactive table.\"\n",
              "              style=\"display:none;\">\n",
              "        \n",
              "  <svg xmlns=\"http://www.w3.org/2000/svg\" height=\"24px\"viewBox=\"0 0 24 24\"\n",
              "       width=\"24px\">\n",
              "    <path d=\"M0 0h24v24H0V0z\" fill=\"none\"/>\n",
              "    <path d=\"M18.56 5.44l.94 2.06.94-2.06 2.06-.94-2.06-.94-.94-2.06-.94 2.06-2.06.94zm-11 1L8.5 8.5l.94-2.06 2.06-.94-2.06-.94L8.5 2.5l-.94 2.06-2.06.94zm10 10l.94 2.06.94-2.06 2.06-.94-2.06-.94-.94-2.06-.94 2.06-2.06.94z\"/><path d=\"M17.41 7.96l-1.37-1.37c-.4-.4-.92-.59-1.43-.59-.52 0-1.04.2-1.43.59L10.3 9.45l-7.72 7.72c-.78.78-.78 2.05 0 2.83L4 21.41c.39.39.9.59 1.41.59.51 0 1.02-.2 1.41-.59l7.78-7.78 2.81-2.81c.8-.78.8-2.07 0-2.86zM5.41 20L4 18.59l7.72-7.72 1.47 1.35L5.41 20z\"/>\n",
              "  </svg>\n",
              "      </button>\n",
              "      \n",
              "  <style>\n",
              "    .colab-df-container {\n",
              "      display:flex;\n",
              "      flex-wrap:wrap;\n",
              "      gap: 12px;\n",
              "    }\n",
              "\n",
              "    .colab-df-convert {\n",
              "      background-color: #E8F0FE;\n",
              "      border: none;\n",
              "      border-radius: 50%;\n",
              "      cursor: pointer;\n",
              "      display: none;\n",
              "      fill: #1967D2;\n",
              "      height: 32px;\n",
              "      padding: 0 0 0 0;\n",
              "      width: 32px;\n",
              "    }\n",
              "\n",
              "    .colab-df-convert:hover {\n",
              "      background-color: #E2EBFA;\n",
              "      box-shadow: 0px 1px 2px rgba(60, 64, 67, 0.3), 0px 1px 3px 1px rgba(60, 64, 67, 0.15);\n",
              "      fill: #174EA6;\n",
              "    }\n",
              "\n",
              "    [theme=dark] .colab-df-convert {\n",
              "      background-color: #3B4455;\n",
              "      fill: #D2E3FC;\n",
              "    }\n",
              "\n",
              "    [theme=dark] .colab-df-convert:hover {\n",
              "      background-color: #434B5C;\n",
              "      box-shadow: 0px 1px 3px 1px rgba(0, 0, 0, 0.15);\n",
              "      filter: drop-shadow(0px 1px 2px rgba(0, 0, 0, 0.3));\n",
              "      fill: #FFFFFF;\n",
              "    }\n",
              "  </style>\n",
              "\n",
              "      <script>\n",
              "        const buttonEl =\n",
              "          document.querySelector('#df-26702bb9-608c-4800-a28d-bff7c1640445 button.colab-df-convert');\n",
              "        buttonEl.style.display =\n",
              "          google.colab.kernel.accessAllowed ? 'block' : 'none';\n",
              "\n",
              "        async function convertToInteractive(key) {\n",
              "          const element = document.querySelector('#df-26702bb9-608c-4800-a28d-bff7c1640445');\n",
              "          const dataTable =\n",
              "            await google.colab.kernel.invokeFunction('convertToInteractive',\n",
              "                                                     [key], {});\n",
              "          if (!dataTable) return;\n",
              "\n",
              "          const docLinkHtml = 'Like what you see? Visit the ' +\n",
              "            '<a target=\"_blank\" href=https://colab.research.google.com/notebooks/data_table.ipynb>data table notebook</a>'\n",
              "            + ' to learn more about interactive tables.';\n",
              "          element.innerHTML = '';\n",
              "          dataTable['output_type'] = 'display_data';\n",
              "          await google.colab.output.renderOutput(dataTable, element);\n",
              "          const docLink = document.createElement('div');\n",
              "          docLink.innerHTML = docLinkHtml;\n",
              "          element.appendChild(docLink);\n",
              "        }\n",
              "      </script>\n",
              "    </div>\n",
              "  </div>\n",
              "  "
            ]
          },
          "metadata": {},
          "execution_count": 12
        }
      ]
    },
    {
      "cell_type": "code",
      "source": [
        "df_below15[features].describe()"
      ],
      "metadata": {
        "colab": {
          "base_uri": "https://localhost:8080/",
          "height": 300
        },
        "id": "tCXiKPprrnWn",
        "outputId": "9f709486-d7a2-46b1-a714-937743f9fcbe"
      },
      "id": "tCXiKPprrnWn",
      "execution_count": 13,
      "outputs": [
        {
          "output_type": "execute_result",
          "data": {
            "text/plain": [
              "               GP     Min_per         FTM       twoPM       stops          mp\n",
              "count  778.000000  778.000000  778.000000  778.000000  778.000000  778.000000\n",
              "mean    23.647815   38.677892   33.965296   44.042416   86.010162   17.462618\n",
              "std      9.888536   28.140144   36.437815   44.721958   66.241226   10.593952\n",
              "min      1.000000    0.100000    0.000000    0.000000    0.082749    0.500000\n",
              "25%     16.000000   11.325000    5.000000    7.000000   22.976025    7.637150\n",
              "50%     27.000000   37.350000   21.000000   30.000000   78.216200   17.454500\n",
              "75%     31.000000   63.975000   51.000000   71.000000  141.165250   26.924125\n",
              "max     40.000000   95.900000  222.000000  210.000000  298.862000   38.677400"
            ],
            "text/html": [
              "\n",
              "  <div id=\"df-323f2d51-2022-495e-be65-a88da26608a3\">\n",
              "    <div class=\"colab-df-container\">\n",
              "      <div>\n",
              "<style scoped>\n",
              "    .dataframe tbody tr th:only-of-type {\n",
              "        vertical-align: middle;\n",
              "    }\n",
              "\n",
              "    .dataframe tbody tr th {\n",
              "        vertical-align: top;\n",
              "    }\n",
              "\n",
              "    .dataframe thead th {\n",
              "        text-align: right;\n",
              "    }\n",
              "</style>\n",
              "<table border=\"1\" class=\"dataframe\">\n",
              "  <thead>\n",
              "    <tr style=\"text-align: right;\">\n",
              "      <th></th>\n",
              "      <th>GP</th>\n",
              "      <th>Min_per</th>\n",
              "      <th>FTM</th>\n",
              "      <th>twoPM</th>\n",
              "      <th>stops</th>\n",
              "      <th>mp</th>\n",
              "    </tr>\n",
              "  </thead>\n",
              "  <tbody>\n",
              "    <tr>\n",
              "      <th>count</th>\n",
              "      <td>778.000000</td>\n",
              "      <td>778.000000</td>\n",
              "      <td>778.000000</td>\n",
              "      <td>778.000000</td>\n",
              "      <td>778.000000</td>\n",
              "      <td>778.000000</td>\n",
              "    </tr>\n",
              "    <tr>\n",
              "      <th>mean</th>\n",
              "      <td>23.647815</td>\n",
              "      <td>38.677892</td>\n",
              "      <td>33.965296</td>\n",
              "      <td>44.042416</td>\n",
              "      <td>86.010162</td>\n",
              "      <td>17.462618</td>\n",
              "    </tr>\n",
              "    <tr>\n",
              "      <th>std</th>\n",
              "      <td>9.888536</td>\n",
              "      <td>28.140144</td>\n",
              "      <td>36.437815</td>\n",
              "      <td>44.721958</td>\n",
              "      <td>66.241226</td>\n",
              "      <td>10.593952</td>\n",
              "    </tr>\n",
              "    <tr>\n",
              "      <th>min</th>\n",
              "      <td>1.000000</td>\n",
              "      <td>0.100000</td>\n",
              "      <td>0.000000</td>\n",
              "      <td>0.000000</td>\n",
              "      <td>0.082749</td>\n",
              "      <td>0.500000</td>\n",
              "    </tr>\n",
              "    <tr>\n",
              "      <th>25%</th>\n",
              "      <td>16.000000</td>\n",
              "      <td>11.325000</td>\n",
              "      <td>5.000000</td>\n",
              "      <td>7.000000</td>\n",
              "      <td>22.976025</td>\n",
              "      <td>7.637150</td>\n",
              "    </tr>\n",
              "    <tr>\n",
              "      <th>50%</th>\n",
              "      <td>27.000000</td>\n",
              "      <td>37.350000</td>\n",
              "      <td>21.000000</td>\n",
              "      <td>30.000000</td>\n",
              "      <td>78.216200</td>\n",
              "      <td>17.454500</td>\n",
              "    </tr>\n",
              "    <tr>\n",
              "      <th>75%</th>\n",
              "      <td>31.000000</td>\n",
              "      <td>63.975000</td>\n",
              "      <td>51.000000</td>\n",
              "      <td>71.000000</td>\n",
              "      <td>141.165250</td>\n",
              "      <td>26.924125</td>\n",
              "    </tr>\n",
              "    <tr>\n",
              "      <th>max</th>\n",
              "      <td>40.000000</td>\n",
              "      <td>95.900000</td>\n",
              "      <td>222.000000</td>\n",
              "      <td>210.000000</td>\n",
              "      <td>298.862000</td>\n",
              "      <td>38.677400</td>\n",
              "    </tr>\n",
              "  </tbody>\n",
              "</table>\n",
              "</div>\n",
              "      <button class=\"colab-df-convert\" onclick=\"convertToInteractive('df-323f2d51-2022-495e-be65-a88da26608a3')\"\n",
              "              title=\"Convert this dataframe to an interactive table.\"\n",
              "              style=\"display:none;\">\n",
              "        \n",
              "  <svg xmlns=\"http://www.w3.org/2000/svg\" height=\"24px\"viewBox=\"0 0 24 24\"\n",
              "       width=\"24px\">\n",
              "    <path d=\"M0 0h24v24H0V0z\" fill=\"none\"/>\n",
              "    <path d=\"M18.56 5.44l.94 2.06.94-2.06 2.06-.94-2.06-.94-.94-2.06-.94 2.06-2.06.94zm-11 1L8.5 8.5l.94-2.06 2.06-.94-2.06-.94L8.5 2.5l-.94 2.06-2.06.94zm10 10l.94 2.06.94-2.06 2.06-.94-2.06-.94-.94-2.06-.94 2.06-2.06.94z\"/><path d=\"M17.41 7.96l-1.37-1.37c-.4-.4-.92-.59-1.43-.59-.52 0-1.04.2-1.43.59L10.3 9.45l-7.72 7.72c-.78.78-.78 2.05 0 2.83L4 21.41c.39.39.9.59 1.41.59.51 0 1.02-.2 1.41-.59l7.78-7.78 2.81-2.81c.8-.78.8-2.07 0-2.86zM5.41 20L4 18.59l7.72-7.72 1.47 1.35L5.41 20z\"/>\n",
              "  </svg>\n",
              "      </button>\n",
              "      \n",
              "  <style>\n",
              "    .colab-df-container {\n",
              "      display:flex;\n",
              "      flex-wrap:wrap;\n",
              "      gap: 12px;\n",
              "    }\n",
              "\n",
              "    .colab-df-convert {\n",
              "      background-color: #E8F0FE;\n",
              "      border: none;\n",
              "      border-radius: 50%;\n",
              "      cursor: pointer;\n",
              "      display: none;\n",
              "      fill: #1967D2;\n",
              "      height: 32px;\n",
              "      padding: 0 0 0 0;\n",
              "      width: 32px;\n",
              "    }\n",
              "\n",
              "    .colab-df-convert:hover {\n",
              "      background-color: #E2EBFA;\n",
              "      box-shadow: 0px 1px 2px rgba(60, 64, 67, 0.3), 0px 1px 3px 1px rgba(60, 64, 67, 0.15);\n",
              "      fill: #174EA6;\n",
              "    }\n",
              "\n",
              "    [theme=dark] .colab-df-convert {\n",
              "      background-color: #3B4455;\n",
              "      fill: #D2E3FC;\n",
              "    }\n",
              "\n",
              "    [theme=dark] .colab-df-convert:hover {\n",
              "      background-color: #434B5C;\n",
              "      box-shadow: 0px 1px 3px 1px rgba(0, 0, 0, 0.15);\n",
              "      filter: drop-shadow(0px 1px 2px rgba(0, 0, 0, 0.3));\n",
              "      fill: #FFFFFF;\n",
              "    }\n",
              "  </style>\n",
              "\n",
              "      <script>\n",
              "        const buttonEl =\n",
              "          document.querySelector('#df-323f2d51-2022-495e-be65-a88da26608a3 button.colab-df-convert');\n",
              "        buttonEl.style.display =\n",
              "          google.colab.kernel.accessAllowed ? 'block' : 'none';\n",
              "\n",
              "        async function convertToInteractive(key) {\n",
              "          const element = document.querySelector('#df-323f2d51-2022-495e-be65-a88da26608a3');\n",
              "          const dataTable =\n",
              "            await google.colab.kernel.invokeFunction('convertToInteractive',\n",
              "                                                     [key], {});\n",
              "          if (!dataTable) return;\n",
              "\n",
              "          const docLinkHtml = 'Like what you see? Visit the ' +\n",
              "            '<a target=\"_blank\" href=https://colab.research.google.com/notebooks/data_table.ipynb>data table notebook</a>'\n",
              "            + ' to learn more about interactive tables.';\n",
              "          element.innerHTML = '';\n",
              "          dataTable['output_type'] = 'display_data';\n",
              "          await google.colab.output.renderOutput(dataTable, element);\n",
              "          const docLink = document.createElement('div');\n",
              "          docLink.innerHTML = docLinkHtml;\n",
              "          element.appendChild(docLink);\n",
              "        }\n",
              "      </script>\n",
              "    </div>\n",
              "  </div>\n",
              "  "
            ]
          },
          "metadata": {},
          "execution_count": 13
        }
      ]
    },
    {
      "cell_type": "code",
      "source": [
        "# Create groups based on GP\n",
        "for index, row in df_all.iterrows():\n",
        "    if row['GP'] >= 32.5:\n",
        "        df_all.at[index,'GamesPlayed'] = 1\n",
        "    else:\n",
        "        df_all.at[index,'GamesPlayed'] = 0\n",
        "\n",
        "# Create groups based on Min_per\n",
        "for index, row in df_all.iterrows():\n",
        "    if row['Min_per'] >= 66:\n",
        "        df_all.at[index,'MinPer'] = 1\n",
        "    else:\n",
        "        df_all.at[index,'MinPer'] = 0\n",
        "\n",
        "# Create groups based on FTM\n",
        "for index, row in df_all.iterrows():\n",
        "    if row['FTM'] >= 78.5:\n",
        "        df_all.at[index,'FT'] = 1\n",
        "    else:\n",
        "        df_all.at[index,'FT'] = 0\n",
        "\n",
        "# Create groups based on twoPM\n",
        "for index, row in df_all.iterrows():\n",
        "    if row['twoPM'] >= 105:\n",
        "        df_all.at[index,'twoP'] = 1\n",
        "    else:\n",
        "        df_all.at[index,'twoP'] = 0\n",
        "\n",
        "# Create groups based on stops\n",
        "for index, row in df_all.iterrows():\n",
        "    if row['stops'] >= 185.5:\n",
        "        df_all.at[index,'STP'] = 1\n",
        "    else:\n",
        "        df_all.at[index,'STP'] = 0\n",
        "\n",
        "# Create groups based on mp\n",
        "for index, row in df_all.iterrows():\n",
        "    if row['mp'] >= 28:\n",
        "        df_all.at[index,'MinPlayed'] = 1\n",
        "    else:\n",
        "        df_all.at[index,'MinPlayed'] = 0"
      ],
      "metadata": {
        "id": "U-n-mP0iaVxU"
      },
      "id": "U-n-mP0iaVxU",
      "execution_count": 14,
      "outputs": []
    },
    {
      "cell_type": "code",
      "source": [
        "df_all.columns"
      ],
      "metadata": {
        "colab": {
          "base_uri": "https://localhost:8080/"
        },
        "id": "t-WxIxUbfyWW",
        "outputId": "ad3a5abe-f926-44a2-ddda-82ac51efe157"
      },
      "id": "t-WxIxUbfyWW",
      "execution_count": 15,
      "outputs": [
        {
          "output_type": "execute_result",
          "data": {
            "text/plain": [
              "Index(['player_name', 'pick', 'year', 'team', 'conf', 'GP', 'Min_per', 'Ortg',\n",
              "       'usg', 'eFG', 'TS_per', 'ORB_per', 'DRB_per', 'AST_per', 'TO_per',\n",
              "       'FTM', 'FTA', 'FT_per', 'twoPM', 'twoPA', 'twoP_per', 'TPM', 'TPA',\n",
              "       'TP_per', 'blk_per', 'stl_per', 'ftr', 'yr', 'ht', 'num', 'porpag',\n",
              "       'adjoe', 'pfr', 'pid', 'type', 'Rec Rank', 'ast/tov', 'rimmade',\n",
              "       'rimmade+rimmiss', 'midmade', 'midmade+midmiss',\n",
              "       'rimmade/(rimmade+rimmiss)', 'midmade/(midmade+midmiss)', 'dunksmade',\n",
              "       'dunksmiss+dunksmade', 'dunksmade/(dunksmade+dunksmiss)', 'drtg',\n",
              "       'adrtg', 'dporpag', 'stops', 'bpm', 'obpm', 'dbpm', 'gbpm', 'mp',\n",
              "       'ogbpm', 'dgbpm', 'oreb', 'dreb', 'treb', 'ast', 'stl', 'blk', 'pts',\n",
              "       'Unnamed: 64', 'Unnamed: 65', 'Group', 'Top_teams', 'GamesPlayed',\n",
              "       'MinPer', 'FT', 'twoP', 'STP', 'MinPlayed'],\n",
              "      dtype='object')"
            ]
          },
          "metadata": {},
          "execution_count": 15
        }
      ]
    },
    {
      "cell_type": "code",
      "source": [
        "new_features = ['Group', 'FT', 'twoP', 'STP', 'GamesPlayed', 'MinPer', 'MinPlayed','Top_teams']"
      ],
      "metadata": {
        "id": "QMW8X-D6hQNS"
      },
      "id": "QMW8X-D6hQNS",
      "execution_count": 16,
      "outputs": []
    },
    {
      "cell_type": "code",
      "source": [
        "# Select evaluation parameters for correlation datafram and convert it to correlation dataframe\n",
        "new_corr_df = df_all[new_features].corr()\n",
        "# Review the correlation dataframe\n",
        "new_corr_df.head()"
      ],
      "metadata": {
        "colab": {
          "base_uri": "https://localhost:8080/",
          "height": 206
        },
        "id": "3y_IofUEhcel",
        "outputId": "9d33b656-a882-4141-cdf0-46e96fc20e86"
      },
      "id": "3y_IofUEhcel",
      "execution_count": 17,
      "outputs": [
        {
          "output_type": "execute_result",
          "data": {
            "text/plain": [
              "                Group        FT      twoP       STP  GamesPlayed    MinPer  \\\n",
              "Group        1.000000  0.496978  0.521194  0.591082     0.480845  0.400427   \n",
              "FT           0.496978  1.000000  0.701814  0.659401     0.422836  0.620678   \n",
              "twoP         0.521194  0.701814  1.000000  0.665749     0.483685  0.589952   \n",
              "STP          0.591082  0.659401  0.665749  1.000000     0.509135  0.617194   \n",
              "GamesPlayed  0.480845  0.422836  0.483685  0.509135     1.000000  0.383962   \n",
              "\n",
              "             MinPlayed  Top_teams  \n",
              "Group         0.411048   0.580916  \n",
              "FT            0.610460   0.282396  \n",
              "twoP          0.557455   0.322235  \n",
              "STP           0.593309   0.360666  \n",
              "GamesPlayed   0.308752   0.439530  "
            ],
            "text/html": [
              "\n",
              "  <div id=\"df-b1dbe463-5e63-49e9-b0c2-f8636f236c39\">\n",
              "    <div class=\"colab-df-container\">\n",
              "      <div>\n",
              "<style scoped>\n",
              "    .dataframe tbody tr th:only-of-type {\n",
              "        vertical-align: middle;\n",
              "    }\n",
              "\n",
              "    .dataframe tbody tr th {\n",
              "        vertical-align: top;\n",
              "    }\n",
              "\n",
              "    .dataframe thead th {\n",
              "        text-align: right;\n",
              "    }\n",
              "</style>\n",
              "<table border=\"1\" class=\"dataframe\">\n",
              "  <thead>\n",
              "    <tr style=\"text-align: right;\">\n",
              "      <th></th>\n",
              "      <th>Group</th>\n",
              "      <th>FT</th>\n",
              "      <th>twoP</th>\n",
              "      <th>STP</th>\n",
              "      <th>GamesPlayed</th>\n",
              "      <th>MinPer</th>\n",
              "      <th>MinPlayed</th>\n",
              "      <th>Top_teams</th>\n",
              "    </tr>\n",
              "  </thead>\n",
              "  <tbody>\n",
              "    <tr>\n",
              "      <th>Group</th>\n",
              "      <td>1.000000</td>\n",
              "      <td>0.496978</td>\n",
              "      <td>0.521194</td>\n",
              "      <td>0.591082</td>\n",
              "      <td>0.480845</td>\n",
              "      <td>0.400427</td>\n",
              "      <td>0.411048</td>\n",
              "      <td>0.580916</td>\n",
              "    </tr>\n",
              "    <tr>\n",
              "      <th>FT</th>\n",
              "      <td>0.496978</td>\n",
              "      <td>1.000000</td>\n",
              "      <td>0.701814</td>\n",
              "      <td>0.659401</td>\n",
              "      <td>0.422836</td>\n",
              "      <td>0.620678</td>\n",
              "      <td>0.610460</td>\n",
              "      <td>0.282396</td>\n",
              "    </tr>\n",
              "    <tr>\n",
              "      <th>twoP</th>\n",
              "      <td>0.521194</td>\n",
              "      <td>0.701814</td>\n",
              "      <td>1.000000</td>\n",
              "      <td>0.665749</td>\n",
              "      <td>0.483685</td>\n",
              "      <td>0.589952</td>\n",
              "      <td>0.557455</td>\n",
              "      <td>0.322235</td>\n",
              "    </tr>\n",
              "    <tr>\n",
              "      <th>STP</th>\n",
              "      <td>0.591082</td>\n",
              "      <td>0.659401</td>\n",
              "      <td>0.665749</td>\n",
              "      <td>1.000000</td>\n",
              "      <td>0.509135</td>\n",
              "      <td>0.617194</td>\n",
              "      <td>0.593309</td>\n",
              "      <td>0.360666</td>\n",
              "    </tr>\n",
              "    <tr>\n",
              "      <th>GamesPlayed</th>\n",
              "      <td>0.480845</td>\n",
              "      <td>0.422836</td>\n",
              "      <td>0.483685</td>\n",
              "      <td>0.509135</td>\n",
              "      <td>1.000000</td>\n",
              "      <td>0.383962</td>\n",
              "      <td>0.308752</td>\n",
              "      <td>0.439530</td>\n",
              "    </tr>\n",
              "  </tbody>\n",
              "</table>\n",
              "</div>\n",
              "      <button class=\"colab-df-convert\" onclick=\"convertToInteractive('df-b1dbe463-5e63-49e9-b0c2-f8636f236c39')\"\n",
              "              title=\"Convert this dataframe to an interactive table.\"\n",
              "              style=\"display:none;\">\n",
              "        \n",
              "  <svg xmlns=\"http://www.w3.org/2000/svg\" height=\"24px\"viewBox=\"0 0 24 24\"\n",
              "       width=\"24px\">\n",
              "    <path d=\"M0 0h24v24H0V0z\" fill=\"none\"/>\n",
              "    <path d=\"M18.56 5.44l.94 2.06.94-2.06 2.06-.94-2.06-.94-.94-2.06-.94 2.06-2.06.94zm-11 1L8.5 8.5l.94-2.06 2.06-.94-2.06-.94L8.5 2.5l-.94 2.06-2.06.94zm10 10l.94 2.06.94-2.06 2.06-.94-2.06-.94-.94-2.06-.94 2.06-2.06.94z\"/><path d=\"M17.41 7.96l-1.37-1.37c-.4-.4-.92-.59-1.43-.59-.52 0-1.04.2-1.43.59L10.3 9.45l-7.72 7.72c-.78.78-.78 2.05 0 2.83L4 21.41c.39.39.9.59 1.41.59.51 0 1.02-.2 1.41-.59l7.78-7.78 2.81-2.81c.8-.78.8-2.07 0-2.86zM5.41 20L4 18.59l7.72-7.72 1.47 1.35L5.41 20z\"/>\n",
              "  </svg>\n",
              "      </button>\n",
              "      \n",
              "  <style>\n",
              "    .colab-df-container {\n",
              "      display:flex;\n",
              "      flex-wrap:wrap;\n",
              "      gap: 12px;\n",
              "    }\n",
              "\n",
              "    .colab-df-convert {\n",
              "      background-color: #E8F0FE;\n",
              "      border: none;\n",
              "      border-radius: 50%;\n",
              "      cursor: pointer;\n",
              "      display: none;\n",
              "      fill: #1967D2;\n",
              "      height: 32px;\n",
              "      padding: 0 0 0 0;\n",
              "      width: 32px;\n",
              "    }\n",
              "\n",
              "    .colab-df-convert:hover {\n",
              "      background-color: #E2EBFA;\n",
              "      box-shadow: 0px 1px 2px rgba(60, 64, 67, 0.3), 0px 1px 3px 1px rgba(60, 64, 67, 0.15);\n",
              "      fill: #174EA6;\n",
              "    }\n",
              "\n",
              "    [theme=dark] .colab-df-convert {\n",
              "      background-color: #3B4455;\n",
              "      fill: #D2E3FC;\n",
              "    }\n",
              "\n",
              "    [theme=dark] .colab-df-convert:hover {\n",
              "      background-color: #434B5C;\n",
              "      box-shadow: 0px 1px 3px 1px rgba(0, 0, 0, 0.15);\n",
              "      filter: drop-shadow(0px 1px 2px rgba(0, 0, 0, 0.3));\n",
              "      fill: #FFFFFF;\n",
              "    }\n",
              "  </style>\n",
              "\n",
              "      <script>\n",
              "        const buttonEl =\n",
              "          document.querySelector('#df-b1dbe463-5e63-49e9-b0c2-f8636f236c39 button.colab-df-convert');\n",
              "        buttonEl.style.display =\n",
              "          google.colab.kernel.accessAllowed ? 'block' : 'none';\n",
              "\n",
              "        async function convertToInteractive(key) {\n",
              "          const element = document.querySelector('#df-b1dbe463-5e63-49e9-b0c2-f8636f236c39');\n",
              "          const dataTable =\n",
              "            await google.colab.kernel.invokeFunction('convertToInteractive',\n",
              "                                                     [key], {});\n",
              "          if (!dataTable) return;\n",
              "\n",
              "          const docLinkHtml = 'Like what you see? Visit the ' +\n",
              "            '<a target=\"_blank\" href=https://colab.research.google.com/notebooks/data_table.ipynb>data table notebook</a>'\n",
              "            + ' to learn more about interactive tables.';\n",
              "          element.innerHTML = '';\n",
              "          dataTable['output_type'] = 'display_data';\n",
              "          await google.colab.output.renderOutput(dataTable, element);\n",
              "          const docLink = document.createElement('div');\n",
              "          docLink.innerHTML = docLinkHtml;\n",
              "          element.appendChild(docLink);\n",
              "        }\n",
              "      </script>\n",
              "    </div>\n",
              "  </div>\n",
              "  "
            ]
          },
          "metadata": {},
          "execution_count": 17
        }
      ]
    },
    {
      "cell_type": "code",
      "source": [
        "sns.set(rc = {'figure.figsize':(15,8)})\n",
        "sns.heatmap(new_corr_df, vmin = -1, vmax=1, cmap='inferno')"
      ],
      "metadata": {
        "colab": {
          "base_uri": "https://localhost:8080/",
          "height": 508
        },
        "id": "s-YmfCqihcub",
        "outputId": "52407dc0-4bbf-4318-ef18-3f5fa289e7d0"
      },
      "id": "s-YmfCqihcub",
      "execution_count": 18,
      "outputs": [
        {
          "output_type": "execute_result",
          "data": {
            "text/plain": [
              "<matplotlib.axes._subplots.AxesSubplot at 0x7fba6569a050>"
            ]
          },
          "metadata": {},
          "execution_count": 18
        },
        {
          "output_type": "display_data",
          "data": {
            "text/plain": [
              "<Figure size 1080x576 with 2 Axes>"
            ],
            "image/png": "[encoded data removed]"
          },
          "metadata": {}
        }
      ]
    },
    {
      "cell_type": "code",
      "source": [
        "df_all[new_features]"
      ],
      "metadata": {
        "colab": {
          "base_uri": "https://localhost:8080/",
          "height": 424
        },
        "id": "ZUf6K10nhc3j",
        "outputId": "5e64f682-5b85-44c4-f5ab-f0fc191deac9"
      },
      "id": "ZUf6K10nhc3j",
      "execution_count": 19,
      "outputs": [
        {
          "output_type": "execute_result",
          "data": {
            "text/plain": [
              "      Group   FT  twoP  STP  GamesPlayed  MinPer  MinPlayed  Top_teams\n",
              "0       0.0  0.0   0.0  0.0          0.0     0.0        0.0        0.0\n",
              "1       0.0  1.0   1.0  1.0          1.0     1.0        1.0        1.0\n",
              "2       0.0  0.0   0.0  0.0          0.0     0.0        0.0        0.0\n",
              "3       0.0  0.0   0.0  0.0          0.0     0.0        0.0        0.0\n",
              "4       0.0  0.0   0.0  0.0          0.0     0.0        0.0        0.0\n",
              "...     ...  ...   ...  ...          ...     ...        ...        ...\n",
              "1076    0.0  0.0   0.0  0.0          0.0     0.0        0.0        0.0\n",
              "1077    0.0  0.0   0.0  0.0          0.0     0.0        0.0        0.0\n",
              "1078    0.0  0.0   0.0  0.0          0.0     0.0        0.0        0.0\n",
              "1079    1.0  0.0   1.0  1.0          1.0     0.0        0.0        1.0\n",
              "1080    0.0  0.0   0.0  0.0          0.0     0.0        0.0        0.0\n",
              "\n",
              "[1081 rows x 8 columns]"
            ],
            "text/html": [
              "\n",
              "  <div id=\"df-9e6f9a88-b1ae-4b51-9bd4-9d77db952be4\">\n",
              "    <div class=\"colab-df-container\">\n",
              "      <div>\n",
              "<style scoped>\n",
              "    .dataframe tbody tr th:only-of-type {\n",
              "        vertical-align: middle;\n",
              "    }\n",
              "\n",
              "    .dataframe tbody tr th {\n",
              "        vertical-align: top;\n",
              "    }\n",
              "\n",
              "    .dataframe thead th {\n",
              "        text-align: right;\n",
              "    }\n",
              "</style>\n",
              "<table border=\"1\" class=\"dataframe\">\n",
              "  <thead>\n",
              "    <tr style=\"text-align: right;\">\n",
              "      <th></th>\n",
              "      <th>Group</th>\n",
              "      <th>FT</th>\n",
              "      <th>twoP</th>\n",
              "      <th>STP</th>\n",
              "      <th>GamesPlayed</th>\n",
              "      <th>MinPer</th>\n",
              "      <th>MinPlayed</th>\n",
              "      <th>Top_teams</th>\n",
              "    </tr>\n",
              "  </thead>\n",
              "  <tbody>\n",
              "    <tr>\n",
              "      <th>0</th>\n",
              "      <td>0.0</td>\n",
              "      <td>0.0</td>\n",
              "      <td>0.0</td>\n",
              "      <td>0.0</td>\n",
              "      <td>0.0</td>\n",
              "      <td>0.0</td>\n",
              "      <td>0.0</td>\n",
              "      <td>0.0</td>\n",
              "    </tr>\n",
              "    <tr>\n",
              "      <th>1</th>\n",
              "      <td>0.0</td>\n",
              "      <td>1.0</td>\n",
              "      <td>1.0</td>\n",
              "      <td>1.0</td>\n",
              "      <td>1.0</td>\n",
              "      <td>1.0</td>\n",
              "      <td>1.0</td>\n",
              "      <td>1.0</td>\n",
              "    </tr>\n",
              "    <tr>\n",
              "      <th>2</th>\n",
              "      <td>0.0</td>\n",
              "      <td>0.0</td>\n",
              "      <td>0.0</td>\n",
              "      <td>0.0</td>\n",
              "      <td>0.0</td>\n",
              "      <td>0.0</td>\n",
              "      <td>0.0</td>\n",
              "      <td>0.0</td>\n",
              "    </tr>\n",
              "    <tr>\n",
              "      <th>3</th>\n",
              "      <td>0.0</td>\n",
              "      <td>0.0</td>\n",
              "      <td>0.0</td>\n",
              "      <td>0.0</td>\n",
              "      <td>0.0</td>\n",
              "      <td>0.0</td>\n",
              "      <td>0.0</td>\n",
              "      <td>0.0</td>\n",
              "    </tr>\n",
              "    <tr>\n",
              "      <th>4</th>\n",
              "      <td>0.0</td>\n",
              "      <td>0.0</td>\n",
              "      <td>0.0</td>\n",
              "      <td>0.0</td>\n",
              "      <td>0.0</td>\n",
              "      <td>0.0</td>\n",
              "      <td>0.0</td>\n",
              "      <td>0.0</td>\n",
              "    </tr>\n",
              "    <tr>\n",
              "      <th>...</th>\n",
              "      <td>...</td>\n",
              "      <td>...</td>\n",
              "      <td>...</td>\n",
              "      <td>...</td>\n",
              "      <td>...</td>\n",
              "      <td>...</td>\n",
              "      <td>...</td>\n",
              "      <td>...</td>\n",
              "    </tr>\n",
              "    <tr>\n",
              "      <th>1076</th>\n",
              "      <td>0.0</td>\n",
              "      <td>0.0</td>\n",
              "      <td>0.0</td>\n",
              "      <td>0.0</td>\n",
              "      <td>0.0</td>\n",
              "      <td>0.0</td>\n",
              "      <td>0.0</td>\n",
              "      <td>0.0</td>\n",
              "    </tr>\n",
              "    <tr>\n",
              "      <th>1077</th>\n",
              "      <td>0.0</td>\n",
              "      <td>0.0</td>\n",
              "      <td>0.0</td>\n",
              "      <td>0.0</td>\n",
              "      <td>0.0</td>\n",
              "      <td>0.0</td>\n",
              "      <td>0.0</td>\n",
              "      <td>0.0</td>\n",
              "    </tr>\n",
              "    <tr>\n",
              "      <th>1078</th>\n",
              "      <td>0.0</td>\n",
              "      <td>0.0</td>\n",
              "      <td>0.0</td>\n",
              "      <td>0.0</td>\n",
              "      <td>0.0</td>\n",
              "      <td>0.0</td>\n",
              "      <td>0.0</td>\n",
              "      <td>0.0</td>\n",
              "    </tr>\n",
              "    <tr>\n",
              "      <th>1079</th>\n",
              "      <td>1.0</td>\n",
              "      <td>0.0</td>\n",
              "      <td>1.0</td>\n",
              "      <td>1.0</td>\n",
              "      <td>1.0</td>\n",
              "      <td>0.0</td>\n",
              "      <td>0.0</td>\n",
              "      <td>1.0</td>\n",
              "    </tr>\n",
              "    <tr>\n",
              "      <th>1080</th>\n",
              "      <td>0.0</td>\n",
              "      <td>0.0</td>\n",
              "      <td>0.0</td>\n",
              "      <td>0.0</td>\n",
              "      <td>0.0</td>\n",
              "      <td>0.0</td>\n",
              "      <td>0.0</td>\n",
              "      <td>0.0</td>\n",
              "    </tr>\n",
              "  </tbody>\n",
              "</table>\n",
              "<p>1081 rows × 8 columns</p>\n",
              "</div>\n",
              "      <button class=\"colab-df-convert\" onclick=\"convertToInteractive('df-9e6f9a88-b1ae-4b51-9bd4-9d77db952be4')\"\n",
              "              title=\"Convert this dataframe to an interactive table.\"\n",
              "              style=\"display:none;\">\n",
              "        \n",
              "  <svg xmlns=\"http://www.w3.org/2000/svg\" height=\"24px\"viewBox=\"0 0 24 24\"\n",
              "       width=\"24px\">\n",
              "    <path d=\"M0 0h24v24H0V0z\" fill=\"none\"/>\n",
              "    <path d=\"M18.56 5.44l.94 2.06.94-2.06 2.06-.94-2.06-.94-.94-2.06-.94 2.06-2.06.94zm-11 1L8.5 8.5l.94-2.06 2.06-.94-2.06-.94L8.5 2.5l-.94 2.06-2.06.94zm10 10l.94 2.06.94-2.06 2.06-.94-2.06-.94-.94-2.06-.94 2.06-2.06.94z\"/><path d=\"M17.41 7.96l-1.37-1.37c-.4-.4-.92-.59-1.43-.59-.52 0-1.04.2-1.43.59L10.3 9.45l-7.72 7.72c-.78.78-.78 2.05 0 2.83L4 21.41c.39.39.9.59 1.41.59.51 0 1.02-.2 1.41-.59l7.78-7.78 2.81-2.81c.8-.78.8-2.07 0-2.86zM5.41 20L4 18.59l7.72-7.72 1.47 1.35L5.41 20z\"/>\n",
              "  </svg>\n",
              "      </button>\n",
              "      \n",
              "  <style>\n",
              "    .colab-df-container {\n",
              "      display:flex;\n",
              "      flex-wrap:wrap;\n",
              "      gap: 12px;\n",
              "    }\n",
              "\n",
              "    .colab-df-convert {\n",
              "      background-color: #E8F0FE;\n",
              "      border: none;\n",
              "      border-radius: 50%;\n",
              "      cursor: pointer;\n",
              "      display: none;\n",
              "      fill: #1967D2;\n",
              "      height: 32px;\n",
              "      padding: 0 0 0 0;\n",
              "      width: 32px;\n",
              "    }\n",
              "\n",
              "    .colab-df-convert:hover {\n",
              "      background-color: #E2EBFA;\n",
              "      box-shadow: 0px 1px 2px rgba(60, 64, 67, 0.3), 0px 1px 3px 1px rgba(60, 64, 67, 0.15);\n",
              "      fill: #174EA6;\n",
              "    }\n",
              "\n",
              "    [theme=dark] .colab-df-convert {\n",
              "      background-color: #3B4455;\n",
              "      fill: #D2E3FC;\n",
              "    }\n",
              "\n",
              "    [theme=dark] .colab-df-convert:hover {\n",
              "      background-color: #434B5C;\n",
              "      box-shadow: 0px 1px 3px 1px rgba(0, 0, 0, 0.15);\n",
              "      filter: drop-shadow(0px 1px 2px rgba(0, 0, 0, 0.3));\n",
              "      fill: #FFFFFF;\n",
              "    }\n",
              "  </style>\n",
              "\n",
              "      <script>\n",
              "        const buttonEl =\n",
              "          document.querySelector('#df-9e6f9a88-b1ae-4b51-9bd4-9d77db952be4 button.colab-df-convert');\n",
              "        buttonEl.style.display =\n",
              "          google.colab.kernel.accessAllowed ? 'block' : 'none';\n",
              "\n",
              "        async function convertToInteractive(key) {\n",
              "          const element = document.querySelector('#df-9e6f9a88-b1ae-4b51-9bd4-9d77db952be4');\n",
              "          const dataTable =\n",
              "            await google.colab.kernel.invokeFunction('convertToInteractive',\n",
              "                                                     [key], {});\n",
              "          if (!dataTable) return;\n",
              "\n",
              "          const docLinkHtml = 'Like what you see? Visit the ' +\n",
              "            '<a target=\"_blank\" href=https://colab.research.google.com/notebooks/data_table.ipynb>data table notebook</a>'\n",
              "            + ' to learn more about interactive tables.';\n",
              "          element.innerHTML = '';\n",
              "          dataTable['output_type'] = 'display_data';\n",
              "          await google.colab.output.renderOutput(dataTable, element);\n",
              "          const docLink = document.createElement('div');\n",
              "          docLink.innerHTML = docLinkHtml;\n",
              "          element.appendChild(docLink);\n",
              "        }\n",
              "      </script>\n",
              "    </div>\n",
              "  </div>\n",
              "  "
            ]
          },
          "metadata": {},
          "execution_count": 19
        }
      ]
    },
    {
      "cell_type": "code",
      "source": [
        "# Build model with 2009-2021 data\n",
        "model_df = df_all.loc[df_all['year'] < 2022]\n",
        "\n",
        "# 2022 data will be used as test data\n",
        "test_df = df_all.loc[df_all['year'] == 2022]"
      ],
      "metadata": {
        "id": "mVw3oiSa7iBY"
      },
      "id": "mVw3oiSa7iBY",
      "execution_count": 20,
      "outputs": []
    },
    {
      "cell_type": "code",
      "execution_count": 21,
      "id": "290bdb37-91f8-4004-b652-c9a51b99794d",
      "metadata": {
        "id": "290bdb37-91f8-4004-b652-c9a51b99794d"
      },
      "outputs": [],
      "source": [
        "# Set Feature and Target for model_df\n",
        "X = model_df[new_features].drop(columns = 'Group')\n",
        "y = model_df['Group']"
      ]
    },
    {
      "cell_type": "code",
      "execution_count": 22,
      "id": "32d8f00e-86c9-45a5-81c5-16c7f16d41cd",
      "metadata": {
        "colab": {
          "base_uri": "https://localhost:8080/"
        },
        "id": "32d8f00e-86c9-45a5-81c5-16c7f16d41cd",
        "outputId": "048d4433-1c9a-4327-faf8-6f1e44c869b9"
      },
      "outputs": [
        {
          "output_type": "execute_result",
          "data": {
            "text/plain": [
              "0.0    696\n",
              "1.0    291\n",
              "Name: Group, dtype: int64"
            ]
          },
          "metadata": {},
          "execution_count": 22
        }
      ],
      "source": [
        "# Review Grouped data size\n",
        "y.value_counts()"
      ]
    },
    {
      "cell_type": "code",
      "source": [
        "# Set Feature and Target for test_df\n",
        "X_2022 = test_df[new_features].drop(columns = 'Group')\n",
        "y_2022 = test_df['Group']\n",
        "y_2022.value_counts()"
      ],
      "metadata": {
        "colab": {
          "base_uri": "https://localhost:8080/"
        },
        "id": "ImOEaJUlB1Wb",
        "outputId": "72cfa635-2e2b-46b4-eb7c-567306721f9e"
      },
      "id": "ImOEaJUlB1Wb",
      "execution_count": 23,
      "outputs": [
        {
          "output_type": "execute_result",
          "data": {
            "text/plain": [
              "0.0    82\n",
              "1.0    12\n",
              "Name: Group, dtype: int64"
            ]
          },
          "metadata": {},
          "execution_count": 23
        }
      ]
    },
    {
      "cell_type": "markdown",
      "source": [
        "### The data is very imballanced and `Under Sampling` procedures are taken to revise the dataset to train ML models"
      ],
      "metadata": {
        "id": "TPUrPpQwiF5L"
      },
      "id": "TPUrPpQwiF5L"
    },
    {
      "cell_type": "markdown",
      "metadata": {
        "id": "y-neATQks9Ko"
      },
      "source": [
        "## Under sampling\n",
        "\n",
        "Referrence:\n",
        "\n",
        "`Undersampling Algoriths for Imbalanced Classification` by Jason Brownlee PhD \n",
        "\n",
        "Click [here](https://machinelearningmastery.com/undersampling-algorithms-for-imbalanced-classification/) for more information"
      ],
      "id": "y-neATQks9Ko"
    },
    {
      "cell_type": "code",
      "source": [
        "# Import imbalanced-learn\n",
        "import imblearn\n",
        "print(imblearn.__version__)"
      ],
      "metadata": {
        "colab": {
          "base_uri": "https://localhost:8080/"
        },
        "id": "oP2BpSJkwtxB",
        "outputId": "2ca69d47-fa08-4882-a37a-634b1d81b22f"
      },
      "id": "oP2BpSJkwtxB",
      "execution_count": null,
      "outputs": [
        {
          "output_type": "stream",
          "name": "stdout",
          "text": [
            "0.8.1\n"
          ]
        }
      ]
    },
    {
      "cell_type": "markdown",
      "source": [
        "###Methods that select examples to KEEP\n",
        "---\n",
        "####1. Near Miss Undersampling\n",
        "NearMiss-1: Majority class examples with minimum average distance to three closest minority class examples.\n",
        "\n",
        "NearMiss-2: Majority class examples with minimum average distance to three furthest minority class examples.\n",
        "\n",
        "NearMiss-3: Majority class examples with minimum distance to each minority class example."
      ],
      "metadata": {
        "id": "LcgLxeTsd1xi"
      },
      "id": "LcgLxeTsd1xi"
    },
    {
      "cell_type": "code",
      "execution_count": null,
      "metadata": {
        "colab": {
          "base_uri": "https://localhost:8080/"
        },
        "id": "UHuXTAWKs9Kp",
        "outputId": "e22333c5-2130-4183-c837-da1dd08bba20"
      },
      "outputs": [
        {
          "output_type": "stream",
          "name": "stdout",
          "text": [
            "Counter({0: 292, 1: 292})\n"
          ]
        }
      ],
      "source": [
        "# Undersample imbalanced dataset with NearMiss-1\n",
        "from collections import Counter\n",
        "from imblearn.under_sampling import NearMiss\n",
        "\n",
        "# define the undersampling method\n",
        "undersample = NearMiss(version=2, n_neighbors=3)\n",
        "# transform the dataset\n",
        "X, y = undersample.fit_resample(X, y)\n",
        "# summarize the new class distribution\n",
        "counter = Counter(y)\n",
        "print(counter)"
      ],
      "id": "UHuXTAWKs9Kp"
    },
    {
      "cell_type": "code",
      "source": [
        "y"
      ],
      "metadata": {
        "colab": {
          "base_uri": "https://localhost:8080/"
        },
        "id": "xNugZWeMg-UX",
        "outputId": "5bbad2d4-c4b1-4fd8-ca80-016ee74b003f"
      },
      "id": "xNugZWeMg-UX",
      "execution_count": null,
      "outputs": [
        {
          "output_type": "execute_result",
          "data": {
            "text/plain": [
              "0      0\n",
              "1      0\n",
              "2      0\n",
              "3      0\n",
              "4      0\n",
              "      ..\n",
              "579    1\n",
              "580    1\n",
              "581    1\n",
              "582    1\n",
              "583    1\n",
              "Name: Group, Length: 584, dtype: int64"
            ]
          },
          "metadata": {},
          "execution_count": 12
        }
      ]
    },
    {
      "cell_type": "markdown",
      "source": [
        "### Performace repport:\n",
        "*   NM1 best performing model: SVC .82 accuracy, class 1 F1 score .81\n",
        "*   NM2 best performing model: AdaBoost .99 accuracy, class 1 F1 score .99\n",
        "*   NM3 best performing model: SVC .79 accuracy, class 1 F1 score .80"
      ],
      "metadata": {
        "id": "8HBdCuY1ex0a"
      },
      "id": "8HBdCuY1ex0a"
    },
    {
      "cell_type": "markdown",
      "source": [
        "---\n",
        "###Methods that select examples to KEEP\n",
        "####2. Condensed Nearest Neighbor Rule Underssampling\n",
        "Seeks a subset of a collection of samples that results in no loss in model performance, referred to as a minimal consistent set.\n",
        "\n",
        "It’s a relatively slow procedure, so small datasets and small k values are preferred."
      ],
      "metadata": {
        "id": "JENghnqifov9"
      },
      "id": "JENghnqifov9"
    },
    {
      "cell_type": "code",
      "source": [
        "# # Import method library\n",
        "# from imblearn.under_sampling import CondensedNearestNeighbour\n",
        "# from collections import Counter\n",
        "# # define the undersampling method\n",
        "# undersample = CondensedNearestNeighbour(n_neighbors=1)\n",
        "# # transform the dataset\n",
        "# X, y = undersample.fit_resample(X, y)\n",
        "# # summarize the new class distribution\n",
        "# counter = Counter(y)\n",
        "# print(counter)"
      ],
      "metadata": {
        "id": "e4FV6BHsf4Xb"
      },
      "id": "e4FV6BHsf4Xb",
      "execution_count": null,
      "outputs": []
    },
    {
      "cell_type": "markdown",
      "source": [
        "### Performace repport:\n",
        "*   CNN best performing model: DNN with .86 accuracy, class 1 F1 score .47"
      ],
      "metadata": {
        "id": "iTQrRHT9kHo0"
      },
      "id": "iTQrRHT9kHo0"
    },
    {
      "cell_type": "markdown",
      "source": [
        "---\n",
        "###Methods that select examples to DELETE\n",
        "####Tomek Links for Undersampling\n",
        "A criticism of the Condensed Nearest Neighbor Rule is that examples are selected randomly, especially initially.\n",
        "\n",
        "Tomek Links finds pairs of examples, one from each class; they together have the smallest Euclidean distance to each other in feature space. These cross-class pairs are now generally referred to as “Tomek Links” and are valuable as they define the class boundary."
      ],
      "metadata": {
        "id": "lHlml1azkCOU"
      },
      "id": "lHlml1azkCOU"
    },
    {
      "cell_type": "code",
      "source": [
        "# # Import method library\n",
        "# from imblearn.under_sampling import TomekLinks\n",
        "# from collections import Counter\n",
        "# # define the undersampling method\n",
        "# undersample = TomekLinks()\n",
        "# # transform the dataset\n",
        "# X, y = undersample.fit_resample(X, y)\n",
        "# # summarize the new class distribution\n",
        "# counter = Counter(y)\n",
        "# print(counter)"
      ],
      "metadata": {
        "id": "yk3sgD6mmFlG"
      },
      "id": "yk3sgD6mmFlG",
      "execution_count": null,
      "outputs": []
    },
    {
      "cell_type": "markdown",
      "source": [
        "### Performace repport:\n",
        "*   Tomek Links best performing model: DNN with 1.0 accuracy and class 1 F1 score .23 "
      ],
      "metadata": {
        "id": "dR86hAhwnBYl"
      },
      "id": "dR86hAhwnBYl"
    },
    {
      "cell_type": "markdown",
      "source": [
        "---\n",
        "###Combinations of KEEP and DELETE methods\n",
        "####1. One-Sided Selection for Undersampling\n",
        "One-Sided Selection, or OSS for short, is an undersampling technique that combines Tomek Links and the Condensed Nearest Neighbor (CNN) Rule."
      ],
      "metadata": {
        "id": "MmOdelZbpXql"
      },
      "id": "MmOdelZbpXql"
    },
    {
      "cell_type": "code",
      "source": [
        "# # Import method library\n",
        "# from imblearn.under_sampling import OneSidedSelection\n",
        "# from collections import Counter\n",
        "# # define the undersampling method\n",
        "# undersample = OneSidedSelection(n_neighbors=1, n_seeds_S=200)\n",
        "# # transform the dataset\n",
        "# X, y = undersample.fit_resample(X, y)\n",
        "# # summarize the new class distribution\n",
        "# counter = Counter(y)\n",
        "# print(counter)"
      ],
      "metadata": {
        "id": "DHkB_DMnpXql"
      },
      "execution_count": null,
      "outputs": [],
      "id": "DHkB_DMnpXql"
    },
    {
      "cell_type": "markdown",
      "source": [
        "### Performace repport:\n",
        "*   OSS best performing model: AdaBoost with .98 accuracy and class 1 F1 score .25 "
      ],
      "metadata": {
        "id": "Ce9aMEACpXql"
      },
      "id": "Ce9aMEACpXql"
    },
    {
      "cell_type": "markdown",
      "source": [
        "---\n",
        "###Combinations of KEEP and DELETE methods\n",
        "####2. Neighborhood Cleaning Rule for Undersampling\n",
        "The Neighborhood Cleaning Rule, or NCR for short, is an undersampling technique that combines both the Condensed Nearest Neighbor (CNN) Rule to remove redundant examples and the Edited Nearest Neighbors (ENN) Rule to remove noisy or ambiguous examples."
      ],
      "metadata": {
        "id": "o04uJDNEqG3B"
      },
      "id": "o04uJDNEqG3B"
    },
    {
      "cell_type": "code",
      "source": [
        "# # Import method library\n",
        "# from imblearn.under_sampling import NeighbourhoodCleaningRule\n",
        "# from collections import Counter\n",
        "# # define the undersampling method\n",
        "# undersample = NeighbourhoodCleaningRule(n_neighbors=3, threshold_cleaning=0.5)\n",
        "# # transform the dataset\n",
        "# X, y = undersample.fit_resample(X, y)\n",
        "# # summarize the new class distribution\n",
        "# counter = Counter(y)\n",
        "# print(counter)"
      ],
      "metadata": {
        "id": "CvSXa_42qG3K"
      },
      "execution_count": null,
      "outputs": [],
      "id": "CvSXa_42qG3K"
    },
    {
      "cell_type": "markdown",
      "source": [
        "### Performace repport:\n",
        "*   NCR best performing model: AdaBoost with 1.0 accuracy and class 1 F1 score .16"
      ],
      "metadata": {
        "id": "ZVZUx_t9qG3K"
      },
      "id": "ZVZUx_t9qG3K"
    },
    {
      "cell_type": "markdown",
      "source": [
        "---\n",
        "##The best undersampling method for FanaticFi Top15 data is: **NearMiss Version 2**\n",
        "##The best ML model under that undersampling method is: **AdaBoost** `accuracy` .99 and class 1 `F1` score .99"
      ],
      "metadata": {
        "id": "GsIDtXwWqioB"
      },
      "id": "GsIDtXwWqioB"
    },
    {
      "cell_type": "markdown",
      "source": [
        "---\n",
        "##Split and Scale data"
      ],
      "metadata": {
        "id": "bfVUSwLHnV6w"
      },
      "id": "bfVUSwLHnV6w"
    },
    {
      "cell_type": "code",
      "execution_count": 24,
      "id": "1dfa9601-e2a8-4a42-8e76-7f9db33aaae6",
      "metadata": {
        "id": "1dfa9601-e2a8-4a42-8e76-7f9db33aaae6"
      },
      "outputs": [],
      "source": [
        "from sklearn.model_selection import train_test_split\n",
        "from sklearn.preprocessing import StandardScaler\n",
        "# Split dataset into train, test datasets\n",
        "X_train, X_test, y_train, y_test = train_test_split(X,y,random_state = 42, shuffle = True)"
      ]
    },
    {
      "cell_type": "code",
      "execution_count": null,
      "id": "fceb7a30-3bbb-45ce-8848-18fa75800428",
      "metadata": {
        "id": "fceb7a30-3bbb-45ce-8848-18fa75800428"
      },
      "outputs": [],
      "source": [
        "# Initiate the scaler\n",
        "X_scaler = StandardScaler()\n",
        "\n",
        "# Fit the scaler to the features dataset\n",
        "X_scaler = X_scaler.fit(X)"
      ]
    },
    {
      "cell_type": "code",
      "execution_count": null,
      "id": "11cf9937-03d2-403c-ac43-ee64335a4193",
      "metadata": {
        "id": "11cf9937-03d2-403c-ac43-ee64335a4193"
      },
      "outputs": [],
      "source": [
        "# Scale train, test datasets\n",
        "X_train_scaled = X_scaler.transform(X_train)\n",
        "X_test_scaled = X_scaler.transform(X_test)"
      ]
    },
    {
      "cell_type": "code",
      "source": [
        "# Scale 2022 data\n",
        "X_2022_scaled = X_scaler.transform(X_2022)"
      ],
      "metadata": {
        "id": "-DdwWA9pQ4ph"
      },
      "id": "-DdwWA9pQ4ph",
      "execution_count": null,
      "outputs": []
    },
    {
      "cell_type": "code",
      "source": [
        "y_train"
      ],
      "metadata": {
        "colab": {
          "base_uri": "https://localhost:8080/"
        },
        "id": "4AWlFWA5W4nj",
        "outputId": "f1d39def-6cf7-47ff-bacf-f9b179557c5f"
      },
      "id": "4AWlFWA5W4nj",
      "execution_count": 25,
      "outputs": [
        {
          "output_type": "execute_result",
          "data": {
            "text/plain": [
              "569    0.0\n",
              "104    0.0\n",
              "656    0.0\n",
              "223    1.0\n",
              "541    0.0\n",
              "      ... \n",
              "114    0.0\n",
              "295    1.0\n",
              "942    0.0\n",
              "478    0.0\n",
              "109    0.0\n",
              "Name: Group, Length: 740, dtype: float64"
            ]
          },
          "metadata": {},
          "execution_count": 25
        }
      ]
    },
    {
      "cell_type": "markdown",
      "metadata": {
        "id": "pa1JPh5pARud"
      },
      "source": [
        "---\n",
        "## Using LazyPredict\n"
      ],
      "id": "pa1JPh5pARud"
    },
    {
      "cell_type": "code",
      "source": [
        "# Install LazyPRedict\n",
        "!pip install lazypredict"
      ],
      "metadata": {
        "colab": {
          "base_uri": "https://localhost:8080/"
        },
        "id": "WBZFMAFsARul",
        "outputId": "174d9bfd-cfd7-4e90-ea65-3861939dede1"
      },
      "execution_count": null,
      "outputs": [
        {
          "output_type": "stream",
          "name": "stdout",
          "text": [
            "Looking in indexes: https://pypi.org/simple, https://us-python.pkg.dev/colab-wheels/public/simple/\n",
            "Requirement already satisfied: lazypredict in /usr/local/lib/python3.7/dist-packages (0.2.9)\n",
            "Requirement already satisfied: PyYAML==5.3.1 in /usr/local/lib/python3.7/dist-packages (from lazypredict) (5.3.1)\n",
            "Requirement already satisfied: pandas==1.0.5 in /usr/local/lib/python3.7/dist-packages (from lazypredict) (1.0.5)\n",
            "Requirement already satisfied: pytest==5.4.3 in /usr/local/lib/python3.7/dist-packages (from lazypredict) (5.4.3)\n",
            "Requirement already satisfied: lightgbm==2.3.1 in /usr/local/lib/python3.7/dist-packages (from lazypredict) (2.3.1)\n",
            "Requirement already satisfied: scipy==1.5.4 in /usr/local/lib/python3.7/dist-packages (from lazypredict) (1.5.4)\n",
            "Requirement already satisfied: xgboost==1.1.1 in /usr/local/lib/python3.7/dist-packages (from lazypredict) (1.1.1)\n",
            "Requirement already satisfied: click==7.1.2 in /usr/local/lib/python3.7/dist-packages (from lazypredict) (7.1.2)\n",
            "Requirement already satisfied: scikit-learn==0.23.1 in /usr/local/lib/python3.7/dist-packages (from lazypredict) (0.23.1)\n",
            "Requirement already satisfied: numpy==1.19.1 in /usr/local/lib/python3.7/dist-packages (from lazypredict) (1.19.1)\n",
            "Requirement already satisfied: joblib==1.0.0 in /usr/local/lib/python3.7/dist-packages (from lazypredict) (1.0.0)\n",
            "Requirement already satisfied: six==1.15.0 in /usr/local/lib/python3.7/dist-packages (from lazypredict) (1.15.0)\n",
            "Requirement already satisfied: tqdm==4.56.0 in /usr/local/lib/python3.7/dist-packages (from lazypredict) (4.56.0)\n",
            "Requirement already satisfied: python-dateutil>=2.6.1 in /usr/local/lib/python3.7/dist-packages (from pandas==1.0.5->lazypredict) (2.8.2)\n",
            "Requirement already satisfied: pytz>=2017.2 in /usr/local/lib/python3.7/dist-packages (from pandas==1.0.5->lazypredict) (2022.1)\n",
            "Requirement already satisfied: packaging in /usr/local/lib/python3.7/dist-packages (from pytest==5.4.3->lazypredict) (21.3)\n",
            "Requirement already satisfied: attrs>=17.4.0 in /usr/local/lib/python3.7/dist-packages (from pytest==5.4.3->lazypredict) (21.4.0)\n",
            "Requirement already satisfied: pluggy<1.0,>=0.12 in /usr/local/lib/python3.7/dist-packages (from pytest==5.4.3->lazypredict) (0.13.1)\n",
            "Requirement already satisfied: importlib-metadata>=0.12 in /usr/local/lib/python3.7/dist-packages (from pytest==5.4.3->lazypredict) (4.12.0)\n",
            "Requirement already satisfied: py>=1.5.0 in /usr/local/lib/python3.7/dist-packages (from pytest==5.4.3->lazypredict) (1.11.0)\n",
            "Requirement already satisfied: wcwidth in /usr/local/lib/python3.7/dist-packages (from pytest==5.4.3->lazypredict) (0.2.5)\n",
            "Requirement already satisfied: more-itertools>=4.0.0 in /usr/local/lib/python3.7/dist-packages (from pytest==5.4.3->lazypredict) (8.13.0)\n",
            "Requirement already satisfied: threadpoolctl>=2.0.0 in /usr/local/lib/python3.7/dist-packages (from scikit-learn==0.23.1->lazypredict) (3.1.0)\n",
            "Requirement already satisfied: zipp>=0.5 in /usr/local/lib/python3.7/dist-packages (from importlib-metadata>=0.12->pytest==5.4.3->lazypredict) (3.8.1)\n",
            "Requirement already satisfied: typing-extensions>=3.6.4 in /usr/local/lib/python3.7/dist-packages (from importlib-metadata>=0.12->pytest==5.4.3->lazypredict) (4.1.1)\n",
            "Requirement already satisfied: pyparsing!=3.0.5,>=2.0.2 in /usr/local/lib/python3.7/dist-packages (from packaging->pytest==5.4.3->lazypredict) (3.0.9)\n"
          ]
        }
      ],
      "id": "WBZFMAFsARul"
    },
    {
      "cell_type": "markdown",
      "source": [
        "# After installation, restart Runtime and proceed to the next cell"
      ],
      "metadata": {
        "id": "OhELVu8eARul"
      },
      "id": "OhELVu8eARul"
    },
    {
      "cell_type": "code",
      "source": [
        "import lazypredict\n",
        "from lazypredict.Supervised import LazyClassifier"
      ],
      "metadata": {
        "colab": {
          "base_uri": "https://localhost:8080/"
        },
        "outputId": "e2327ed4-bd9e-4649-8ba2-6bfa2f54efe4",
        "id": "OwHK3UkuARul"
      },
      "execution_count": null,
      "outputs": [
        {
          "output_type": "stream",
          "name": "stderr",
          "text": [
            "/usr/local/lib/python3.7/dist-packages/sklearn/utils/deprecation.py:143: FutureWarning: The sklearn.utils.testing module is  deprecated in version 0.22 and will be removed in version 0.24. The corresponding classes / functions should instead be imported from sklearn.utils. Anything that cannot be imported from sklearn.utils is now part of the private API.\n",
            "  warnings.warn(message, FutureWarning)\n"
          ]
        }
      ],
      "id": "OwHK3UkuARul"
    },
    {
      "cell_type": "code",
      "source": [
        "# Train the new datasets\n",
        "lc = LazyClassifier(verbose=0,ignore_warnings=True, custom_metric=None, random_state = 42)\n",
        "lc_predictions = lc.fit(X_train_scaled, X_test_scaled, y_train, y_test)\n",
        "\n",
        "# Print the model\n",
        "print(lc_predictions)"
      ],
      "metadata": {
        "colab": {
          "base_uri": "https://localhost:8080/"
        },
        "outputId": "e20bbeb1-602f-4f63-a3b5-d98d2472a829",
        "id": "EcQQUt1JARul"
      },
      "execution_count": null,
      "outputs": [
        {
          "output_type": "stream",
          "name": "stderr",
          "text": [
            "100%|██████████| 29/29 [00:01<00:00, 14.57it/s]"
          ]
        },
        {
          "output_type": "stream",
          "name": "stdout",
          "text": [
            "(                               Accuracy  Balanced Accuracy  ROC AUC  F1 Score  \\\n",
            "Model                                                                           \n",
            "CalibratedClassifierCV             0.89               0.86     0.86      0.89   \n",
            "AdaBoostClassifier                 0.89               0.86     0.86      0.88   \n",
            "LogisticRegression                 0.89               0.85     0.85      0.89   \n",
            "SVC                                0.89               0.85     0.85      0.89   \n",
            "LinearSVC                          0.89               0.85     0.85      0.89   \n",
            "SGDClassifier                      0.90               0.85     0.85      0.90   \n",
            "LinearDiscriminantAnalysis         0.88               0.85     0.85      0.88   \n",
            "BaggingClassifier                  0.88               0.85     0.85      0.88   \n",
            "RidgeClassifierCV                  0.88               0.85     0.85      0.88   \n",
            "RidgeClassifier                    0.88               0.85     0.85      0.88   \n",
            "XGBClassifier                      0.89               0.84     0.84      0.88   \n",
            "RandomForestClassifier             0.87               0.84     0.84      0.87   \n",
            "LGBMClassifier                     0.88               0.84     0.84      0.88   \n",
            "BernoulliNB                        0.82               0.84     0.84      0.83   \n",
            "NearestCentroid                    0.83               0.84     0.84      0.83   \n",
            "LabelPropagation                   0.87               0.84     0.84      0.87   \n",
            "LabelSpreading                     0.87               0.84     0.84      0.87   \n",
            "KNeighborsClassifier               0.87               0.84     0.84      0.87   \n",
            "ExtraTreesClassifier               0.87               0.83     0.83      0.87   \n",
            "NuSVC                              0.87               0.83     0.83      0.87   \n",
            "GaussianNB                         0.78               0.82     0.82      0.79   \n",
            "PassiveAggressiveClassifier        0.86               0.80     0.80      0.85   \n",
            "DecisionTreeClassifier             0.83               0.80     0.80      0.83   \n",
            "Perceptron                         0.86               0.79     0.79      0.85   \n",
            "QuadraticDiscriminantAnalysis      0.71               0.78     0.78      0.72   \n",
            "ExtraTreeClassifier                0.79               0.74     0.74      0.78   \n",
            "DummyClassifier                    0.56               0.47     0.47      0.55   \n",
            "\n",
            "                               Time Taken  \n",
            "Model                                      \n",
            "CalibratedClassifierCV               0.11  \n",
            "AdaBoostClassifier                   0.16  \n",
            "LogisticRegression                   0.06  \n",
            "SVC                                  0.07  \n",
            "LinearSVC                            0.05  \n",
            "SGDClassifier                        0.05  \n",
            "LinearDiscriminantAnalysis           0.03  \n",
            "BaggingClassifier                    0.08  \n",
            "RidgeClassifierCV                    0.04  \n",
            "RidgeClassifier                      0.02  \n",
            "XGBClassifier                        0.23  \n",
            "RandomForestClassifier               0.31  \n",
            "LGBMClassifier                       0.18  \n",
            "BernoulliNB                          0.01  \n",
            "NearestCentroid                      0.02  \n",
            "LabelPropagation                     0.06  \n",
            "LabelSpreading                       0.07  \n",
            "KNeighborsClassifier                 0.03  \n",
            "ExtraTreesClassifier                 0.18  \n",
            "NuSVC                                0.06  \n",
            "GaussianNB                           0.02  \n",
            "PassiveAggressiveClassifier          0.03  \n",
            "DecisionTreeClassifier               0.02  \n",
            "Perceptron                           0.02  \n",
            "QuadraticDiscriminantAnalysis        0.02  \n",
            "ExtraTreeClassifier                  0.01  \n",
            "DummyClassifier                      0.01  ,                                Accuracy  Balanced Accuracy  ROC AUC  F1 Score  \\\n",
            "Model                                                                           \n",
            "CalibratedClassifierCV             0.89               0.86     0.86      0.89   \n",
            "AdaBoostClassifier                 0.89               0.86     0.86      0.88   \n",
            "LogisticRegression                 0.89               0.85     0.85      0.89   \n",
            "SVC                                0.89               0.85     0.85      0.89   \n",
            "LinearSVC                          0.89               0.85     0.85      0.89   \n",
            "SGDClassifier                      0.90               0.85     0.85      0.90   \n",
            "LinearDiscriminantAnalysis         0.88               0.85     0.85      0.88   \n",
            "BaggingClassifier                  0.88               0.85     0.85      0.88   \n",
            "RidgeClassifierCV                  0.88               0.85     0.85      0.88   \n",
            "RidgeClassifier                    0.88               0.85     0.85      0.88   \n",
            "XGBClassifier                      0.89               0.84     0.84      0.88   \n",
            "RandomForestClassifier             0.87               0.84     0.84      0.87   \n",
            "LGBMClassifier                     0.88               0.84     0.84      0.88   \n",
            "BernoulliNB                        0.82               0.84     0.84      0.83   \n",
            "NearestCentroid                    0.83               0.84     0.84      0.83   \n",
            "LabelPropagation                   0.87               0.84     0.84      0.87   \n",
            "LabelSpreading                     0.87               0.84     0.84      0.87   \n",
            "KNeighborsClassifier               0.87               0.84     0.84      0.87   \n",
            "ExtraTreesClassifier               0.87               0.83     0.83      0.87   \n",
            "NuSVC                              0.87               0.83     0.83      0.87   \n",
            "GaussianNB                         0.78               0.82     0.82      0.79   \n",
            "PassiveAggressiveClassifier        0.86               0.80     0.80      0.85   \n",
            "DecisionTreeClassifier             0.83               0.80     0.80      0.83   \n",
            "Perceptron                         0.86               0.79     0.79      0.85   \n",
            "QuadraticDiscriminantAnalysis      0.71               0.78     0.78      0.72   \n",
            "ExtraTreeClassifier                0.79               0.74     0.74      0.78   \n",
            "DummyClassifier                    0.56               0.47     0.47      0.55   \n",
            "\n",
            "                               Time Taken  \n",
            "Model                                      \n",
            "CalibratedClassifierCV               0.11  \n",
            "AdaBoostClassifier                   0.16  \n",
            "LogisticRegression                   0.06  \n",
            "SVC                                  0.07  \n",
            "LinearSVC                            0.05  \n",
            "SGDClassifier                        0.05  \n",
            "LinearDiscriminantAnalysis           0.03  \n",
            "BaggingClassifier                    0.08  \n",
            "RidgeClassifierCV                    0.04  \n",
            "RidgeClassifier                      0.02  \n",
            "XGBClassifier                        0.23  \n",
            "RandomForestClassifier               0.31  \n",
            "LGBMClassifier                       0.18  \n",
            "BernoulliNB                          0.01  \n",
            "NearestCentroid                      0.02  \n",
            "LabelPropagation                     0.06  \n",
            "LabelSpreading                       0.07  \n",
            "KNeighborsClassifier                 0.03  \n",
            "ExtraTreesClassifier                 0.18  \n",
            "NuSVC                                0.06  \n",
            "GaussianNB                           0.02  \n",
            "PassiveAggressiveClassifier          0.03  \n",
            "DecisionTreeClassifier               0.02  \n",
            "Perceptron                           0.02  \n",
            "QuadraticDiscriminantAnalysis        0.02  \n",
            "ExtraTreeClassifier                  0.01  \n",
            "DummyClassifier                      0.01  )\n"
          ]
        },
        {
          "output_type": "stream",
          "name": "stderr",
          "text": [
            "\n"
          ]
        }
      ],
      "id": "EcQQUt1JARul"
    },
    {
      "cell_type": "markdown",
      "source": [
        "---\n",
        "##The best ML model under **NearMiss Version 2** undersampling method is: **SVC** `accuracy` .98 and class 1 `F1` score .98"
      ],
      "metadata": {
        "id": "cIjvZAdoARum"
      },
      "id": "cIjvZAdoARum"
    },
    {
      "cell_type": "code",
      "source": [
        "# Import machine learning dependencies\n",
        "import tensorflow as tf\n",
        "from sklearn import svm\n",
        "import matplotlib.pyplot as plt\n",
        "from tensorflow.keras.layers import Dense\n",
        "from tensorflow.keras.models import Sequential\n",
        "from sklearn.metrics import classification_report"
      ],
      "metadata": {
        "id": "vBhQkFdDAiP2"
      },
      "id": "vBhQkFdDAiP2",
      "execution_count": 26,
      "outputs": []
    },
    {
      "cell_type": "markdown",
      "id": "7ac5e6e0-7e69-472c-99e1-0c72efe4bdae",
      "metadata": {
        "id": "7ac5e6e0-7e69-472c-99e1-0c72efe4bdae"
      },
      "source": [
        "## Machine Learning with preprocessed data\n",
        "\n",
        "\n",
        "*   Support Vector Classifier (SVC)\n",
        "*   Deceision Tree\n",
        "*   Logistic Regression\n",
        "*   AdaBoost\n",
        "*   Deep Neural Network\n",
        "\n",
        "---\n",
        "## Use the SVC classifier model"
      ]
    },
    {
      "cell_type": "code",
      "execution_count": 44,
      "id": "74dae2d5-f930-4def-9173-8829c2343955",
      "metadata": {
        "colab": {
          "base_uri": "https://localhost:8080/"
        },
        "id": "74dae2d5-f930-4def-9173-8829c2343955",
        "outputId": "e36d7dae-58f1-49c7-af5b-93ebcbf1d3f1"
      },
      "outputs": [
        {
          "output_type": "stream",
          "name": "stdout",
          "text": [
            "              precision    recall  f1-score   support\n",
            "\n",
            "         0.0       0.83      0.96      0.89       169\n",
            "         1.0       0.88      0.58      0.70        78\n",
            "\n",
            "    accuracy                           0.84       247\n",
            "   macro avg       0.86      0.77      0.80       247\n",
            "weighted avg       0.85      0.84      0.83       247\n",
            "\n"
          ]
        }
      ],
      "source": [
        "# From SVM, instantiate SVC classifier model instance\n",
        "svm_model = svm.SVC(C = 0.02)\n",
        " \n",
        "# Fit the model to the data using the training data\n",
        "svm_model = svm_model.fit(X_train, y_train)\n",
        " \n",
        "# Use the testing data to make the model predictions\n",
        "svm_pred = svm_model.predict(X_test)\n",
        "\n",
        "# Use a classification report to evaluate the model using the predictions and testing data\n",
        "svm_testing_report = classification_report(y_test, svm_pred)\n",
        "\n",
        "# Print the classification report\n",
        "print(svm_testing_report)"
      ]
    },
    {
      "cell_type": "code",
      "source": [
        "svm_pred"
      ],
      "metadata": {
        "colab": {
          "base_uri": "https://localhost:8080/"
        },
        "id": "3FnuzgH8XwRz",
        "outputId": "ca47edfe-5772-4d28-9bd1-26db40139b92"
      },
      "id": "3FnuzgH8XwRz",
      "execution_count": 28,
      "outputs": [
        {
          "output_type": "execute_result",
          "data": {
            "text/plain": [
              "array([0., 0., 0., 1., 0., 1., 0., 0., 0., 0., 0., 0., 0., 0., 0., 0., 0.,\n",
              "       0., 0., 0., 0., 0., 0., 0., 0., 0., 0., 0., 0., 0., 1., 0., 0., 0.,\n",
              "       0., 0., 1., 0., 0., 0., 0., 0., 0., 0., 0., 0., 0., 0., 1., 0., 0.,\n",
              "       0., 0., 0., 1., 0., 0., 0., 0., 0., 0., 0., 0., 0., 0., 0., 1., 0.,\n",
              "       1., 0., 1., 0., 0., 0., 0., 0., 0., 0., 0., 0., 0., 0., 0., 0., 0.,\n",
              "       0., 0., 0., 0., 0., 0., 0., 0., 0., 0., 0., 0., 0., 0., 0., 0., 0.,\n",
              "       0., 0., 0., 0., 0., 0., 0., 0., 0., 0., 0., 0., 0., 0., 0., 0., 1.,\n",
              "       1., 0., 0., 0., 0., 0., 0., 1., 0., 0., 0., 0., 0., 0., 0., 0., 0.,\n",
              "       0., 0., 0., 0., 0., 0., 0., 0., 0., 0., 0., 0., 1., 0., 0., 0., 0.,\n",
              "       0., 0., 1., 0., 0., 0., 0., 0., 0., 0., 0., 0., 0., 0., 0., 0., 0.,\n",
              "       0., 0., 0., 0., 0., 0., 1., 0., 0., 0., 0., 0., 0., 0., 0., 0., 0.,\n",
              "       0., 0., 0., 0., 0., 0., 0., 0., 0., 0., 0., 1., 0., 0., 0., 0., 0.,\n",
              "       0., 0., 0., 0., 0., 0., 0., 0., 0., 0., 0., 0., 0., 0., 0., 0., 0.,\n",
              "       0., 0., 0., 0., 0., 0., 0., 0., 0., 0., 0., 0., 0., 0., 0., 0., 0.,\n",
              "       0., 0., 0., 0., 0., 0., 0., 0., 0.])"
            ]
          },
          "metadata": {},
          "execution_count": 28
        }
      ]
    },
    {
      "cell_type": "code",
      "source": [
        "X_2022\n",
        "\n",
        "# Scale 2022 data\n",
        "# X_2022_scaled = X_scaler.transform(X_2022)\n",
        "# X_2022_scaled[0]"
      ],
      "metadata": {
        "colab": {
          "base_uri": "https://localhost:8080/",
          "height": 424
        },
        "id": "uBlwe-XngFRT",
        "outputId": "6507a517-bba6-46da-837a-b1b88ab5bae4"
      },
      "id": "uBlwe-XngFRT",
      "execution_count": 29,
      "outputs": [
        {
          "output_type": "execute_result",
          "data": {
            "text/plain": [
              "       FT  twoP  STP  GamesPlayed  MinPer  MinPlayed  Top_teams\n",
              "1     1.0   1.0  1.0          1.0     1.0        1.0        1.0\n",
              "7     0.0   0.0  0.0          0.0     0.0        0.0        0.0\n",
              "15    1.0   1.0  1.0          1.0     1.0        1.0        1.0\n",
              "21    0.0   0.0  1.0          0.0     1.0        1.0        1.0\n",
              "35    0.0   0.0  0.0          0.0     0.0        0.0        0.0\n",
              "...   ...   ...  ...          ...     ...        ...        ...\n",
              "1015  1.0   1.0  1.0          1.0     1.0        1.0        1.0\n",
              "1032  0.0   0.0  0.0          0.0     1.0        1.0        0.0\n",
              "1047  0.0   0.0  0.0          1.0     1.0        1.0        1.0\n",
              "1061  0.0   0.0  0.0          0.0     0.0        0.0        0.0\n",
              "1080  0.0   0.0  0.0          0.0     0.0        0.0        0.0\n",
              "\n",
              "[94 rows x 7 columns]"
            ],
            "text/html": [
              "\n",
              "  <div id=\"df-281edb28-daf6-4ddb-9ae9-a3585558e505\">\n",
              "    <div class=\"colab-df-container\">\n",
              "      <div>\n",
              "<style scoped>\n",
              "    .dataframe tbody tr th:only-of-type {\n",
              "        vertical-align: middle;\n",
              "    }\n",
              "\n",
              "    .dataframe tbody tr th {\n",
              "        vertical-align: top;\n",
              "    }\n",
              "\n",
              "    .dataframe thead th {\n",
              "        text-align: right;\n",
              "    }\n",
              "</style>\n",
              "<table border=\"1\" class=\"dataframe\">\n",
              "  <thead>\n",
              "    <tr style=\"text-align: right;\">\n",
              "      <th></th>\n",
              "      <th>FT</th>\n",
              "      <th>twoP</th>\n",
              "      <th>STP</th>\n",
              "      <th>GamesPlayed</th>\n",
              "      <th>MinPer</th>\n",
              "      <th>MinPlayed</th>\n",
              "      <th>Top_teams</th>\n",
              "    </tr>\n",
              "  </thead>\n",
              "  <tbody>\n",
              "    <tr>\n",
              "      <th>1</th>\n",
              "      <td>1.0</td>\n",
              "      <td>1.0</td>\n",
              "      <td>1.0</td>\n",
              "      <td>1.0</td>\n",
              "      <td>1.0</td>\n",
              "      <td>1.0</td>\n",
              "      <td>1.0</td>\n",
              "    </tr>\n",
              "    <tr>\n",
              "      <th>7</th>\n",
              "      <td>0.0</td>\n",
              "      <td>0.0</td>\n",
              "      <td>0.0</td>\n",
              "      <td>0.0</td>\n",
              "      <td>0.0</td>\n",
              "      <td>0.0</td>\n",
              "      <td>0.0</td>\n",
              "    </tr>\n",
              "    <tr>\n",
              "      <th>15</th>\n",
              "      <td>1.0</td>\n",
              "      <td>1.0</td>\n",
              "      <td>1.0</td>\n",
              "      <td>1.0</td>\n",
              "      <td>1.0</td>\n",
              "      <td>1.0</td>\n",
              "      <td>1.0</td>\n",
              "    </tr>\n",
              "    <tr>\n",
              "      <th>21</th>\n",
              "      <td>0.0</td>\n",
              "      <td>0.0</td>\n",
              "      <td>1.0</td>\n",
              "      <td>0.0</td>\n",
              "      <td>1.0</td>\n",
              "      <td>1.0</td>\n",
              "      <td>1.0</td>\n",
              "    </tr>\n",
              "    <tr>\n",
              "      <th>35</th>\n",
              "      <td>0.0</td>\n",
              "      <td>0.0</td>\n",
              "      <td>0.0</td>\n",
              "      <td>0.0</td>\n",
              "      <td>0.0</td>\n",
              "      <td>0.0</td>\n",
              "      <td>0.0</td>\n",
              "    </tr>\n",
              "    <tr>\n",
              "      <th>...</th>\n",
              "      <td>...</td>\n",
              "      <td>...</td>\n",
              "      <td>...</td>\n",
              "      <td>...</td>\n",
              "      <td>...</td>\n",
              "      <td>...</td>\n",
              "      <td>...</td>\n",
              "    </tr>\n",
              "    <tr>\n",
              "      <th>1015</th>\n",
              "      <td>1.0</td>\n",
              "      <td>1.0</td>\n",
              "      <td>1.0</td>\n",
              "      <td>1.0</td>\n",
              "      <td>1.0</td>\n",
              "      <td>1.0</td>\n",
              "      <td>1.0</td>\n",
              "    </tr>\n",
              "    <tr>\n",
              "      <th>1032</th>\n",
              "      <td>0.0</td>\n",
              "      <td>0.0</td>\n",
              "      <td>0.0</td>\n",
              "      <td>0.0</td>\n",
              "      <td>1.0</td>\n",
              "      <td>1.0</td>\n",
              "      <td>0.0</td>\n",
              "    </tr>\n",
              "    <tr>\n",
              "      <th>1047</th>\n",
              "      <td>0.0</td>\n",
              "      <td>0.0</td>\n",
              "      <td>0.0</td>\n",
              "      <td>1.0</td>\n",
              "      <td>1.0</td>\n",
              "      <td>1.0</td>\n",
              "      <td>1.0</td>\n",
              "    </tr>\n",
              "    <tr>\n",
              "      <th>1061</th>\n",
              "      <td>0.0</td>\n",
              "      <td>0.0</td>\n",
              "      <td>0.0</td>\n",
              "      <td>0.0</td>\n",
              "      <td>0.0</td>\n",
              "      <td>0.0</td>\n",
              "      <td>0.0</td>\n",
              "    </tr>\n",
              "    <tr>\n",
              "      <th>1080</th>\n",
              "      <td>0.0</td>\n",
              "      <td>0.0</td>\n",
              "      <td>0.0</td>\n",
              "      <td>0.0</td>\n",
              "      <td>0.0</td>\n",
              "      <td>0.0</td>\n",
              "      <td>0.0</td>\n",
              "    </tr>\n",
              "  </tbody>\n",
              "</table>\n",
              "<p>94 rows × 7 columns</p>\n",
              "</div>\n",
              "      <button class=\"colab-df-convert\" onclick=\"convertToInteractive('df-281edb28-daf6-4ddb-9ae9-a3585558e505')\"\n",
              "              title=\"Convert this dataframe to an interactive table.\"\n",
              "              style=\"display:none;\">\n",
              "        \n",
              "  <svg xmlns=\"http://www.w3.org/2000/svg\" height=\"24px\"viewBox=\"0 0 24 24\"\n",
              "       width=\"24px\">\n",
              "    <path d=\"M0 0h24v24H0V0z\" fill=\"none\"/>\n",
              "    <path d=\"M18.56 5.44l.94 2.06.94-2.06 2.06-.94-2.06-.94-.94-2.06-.94 2.06-2.06.94zm-11 1L8.5 8.5l.94-2.06 2.06-.94-2.06-.94L8.5 2.5l-.94 2.06-2.06.94zm10 10l.94 2.06.94-2.06 2.06-.94-2.06-.94-.94-2.06-.94 2.06-2.06.94z\"/><path d=\"M17.41 7.96l-1.37-1.37c-.4-.4-.92-.59-1.43-.59-.52 0-1.04.2-1.43.59L10.3 9.45l-7.72 7.72c-.78.78-.78 2.05 0 2.83L4 21.41c.39.39.9.59 1.41.59.51 0 1.02-.2 1.41-.59l7.78-7.78 2.81-2.81c.8-.78.8-2.07 0-2.86zM5.41 20L4 18.59l7.72-7.72 1.47 1.35L5.41 20z\"/>\n",
              "  </svg>\n",
              "      </button>\n",
              "      \n",
              "  <style>\n",
              "    .colab-df-container {\n",
              "      display:flex;\n",
              "      flex-wrap:wrap;\n",
              "      gap: 12px;\n",
              "    }\n",
              "\n",
              "    .colab-df-convert {\n",
              "      background-color: #E8F0FE;\n",
              "      border: none;\n",
              "      border-radius: 50%;\n",
              "      cursor: pointer;\n",
              "      display: none;\n",
              "      fill: #1967D2;\n",
              "      height: 32px;\n",
              "      padding: 0 0 0 0;\n",
              "      width: 32px;\n",
              "    }\n",
              "\n",
              "    .colab-df-convert:hover {\n",
              "      background-color: #E2EBFA;\n",
              "      box-shadow: 0px 1px 2px rgba(60, 64, 67, 0.3), 0px 1px 3px 1px rgba(60, 64, 67, 0.15);\n",
              "      fill: #174EA6;\n",
              "    }\n",
              "\n",
              "    [theme=dark] .colab-df-convert {\n",
              "      background-color: #3B4455;\n",
              "      fill: #D2E3FC;\n",
              "    }\n",
              "\n",
              "    [theme=dark] .colab-df-convert:hover {\n",
              "      background-color: #434B5C;\n",
              "      box-shadow: 0px 1px 3px 1px rgba(0, 0, 0, 0.15);\n",
              "      filter: drop-shadow(0px 1px 2px rgba(0, 0, 0, 0.3));\n",
              "      fill: #FFFFFF;\n",
              "    }\n",
              "  </style>\n",
              "\n",
              "      <script>\n",
              "        const buttonEl =\n",
              "          document.querySelector('#df-281edb28-daf6-4ddb-9ae9-a3585558e505 button.colab-df-convert');\n",
              "        buttonEl.style.display =\n",
              "          google.colab.kernel.accessAllowed ? 'block' : 'none';\n",
              "\n",
              "        async function convertToInteractive(key) {\n",
              "          const element = document.querySelector('#df-281edb28-daf6-4ddb-9ae9-a3585558e505');\n",
              "          const dataTable =\n",
              "            await google.colab.kernel.invokeFunction('convertToInteractive',\n",
              "                                                     [key], {});\n",
              "          if (!dataTable) return;\n",
              "\n",
              "          const docLinkHtml = 'Like what you see? Visit the ' +\n",
              "            '<a target=\"_blank\" href=https://colab.research.google.com/notebooks/data_table.ipynb>data table notebook</a>'\n",
              "            + ' to learn more about interactive tables.';\n",
              "          element.innerHTML = '';\n",
              "          dataTable['output_type'] = 'display_data';\n",
              "          await google.colab.output.renderOutput(dataTable, element);\n",
              "          const docLink = document.createElement('div');\n",
              "          docLink.innerHTML = docLinkHtml;\n",
              "          element.appendChild(docLink);\n",
              "        }\n",
              "      </script>\n",
              "    </div>\n",
              "  </div>\n",
              "  "
            ]
          },
          "metadata": {},
          "execution_count": 29
        }
      ]
    },
    {
      "cell_type": "code",
      "source": [
        "y_2022"
      ],
      "metadata": {
        "colab": {
          "base_uri": "https://localhost:8080/"
        },
        "id": "17Wo80HOEhdS",
        "outputId": "befaba60-8f0f-4ac0-9b8e-59f244cde338"
      },
      "id": "17Wo80HOEhdS",
      "execution_count": 30,
      "outputs": [
        {
          "output_type": "execute_result",
          "data": {
            "text/plain": [
              "1       0.0\n",
              "7       0.0\n",
              "15      1.0\n",
              "21      0.0\n",
              "35      0.0\n",
              "       ... \n",
              "1015    1.0\n",
              "1032    0.0\n",
              "1047    0.0\n",
              "1061    0.0\n",
              "1080    0.0\n",
              "Name: Group, Length: 94, dtype: float64"
            ]
          },
          "metadata": {},
          "execution_count": 30
        }
      ]
    },
    {
      "cell_type": "code",
      "source": [
        "# Use the testing data to make the model predictions\n",
        "svm_pred_2022 = svm_model.predict(X_2022)\n",
        "\n",
        "# Use a classification report to evaluate the model using the predictions and testing data\n",
        "svm_testing_report_2022 = classification_report(y_2022, svm_pred_2022)\n",
        "\n",
        "# Print the classification report\n",
        "print(svm_testing_report_2022)"
      ],
      "metadata": {
        "colab": {
          "base_uri": "https://localhost:8080/"
        },
        "id": "keF46lBEjh2e",
        "outputId": "f762dd98-0002-4b5a-95d4-76d94b3bc0fc"
      },
      "id": "keF46lBEjh2e",
      "execution_count": 45,
      "outputs": [
        {
          "output_type": "stream",
          "name": "stdout",
          "text": [
            "              precision    recall  f1-score   support\n",
            "\n",
            "         0.0       0.97      0.82      0.89        82\n",
            "         1.0       0.40      0.83      0.54        12\n",
            "\n",
            "    accuracy                           0.82        94\n",
            "   macro avg       0.69      0.83      0.71        94\n",
            "weighted avg       0.90      0.82      0.84        94\n",
            "\n"
          ]
        }
      ]
    },
    {
      "cell_type": "markdown",
      "source": [
        "---\n",
        "#error analysis\n",
        "\n",
        "try another model\n",
        "\n",
        "1. find wrongly predicted data, look at the distribution of variables to see what might need to be adjusted\n",
        "2. thresholding (change 0.5 to 0.7 and up to classify it as 1)\n",
        "stratifying \n",
        "---\n"
      ],
      "metadata": {
        "id": "zhgpK1X6YMY-"
      },
      "id": "zhgpK1X6YMY-"
    },
    {
      "cell_type": "code",
      "source": [
        "X_2022_scaled_reshaped = X_2022_scaled[0].reshape(1, -1)\n",
        "svm_pred_2022 = svm_model.predict(X_2022_scaled_reshaped)\n",
        "svm_pred_2022"
      ],
      "metadata": {
        "colab": {
          "base_uri": "https://localhost:8080/"
        },
        "id": "2XJkwPmygFUj",
        "outputId": "1c577340-ac05-4039-abc9-e22e17e579fc"
      },
      "id": "2XJkwPmygFUj",
      "execution_count": null,
      "outputs": [
        {
          "output_type": "stream",
          "name": "stderr",
          "text": [
            "/usr/local/lib/python3.7/dist-packages/sklearn/base.py:451: UserWarning: X does not have valid feature names, but SVC was fitted with feature names\n",
            "  \"X does not have valid feature names, but\"\n"
          ]
        },
        {
          "output_type": "execute_result",
          "data": {
            "text/plain": [
              "array([1.])"
            ]
          },
          "metadata": {},
          "execution_count": 42
        }
      ]
    },
    {
      "cell_type": "code",
      "source": [
        "svm_pred_2022"
      ],
      "metadata": {
        "colab": {
          "base_uri": "https://localhost:8080/"
        },
        "id": "DGeqQWwxgFYR",
        "outputId": "2f23f552-54b3-4794-e758-8f6830245fa4"
      },
      "id": "DGeqQWwxgFYR",
      "execution_count": null,
      "outputs": [
        {
          "output_type": "execute_result",
          "data": {
            "text/plain": [
              "array([1.])"
            ]
          },
          "metadata": {},
          "execution_count": 40
        }
      ]
    },
    {
      "cell_type": "code",
      "source": [
        "# Import RandomOverSampler\n",
        "from imblearn.over_sampling import RandomOverSampler"
      ],
      "metadata": {
        "id": "qPt8v6dHg0Fm"
      },
      "id": "qPt8v6dHg0Fm",
      "execution_count": null,
      "outputs": []
    },
    {
      "cell_type": "code",
      "source": [
        "# Resample features and target\n",
        "random_oversampler = RandomOverSampler(random_state = 1)\n",
        "X_resampled, y_resampled = random_oversampler.fit_resample(X_train, y_train)"
      ],
      "metadata": {
        "id": "DlTckDnKg0QA"
      },
      "id": "DlTckDnKg0QA",
      "execution_count": null,
      "outputs": []
    },
    {
      "cell_type": "code",
      "source": [
        "# Check resampled size\n",
        "y_resampled.value_counts()"
      ],
      "metadata": {
        "colab": {
          "base_uri": "https://localhost:8080/"
        },
        "id": "Q356XMIDg0Sr",
        "outputId": "fee3b39f-2168-4c19-de03-dc7afd3e235f"
      },
      "id": "Q356XMIDg0Sr",
      "execution_count": null,
      "outputs": [
        {
          "output_type": "execute_result",
          "data": {
            "text/plain": [
              "1    527\n",
              "0    527\n",
              "Name: Group, dtype: int64"
            ]
          },
          "metadata": {},
          "execution_count": 47
        }
      ]
    },
    {
      "cell_type": "code",
      "source": [
        "# From SVM, instantiate SVC classifier model instance\n",
        "svm_resampled_model = svm.SVC()\n",
        " \n",
        "# Fit the model to the data using the training data\n",
        "svm_resampled_model = svm_resampled_model.fit(X_resampled, y_resampled)\n",
        " \n",
        "# Use the testing data to make the model predictions\n",
        "svm_resampled_pred = svm_resampled_model.predict(X_test_scaled)\n",
        "\n",
        "# Use a classification report to evaluate the model using the predictions and testing data\n",
        "svm_resampled_testing_report = classification_report(y_test, svm_resampled_pred)\n",
        "\n",
        "# Print the classification report\n",
        "print(svm_resampled_testing_report)"
      ],
      "metadata": {
        "colab": {
          "base_uri": "https://localhost:8080/"
        },
        "id": "lshKQoPVg0Y8",
        "outputId": "e3e08cc4-0bb0-4b66-9e07-998f32006d3b"
      },
      "id": "lshKQoPVg0Y8",
      "execution_count": null,
      "outputs": [
        {
          "output_type": "stream",
          "name": "stdout",
          "text": [
            "              precision    recall  f1-score   support\n",
            "\n",
            "           0       0.68      1.00      0.81       169\n",
            "           1       0.00      0.00      0.00        78\n",
            "\n",
            "    accuracy                           0.68       247\n",
            "   macro avg       0.34      0.50      0.41       247\n",
            "weighted avg       0.47      0.68      0.56       247\n",
            "\n"
          ]
        }
      ]
    },
    {
      "cell_type": "code",
      "source": [
        ""
      ],
      "metadata": {
        "id": "Qk_SOBQbg0bH"
      },
      "id": "Qk_SOBQbg0bH",
      "execution_count": null,
      "outputs": []
    },
    {
      "cell_type": "code",
      "source": [
        ""
      ],
      "metadata": {
        "id": "kOUehYCOg0dV"
      },
      "id": "kOUehYCOg0dV",
      "execution_count": null,
      "outputs": []
    },
    {
      "cell_type": "markdown",
      "id": "19d7d476-a38b-4cb3-835b-2aedfd66a8ac",
      "metadata": {
        "id": "19d7d476-a38b-4cb3-835b-2aedfd66a8ac"
      },
      "source": [
        "---\n",
        "## Use Ddceision Tree"
      ]
    },
    {
      "cell_type": "code",
      "execution_count": 180,
      "id": "5e42b48b-4046-470c-8db3-4a7635c5b0b2",
      "metadata": {
        "colab": {
          "base_uri": "https://localhost:8080/"
        },
        "id": "5e42b48b-4046-470c-8db3-4a7635c5b0b2",
        "outputId": "20ba25d8-90aa-44db-f334-b36c1ea07f41"
      },
      "outputs": [
        {
          "output_type": "stream",
          "name": "stdout",
          "text": [
            "              precision    recall  f1-score   support\n",
            "\n",
            "         0.0       0.83      0.96      0.89       169\n",
            "         1.0       0.86      0.56      0.68        78\n",
            "\n",
            "    accuracy                           0.83       247\n",
            "   macro avg       0.84      0.76      0.78       247\n",
            "weighted avg       0.84      0.83      0.82       247\n",
            "\n"
          ]
        }
      ],
      "source": [
        "# Import decision tree classifier from SKLearn\n",
        "from sklearn import tree\n",
        "\n",
        "# Initiate the model instance\n",
        "dtc = tree.DecisionTreeClassifier(max_depth=10, min_samples_split=15, min_samples_leaf=60, max_leaf_nodes=2)\n",
        "# Fit the model using the training data\n",
        "dtc_model = dtc.fit(X_train, y_train)\n",
        "\n",
        "# Use the testing dataset to generate the predictions for the new model\n",
        "dtc_pred = dtc_model.predict(X_test)\n",
        "\n",
        "# Use a classification report to evaluate the model using the predictions and testing data\n",
        "dtc_testing_report = classification_report(y_test, dtc_pred)\n",
        "\n",
        "# Print the classification report\n",
        "print(dtc_testing_report)"
      ]
    },
    {
      "cell_type": "code",
      "source": [
        "# Use the testing data to make the model predictions\n",
        "dtc_pred_2022 = dtc_model.predict(X_2022)\n",
        "\n",
        "# Use a classification report to evaluate the model using the predictions and testing data\n",
        "dtc_testing_report_2022 = classification_report(y_2022, dtc_pred_2022)\n",
        "\n",
        "# Print the classification report\n",
        "print(dtc_testing_report_2022)"
      ],
      "metadata": {
        "colab": {
          "base_uri": "https://localhost:8080/"
        },
        "id": "_ed57SQoY65k",
        "outputId": "a43c25c1-de66-4536-9ed5-53fcc5e57185"
      },
      "id": "_ed57SQoY65k",
      "execution_count": 181,
      "outputs": [
        {
          "output_type": "stream",
          "name": "stdout",
          "text": [
            "              precision    recall  f1-score   support\n",
            "\n",
            "         0.0       0.97      0.77      0.86        82\n",
            "         1.0       0.34      0.83      0.49        12\n",
            "\n",
            "    accuracy                           0.78        94\n",
            "   macro avg       0.66      0.80      0.67        94\n",
            "weighted avg       0.89      0.78      0.81        94\n",
            "\n"
          ]
        }
      ]
    },
    {
      "cell_type": "markdown",
      "id": "30def59d-50d5-4b2f-b42c-6c5fa83150b5",
      "metadata": {
        "id": "30def59d-50d5-4b2f-b42c-6c5fa83150b5"
      },
      "source": [
        "---\n",
        "## Use Logistic Regression"
      ]
    },
    {
      "cell_type": "code",
      "execution_count": null,
      "id": "26442ccc-f665-467b-aa37-3d60155408bc",
      "metadata": {
        "colab": {
          "base_uri": "https://localhost:8080/"
        },
        "id": "26442ccc-f665-467b-aa37-3d60155408bc",
        "outputId": "84a812df-0603-4b24-c1a9-02385f6da6e0"
      },
      "outputs": [
        {
          "output_type": "stream",
          "name": "stdout",
          "text": [
            "[[-0.53674538 -4.74066743 -2.09301265 -1.70743138 -2.81514517 -2.05675602\n",
            "  -1.98791892 -1.70269981 -1.39786603 -1.75354291 -2.40001357 -1.36498653\n",
            "  -1.08591333 -1.76387838  0.73907129 -0.61102705 -1.72366561 -2.08646217]]\n",
            "['GP', 'Min_per', 'Ortg', 'eFG', 'TS_per', 'ORB_per', 'DRB_per', 'AST_per', 'blk_per', 'stl_per', 'ftr', 'pts', 'twoP_per', 'TP_per', 'dporpag', 'porpag', 'TO_per', 'FT_per']\n",
            "              precision    recall  f1-score   support\n",
            "\n",
            "           0       0.87      0.90      0.88       169\n",
            "           1       0.76      0.71      0.73        78\n",
            "\n",
            "    accuracy                           0.84       247\n",
            "   macro avg       0.82      0.80      0.81       247\n",
            "weighted avg       0.84      0.84      0.84       247\n",
            "\n"
          ]
        }
      ],
      "source": [
        "# Import LogisticRegression from sklearn\n",
        "from sklearn.linear_model import LogisticRegression\n",
        "\n",
        "# Create an instance of the LogisticRegression model\n",
        "lr = LogisticRegression()\n",
        "\n",
        "# Fit the model using the training data\n",
        "lr_model = lr.fit(X_train_scaled, y_train)\n",
        "print(lr_model.coef_-2)\n",
        "print(features)\n",
        "# Use the testing dataset to generate the predictions for the new model\n",
        "lr_pred = lr_model.predict(X_test_scaled)\n",
        "\n",
        "# Use a classification report to evaluate the model using the predictions and testing data\n",
        "lr_testing_report = classification_report(y_test, dtc_pred)\n",
        "\n",
        "# Print the classification report\n",
        "print(lr_testing_report)"
      ]
    },
    {
      "cell_type": "markdown",
      "id": "d783c501-bd67-45ab-9901-97d5ea280255",
      "metadata": {
        "id": "d783c501-bd67-45ab-9901-97d5ea280255"
      },
      "source": [
        "---\n",
        "## Use AdaBoost"
      ]
    },
    {
      "cell_type": "code",
      "execution_count": null,
      "id": "03b8efe7-bbb4-4bec-aae4-8467afb68e3a",
      "metadata": {
        "colab": {
          "base_uri": "https://localhost:8080/"
        },
        "id": "03b8efe7-bbb4-4bec-aae4-8467afb68e3a",
        "outputId": "70820ed9-1614-48d9-ba46-40e4140c6129"
      },
      "outputs": [
        {
          "output_type": "stream",
          "name": "stdout",
          "text": [
            "              precision    recall  f1-score   support\n",
            "\n",
            "           0       0.90      0.95      0.92       169\n",
            "           1       0.87      0.77      0.82        78\n",
            "\n",
            "    accuracy                           0.89       247\n",
            "   macro avg       0.88      0.86      0.87       247\n",
            "weighted avg       0.89      0.89      0.89       247\n",
            "\n"
          ]
        }
      ],
      "source": [
        "# Import AdaBoost classifier from SKLearn\n",
        "from sklearn.ensemble import AdaBoostClassifier\n",
        "\n",
        "# Initiate the model instance\n",
        "abc = AdaBoostClassifier(random_state = 42)\n",
        "\n",
        "# Fit the model using the training data\n",
        "abc_model = abc.fit(X_train_scaled, y_train)\n",
        "\n",
        "# Use the testing dataset to generate the predictions for the new model\n",
        "abc_pred = abc_model.predict(X_test_scaled)\n",
        "\n",
        "# Use a classification report to evaluate the model using the predictions and testing data\n",
        "abc_testing_report = classification_report(y_test, abc_pred)\n",
        "\n",
        "# Print the classification report\n",
        "print(abc_testing_report)"
      ]
    },
    {
      "cell_type": "markdown",
      "source": [
        "##Save the best performing model"
      ],
      "metadata": {
        "id": "yxVkcGR629FC"
      },
      "id": "yxVkcGR629FC"
    },
    {
      "cell_type": "code",
      "source": [
        "# import pickle\n",
        "# # save the model\n",
        "# AdaBoostClassifier = open(\"abc.pkl\",\"wb\")\n",
        "# pickle.dump(abc_model,AdaBoostClassifier) \n",
        "# AdaBoostClassifier.close() "
      ],
      "metadata": {
        "id": "Xvt2Wl5M2k3n"
      },
      "id": "Xvt2Wl5M2k3n",
      "execution_count": null,
      "outputs": []
    },
    {
      "cell_type": "markdown",
      "id": "1e7fdf67-00f7-401d-963c-e63ff3cd1aa7",
      "metadata": {
        "id": "1e7fdf67-00f7-401d-963c-e63ff3cd1aa7"
      },
      "source": [
        "---\n",
        "## Use Deep Neural Network"
      ]
    },
    {
      "cell_type": "code",
      "execution_count": null,
      "id": "d6fd94d9-3346-4e86-9c1d-d6fc4123bea7",
      "metadata": {
        "id": "d6fd94d9-3346-4e86-9c1d-d6fc4123bea7"
      },
      "outputs": [],
      "source": [
        "# Define number of nodes on each layer\n",
        "input_features = 18\n",
        "layer1 = 40\n",
        "layer2 = 30\n",
        "layer3 = 10\n",
        "\n",
        "# Initiate the model\n",
        "nn = Sequential()"
      ]
    },
    {
      "cell_type": "code",
      "execution_count": null,
      "id": "32054a9c-7ce8-43d2-a158-737091d230e9",
      "metadata": {
        "id": "32054a9c-7ce8-43d2-a158-737091d230e9"
      },
      "outputs": [],
      "source": [
        "# Add all layers to the model\n",
        "nn.add(Dense(\n",
        "    units = layer1, \n",
        "    input_dim = input_features, \n",
        "    activation = 'relu'\n",
        "))\n",
        "\n",
        "nn.add(Dense(\n",
        "    units = layer2, \n",
        "    activation = 'relu'\n",
        "))\n",
        "\n",
        "nn.add(Dense(\n",
        "    units = layer3, \n",
        "    activation = 'relu'\n",
        "))\n",
        "\n",
        "# Add output layer\n",
        "nn.add(Dense(units=1, activation = 'sigmoid'))"
      ]
    },
    {
      "cell_type": "code",
      "execution_count": null,
      "id": "c5730bb3-d26e-41a2-b7ec-51f00e761098",
      "metadata": {
        "id": "c5730bb3-d26e-41a2-b7ec-51f00e761098"
      },
      "outputs": [],
      "source": [
        "# Compile the model\n",
        "nn.compile(loss=\"mean_squared_error\", optimizer=\"adam\", metrics=[\"accuracy\"])"
      ]
    },
    {
      "cell_type": "code",
      "execution_count": null,
      "id": "0e58ad14-878a-47b6-a798-5741d20be446",
      "metadata": {
        "tags": [],
        "colab": {
          "base_uri": "https://localhost:8080/"
        },
        "id": "0e58ad14-878a-47b6-a798-5741d20be446",
        "outputId": "9f51d9a1-1508-44d5-fa5f-79b7b07ac1ef"
      },
      "outputs": [
        {
          "output_type": "stream",
          "name": "stdout",
          "text": [
            "Epoch 1/100\n",
            "24/24 [==============================] - 1s 2ms/step - loss: 0.1864 - accuracy: 0.7878\n",
            "Epoch 2/100\n",
            "24/24 [==============================] - 0s 2ms/step - loss: 0.1229 - accuracy: 0.8730\n",
            "Epoch 3/100\n",
            "24/24 [==============================] - 0s 2ms/step - loss: 0.0945 - accuracy: 0.8784\n",
            "Epoch 4/100\n",
            "24/24 [==============================] - 0s 2ms/step - loss: 0.0807 - accuracy: 0.8959\n",
            "Epoch 5/100\n",
            "24/24 [==============================] - 0s 2ms/step - loss: 0.0733 - accuracy: 0.9054\n",
            "Epoch 6/100\n",
            "24/24 [==============================] - 0s 2ms/step - loss: 0.0686 - accuracy: 0.9081\n",
            "Epoch 7/100\n",
            "24/24 [==============================] - 0s 3ms/step - loss: 0.0667 - accuracy: 0.9095\n",
            "Epoch 8/100\n",
            "24/24 [==============================] - 0s 2ms/step - loss: 0.0630 - accuracy: 0.9203\n",
            "Epoch 9/100\n",
            "24/24 [==============================] - 0s 2ms/step - loss: 0.0603 - accuracy: 0.9243\n",
            "Epoch 10/100\n",
            "24/24 [==============================] - 0s 2ms/step - loss: 0.0577 - accuracy: 0.9243\n",
            "Epoch 11/100\n",
            "24/24 [==============================] - 0s 2ms/step - loss: 0.0561 - accuracy: 0.9297\n",
            "Epoch 12/100\n",
            "24/24 [==============================] - 0s 3ms/step - loss: 0.0549 - accuracy: 0.9284\n",
            "Epoch 13/100\n",
            "24/24 [==============================] - 0s 3ms/step - loss: 0.0543 - accuracy: 0.9284\n",
            "Epoch 14/100\n",
            "24/24 [==============================] - 0s 2ms/step - loss: 0.0523 - accuracy: 0.9324\n",
            "Epoch 15/100\n",
            "24/24 [==============================] - 0s 2ms/step - loss: 0.0521 - accuracy: 0.9324\n",
            "Epoch 16/100\n",
            "24/24 [==============================] - 0s 3ms/step - loss: 0.0500 - accuracy: 0.9338\n",
            "Epoch 17/100\n",
            "24/24 [==============================] - 0s 3ms/step - loss: 0.0486 - accuracy: 0.9365\n",
            "Epoch 18/100\n",
            "24/24 [==============================] - 0s 2ms/step - loss: 0.0471 - accuracy: 0.9365\n",
            "Epoch 19/100\n",
            "24/24 [==============================] - 0s 3ms/step - loss: 0.0473 - accuracy: 0.9446\n",
            "Epoch 20/100\n",
            "24/24 [==============================] - 0s 2ms/step - loss: 0.0451 - accuracy: 0.9405\n",
            "Epoch 21/100\n",
            "24/24 [==============================] - 0s 2ms/step - loss: 0.0447 - accuracy: 0.9419\n",
            "Epoch 22/100\n",
            "24/24 [==============================] - 0s 2ms/step - loss: 0.0448 - accuracy: 0.9486\n",
            "Epoch 23/100\n",
            "24/24 [==============================] - 0s 2ms/step - loss: 0.0456 - accuracy: 0.9405\n",
            "Epoch 24/100\n",
            "24/24 [==============================] - 0s 2ms/step - loss: 0.0417 - accuracy: 0.9500\n",
            "Epoch 25/100\n",
            "24/24 [==============================] - 0s 2ms/step - loss: 0.0404 - accuracy: 0.9500\n",
            "Epoch 26/100\n",
            "24/24 [==============================] - 0s 2ms/step - loss: 0.0396 - accuracy: 0.9500\n",
            "Epoch 27/100\n",
            "24/24 [==============================] - 0s 2ms/step - loss: 0.0398 - accuracy: 0.9527\n",
            "Epoch 28/100\n",
            "24/24 [==============================] - 0s 2ms/step - loss: 0.0385 - accuracy: 0.9527\n",
            "Epoch 29/100\n",
            "24/24 [==============================] - 0s 2ms/step - loss: 0.0385 - accuracy: 0.9527\n",
            "Epoch 30/100\n",
            "24/24 [==============================] - 0s 2ms/step - loss: 0.0386 - accuracy: 0.9514\n",
            "Epoch 31/100\n",
            "24/24 [==============================] - 0s 2ms/step - loss: 0.0379 - accuracy: 0.9541\n",
            "Epoch 32/100\n",
            "24/24 [==============================] - 0s 2ms/step - loss: 0.0346 - accuracy: 0.9581\n",
            "Epoch 33/100\n",
            "24/24 [==============================] - 0s 2ms/step - loss: 0.0346 - accuracy: 0.9581\n",
            "Epoch 34/100\n",
            "24/24 [==============================] - 0s 3ms/step - loss: 0.0334 - accuracy: 0.9635\n",
            "Epoch 35/100\n",
            "24/24 [==============================] - 0s 2ms/step - loss: 0.0321 - accuracy: 0.9662\n",
            "Epoch 36/100\n",
            "24/24 [==============================] - 0s 2ms/step - loss: 0.0322 - accuracy: 0.9662\n",
            "Epoch 37/100\n",
            "24/24 [==============================] - 0s 2ms/step - loss: 0.0317 - accuracy: 0.9676\n",
            "Epoch 38/100\n",
            "24/24 [==============================] - 0s 2ms/step - loss: 0.0306 - accuracy: 0.9662\n",
            "Epoch 39/100\n",
            "24/24 [==============================] - 0s 2ms/step - loss: 0.0291 - accuracy: 0.9703\n",
            "Epoch 40/100\n",
            "24/24 [==============================] - 0s 2ms/step - loss: 0.0295 - accuracy: 0.9703\n",
            "Epoch 41/100\n",
            "24/24 [==============================] - 0s 2ms/step - loss: 0.0296 - accuracy: 0.9676\n",
            "Epoch 42/100\n",
            "24/24 [==============================] - 0s 2ms/step - loss: 0.0276 - accuracy: 0.9676\n",
            "Epoch 43/100\n",
            "24/24 [==============================] - 0s 2ms/step - loss: 0.0263 - accuracy: 0.9676\n",
            "Epoch 44/100\n",
            "24/24 [==============================] - 0s 2ms/step - loss: 0.0253 - accuracy: 0.9716\n",
            "Epoch 45/100\n",
            "24/24 [==============================] - 0s 3ms/step - loss: 0.0247 - accuracy: 0.9757\n",
            "Epoch 46/100\n",
            "24/24 [==============================] - 0s 2ms/step - loss: 0.0240 - accuracy: 0.9770\n",
            "Epoch 47/100\n",
            "24/24 [==============================] - 0s 3ms/step - loss: 0.0238 - accuracy: 0.9757\n",
            "Epoch 48/100\n",
            "24/24 [==============================] - 0s 3ms/step - loss: 0.0236 - accuracy: 0.9757\n",
            "Epoch 49/100\n",
            "24/24 [==============================] - 0s 2ms/step - loss: 0.0222 - accuracy: 0.9784\n",
            "Epoch 50/100\n",
            "24/24 [==============================] - 0s 2ms/step - loss: 0.0222 - accuracy: 0.9757\n",
            "Epoch 51/100\n",
            "24/24 [==============================] - 0s 2ms/step - loss: 0.0216 - accuracy: 0.9784\n",
            "Epoch 52/100\n",
            "24/24 [==============================] - 0s 2ms/step - loss: 0.0214 - accuracy: 0.9784\n",
            "Epoch 53/100\n",
            "24/24 [==============================] - 0s 2ms/step - loss: 0.0218 - accuracy: 0.9770\n",
            "Epoch 54/100\n",
            "24/24 [==============================] - 0s 2ms/step - loss: 0.0224 - accuracy: 0.9730\n",
            "Epoch 55/100\n",
            "24/24 [==============================] - 0s 2ms/step - loss: 0.0210 - accuracy: 0.9784\n",
            "Epoch 56/100\n",
            "24/24 [==============================] - 0s 2ms/step - loss: 0.0190 - accuracy: 0.9838\n",
            "Epoch 57/100\n",
            "24/24 [==============================] - 0s 2ms/step - loss: 0.0184 - accuracy: 0.9824\n",
            "Epoch 58/100\n",
            "24/24 [==============================] - 0s 2ms/step - loss: 0.0188 - accuracy: 0.9851\n",
            "Epoch 59/100\n",
            "24/24 [==============================] - 0s 2ms/step - loss: 0.0177 - accuracy: 0.9838\n",
            "Epoch 60/100\n",
            "24/24 [==============================] - 0s 2ms/step - loss: 0.0166 - accuracy: 0.9838\n",
            "Epoch 61/100\n",
            "24/24 [==============================] - 0s 2ms/step - loss: 0.0177 - accuracy: 0.9838\n",
            "Epoch 62/100\n",
            "24/24 [==============================] - 0s 2ms/step - loss: 0.0162 - accuracy: 0.9851\n",
            "Epoch 63/100\n",
            "24/24 [==============================] - 0s 2ms/step - loss: 0.0156 - accuracy: 0.9824\n",
            "Epoch 64/100\n",
            "24/24 [==============================] - 0s 2ms/step - loss: 0.0153 - accuracy: 0.9865\n",
            "Epoch 65/100\n",
            "24/24 [==============================] - 0s 2ms/step - loss: 0.0156 - accuracy: 0.9865\n",
            "Epoch 66/100\n",
            "24/24 [==============================] - 0s 2ms/step - loss: 0.0141 - accuracy: 0.9878\n",
            "Epoch 67/100\n",
            "24/24 [==============================] - 0s 2ms/step - loss: 0.0142 - accuracy: 0.9878\n",
            "Epoch 68/100\n",
            "24/24 [==============================] - 0s 3ms/step - loss: 0.0132 - accuracy: 0.9892\n",
            "Epoch 69/100\n",
            "24/24 [==============================] - 0s 2ms/step - loss: 0.0135 - accuracy: 0.9878\n",
            "Epoch 70/100\n",
            "24/24 [==============================] - 0s 2ms/step - loss: 0.0132 - accuracy: 0.9892\n",
            "Epoch 71/100\n",
            "24/24 [==============================] - 0s 2ms/step - loss: 0.0123 - accuracy: 0.9878\n",
            "Epoch 72/100\n",
            "24/24 [==============================] - 0s 2ms/step - loss: 0.0126 - accuracy: 0.9892\n",
            "Epoch 73/100\n",
            "24/24 [==============================] - 0s 2ms/step - loss: 0.0127 - accuracy: 0.9878\n",
            "Epoch 74/100\n",
            "24/24 [==============================] - 0s 2ms/step - loss: 0.0122 - accuracy: 0.9865\n",
            "Epoch 75/100\n",
            "24/24 [==============================] - 0s 2ms/step - loss: 0.0144 - accuracy: 0.9851\n",
            "Epoch 76/100\n",
            "24/24 [==============================] - 0s 2ms/step - loss: 0.0117 - accuracy: 0.9892\n",
            "Epoch 77/100\n",
            "24/24 [==============================] - 0s 2ms/step - loss: 0.0117 - accuracy: 0.9892\n",
            "Epoch 78/100\n",
            "24/24 [==============================] - 0s 2ms/step - loss: 0.0109 - accuracy: 0.9892\n",
            "Epoch 79/100\n",
            "24/24 [==============================] - 0s 2ms/step - loss: 0.0104 - accuracy: 0.9905\n",
            "Epoch 80/100\n",
            "24/24 [==============================] - 0s 2ms/step - loss: 0.0107 - accuracy: 0.9919\n",
            "Epoch 81/100\n",
            "24/24 [==============================] - 0s 2ms/step - loss: 0.0100 - accuracy: 0.9905\n",
            "Epoch 82/100\n",
            "24/24 [==============================] - 0s 2ms/step - loss: 0.0103 - accuracy: 0.9932\n",
            "Epoch 83/100\n",
            "24/24 [==============================] - 0s 2ms/step - loss: 0.0093 - accuracy: 0.9932\n",
            "Epoch 84/100\n",
            "24/24 [==============================] - 0s 2ms/step - loss: 0.0098 - accuracy: 0.9919\n",
            "Epoch 85/100\n",
            "24/24 [==============================] - 0s 3ms/step - loss: 0.0091 - accuracy: 0.9932\n",
            "Epoch 86/100\n",
            "24/24 [==============================] - 0s 2ms/step - loss: 0.0093 - accuracy: 0.9919\n",
            "Epoch 87/100\n",
            "24/24 [==============================] - 0s 2ms/step - loss: 0.0086 - accuracy: 0.9932\n",
            "Epoch 88/100\n",
            "24/24 [==============================] - 0s 2ms/step - loss: 0.0085 - accuracy: 0.9932\n",
            "Epoch 89/100\n",
            "24/24 [==============================] - 0s 2ms/step - loss: 0.0085 - accuracy: 0.9932\n",
            "Epoch 90/100\n",
            "24/24 [==============================] - 0s 2ms/step - loss: 0.0082 - accuracy: 0.9932\n",
            "Epoch 91/100\n",
            "24/24 [==============================] - 0s 2ms/step - loss: 0.0082 - accuracy: 0.9932\n",
            "Epoch 92/100\n",
            "24/24 [==============================] - 0s 2ms/step - loss: 0.0083 - accuracy: 0.9932\n",
            "Epoch 93/100\n",
            "24/24 [==============================] - 0s 2ms/step - loss: 0.0082 - accuracy: 0.9932\n",
            "Epoch 94/100\n",
            "24/24 [==============================] - 0s 2ms/step - loss: 0.0080 - accuracy: 0.9932\n",
            "Epoch 95/100\n",
            "24/24 [==============================] - 0s 2ms/step - loss: 0.0080 - accuracy: 0.9932\n",
            "Epoch 96/100\n",
            "24/24 [==============================] - 0s 2ms/step - loss: 0.0079 - accuracy: 0.9932\n",
            "Epoch 97/100\n",
            "24/24 [==============================] - 0s 2ms/step - loss: 0.0081 - accuracy: 0.9932\n",
            "Epoch 98/100\n",
            "24/24 [==============================] - 0s 2ms/step - loss: 0.0078 - accuracy: 0.9932\n",
            "Epoch 99/100\n",
            "24/24 [==============================] - 0s 2ms/step - loss: 0.0077 - accuracy: 0.9932\n",
            "Epoch 100/100\n",
            "24/24 [==============================] - 0s 2ms/step - loss: 0.0076 - accuracy: 0.9932\n"
          ]
        }
      ],
      "source": [
        "# Fit the model\n",
        "deep_net_model = nn.fit(X_train_scaled, y_train, epochs=100)"
      ]
    },
    {
      "cell_type": "code",
      "execution_count": null,
      "id": "59f91c8e-be1b-40cf-80f8-8045d90d11f7",
      "metadata": {
        "colab": {
          "base_uri": "https://localhost:8080/"
        },
        "id": "59f91c8e-be1b-40cf-80f8-8045d90d11f7",
        "outputId": "08ef785a-c379-43fa-df32-0af9fb1cb284"
      },
      "outputs": [
        {
          "output_type": "stream",
          "name": "stdout",
          "text": [
            "24/24 - 0s - loss: 0.0075 - accuracy: 0.9932 - 176ms/epoch - 7ms/step\n"
          ]
        }
      ],
      "source": [
        "# Print loss and accuracy score of training set\n",
        "loss, accuracy = nn.evaluate(X_train_scaled, y_train, verbose=2)"
      ]
    },
    {
      "cell_type": "code",
      "execution_count": null,
      "id": "dcd64a11-3551-4aab-8de8-ce9bb532fdb8",
      "metadata": {
        "colab": {
          "base_uri": "https://localhost:8080/"
        },
        "id": "dcd64a11-3551-4aab-8de8-ce9bb532fdb8",
        "outputId": "5690f8a8-d3cc-4d05-db7e-2afa5acc62b7"
      },
      "outputs": [
        {
          "output_type": "stream",
          "name": "stdout",
          "text": [
            "8/8 - 0s - loss: 0.0983 - accuracy: 0.8826 - 27ms/epoch - 3ms/step\n"
          ]
        }
      ],
      "source": [
        "# Print loss and accuracy score of testing set\n",
        "val_loss, val_accuracy = nn.evaluate(X_test_scaled, y_test, verbose=2)"
      ]
    },
    {
      "cell_type": "code",
      "source": [
        "X_test_scaled"
      ],
      "metadata": {
        "colab": {
          "base_uri": "https://localhost:8080/"
        },
        "id": "2EtRVEdT-XW2",
        "outputId": "eae070d7-7737-4577-b917-d3697e876588"
      },
      "id": "2EtRVEdT-XW2",
      "execution_count": null,
      "outputs": [
        {
          "output_type": "execute_result",
          "data": {
            "text/plain": [
              "array([[ 0.8103357 ,  0.37617482,  0.32465041, ..., -0.2059789 ,\n",
              "        -0.332061  ,  1.0424223 ],\n",
              "       [-0.20618862, -0.96447634,  0.21996632, ..., -0.69626847,\n",
              "        -0.04308888, -1.3231202 ],\n",
              "       [-1.4260178 , -1.14713575,  0.42530819, ..., -0.11728349,\n",
              "        -0.05305344, -1.02961771],\n",
              "       ...,\n",
              "       [ 1.01364056,  0.76906488,  0.63467638, ...,  0.96548054,\n",
              "        -0.11284077,  0.64816521],\n",
              "       [ 0.40372597,  1.17918696, -0.02161236, ...,  0.12474636,\n",
              "        -0.20252178,  0.84967439],\n",
              "       [-0.51114592, -1.17126058, -0.20682268, ..., -0.83462091,\n",
              "        -0.45163568, -0.59155428]])"
            ]
          },
          "metadata": {},
          "execution_count": 37
        }
      ]
    },
    {
      "cell_type": "code",
      "source": [
        "y_test"
      ],
      "metadata": {
        "colab": {
          "base_uri": "https://localhost:8080/"
        },
        "id": "HVaPEKsVEy9e",
        "outputId": "43a34dd7-a289-4a15-dc99-fff042247106"
      },
      "id": "HVaPEKsVEy9e",
      "execution_count": null,
      "outputs": [
        {
          "output_type": "execute_result",
          "data": {
            "text/plain": [
              "340     0\n",
              "152     0\n",
              "545     0\n",
              "936     1\n",
              "95      0\n",
              "       ..\n",
              "60      0\n",
              "1014    0\n",
              "887     1\n",
              "941     0\n",
              "986     0\n",
              "Name: Group, Length: 247, dtype: int64"
            ]
          },
          "metadata": {},
          "execution_count": 38
        }
      ]
    },
    {
      "cell_type": "code",
      "source": [
        "deep_net_pred = nn.predict(X_test_scaled)\n",
        "deep_net_pred[:10]"
      ],
      "metadata": {
        "colab": {
          "base_uri": "https://localhost:8080/"
        },
        "id": "xOEqBDpm-aM8",
        "outputId": "86f1bfcd-e16a-4c89-8eda-32b5de966365"
      },
      "id": "xOEqBDpm-aM8",
      "execution_count": null,
      "outputs": [
        {
          "output_type": "execute_result",
          "data": {
            "text/plain": [
              "array([[8.4541483e-05],\n",
              "       [1.8754900e-03],\n",
              "       [8.5928608e-05],\n",
              "       [9.9946564e-01],\n",
              "       [9.0798335e-07],\n",
              "       [9.9939048e-01],\n",
              "       [9.8633182e-01],\n",
              "       [2.7415156e-04],\n",
              "       [1.7316443e-01],\n",
              "       [1.0040450e-01]], dtype=float32)"
            ]
          },
          "metadata": {},
          "execution_count": 39
        }
      ]
    },
    {
      "cell_type": "code",
      "source": [
        "import numpy as np\n",
        "deep_net_pred = np.where(deep_net_pred > .5, 1, 0)\n"
      ],
      "metadata": {
        "id": "f5yaMwy5HBW6"
      },
      "id": "f5yaMwy5HBW6",
      "execution_count": null,
      "outputs": []
    },
    {
      "cell_type": "code",
      "source": [
        "# deep_net_pred = nn.predict(X_test_scaled)\n",
        "from itertools import chain\n",
        "pred = list(chain(*deep_net_pred))\n",
        "import numpy as np\n",
        "array = np.asarray(pred)\n",
        "array[:10]"
      ],
      "metadata": {
        "colab": {
          "base_uri": "https://localhost:8080/"
        },
        "id": "BPUWBpOjrD7m",
        "outputId": "471ca4da-6fb6-4c64-d12b-86ccd4888e84"
      },
      "id": "BPUWBpOjrD7m",
      "execution_count": null,
      "outputs": [
        {
          "output_type": "execute_result",
          "data": {
            "text/plain": [
              "array([0, 0, 0, 1, 0, 1, 1, 0, 0, 0])"
            ]
          },
          "metadata": {},
          "execution_count": 41
        }
      ]
    },
    {
      "cell_type": "code",
      "source": [
        "deep_net_classification_report = classification_report(y_test, array)\n",
        "\n",
        "# Print the classification report\n",
        "print(deep_net_classification_report)"
      ],
      "metadata": {
        "colab": {
          "base_uri": "https://localhost:8080/"
        },
        "id": "GCMFFMyAjEch",
        "outputId": "c7716f95-8016-4549-dd0b-88690be862df"
      },
      "id": "GCMFFMyAjEch",
      "execution_count": null,
      "outputs": [
        {
          "output_type": "stream",
          "name": "stdout",
          "text": [
            "              precision    recall  f1-score   support\n",
            "\n",
            "           0       0.88      0.95      0.92       169\n",
            "           1       0.88      0.73      0.80        78\n",
            "\n",
            "    accuracy                           0.88       247\n",
            "   macro avg       0.88      0.84      0.86       247\n",
            "weighted avg       0.88      0.88      0.88       247\n",
            "\n"
          ]
        }
      ]
    },
    {
      "cell_type": "code",
      "execution_count": null,
      "id": "3c4a42d7-3724-44a6-87d2-b027e94acb94",
      "metadata": {
        "id": "3c4a42d7-3724-44a6-87d2-b027e94acb94",
        "colab": {
          "base_uri": "https://localhost:8080/",
          "height": 283
        },
        "outputId": "5c73e254-a5fd-4cd4-fd26-fa6e434eb0b5"
      },
      "outputs": [
        {
          "output_type": "execute_result",
          "data": {
            "text/plain": [
              "<matplotlib.axes._subplots.AxesSubplot at 0x7f6f40acfb10>"
            ]
          },
          "metadata": {},
          "execution_count": 43
        },
        {
          "output_type": "display_data",
          "data": {
            "text/plain": [
              "<Figure size 432x288 with 1 Axes>"
            ],
            "image/png": "[encoded data removed]"
          },
          "metadata": {
            "needs_background": "light"
          }
        }
      ],
      "source": [
        "# Plot the loss rate\n",
        "loss_df = pd.DataFrame(deep_net_model.history['loss'])\n",
        "loss_df.plot()"
      ]
    },
    {
      "cell_type": "code",
      "execution_count": null,
      "id": "76ff9ba1-63fa-4cc4-9f60-8226f72bb761",
      "metadata": {
        "id": "76ff9ba1-63fa-4cc4-9f60-8226f72bb761",
        "colab": {
          "base_uri": "https://localhost:8080/",
          "height": 284
        },
        "outputId": "fcdad342-0854-49d7-e2f5-0dea1af424ce"
      },
      "outputs": [
        {
          "output_type": "execute_result",
          "data": {
            "text/plain": [
              "<matplotlib.axes._subplots.AxesSubplot at 0x7f6f40b38cd0>"
            ]
          },
          "metadata": {},
          "execution_count": 44
        },
        {
          "output_type": "display_data",
          "data": {
            "text/plain": [
              "<Figure size 432x288 with 1 Axes>"
            ],
            "image/png": "[encoded data removed]"
          },
          "metadata": {
            "needs_background": "light"
          }
        }
      ],
      "source": [
        "# Plot the accuracy score\n",
        "accuracy_df = pd.DataFrame(deep_net_model.history['accuracy'])\n",
        "accuracy_df.plot()"
      ]
    },
    {
      "cell_type": "markdown",
      "source": [
        "---\n",
        "## Test model with 2022 data"
      ],
      "metadata": {
        "id": "8D2xKELk7irl"
      },
      "id": "8D2xKELk7irl"
    },
    {
      "cell_type": "code",
      "source": [
        ""
      ],
      "metadata": {
        "id": "_IcrgH5V_vLR"
      },
      "id": "_IcrgH5V_vLR",
      "execution_count": null,
      "outputs": []
    }
  ],
  "metadata": {
    "kernelspec": {
      "display_name": "dev",
      "language": "python",
      "name": "dev"
    },
    "language_info": {
      "codemirror_mode": {
        "name": "ipython",
        "version": 3
      },
      "file_extension": ".py",
      "mimetype": "text/x-python",
      "name": "python",
      "nbconvert_exporter": "python",
      "pygments_lexer": "ipython3",
      "version": "3.9.12"
    },
    "colab": {
      "name": "FF_top15_college_data.ipynb",
      "provenance": [],
      "collapsed_sections": [],
      "include_colab_link": true
    }
  },
  "nbformat": 4,
  "nbformat_minor": 5
}