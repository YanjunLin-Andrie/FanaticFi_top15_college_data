{
  "cells": [
    {
      "cell_type": "markdown",
      "metadata": {
        "id": "view-in-github",
        "colab_type": "text"
      },
      "source": [
        "<a href=\"https://colab.research.google.com/github/YanjunLin-Andrie/FanaticFi_top15_college_data/blob/main/FF_top15_college_data.ipynb\" target=\"_parent\"><img src=\"https://colab.research.google.com/assets/colab-badge.svg\" alt=\"Open In Colab\"/></a>"
      ]
    },
    {
      "cell_type": "code",
      "execution_count": 276,
      "id": "88acc28f-848d-4881-b818-3e1afc45797a",
      "metadata": {
        "tags": [],
        "id": "88acc28f-848d-4881-b818-3e1afc45797a"
      },
      "outputs": [],
      "source": [
        "# Imports\n",
        "import pandas as pd\n",
        "from pathlib import Path\n",
        "import tensorflow as tf\n",
        "from sklearn import svm\n",
        "import matplotlib.pyplot as plt\n",
        "from tensorflow.keras.layers import Dense\n",
        "from tensorflow.keras.models import Sequential\n",
        "from sklearn.preprocessing import StandardScaler\n",
        "from sklearn.metrics import classification_report\n",
        "from sklearn.model_selection import train_test_split"
      ]
    },
    {
      "cell_type": "markdown",
      "source": [
        "### Data referrence:\n",
        "\n",
        "`College Basketball 2009-2021 + NBA Advanced Stats` by Aditya Jumar\n",
        "\n",
        "Click [here](https://www.kaggle.com/datasets/adityak2003/college-basketball-players-20092021) for more information\n",
        "\n",
        "2022 Draft Data were collected from nba.com, click [here](https://www.nba.com/stats/draft/history/) for more information"
      ],
      "metadata": {
        "id": "NOnFnGMDiw-h"
      },
      "id": "NOnFnGMDiw-h"
    },
    {
      "cell_type": "code",
      "source": [
        "# Upload cc_default.csv to Colab\n",
        "from google.colab import files\n",
        "\n",
        "# csv_file = files.upload()\n",
        "\n",
        "# Load data and fill blank cells with 0\n",
        "df_all = pd.read_csv(Path('CollegeBasketballPlayers2009-2022.csv'), low_memory = False)\n",
        "df_all = df_all.fillna(0)\n",
        "df_all"
      ],
      "metadata": {
        "colab": {
          "base_uri": "https://localhost:8080/",
          "height": 627
        },
        "id": "AVcgSIC_Aw77",
        "outputId": "799ab3a7-6850-4555-c827-99212eace1fc"
      },
      "id": "AVcgSIC_Aw77",
      "execution_count": 277,
      "outputs": [
        {
          "output_type": "execute_result",
          "data": {
            "text/plain": [
              "            player_name              team  conf  GP  Min_per   Ortg   usg  \\\n",
              "0         DeAndrae Ross     South Alabama    SB  26     29.5   97.3  16.6   \n",
              "1         Pooh Williams          Utah St.   WAC  34     60.9  108.3  14.9   \n",
              "2         Jesus Verdejo     South Florida    BE  27     72.0   96.2  21.8   \n",
              "3       Mike Hornbuckle        Pepperdine   WCC  30     44.5   97.7  16.0   \n",
              "4         Anthony Brown           Pacific    BW  33     56.2   96.5  22.0   \n",
              "...                 ...               ...   ...  ..      ...    ...   ...   \n",
              "65034       Aquan Smart               FIU  CUSA  21     11.7   69.4  17.7   \n",
              "65035       Chase Barrs       Florida A&M  SWAC  14     11.0   85.1   8.8   \n",
              "65036      Hugo Clarkin    Sacramento St.  BSky  16     22.8   99.7   7.8   \n",
              "65037  James Graham III          Maryland   B10   7      1.8    9.4  17.1   \n",
              "65038       Zane Butler  SIU Edwardsville   OVC  12      7.0   84.8  10.6   \n",
              "\n",
              "        eFG  TS_per  ORB_per  ...     dgbpm    oreb    dreb    treb     ast  \\\n",
              "0      42.5   44.43      1.6  ... -1.941150  0.1923  0.6154  0.8077  1.1923   \n",
              "1      52.4   54.48      3.8  ... -0.247934  0.6765  1.2647  1.9412  1.8235   \n",
              "2      45.7   47.98      2.1  ... -0.883163  0.6296  2.3333  2.9630  1.9630   \n",
              "3      53.6   53.69      4.1  ... -0.393459  0.7000  1.4333  2.1333  1.1000   \n",
              "4      52.8   54.31      8.3  ... -0.668318  1.4242  3.3030  4.7273  0.8485   \n",
              "...     ...     ...      ...  ...       ...     ...     ...     ...     ...   \n",
              "65034  32.1   36.08      1.8  ...  0.000000  0.0000  0.0000  0.0000  0.0000   \n",
              "65035  42.9   40.61      5.4  ...  0.000000  0.0000  0.0000  0.0000  0.0000   \n",
              "65036  70.6   68.67      2.9  ...  0.000000  0.0000  0.0000  0.0000  0.0000   \n",
              "65037   0.0    0.00      0.0  ...  0.000000  0.0000  0.0000  0.0000  0.0000   \n",
              "65038  35.0   41.10      5.2  ...  0.000000  0.0000  0.0000  0.0000  0.0000   \n",
              "\n",
              "          stl     blk      pts  Unnamed: 64  Unnamed: 65  \n",
              "0      0.3462  0.0385   3.8846            0      6.22026  \n",
              "1      0.4118  0.2353   5.9412            0      3.94375  \n",
              "2      0.4815  0.0000  12.1852            0     10.92680  \n",
              "3      0.5667  0.1333   4.9333            0      6.77427  \n",
              "4      0.4545  0.3333   7.5758            0      0.00000  \n",
              "...       ...     ...      ...          ...          ...  \n",
              "65034  0.0000  0.0000   0.0000            0      0.00000  \n",
              "65035  0.0000  0.0000   0.0000            0      0.00000  \n",
              "65036  0.0000  0.0000   0.0000            0      0.00000  \n",
              "65037  0.0000  0.0000   0.0000            0      0.00000  \n",
              "65038  0.0000  0.0000   0.0000            0      0.00000  \n",
              "\n",
              "[65039 rows x 66 columns]"
            ],
            "text/html": [
              "\n",
              "  <div id=\"df-03b7f73c-f3a5-4dd4-8a20-b71cfd738dc2\">\n",
              "    <div class=\"colab-df-container\">\n",
              "      <div>\n",
              "<style scoped>\n",
              "    .dataframe tbody tr th:only-of-type {\n",
              "        vertical-align: middle;\n",
              "    }\n",
              "\n",
              "    .dataframe tbody tr th {\n",
              "        vertical-align: top;\n",
              "    }\n",
              "\n",
              "    .dataframe thead th {\n",
              "        text-align: right;\n",
              "    }\n",
              "</style>\n",
              "<table border=\"1\" class=\"dataframe\">\n",
              "  <thead>\n",
              "    <tr style=\"text-align: right;\">\n",
              "      <th></th>\n",
              "      <th>player_name</th>\n",
              "      <th>team</th>\n",
              "      <th>conf</th>\n",
              "      <th>GP</th>\n",
              "      <th>Min_per</th>\n",
              "      <th>Ortg</th>\n",
              "      <th>usg</th>\n",
              "      <th>eFG</th>\n",
              "      <th>TS_per</th>\n",
              "      <th>ORB_per</th>\n",
              "      <th>...</th>\n",
              "      <th>dgbpm</th>\n",
              "      <th>oreb</th>\n",
              "      <th>dreb</th>\n",
              "      <th>treb</th>\n",
              "      <th>ast</th>\n",
              "      <th>stl</th>\n",
              "      <th>blk</th>\n",
              "      <th>pts</th>\n",
              "      <th>Unnamed: 64</th>\n",
              "      <th>Unnamed: 65</th>\n",
              "    </tr>\n",
              "  </thead>\n",
              "  <tbody>\n",
              "    <tr>\n",
              "      <th>0</th>\n",
              "      <td>DeAndrae Ross</td>\n",
              "      <td>South Alabama</td>\n",
              "      <td>SB</td>\n",
              "      <td>26</td>\n",
              "      <td>29.5</td>\n",
              "      <td>97.3</td>\n",
              "      <td>16.6</td>\n",
              "      <td>42.5</td>\n",
              "      <td>44.43</td>\n",
              "      <td>1.6</td>\n",
              "      <td>...</td>\n",
              "      <td>-1.941150</td>\n",
              "      <td>0.1923</td>\n",
              "      <td>0.6154</td>\n",
              "      <td>0.8077</td>\n",
              "      <td>1.1923</td>\n",
              "      <td>0.3462</td>\n",
              "      <td>0.0385</td>\n",
              "      <td>3.8846</td>\n",
              "      <td>0</td>\n",
              "      <td>6.22026</td>\n",
              "    </tr>\n",
              "    <tr>\n",
              "      <th>1</th>\n",
              "      <td>Pooh Williams</td>\n",
              "      <td>Utah St.</td>\n",
              "      <td>WAC</td>\n",
              "      <td>34</td>\n",
              "      <td>60.9</td>\n",
              "      <td>108.3</td>\n",
              "      <td>14.9</td>\n",
              "      <td>52.4</td>\n",
              "      <td>54.48</td>\n",
              "      <td>3.8</td>\n",
              "      <td>...</td>\n",
              "      <td>-0.247934</td>\n",
              "      <td>0.6765</td>\n",
              "      <td>1.2647</td>\n",
              "      <td>1.9412</td>\n",
              "      <td>1.8235</td>\n",
              "      <td>0.4118</td>\n",
              "      <td>0.2353</td>\n",
              "      <td>5.9412</td>\n",
              "      <td>0</td>\n",
              "      <td>3.94375</td>\n",
              "    </tr>\n",
              "    <tr>\n",
              "      <th>2</th>\n",
              "      <td>Jesus Verdejo</td>\n",
              "      <td>South Florida</td>\n",
              "      <td>BE</td>\n",
              "      <td>27</td>\n",
              "      <td>72.0</td>\n",
              "      <td>96.2</td>\n",
              "      <td>21.8</td>\n",
              "      <td>45.7</td>\n",
              "      <td>47.98</td>\n",
              "      <td>2.1</td>\n",
              "      <td>...</td>\n",
              "      <td>-0.883163</td>\n",
              "      <td>0.6296</td>\n",
              "      <td>2.3333</td>\n",
              "      <td>2.9630</td>\n",
              "      <td>1.9630</td>\n",
              "      <td>0.4815</td>\n",
              "      <td>0.0000</td>\n",
              "      <td>12.1852</td>\n",
              "      <td>0</td>\n",
              "      <td>10.92680</td>\n",
              "    </tr>\n",
              "    <tr>\n",
              "      <th>3</th>\n",
              "      <td>Mike Hornbuckle</td>\n",
              "      <td>Pepperdine</td>\n",
              "      <td>WCC</td>\n",
              "      <td>30</td>\n",
              "      <td>44.5</td>\n",
              "      <td>97.7</td>\n",
              "      <td>16.0</td>\n",
              "      <td>53.6</td>\n",
              "      <td>53.69</td>\n",
              "      <td>4.1</td>\n",
              "      <td>...</td>\n",
              "      <td>-0.393459</td>\n",
              "      <td>0.7000</td>\n",
              "      <td>1.4333</td>\n",
              "      <td>2.1333</td>\n",
              "      <td>1.1000</td>\n",
              "      <td>0.5667</td>\n",
              "      <td>0.1333</td>\n",
              "      <td>4.9333</td>\n",
              "      <td>0</td>\n",
              "      <td>6.77427</td>\n",
              "    </tr>\n",
              "    <tr>\n",
              "      <th>4</th>\n",
              "      <td>Anthony Brown</td>\n",
              "      <td>Pacific</td>\n",
              "      <td>BW</td>\n",
              "      <td>33</td>\n",
              "      <td>56.2</td>\n",
              "      <td>96.5</td>\n",
              "      <td>22.0</td>\n",
              "      <td>52.8</td>\n",
              "      <td>54.31</td>\n",
              "      <td>8.3</td>\n",
              "      <td>...</td>\n",
              "      <td>-0.668318</td>\n",
              "      <td>1.4242</td>\n",
              "      <td>3.3030</td>\n",
              "      <td>4.7273</td>\n",
              "      <td>0.8485</td>\n",
              "      <td>0.4545</td>\n",
              "      <td>0.3333</td>\n",
              "      <td>7.5758</td>\n",
              "      <td>0</td>\n",
              "      <td>0.00000</td>\n",
              "    </tr>\n",
              "    <tr>\n",
              "      <th>...</th>\n",
              "      <td>...</td>\n",
              "      <td>...</td>\n",
              "      <td>...</td>\n",
              "      <td>...</td>\n",
              "      <td>...</td>\n",
              "      <td>...</td>\n",
              "      <td>...</td>\n",
              "      <td>...</td>\n",
              "      <td>...</td>\n",
              "      <td>...</td>\n",
              "      <td>...</td>\n",
              "      <td>...</td>\n",
              "      <td>...</td>\n",
              "      <td>...</td>\n",
              "      <td>...</td>\n",
              "      <td>...</td>\n",
              "      <td>...</td>\n",
              "      <td>...</td>\n",
              "      <td>...</td>\n",
              "      <td>...</td>\n",
              "      <td>...</td>\n",
              "    </tr>\n",
              "    <tr>\n",
              "      <th>65034</th>\n",
              "      <td>Aquan Smart</td>\n",
              "      <td>FIU</td>\n",
              "      <td>CUSA</td>\n",
              "      <td>21</td>\n",
              "      <td>11.7</td>\n",
              "      <td>69.4</td>\n",
              "      <td>17.7</td>\n",
              "      <td>32.1</td>\n",
              "      <td>36.08</td>\n",
              "      <td>1.8</td>\n",
              "      <td>...</td>\n",
              "      <td>0.000000</td>\n",
              "      <td>0.0000</td>\n",
              "      <td>0.0000</td>\n",
              "      <td>0.0000</td>\n",
              "      <td>0.0000</td>\n",
              "      <td>0.0000</td>\n",
              "      <td>0.0000</td>\n",
              "      <td>0.0000</td>\n",
              "      <td>0</td>\n",
              "      <td>0.00000</td>\n",
              "    </tr>\n",
              "    <tr>\n",
              "      <th>65035</th>\n",
              "      <td>Chase Barrs</td>\n",
              "      <td>Florida A&amp;M</td>\n",
              "      <td>SWAC</td>\n",
              "      <td>14</td>\n",
              "      <td>11.0</td>\n",
              "      <td>85.1</td>\n",
              "      <td>8.8</td>\n",
              "      <td>42.9</td>\n",
              "      <td>40.61</td>\n",
              "      <td>5.4</td>\n",
              "      <td>...</td>\n",
              "      <td>0.000000</td>\n",
              "      <td>0.0000</td>\n",
              "      <td>0.0000</td>\n",
              "      <td>0.0000</td>\n",
              "      <td>0.0000</td>\n",
              "      <td>0.0000</td>\n",
              "      <td>0.0000</td>\n",
              "      <td>0.0000</td>\n",
              "      <td>0</td>\n",
              "      <td>0.00000</td>\n",
              "    </tr>\n",
              "    <tr>\n",
              "      <th>65036</th>\n",
              "      <td>Hugo Clarkin</td>\n",
              "      <td>Sacramento St.</td>\n",
              "      <td>BSky</td>\n",
              "      <td>16</td>\n",
              "      <td>22.8</td>\n",
              "      <td>99.7</td>\n",
              "      <td>7.8</td>\n",
              "      <td>70.6</td>\n",
              "      <td>68.67</td>\n",
              "      <td>2.9</td>\n",
              "      <td>...</td>\n",
              "      <td>0.000000</td>\n",
              "      <td>0.0000</td>\n",
              "      <td>0.0000</td>\n",
              "      <td>0.0000</td>\n",
              "      <td>0.0000</td>\n",
              "      <td>0.0000</td>\n",
              "      <td>0.0000</td>\n",
              "      <td>0.0000</td>\n",
              "      <td>0</td>\n",
              "      <td>0.00000</td>\n",
              "    </tr>\n",
              "    <tr>\n",
              "      <th>65037</th>\n",
              "      <td>James Graham III</td>\n",
              "      <td>Maryland</td>\n",
              "      <td>B10</td>\n",
              "      <td>7</td>\n",
              "      <td>1.8</td>\n",
              "      <td>9.4</td>\n",
              "      <td>17.1</td>\n",
              "      <td>0.0</td>\n",
              "      <td>0.00</td>\n",
              "      <td>0.0</td>\n",
              "      <td>...</td>\n",
              "      <td>0.000000</td>\n",
              "      <td>0.0000</td>\n",
              "      <td>0.0000</td>\n",
              "      <td>0.0000</td>\n",
              "      <td>0.0000</td>\n",
              "      <td>0.0000</td>\n",
              "      <td>0.0000</td>\n",
              "      <td>0.0000</td>\n",
              "      <td>0</td>\n",
              "      <td>0.00000</td>\n",
              "    </tr>\n",
              "    <tr>\n",
              "      <th>65038</th>\n",
              "      <td>Zane Butler</td>\n",
              "      <td>SIU Edwardsville</td>\n",
              "      <td>OVC</td>\n",
              "      <td>12</td>\n",
              "      <td>7.0</td>\n",
              "      <td>84.8</td>\n",
              "      <td>10.6</td>\n",
              "      <td>35.0</td>\n",
              "      <td>41.10</td>\n",
              "      <td>5.2</td>\n",
              "      <td>...</td>\n",
              "      <td>0.000000</td>\n",
              "      <td>0.0000</td>\n",
              "      <td>0.0000</td>\n",
              "      <td>0.0000</td>\n",
              "      <td>0.0000</td>\n",
              "      <td>0.0000</td>\n",
              "      <td>0.0000</td>\n",
              "      <td>0.0000</td>\n",
              "      <td>0</td>\n",
              "      <td>0.00000</td>\n",
              "    </tr>\n",
              "  </tbody>\n",
              "</table>\n",
              "<p>65039 rows × 66 columns</p>\n",
              "</div>\n",
              "      <button class=\"colab-df-convert\" onclick=\"convertToInteractive('df-03b7f73c-f3a5-4dd4-8a20-b71cfd738dc2')\"\n",
              "              title=\"Convert this dataframe to an interactive table.\"\n",
              "              style=\"display:none;\">\n",
              "        \n",
              "  <svg xmlns=\"http://www.w3.org/2000/svg\" height=\"24px\"viewBox=\"0 0 24 24\"\n",
              "       width=\"24px\">\n",
              "    <path d=\"M0 0h24v24H0V0z\" fill=\"none\"/>\n",
              "    <path d=\"M18.56 5.44l.94 2.06.94-2.06 2.06-.94-2.06-.94-.94-2.06-.94 2.06-2.06.94zm-11 1L8.5 8.5l.94-2.06 2.06-.94-2.06-.94L8.5 2.5l-.94 2.06-2.06.94zm10 10l.94 2.06.94-2.06 2.06-.94-2.06-.94-.94-2.06-.94 2.06-2.06.94z\"/><path d=\"M17.41 7.96l-1.37-1.37c-.4-.4-.92-.59-1.43-.59-.52 0-1.04.2-1.43.59L10.3 9.45l-7.72 7.72c-.78.78-.78 2.05 0 2.83L4 21.41c.39.39.9.59 1.41.59.51 0 1.02-.2 1.41-.59l7.78-7.78 2.81-2.81c.8-.78.8-2.07 0-2.86zM5.41 20L4 18.59l7.72-7.72 1.47 1.35L5.41 20z\"/>\n",
              "  </svg>\n",
              "      </button>\n",
              "      \n",
              "  <style>\n",
              "    .colab-df-container {\n",
              "      display:flex;\n",
              "      flex-wrap:wrap;\n",
              "      gap: 12px;\n",
              "    }\n",
              "\n",
              "    .colab-df-convert {\n",
              "      background-color: #E8F0FE;\n",
              "      border: none;\n",
              "      border-radius: 50%;\n",
              "      cursor: pointer;\n",
              "      display: none;\n",
              "      fill: #1967D2;\n",
              "      height: 32px;\n",
              "      padding: 0 0 0 0;\n",
              "      width: 32px;\n",
              "    }\n",
              "\n",
              "    .colab-df-convert:hover {\n",
              "      background-color: #E2EBFA;\n",
              "      box-shadow: 0px 1px 2px rgba(60, 64, 67, 0.3), 0px 1px 3px 1px rgba(60, 64, 67, 0.15);\n",
              "      fill: #174EA6;\n",
              "    }\n",
              "\n",
              "    [theme=dark] .colab-df-convert {\n",
              "      background-color: #3B4455;\n",
              "      fill: #D2E3FC;\n",
              "    }\n",
              "\n",
              "    [theme=dark] .colab-df-convert:hover {\n",
              "      background-color: #434B5C;\n",
              "      box-shadow: 0px 1px 3px 1px rgba(0, 0, 0, 0.15);\n",
              "      filter: drop-shadow(0px 1px 2px rgba(0, 0, 0, 0.3));\n",
              "      fill: #FFFFFF;\n",
              "    }\n",
              "  </style>\n",
              "\n",
              "      <script>\n",
              "        const buttonEl =\n",
              "          document.querySelector('#df-03b7f73c-f3a5-4dd4-8a20-b71cfd738dc2 button.colab-df-convert');\n",
              "        buttonEl.style.display =\n",
              "          google.colab.kernel.accessAllowed ? 'block' : 'none';\n",
              "\n",
              "        async function convertToInteractive(key) {\n",
              "          const element = document.querySelector('#df-03b7f73c-f3a5-4dd4-8a20-b71cfd738dc2');\n",
              "          const dataTable =\n",
              "            await google.colab.kernel.invokeFunction('convertToInteractive',\n",
              "                                                     [key], {});\n",
              "          if (!dataTable) return;\n",
              "\n",
              "          const docLinkHtml = 'Like what you see? Visit the ' +\n",
              "            '<a target=\"_blank\" href=https://colab.research.google.com/notebooks/data_table.ipynb>data table notebook</a>'\n",
              "            + ' to learn more about interactive tables.';\n",
              "          element.innerHTML = '';\n",
              "          dataTable['output_type'] = 'display_data';\n",
              "          await google.colab.output.renderOutput(dataTable, element);\n",
              "          const docLink = document.createElement('div');\n",
              "          docLink.innerHTML = docLinkHtml;\n",
              "          element.appendChild(docLink);\n",
              "        }\n",
              "      </script>\n",
              "    </div>\n",
              "  </div>\n",
              "  "
            ]
          },
          "metadata": {},
          "execution_count": 277
        }
      ]
    },
    {
      "cell_type": "code",
      "source": [
        "# Build model with 2009-2021 data\n",
        "\n",
        "df = df_all.loc[df_all['year'] < 2022]\n",
        "\n",
        "# 2022 data will be test data"
      ],
      "metadata": {
        "id": "snj56NQokndi"
      },
      "id": "snj56NQokndi",
      "execution_count": 278,
      "outputs": []
    },
    {
      "cell_type": "code",
      "execution_count": 279,
      "id": "698f8f37-4223-4770-baf0-a4e6b9b782d9",
      "metadata": {
        "colab": {
          "base_uri": "https://localhost:8080/",
          "height": 493
        },
        "id": "698f8f37-4223-4770-baf0-a4e6b9b782d9",
        "outputId": "9b5ab6c5-4b43-4814-af3b-e1560b8ecaa3"
      },
      "outputs": [
        {
          "output_type": "stream",
          "name": "stderr",
          "text": [
            "/usr/local/lib/python3.7/dist-packages/pandas/core/indexing.py:1667: SettingWithCopyWarning: \n",
            "A value is trying to be set on a copy of a slice from a DataFrame.\n",
            "Try using .loc[row_indexer,col_indexer] = value instead\n",
            "\n",
            "See the caveats in the documentation: https://pandas.pydata.org/pandas-docs/stable/user_guide/indexing.html#returning-a-view-versus-a-copy\n",
            "  self.obj[key] = value\n"
          ]
        },
        {
          "output_type": "execute_result",
          "data": {
            "text/plain": [
              "       player_name           team conf  GP  Min_per   Ortg   usg   eFG  \\\n",
              "0    DeAndrae Ross  South Alabama   SB  26     29.5   97.3  16.6  42.5   \n",
              "1    Pooh Williams       Utah St.  WAC  34     60.9  108.3  14.9  52.4   \n",
              "2    Jesus Verdejo  South Florida   BE  27     72.0   96.2  21.8  45.7   \n",
              "3  Mike Hornbuckle     Pepperdine  WCC  30     44.5   97.7  16.0  53.6   \n",
              "4    Anthony Brown        Pacific   BW  33     56.2   96.5  22.0  52.8   \n",
              "\n",
              "   TS_per  ORB_per  ...    oreb    dreb    treb     ast     stl     blk  \\\n",
              "0   44.43      1.6  ...  0.1923  0.6154  0.8077  1.1923  0.3462  0.0385   \n",
              "1   54.48      3.8  ...  0.6765  1.2647  1.9412  1.8235  0.4118  0.2353   \n",
              "2   47.98      2.1  ...  0.6296  2.3333  2.9630  1.9630  0.4815  0.0000   \n",
              "3   53.69      4.1  ...  0.7000  1.4333  2.1333  1.1000  0.5667  0.1333   \n",
              "4   54.31      8.3  ...  1.4242  3.3030  4.7273  0.8485  0.4545  0.3333   \n",
              "\n",
              "       pts  Unnamed: 64  Unnamed: 65  Group  \n",
              "0   3.8846            0      6.22026      0  \n",
              "1   5.9412            0      3.94375      0  \n",
              "2  12.1852            0     10.92680      0  \n",
              "3   4.9333            0      6.77427      0  \n",
              "4   7.5758            0      0.00000      0  \n",
              "\n",
              "[5 rows x 67 columns]"
            ],
            "text/html": [
              "\n",
              "  <div id=\"df-b50e7728-01f8-4697-a2c9-fa81c43eb9ce\">\n",
              "    <div class=\"colab-df-container\">\n",
              "      <div>\n",
              "<style scoped>\n",
              "    .dataframe tbody tr th:only-of-type {\n",
              "        vertical-align: middle;\n",
              "    }\n",
              "\n",
              "    .dataframe tbody tr th {\n",
              "        vertical-align: top;\n",
              "    }\n",
              "\n",
              "    .dataframe thead th {\n",
              "        text-align: right;\n",
              "    }\n",
              "</style>\n",
              "<table border=\"1\" class=\"dataframe\">\n",
              "  <thead>\n",
              "    <tr style=\"text-align: right;\">\n",
              "      <th></th>\n",
              "      <th>player_name</th>\n",
              "      <th>team</th>\n",
              "      <th>conf</th>\n",
              "      <th>GP</th>\n",
              "      <th>Min_per</th>\n",
              "      <th>Ortg</th>\n",
              "      <th>usg</th>\n",
              "      <th>eFG</th>\n",
              "      <th>TS_per</th>\n",
              "      <th>ORB_per</th>\n",
              "      <th>...</th>\n",
              "      <th>oreb</th>\n",
              "      <th>dreb</th>\n",
              "      <th>treb</th>\n",
              "      <th>ast</th>\n",
              "      <th>stl</th>\n",
              "      <th>blk</th>\n",
              "      <th>pts</th>\n",
              "      <th>Unnamed: 64</th>\n",
              "      <th>Unnamed: 65</th>\n",
              "      <th>Group</th>\n",
              "    </tr>\n",
              "  </thead>\n",
              "  <tbody>\n",
              "    <tr>\n",
              "      <th>0</th>\n",
              "      <td>DeAndrae Ross</td>\n",
              "      <td>South Alabama</td>\n",
              "      <td>SB</td>\n",
              "      <td>26</td>\n",
              "      <td>29.5</td>\n",
              "      <td>97.3</td>\n",
              "      <td>16.6</td>\n",
              "      <td>42.5</td>\n",
              "      <td>44.43</td>\n",
              "      <td>1.6</td>\n",
              "      <td>...</td>\n",
              "      <td>0.1923</td>\n",
              "      <td>0.6154</td>\n",
              "      <td>0.8077</td>\n",
              "      <td>1.1923</td>\n",
              "      <td>0.3462</td>\n",
              "      <td>0.0385</td>\n",
              "      <td>3.8846</td>\n",
              "      <td>0</td>\n",
              "      <td>6.22026</td>\n",
              "      <td>0</td>\n",
              "    </tr>\n",
              "    <tr>\n",
              "      <th>1</th>\n",
              "      <td>Pooh Williams</td>\n",
              "      <td>Utah St.</td>\n",
              "      <td>WAC</td>\n",
              "      <td>34</td>\n",
              "      <td>60.9</td>\n",
              "      <td>108.3</td>\n",
              "      <td>14.9</td>\n",
              "      <td>52.4</td>\n",
              "      <td>54.48</td>\n",
              "      <td>3.8</td>\n",
              "      <td>...</td>\n",
              "      <td>0.6765</td>\n",
              "      <td>1.2647</td>\n",
              "      <td>1.9412</td>\n",
              "      <td>1.8235</td>\n",
              "      <td>0.4118</td>\n",
              "      <td>0.2353</td>\n",
              "      <td>5.9412</td>\n",
              "      <td>0</td>\n",
              "      <td>3.94375</td>\n",
              "      <td>0</td>\n",
              "    </tr>\n",
              "    <tr>\n",
              "      <th>2</th>\n",
              "      <td>Jesus Verdejo</td>\n",
              "      <td>South Florida</td>\n",
              "      <td>BE</td>\n",
              "      <td>27</td>\n",
              "      <td>72.0</td>\n",
              "      <td>96.2</td>\n",
              "      <td>21.8</td>\n",
              "      <td>45.7</td>\n",
              "      <td>47.98</td>\n",
              "      <td>2.1</td>\n",
              "      <td>...</td>\n",
              "      <td>0.6296</td>\n",
              "      <td>2.3333</td>\n",
              "      <td>2.9630</td>\n",
              "      <td>1.9630</td>\n",
              "      <td>0.4815</td>\n",
              "      <td>0.0000</td>\n",
              "      <td>12.1852</td>\n",
              "      <td>0</td>\n",
              "      <td>10.92680</td>\n",
              "      <td>0</td>\n",
              "    </tr>\n",
              "    <tr>\n",
              "      <th>3</th>\n",
              "      <td>Mike Hornbuckle</td>\n",
              "      <td>Pepperdine</td>\n",
              "      <td>WCC</td>\n",
              "      <td>30</td>\n",
              "      <td>44.5</td>\n",
              "      <td>97.7</td>\n",
              "      <td>16.0</td>\n",
              "      <td>53.6</td>\n",
              "      <td>53.69</td>\n",
              "      <td>4.1</td>\n",
              "      <td>...</td>\n",
              "      <td>0.7000</td>\n",
              "      <td>1.4333</td>\n",
              "      <td>2.1333</td>\n",
              "      <td>1.1000</td>\n",
              "      <td>0.5667</td>\n",
              "      <td>0.1333</td>\n",
              "      <td>4.9333</td>\n",
              "      <td>0</td>\n",
              "      <td>6.77427</td>\n",
              "      <td>0</td>\n",
              "    </tr>\n",
              "    <tr>\n",
              "      <th>4</th>\n",
              "      <td>Anthony Brown</td>\n",
              "      <td>Pacific</td>\n",
              "      <td>BW</td>\n",
              "      <td>33</td>\n",
              "      <td>56.2</td>\n",
              "      <td>96.5</td>\n",
              "      <td>22.0</td>\n",
              "      <td>52.8</td>\n",
              "      <td>54.31</td>\n",
              "      <td>8.3</td>\n",
              "      <td>...</td>\n",
              "      <td>1.4242</td>\n",
              "      <td>3.3030</td>\n",
              "      <td>4.7273</td>\n",
              "      <td>0.8485</td>\n",
              "      <td>0.4545</td>\n",
              "      <td>0.3333</td>\n",
              "      <td>7.5758</td>\n",
              "      <td>0</td>\n",
              "      <td>0.00000</td>\n",
              "      <td>0</td>\n",
              "    </tr>\n",
              "  </tbody>\n",
              "</table>\n",
              "<p>5 rows × 67 columns</p>\n",
              "</div>\n",
              "      <button class=\"colab-df-convert\" onclick=\"convertToInteractive('df-b50e7728-01f8-4697-a2c9-fa81c43eb9ce')\"\n",
              "              title=\"Convert this dataframe to an interactive table.\"\n",
              "              style=\"display:none;\">\n",
              "        \n",
              "  <svg xmlns=\"http://www.w3.org/2000/svg\" height=\"24px\"viewBox=\"0 0 24 24\"\n",
              "       width=\"24px\">\n",
              "    <path d=\"M0 0h24v24H0V0z\" fill=\"none\"/>\n",
              "    <path d=\"M18.56 5.44l.94 2.06.94-2.06 2.06-.94-2.06-.94-.94-2.06-.94 2.06-2.06.94zm-11 1L8.5 8.5l.94-2.06 2.06-.94-2.06-.94L8.5 2.5l-.94 2.06-2.06.94zm10 10l.94 2.06.94-2.06 2.06-.94-2.06-.94-.94-2.06-.94 2.06-2.06.94z\"/><path d=\"M17.41 7.96l-1.37-1.37c-.4-.4-.92-.59-1.43-.59-.52 0-1.04.2-1.43.59L10.3 9.45l-7.72 7.72c-.78.78-.78 2.05 0 2.83L4 21.41c.39.39.9.59 1.41.59.51 0 1.02-.2 1.41-.59l7.78-7.78 2.81-2.81c.8-.78.8-2.07 0-2.86zM5.41 20L4 18.59l7.72-7.72 1.47 1.35L5.41 20z\"/>\n",
              "  </svg>\n",
              "      </button>\n",
              "      \n",
              "  <style>\n",
              "    .colab-df-container {\n",
              "      display:flex;\n",
              "      flex-wrap:wrap;\n",
              "      gap: 12px;\n",
              "    }\n",
              "\n",
              "    .colab-df-convert {\n",
              "      background-color: #E8F0FE;\n",
              "      border: none;\n",
              "      border-radius: 50%;\n",
              "      cursor: pointer;\n",
              "      display: none;\n",
              "      fill: #1967D2;\n",
              "      height: 32px;\n",
              "      padding: 0 0 0 0;\n",
              "      width: 32px;\n",
              "    }\n",
              "\n",
              "    .colab-df-convert:hover {\n",
              "      background-color: #E2EBFA;\n",
              "      box-shadow: 0px 1px 2px rgba(60, 64, 67, 0.3), 0px 1px 3px 1px rgba(60, 64, 67, 0.15);\n",
              "      fill: #174EA6;\n",
              "    }\n",
              "\n",
              "    [theme=dark] .colab-df-convert {\n",
              "      background-color: #3B4455;\n",
              "      fill: #D2E3FC;\n",
              "    }\n",
              "\n",
              "    [theme=dark] .colab-df-convert:hover {\n",
              "      background-color: #434B5C;\n",
              "      box-shadow: 0px 1px 3px 1px rgba(0, 0, 0, 0.15);\n",
              "      filter: drop-shadow(0px 1px 2px rgba(0, 0, 0, 0.3));\n",
              "      fill: #FFFFFF;\n",
              "    }\n",
              "  </style>\n",
              "\n",
              "      <script>\n",
              "        const buttonEl =\n",
              "          document.querySelector('#df-b50e7728-01f8-4697-a2c9-fa81c43eb9ce button.colab-df-convert');\n",
              "        buttonEl.style.display =\n",
              "          google.colab.kernel.accessAllowed ? 'block' : 'none';\n",
              "\n",
              "        async function convertToInteractive(key) {\n",
              "          const element = document.querySelector('#df-b50e7728-01f8-4697-a2c9-fa81c43eb9ce');\n",
              "          const dataTable =\n",
              "            await google.colab.kernel.invokeFunction('convertToInteractive',\n",
              "                                                     [key], {});\n",
              "          if (!dataTable) return;\n",
              "\n",
              "          const docLinkHtml = 'Like what you see? Visit the ' +\n",
              "            '<a target=\"_blank\" href=https://colab.research.google.com/notebooks/data_table.ipynb>data table notebook</a>'\n",
              "            + ' to learn more about interactive tables.';\n",
              "          element.innerHTML = '';\n",
              "          dataTable['output_type'] = 'display_data';\n",
              "          await google.colab.output.renderOutput(dataTable, element);\n",
              "          const docLink = document.createElement('div');\n",
              "          docLink.innerHTML = docLinkHtml;\n",
              "          element.appendChild(docLink);\n",
              "        }\n",
              "      </script>\n",
              "    </div>\n",
              "  </div>\n",
              "  "
            ]
          },
          "metadata": {},
          "execution_count": 279
        }
      ],
      "source": [
        "# Create a column to hold Group data\n",
        "df.loc[:,'Group'] = 0\n",
        "df.head()"
      ]
    },
    {
      "cell_type": "markdown",
      "id": "5f7b85bc-b2ff-4939-9e9e-a5cbd168c1d1",
      "metadata": {
        "id": "5f7b85bc-b2ff-4939-9e9e-a5cbd168c1d1"
      },
      "source": [
        "---\n",
        "## Find top 15\n",
        "### Binary Classification"
      ]
    },
    {
      "cell_type": "code",
      "execution_count": 280,
      "id": "518b1441-c425-4483-98b6-2c8dd9bdcf69",
      "metadata": {
        "tags": [],
        "colab": {
          "base_uri": "https://localhost:8080/",
          "height": 592
        },
        "id": "518b1441-c425-4483-98b6-2c8dd9bdcf69",
        "outputId": "b5cade21-1886-4bfd-c39e-51ac5526d656"
      },
      "outputs": [
        {
          "output_type": "execute_result",
          "data": {
            "text/plain": [
              "              player_name              team  conf  GP  Min_per   Ortg   usg  \\\n",
              "0           DeAndrae Ross     South Alabama    SB  26     29.5   97.3  16.6   \n",
              "1           Pooh Williams          Utah St.   WAC  34     60.9  108.3  14.9   \n",
              "2           Jesus Verdejo     South Florida    BE  27     72.0   96.2  21.8   \n",
              "3         Mike Hornbuckle        Pepperdine   WCC  30     44.5   97.7  16.0   \n",
              "4           Anthony Brown           Pacific    BW  33     56.2   96.5  22.0   \n",
              "...                   ...               ...   ...  ..      ...    ...   ...   \n",
              "61056      Trey Patterson         Villanova    BE   2      0.3   60.5  19.3   \n",
              "61057  Stavros Polatoglou  Northwestern St.  Slnd   4      1.3   28.3   7.1   \n",
              "61058          Sandy Ryan            Tulane  Amer   1      0.1    0.0   0.0   \n",
              "61059           Ty Larson        Texas Tech   B12   1      0.1    0.0   0.0   \n",
              "61060         Jaden Jones           Rutgers   B10   4      1.0   89.6  28.8   \n",
              "\n",
              "        eFG  TS_per  ORB_per  ...    oreb    dreb    treb     ast     stl  \\\n",
              "0      42.5   44.43      1.6  ...  0.1923  0.6154  0.8077  1.1923  0.3462   \n",
              "1      52.4   54.48      3.8  ...  0.6765  1.2647  1.9412  1.8235  0.4118   \n",
              "2      45.7   47.98      2.1  ...  0.6296  2.3333  2.9630  1.9630  0.4815   \n",
              "3      53.6   53.69      4.1  ...  0.7000  1.4333  2.1333  1.1000  0.5667   \n",
              "4      52.8   54.31      8.3  ...  1.4242  3.3030  4.7273  0.8485  0.4545   \n",
              "...     ...     ...      ...  ...     ...     ...     ...     ...     ...   \n",
              "61056   0.0    0.00      0.0  ...  0.0000  0.0000  0.0000  0.5000  0.5000   \n",
              "61057   0.0    0.00      7.0  ...  0.2500  0.0000  0.2500  0.0000  0.0000   \n",
              "61058   0.0    0.00      0.0  ...  0.0000  0.0000  0.0000  0.0000  0.0000   \n",
              "61059   0.0    0.00      0.0  ...  0.0000  0.0000  0.0000  0.0000  0.0000   \n",
              "61060  25.0   25.00     10.3  ...  0.2500  0.0000  0.2500  0.7500  0.0000   \n",
              "\n",
              "          blk      pts  Unnamed: 64  Unnamed: 65  Group  \n",
              "0      0.0385   3.8846            0      6.22026      0  \n",
              "1      0.2353   5.9412            0      3.94375      0  \n",
              "2      0.0000  12.1852            0     10.92680      0  \n",
              "3      0.1333   4.9333            0      6.77427      0  \n",
              "4      0.3333   7.5758            0      0.00000      0  \n",
              "...       ...      ...          ...          ...    ...  \n",
              "61056  0.0000   0.0000      Pure PG      0.00000      0  \n",
              "61057  0.0000   0.0000            C      0.00000      0  \n",
              "61058  0.0000   0.0000         PF/C      0.00000      0  \n",
              "61059  0.0000   0.0000         PF/C      0.00000      0  \n",
              "61060  0.0000   0.7500      Pure PG     10.43920      0  \n",
              "\n",
              "[61061 rows x 67 columns]"
            ],
            "text/html": [
              "\n",
              "  <div id=\"df-8acb31b0-6b08-47de-ba8a-10d576ce92aa\">\n",
              "    <div class=\"colab-df-container\">\n",
              "      <div>\n",
              "<style scoped>\n",
              "    .dataframe tbody tr th:only-of-type {\n",
              "        vertical-align: middle;\n",
              "    }\n",
              "\n",
              "    .dataframe tbody tr th {\n",
              "        vertical-align: top;\n",
              "    }\n",
              "\n",
              "    .dataframe thead th {\n",
              "        text-align: right;\n",
              "    }\n",
              "</style>\n",
              "<table border=\"1\" class=\"dataframe\">\n",
              "  <thead>\n",
              "    <tr style=\"text-align: right;\">\n",
              "      <th></th>\n",
              "      <th>player_name</th>\n",
              "      <th>team</th>\n",
              "      <th>conf</th>\n",
              "      <th>GP</th>\n",
              "      <th>Min_per</th>\n",
              "      <th>Ortg</th>\n",
              "      <th>usg</th>\n",
              "      <th>eFG</th>\n",
              "      <th>TS_per</th>\n",
              "      <th>ORB_per</th>\n",
              "      <th>...</th>\n",
              "      <th>oreb</th>\n",
              "      <th>dreb</th>\n",
              "      <th>treb</th>\n",
              "      <th>ast</th>\n",
              "      <th>stl</th>\n",
              "      <th>blk</th>\n",
              "      <th>pts</th>\n",
              "      <th>Unnamed: 64</th>\n",
              "      <th>Unnamed: 65</th>\n",
              "      <th>Group</th>\n",
              "    </tr>\n",
              "  </thead>\n",
              "  <tbody>\n",
              "    <tr>\n",
              "      <th>0</th>\n",
              "      <td>DeAndrae Ross</td>\n",
              "      <td>South Alabama</td>\n",
              "      <td>SB</td>\n",
              "      <td>26</td>\n",
              "      <td>29.5</td>\n",
              "      <td>97.3</td>\n",
              "      <td>16.6</td>\n",
              "      <td>42.5</td>\n",
              "      <td>44.43</td>\n",
              "      <td>1.6</td>\n",
              "      <td>...</td>\n",
              "      <td>0.1923</td>\n",
              "      <td>0.6154</td>\n",
              "      <td>0.8077</td>\n",
              "      <td>1.1923</td>\n",
              "      <td>0.3462</td>\n",
              "      <td>0.0385</td>\n",
              "      <td>3.8846</td>\n",
              "      <td>0</td>\n",
              "      <td>6.22026</td>\n",
              "      <td>0</td>\n",
              "    </tr>\n",
              "    <tr>\n",
              "      <th>1</th>\n",
              "      <td>Pooh Williams</td>\n",
              "      <td>Utah St.</td>\n",
              "      <td>WAC</td>\n",
              "      <td>34</td>\n",
              "      <td>60.9</td>\n",
              "      <td>108.3</td>\n",
              "      <td>14.9</td>\n",
              "      <td>52.4</td>\n",
              "      <td>54.48</td>\n",
              "      <td>3.8</td>\n",
              "      <td>...</td>\n",
              "      <td>0.6765</td>\n",
              "      <td>1.2647</td>\n",
              "      <td>1.9412</td>\n",
              "      <td>1.8235</td>\n",
              "      <td>0.4118</td>\n",
              "      <td>0.2353</td>\n",
              "      <td>5.9412</td>\n",
              "      <td>0</td>\n",
              "      <td>3.94375</td>\n",
              "      <td>0</td>\n",
              "    </tr>\n",
              "    <tr>\n",
              "      <th>2</th>\n",
              "      <td>Jesus Verdejo</td>\n",
              "      <td>South Florida</td>\n",
              "      <td>BE</td>\n",
              "      <td>27</td>\n",
              "      <td>72.0</td>\n",
              "      <td>96.2</td>\n",
              "      <td>21.8</td>\n",
              "      <td>45.7</td>\n",
              "      <td>47.98</td>\n",
              "      <td>2.1</td>\n",
              "      <td>...</td>\n",
              "      <td>0.6296</td>\n",
              "      <td>2.3333</td>\n",
              "      <td>2.9630</td>\n",
              "      <td>1.9630</td>\n",
              "      <td>0.4815</td>\n",
              "      <td>0.0000</td>\n",
              "      <td>12.1852</td>\n",
              "      <td>0</td>\n",
              "      <td>10.92680</td>\n",
              "      <td>0</td>\n",
              "    </tr>\n",
              "    <tr>\n",
              "      <th>3</th>\n",
              "      <td>Mike Hornbuckle</td>\n",
              "      <td>Pepperdine</td>\n",
              "      <td>WCC</td>\n",
              "      <td>30</td>\n",
              "      <td>44.5</td>\n",
              "      <td>97.7</td>\n",
              "      <td>16.0</td>\n",
              "      <td>53.6</td>\n",
              "      <td>53.69</td>\n",
              "      <td>4.1</td>\n",
              "      <td>...</td>\n",
              "      <td>0.7000</td>\n",
              "      <td>1.4333</td>\n",
              "      <td>2.1333</td>\n",
              "      <td>1.1000</td>\n",
              "      <td>0.5667</td>\n",
              "      <td>0.1333</td>\n",
              "      <td>4.9333</td>\n",
              "      <td>0</td>\n",
              "      <td>6.77427</td>\n",
              "      <td>0</td>\n",
              "    </tr>\n",
              "    <tr>\n",
              "      <th>4</th>\n",
              "      <td>Anthony Brown</td>\n",
              "      <td>Pacific</td>\n",
              "      <td>BW</td>\n",
              "      <td>33</td>\n",
              "      <td>56.2</td>\n",
              "      <td>96.5</td>\n",
              "      <td>22.0</td>\n",
              "      <td>52.8</td>\n",
              "      <td>54.31</td>\n",
              "      <td>8.3</td>\n",
              "      <td>...</td>\n",
              "      <td>1.4242</td>\n",
              "      <td>3.3030</td>\n",
              "      <td>4.7273</td>\n",
              "      <td>0.8485</td>\n",
              "      <td>0.4545</td>\n",
              "      <td>0.3333</td>\n",
              "      <td>7.5758</td>\n",
              "      <td>0</td>\n",
              "      <td>0.00000</td>\n",
              "      <td>0</td>\n",
              "    </tr>\n",
              "    <tr>\n",
              "      <th>...</th>\n",
              "      <td>...</td>\n",
              "      <td>...</td>\n",
              "      <td>...</td>\n",
              "      <td>...</td>\n",
              "      <td>...</td>\n",
              "      <td>...</td>\n",
              "      <td>...</td>\n",
              "      <td>...</td>\n",
              "      <td>...</td>\n",
              "      <td>...</td>\n",
              "      <td>...</td>\n",
              "      <td>...</td>\n",
              "      <td>...</td>\n",
              "      <td>...</td>\n",
              "      <td>...</td>\n",
              "      <td>...</td>\n",
              "      <td>...</td>\n",
              "      <td>...</td>\n",
              "      <td>...</td>\n",
              "      <td>...</td>\n",
              "      <td>...</td>\n",
              "    </tr>\n",
              "    <tr>\n",
              "      <th>61056</th>\n",
              "      <td>Trey Patterson</td>\n",
              "      <td>Villanova</td>\n",
              "      <td>BE</td>\n",
              "      <td>2</td>\n",
              "      <td>0.3</td>\n",
              "      <td>60.5</td>\n",
              "      <td>19.3</td>\n",
              "      <td>0.0</td>\n",
              "      <td>0.00</td>\n",
              "      <td>0.0</td>\n",
              "      <td>...</td>\n",
              "      <td>0.0000</td>\n",
              "      <td>0.0000</td>\n",
              "      <td>0.0000</td>\n",
              "      <td>0.5000</td>\n",
              "      <td>0.5000</td>\n",
              "      <td>0.0000</td>\n",
              "      <td>0.0000</td>\n",
              "      <td>Pure PG</td>\n",
              "      <td>0.00000</td>\n",
              "      <td>0</td>\n",
              "    </tr>\n",
              "    <tr>\n",
              "      <th>61057</th>\n",
              "      <td>Stavros Polatoglou</td>\n",
              "      <td>Northwestern St.</td>\n",
              "      <td>Slnd</td>\n",
              "      <td>4</td>\n",
              "      <td>1.3</td>\n",
              "      <td>28.3</td>\n",
              "      <td>7.1</td>\n",
              "      <td>0.0</td>\n",
              "      <td>0.00</td>\n",
              "      <td>7.0</td>\n",
              "      <td>...</td>\n",
              "      <td>0.2500</td>\n",
              "      <td>0.0000</td>\n",
              "      <td>0.2500</td>\n",
              "      <td>0.0000</td>\n",
              "      <td>0.0000</td>\n",
              "      <td>0.0000</td>\n",
              "      <td>0.0000</td>\n",
              "      <td>C</td>\n",
              "      <td>0.00000</td>\n",
              "      <td>0</td>\n",
              "    </tr>\n",
              "    <tr>\n",
              "      <th>61058</th>\n",
              "      <td>Sandy Ryan</td>\n",
              "      <td>Tulane</td>\n",
              "      <td>Amer</td>\n",
              "      <td>1</td>\n",
              "      <td>0.1</td>\n",
              "      <td>0.0</td>\n",
              "      <td>0.0</td>\n",
              "      <td>0.0</td>\n",
              "      <td>0.00</td>\n",
              "      <td>0.0</td>\n",
              "      <td>...</td>\n",
              "      <td>0.0000</td>\n",
              "      <td>0.0000</td>\n",
              "      <td>0.0000</td>\n",
              "      <td>0.0000</td>\n",
              "      <td>0.0000</td>\n",
              "      <td>0.0000</td>\n",
              "      <td>0.0000</td>\n",
              "      <td>PF/C</td>\n",
              "      <td>0.00000</td>\n",
              "      <td>0</td>\n",
              "    </tr>\n",
              "    <tr>\n",
              "      <th>61059</th>\n",
              "      <td>Ty Larson</td>\n",
              "      <td>Texas Tech</td>\n",
              "      <td>B12</td>\n",
              "      <td>1</td>\n",
              "      <td>0.1</td>\n",
              "      <td>0.0</td>\n",
              "      <td>0.0</td>\n",
              "      <td>0.0</td>\n",
              "      <td>0.00</td>\n",
              "      <td>0.0</td>\n",
              "      <td>...</td>\n",
              "      <td>0.0000</td>\n",
              "      <td>0.0000</td>\n",
              "      <td>0.0000</td>\n",
              "      <td>0.0000</td>\n",
              "      <td>0.0000</td>\n",
              "      <td>0.0000</td>\n",
              "      <td>0.0000</td>\n",
              "      <td>PF/C</td>\n",
              "      <td>0.00000</td>\n",
              "      <td>0</td>\n",
              "    </tr>\n",
              "    <tr>\n",
              "      <th>61060</th>\n",
              "      <td>Jaden Jones</td>\n",
              "      <td>Rutgers</td>\n",
              "      <td>B10</td>\n",
              "      <td>4</td>\n",
              "      <td>1.0</td>\n",
              "      <td>89.6</td>\n",
              "      <td>28.8</td>\n",
              "      <td>25.0</td>\n",
              "      <td>25.00</td>\n",
              "      <td>10.3</td>\n",
              "      <td>...</td>\n",
              "      <td>0.2500</td>\n",
              "      <td>0.0000</td>\n",
              "      <td>0.2500</td>\n",
              "      <td>0.7500</td>\n",
              "      <td>0.0000</td>\n",
              "      <td>0.0000</td>\n",
              "      <td>0.7500</td>\n",
              "      <td>Pure PG</td>\n",
              "      <td>10.43920</td>\n",
              "      <td>0</td>\n",
              "    </tr>\n",
              "  </tbody>\n",
              "</table>\n",
              "<p>61061 rows × 67 columns</p>\n",
              "</div>\n",
              "      <button class=\"colab-df-convert\" onclick=\"convertToInteractive('df-8acb31b0-6b08-47de-ba8a-10d576ce92aa')\"\n",
              "              title=\"Convert this dataframe to an interactive table.\"\n",
              "              style=\"display:none;\">\n",
              "        \n",
              "  <svg xmlns=\"http://www.w3.org/2000/svg\" height=\"24px\"viewBox=\"0 0 24 24\"\n",
              "       width=\"24px\">\n",
              "    <path d=\"M0 0h24v24H0V0z\" fill=\"none\"/>\n",
              "    <path d=\"M18.56 5.44l.94 2.06.94-2.06 2.06-.94-2.06-.94-.94-2.06-.94 2.06-2.06.94zm-11 1L8.5 8.5l.94-2.06 2.06-.94-2.06-.94L8.5 2.5l-.94 2.06-2.06.94zm10 10l.94 2.06.94-2.06 2.06-.94-2.06-.94-.94-2.06-.94 2.06-2.06.94z\"/><path d=\"M17.41 7.96l-1.37-1.37c-.4-.4-.92-.59-1.43-.59-.52 0-1.04.2-1.43.59L10.3 9.45l-7.72 7.72c-.78.78-.78 2.05 0 2.83L4 21.41c.39.39.9.59 1.41.59.51 0 1.02-.2 1.41-.59l7.78-7.78 2.81-2.81c.8-.78.8-2.07 0-2.86zM5.41 20L4 18.59l7.72-7.72 1.47 1.35L5.41 20z\"/>\n",
              "  </svg>\n",
              "      </button>\n",
              "      \n",
              "  <style>\n",
              "    .colab-df-container {\n",
              "      display:flex;\n",
              "      flex-wrap:wrap;\n",
              "      gap: 12px;\n",
              "    }\n",
              "\n",
              "    .colab-df-convert {\n",
              "      background-color: #E8F0FE;\n",
              "      border: none;\n",
              "      border-radius: 50%;\n",
              "      cursor: pointer;\n",
              "      display: none;\n",
              "      fill: #1967D2;\n",
              "      height: 32px;\n",
              "      padding: 0 0 0 0;\n",
              "      width: 32px;\n",
              "    }\n",
              "\n",
              "    .colab-df-convert:hover {\n",
              "      background-color: #E2EBFA;\n",
              "      box-shadow: 0px 1px 2px rgba(60, 64, 67, 0.3), 0px 1px 3px 1px rgba(60, 64, 67, 0.15);\n",
              "      fill: #174EA6;\n",
              "    }\n",
              "\n",
              "    [theme=dark] .colab-df-convert {\n",
              "      background-color: #3B4455;\n",
              "      fill: #D2E3FC;\n",
              "    }\n",
              "\n",
              "    [theme=dark] .colab-df-convert:hover {\n",
              "      background-color: #434B5C;\n",
              "      box-shadow: 0px 1px 3px 1px rgba(0, 0, 0, 0.15);\n",
              "      filter: drop-shadow(0px 1px 2px rgba(0, 0, 0, 0.3));\n",
              "      fill: #FFFFFF;\n",
              "    }\n",
              "  </style>\n",
              "\n",
              "      <script>\n",
              "        const buttonEl =\n",
              "          document.querySelector('#df-8acb31b0-6b08-47de-ba8a-10d576ce92aa button.colab-df-convert');\n",
              "        buttonEl.style.display =\n",
              "          google.colab.kernel.accessAllowed ? 'block' : 'none';\n",
              "\n",
              "        async function convertToInteractive(key) {\n",
              "          const element = document.querySelector('#df-8acb31b0-6b08-47de-ba8a-10d576ce92aa');\n",
              "          const dataTable =\n",
              "            await google.colab.kernel.invokeFunction('convertToInteractive',\n",
              "                                                     [key], {});\n",
              "          if (!dataTable) return;\n",
              "\n",
              "          const docLinkHtml = 'Like what you see? Visit the ' +\n",
              "            '<a target=\"_blank\" href=https://colab.research.google.com/notebooks/data_table.ipynb>data table notebook</a>'\n",
              "            + ' to learn more about interactive tables.';\n",
              "          element.innerHTML = '';\n",
              "          dataTable['output_type'] = 'display_data';\n",
              "          await google.colab.output.renderOutput(dataTable, element);\n",
              "          const docLink = document.createElement('div');\n",
              "          docLink.innerHTML = docLinkHtml;\n",
              "          element.appendChild(docLink);\n",
              "        }\n",
              "      </script>\n",
              "    </div>\n",
              "  </div>\n",
              "  "
            ]
          },
          "metadata": {},
          "execution_count": 280
        }
      ],
      "source": [
        "# Create groups based on ranks\n",
        "for index, row in df.iterrows():\n",
        "    if row['pick'] <= 15 and row['pick'] > 0:\n",
        "        df.at[index,'Group'] = 1\n",
        "    else:\n",
        "        df.at[index,'Group'] = 0\n",
        "    \n",
        "df"
      ]
    },
    {
      "cell_type": "code",
      "source": [
        "# Select from the following to be X\n",
        "df.columns"
      ],
      "metadata": {
        "colab": {
          "base_uri": "https://localhost:8080/"
        },
        "id": "ejH3DEGqpxMY",
        "outputId": "04a12ffe-f5d7-4e78-dc19-1e46d13566e9"
      },
      "id": "ejH3DEGqpxMY",
      "execution_count": 281,
      "outputs": [
        {
          "output_type": "execute_result",
          "data": {
            "text/plain": [
              "Index(['player_name', 'team', 'conf', 'GP', 'Min_per', 'Ortg', 'usg', 'eFG',\n",
              "       'TS_per', 'ORB_per', 'DRB_per', 'AST_per', 'TO_per', 'FTM', 'FTA',\n",
              "       'FT_per', 'twoPM', 'twoPA', 'twoP_per', 'TPM', 'TPA', 'TP_per',\n",
              "       'blk_per', 'stl_per', 'ftr', 'yr', 'ht', 'num', 'porpag', 'adjoe',\n",
              "       'pfr', 'year', 'pid', 'type', 'Rec Rank', 'ast/tov', 'rimmade',\n",
              "       'rimmade+rimmiss', 'midmade', 'midmade+midmiss',\n",
              "       'rimmade/(rimmade+rimmiss)', 'midmade/(midmade+midmiss)', 'dunksmade',\n",
              "       'dunksmiss+dunksmade', 'dunksmade/(dunksmade+dunksmiss)', 'pick',\n",
              "       'drtg', 'adrtg', 'dporpag', 'stops', 'bpm', 'obpm', 'dbpm', 'gbpm',\n",
              "       'mp', 'ogbpm', 'dgbpm', 'oreb', 'dreb', 'treb', 'ast', 'stl', 'blk',\n",
              "       'pts', 'Unnamed: 64', 'Unnamed: 65', 'Group'],\n",
              "      dtype='object')"
            ]
          },
          "metadata": {},
          "execution_count": 281
        }
      ]
    },
    {
      "cell_type": "code",
      "source": [
        "# Creates X by using specific statistics\n",
        "features = ['GP','Min_per', 'ftr', 'pts', 'ORB_per', 'DRB_per', 'blk_per', 'stl_per', 'dporpag', 'porpag', 'AST_per', 'TO_per', 'FT_per']"
      ],
      "metadata": {
        "id": "dJLHZ8YZqY8d"
      },
      "id": "dJLHZ8YZqY8d",
      "execution_count": 282,
      "outputs": []
    },
    {
      "cell_type": "code",
      "execution_count": 283,
      "id": "290bdb37-91f8-4004-b652-c9a51b99794d",
      "metadata": {
        "id": "290bdb37-91f8-4004-b652-c9a51b99794d"
      },
      "outputs": [],
      "source": [
        "# Set Feature and Target\n",
        "X = df[features]\n",
        "y = df['Group']"
      ]
    },
    {
      "cell_type": "code",
      "execution_count": 284,
      "id": "32d8f00e-86c9-45a5-81c5-16c7f16d41cd",
      "metadata": {
        "colab": {
          "base_uri": "https://localhost:8080/"
        },
        "id": "32d8f00e-86c9-45a5-81c5-16c7f16d41cd",
        "outputId": "7209a339-1936-4fe0-dbeb-7389b01c8d97"
      },
      "outputs": [
        {
          "output_type": "execute_result",
          "data": {
            "text/plain": [
              "0    60779\n",
              "1      282\n",
              "Name: Group, dtype: int64"
            ]
          },
          "metadata": {},
          "execution_count": 284
        }
      ],
      "source": [
        "# Review Grouped data size\n",
        "y.value_counts()"
      ]
    },
    {
      "cell_type": "markdown",
      "source": [
        "### The data is very imballanced and `Under Sampling` procedures are taken to revise the dataset to train ML models"
      ],
      "metadata": {
        "id": "TPUrPpQwiF5L"
      },
      "id": "TPUrPpQwiF5L"
    },
    {
      "cell_type": "markdown",
      "metadata": {
        "id": "y-neATQks9Ko"
      },
      "source": [
        "## Under sampling\n",
        "\n",
        "Referrence:\n",
        "\n",
        "`Undersampling Algoriths for Imbalanced Classification` by Jason Brownlee PhD \n",
        "\n",
        "Click [here](https://machinelearningmastery.com/undersampling-algorithms-for-imbalanced-classification/) for more information"
      ],
      "id": "y-neATQks9Ko"
    },
    {
      "cell_type": "code",
      "source": [
        "# Import imbalanced-learn\n",
        "import imblearn\n",
        "print(imblearn.__version__)"
      ],
      "metadata": {
        "colab": {
          "base_uri": "https://localhost:8080/"
        },
        "id": "oP2BpSJkwtxB",
        "outputId": "3f19993f-d068-4a89-9d04-d0793abebc74"
      },
      "id": "oP2BpSJkwtxB",
      "execution_count": 285,
      "outputs": [
        {
          "output_type": "stream",
          "name": "stdout",
          "text": [
            "0.8.1\n"
          ]
        }
      ]
    },
    {
      "cell_type": "markdown",
      "source": [
        "###Methods that select examples to KEEP\n",
        "---\n",
        "####1. Near Miss Undersampling\n",
        "NearMiss-1: Majority class examples with minimum average distance to three closest minority class examples.\n",
        "\n",
        "NearMiss-2: Majority class examples with minimum average distance to three furthest minority class examples.\n",
        "\n",
        "NearMiss-3: Majority class examples with minimum distance to each minority class example."
      ],
      "metadata": {
        "id": "LcgLxeTsd1xi"
      },
      "id": "LcgLxeTsd1xi"
    },
    {
      "cell_type": "code",
      "execution_count": 286,
      "metadata": {
        "colab": {
          "base_uri": "https://localhost:8080/"
        },
        "id": "UHuXTAWKs9Kp",
        "outputId": "70ce48bb-017d-4dc4-f2e7-8a48578811d1"
      },
      "outputs": [
        {
          "output_type": "stream",
          "name": "stdout",
          "text": [
            "Counter({0: 282, 1: 282})\n"
          ]
        }
      ],
      "source": [
        "# Undersample imbalanced dataset with NearMiss-1\n",
        "from collections import Counter\n",
        "from imblearn.under_sampling import NearMiss\n",
        "\n",
        "# define the undersampling method\n",
        "undersample = NearMiss(version=2, n_neighbors=3)\n",
        "# transform the dataset\n",
        "X, y = undersample.fit_resample(X, y)\n",
        "# summarize the new class distribution\n",
        "counter = Counter(y)\n",
        "print(counter)"
      ],
      "id": "UHuXTAWKs9Kp"
    },
    {
      "cell_type": "markdown",
      "source": [
        "### Performace repport:\n",
        "*   NM1 best performing model: SVC .82 accuracy, class 1 F1 score .81\n",
        "*   NM2 best performing model: AdaBoost .99 accuracy, class 1 F1 score .99\n",
        "*   NM3 best performing model: SVC .79 accuracy, class 1 F1 score .80"
      ],
      "metadata": {
        "id": "8HBdCuY1ex0a"
      },
      "id": "8HBdCuY1ex0a"
    },
    {
      "cell_type": "markdown",
      "source": [
        "---\n",
        "###Methods that select examples to KEEP\n",
        "####2. Condensed Nearest Neighbor Rule Underssampling\n",
        "Seeks a subset of a collection of samples that results in no loss in model performance, referred to as a minimal consistent set.\n",
        "\n",
        "It’s a relatively slow procedure, so small datasets and small k values are preferred."
      ],
      "metadata": {
        "id": "JENghnqifov9"
      },
      "id": "JENghnqifov9"
    },
    {
      "cell_type": "code",
      "source": [
        "# # Import method library\n",
        "# from imblearn.under_sampling import CondensedNearestNeighbour\n",
        "# from collections import Counter\n",
        "# # define the undersampling method\n",
        "# undersample = CondensedNearestNeighbour(n_neighbors=1)\n",
        "# # transform the dataset\n",
        "# X, y = undersample.fit_resample(X, y)\n",
        "# # summarize the new class distribution\n",
        "# counter = Counter(y)\n",
        "# print(counter)"
      ],
      "metadata": {
        "id": "e4FV6BHsf4Xb"
      },
      "id": "e4FV6BHsf4Xb",
      "execution_count": 287,
      "outputs": []
    },
    {
      "cell_type": "markdown",
      "source": [
        "### Performace repport:\n",
        "*   CNN best performing model: DNN with .86 accuracy, class 1 F1 score .47"
      ],
      "metadata": {
        "id": "iTQrRHT9kHo0"
      },
      "id": "iTQrRHT9kHo0"
    },
    {
      "cell_type": "markdown",
      "source": [
        "---\n",
        "###Methods that select examples to DELETE\n",
        "####Tomek Links for Undersampling\n",
        "A criticism of the Condensed Nearest Neighbor Rule is that examples are selected randomly, especially initially.\n",
        "\n",
        "Tomek Links finds pairs of examples, one from each class; they together have the smallest Euclidean distance to each other in feature space. These cross-class pairs are now generally referred to as “Tomek Links” and are valuable as they define the class boundary."
      ],
      "metadata": {
        "id": "lHlml1azkCOU"
      },
      "id": "lHlml1azkCOU"
    },
    {
      "cell_type": "code",
      "source": [
        "# # Import method library\n",
        "# from imblearn.under_sampling import TomekLinks\n",
        "# from collections import Counter\n",
        "# # define the undersampling method\n",
        "# undersample = TomekLinks()\n",
        "# # transform the dataset\n",
        "# X, y = undersample.fit_resample(X, y)\n",
        "# # summarize the new class distribution\n",
        "# counter = Counter(y)\n",
        "# print(counter)"
      ],
      "metadata": {
        "id": "yk3sgD6mmFlG"
      },
      "id": "yk3sgD6mmFlG",
      "execution_count": 288,
      "outputs": []
    },
    {
      "cell_type": "markdown",
      "source": [
        "### Performace repport:\n",
        "*   Tomek Links best performing model: DNN with 1.0 accuracy and class 1 F1 score .23 "
      ],
      "metadata": {
        "id": "dR86hAhwnBYl"
      },
      "id": "dR86hAhwnBYl"
    },
    {
      "cell_type": "markdown",
      "source": [
        "---\n",
        "###Combinations of KEEP and DELETE methods\n",
        "####1. One-Sided Selection for Undersampling\n",
        "One-Sided Selection, or OSS for short, is an undersampling technique that combines Tomek Links and the Condensed Nearest Neighbor (CNN) Rule."
      ],
      "metadata": {
        "id": "MmOdelZbpXql"
      },
      "id": "MmOdelZbpXql"
    },
    {
      "cell_type": "code",
      "source": [
        "# # Import method library\n",
        "# from imblearn.under_sampling import OneSidedSelection\n",
        "# from collections import Counter\n",
        "# # define the undersampling method\n",
        "# undersample = OneSidedSelection(n_neighbors=1, n_seeds_S=200)\n",
        "# # transform the dataset\n",
        "# X, y = undersample.fit_resample(X, y)\n",
        "# # summarize the new class distribution\n",
        "# counter = Counter(y)\n",
        "# print(counter)"
      ],
      "metadata": {
        "id": "DHkB_DMnpXql"
      },
      "execution_count": 289,
      "outputs": [],
      "id": "DHkB_DMnpXql"
    },
    {
      "cell_type": "markdown",
      "source": [
        "### Performace repport:\n",
        "*   OSS best performing model: AdaBoost with .98 accuracy and class 1 F1 score .25 "
      ],
      "metadata": {
        "id": "Ce9aMEACpXql"
      },
      "id": "Ce9aMEACpXql"
    },
    {
      "cell_type": "markdown",
      "source": [
        "---\n",
        "###Combinations of KEEP and DELETE methods\n",
        "####2. Neighborhood Cleaning Rule for Undersampling\n",
        "The Neighborhood Cleaning Rule, or NCR for short, is an undersampling technique that combines both the Condensed Nearest Neighbor (CNN) Rule to remove redundant examples and the Edited Nearest Neighbors (ENN) Rule to remove noisy or ambiguous examples."
      ],
      "metadata": {
        "id": "o04uJDNEqG3B"
      },
      "id": "o04uJDNEqG3B"
    },
    {
      "cell_type": "code",
      "source": [
        "# # Import method library\n",
        "# from imblearn.under_sampling import NeighbourhoodCleaningRule\n",
        "# from collections import Counter\n",
        "# # define the undersampling method\n",
        "# undersample = NeighbourhoodCleaningRule(n_neighbors=3, threshold_cleaning=0.5)\n",
        "# # transform the dataset\n",
        "# X, y = undersample.fit_resample(X, y)\n",
        "# # summarize the new class distribution\n",
        "# counter = Counter(y)\n",
        "# print(counter)"
      ],
      "metadata": {
        "id": "CvSXa_42qG3K"
      },
      "execution_count": 290,
      "outputs": [],
      "id": "CvSXa_42qG3K"
    },
    {
      "cell_type": "markdown",
      "source": [
        "### Performace repport:\n",
        "*   NCR best performing model: AdaBoost with 1.0 accuracy and class 1 F1 score .16"
      ],
      "metadata": {
        "id": "ZVZUx_t9qG3K"
      },
      "id": "ZVZUx_t9qG3K"
    },
    {
      "cell_type": "markdown",
      "source": [
        "---\n",
        "##The best undersampling method for FanaticFi Top15 data is: **NearMiss Version 2**\n",
        "##The best ML model under that undersampling method is: **AdaBoost** `accuracy` .99 and class 1 `F1` score .99"
      ],
      "metadata": {
        "id": "GsIDtXwWqioB"
      },
      "id": "GsIDtXwWqioB"
    },
    {
      "cell_type": "markdown",
      "source": [
        "---\n",
        "##Split and Scale data"
      ],
      "metadata": {
        "id": "bfVUSwLHnV6w"
      },
      "id": "bfVUSwLHnV6w"
    },
    {
      "cell_type": "code",
      "execution_count": 291,
      "id": "1dfa9601-e2a8-4a42-8e76-7f9db33aaae6",
      "metadata": {
        "id": "1dfa9601-e2a8-4a42-8e76-7f9db33aaae6"
      },
      "outputs": [],
      "source": [
        "# Split dataset into train, test datasets\n",
        "X_train, X_test, y_train, y_test = train_test_split(X,y,random_state = 1)"
      ]
    },
    {
      "cell_type": "code",
      "execution_count": 292,
      "id": "fceb7a30-3bbb-45ce-8848-18fa75800428",
      "metadata": {
        "id": "fceb7a30-3bbb-45ce-8848-18fa75800428"
      },
      "outputs": [],
      "source": [
        "# Initiate the scaler\n",
        "X_scaler = StandardScaler()\n",
        "\n",
        "# Fit the scaler to the features dataset\n",
        "X_scaler = X_scaler.fit(X)"
      ]
    },
    {
      "cell_type": "code",
      "execution_count": 293,
      "id": "11cf9937-03d2-403c-ac43-ee64335a4193",
      "metadata": {
        "id": "11cf9937-03d2-403c-ac43-ee64335a4193"
      },
      "outputs": [],
      "source": [
        "# Scale train, test datasets\n",
        "X_train_scaled = X_scaler.transform(X_train)\n",
        "X_test_scaled = X_scaler.transform(X_test)"
      ]
    },
    {
      "cell_type": "markdown",
      "id": "7ac5e6e0-7e69-472c-99e1-0c72efe4bdae",
      "metadata": {
        "id": "7ac5e6e0-7e69-472c-99e1-0c72efe4bdae"
      },
      "source": [
        "## Machine Learning with preprocessed data\n",
        "\n",
        "\n",
        "*   Support Vector Classifier (SVC)\n",
        "*   Deceision Tree\n",
        "*   Logistic Regression\n",
        "*   AdaBoost\n",
        "*   Deep Neural Network\n",
        "\n",
        "---\n",
        "## Use the SVC classifier model"
      ]
    },
    {
      "cell_type": "code",
      "execution_count": 294,
      "id": "74dae2d5-f930-4def-9173-8829c2343955",
      "metadata": {
        "colab": {
          "base_uri": "https://localhost:8080/"
        },
        "id": "74dae2d5-f930-4def-9173-8829c2343955",
        "outputId": "17a818c0-fb01-45d7-faaa-9da782c61ebd"
      },
      "outputs": [
        {
          "output_type": "execute_result",
          "data": {
            "text/plain": [
              "array([0, 0, 1, 1, 1, 1, 1, 1, 1, 0, 0, 0, 1, 0, 0, 1, 1, 1, 1, 1, 1, 0,\n",
              "       1, 0, 1, 1, 1, 0, 0, 0, 1, 1, 1, 1, 0, 1, 1, 1, 1, 0, 1, 1, 1, 0,\n",
              "       1, 0, 0, 0, 0, 0, 1, 0, 0, 0, 0, 1, 1, 0, 0, 0, 0, 0, 1, 1, 1, 0,\n",
              "       0, 0, 0, 0, 0, 1, 1, 0, 0, 0, 0, 0, 0, 1, 1, 1, 0, 1, 0, 1, 0, 1,\n",
              "       1, 0, 0, 1, 1, 0, 0, 1, 0, 1, 1, 1, 1, 1, 0, 1, 0, 1, 1, 0, 0, 1,\n",
              "       0, 1, 0, 1, 1, 1, 1, 0, 1, 1, 0, 0, 0, 0, 1, 0, 0, 1, 1, 1, 0, 0,\n",
              "       0, 0, 1, 0, 0, 1, 1, 1, 0])"
            ]
          },
          "metadata": {},
          "execution_count": 294
        }
      ],
      "source": [
        "# From SVM, instantiate SVC classifier model instance\n",
        "svm_model = svm.SVC()\n",
        " \n",
        "# Fit the model to the data using the training data\n",
        "svm_model = svm_model.fit(X_train_scaled, y_train)\n",
        " \n",
        "# Use the testing data to make the model predictions\n",
        "svm_pred = svm_model.predict(X_test_scaled)\n",
        "\n",
        "# Review the model's predicted values\n",
        "svm_pred"
      ]
    },
    {
      "cell_type": "code",
      "execution_count": 295,
      "id": "62305acf-eb66-4814-8c2f-c05b77e4a39b",
      "metadata": {
        "colab": {
          "base_uri": "https://localhost:8080/"
        },
        "id": "62305acf-eb66-4814-8c2f-c05b77e4a39b",
        "outputId": "29ef5ce0-cd53-4de1-f401-bc0796fb8aef"
      },
      "outputs": [
        {
          "output_type": "stream",
          "name": "stdout",
          "text": [
            "              precision    recall  f1-score   support\n",
            "\n",
            "           0       0.94      1.00      0.97        65\n",
            "           1       1.00      0.95      0.97        76\n",
            "\n",
            "    accuracy                           0.97       141\n",
            "   macro avg       0.97      0.97      0.97       141\n",
            "weighted avg       0.97      0.97      0.97       141\n",
            "\n"
          ]
        }
      ],
      "source": [
        "# Use a classification report to evaluate the model using the predictions and testing data\n",
        "svm_testing_report = classification_report(y_test, svm_pred)\n",
        "\n",
        "# Print the classification report\n",
        "print(svm_testing_report)"
      ]
    },
    {
      "cell_type": "markdown",
      "id": "19d7d476-a38b-4cb3-835b-2aedfd66a8ac",
      "metadata": {
        "id": "19d7d476-a38b-4cb3-835b-2aedfd66a8ac"
      },
      "source": [
        "---\n",
        "## Use Ddceision Tree"
      ]
    },
    {
      "cell_type": "code",
      "execution_count": 298,
      "id": "5e42b48b-4046-470c-8db3-4a7635c5b0b2",
      "metadata": {
        "colab": {
          "base_uri": "https://localhost:8080/"
        },
        "id": "5e42b48b-4046-470c-8db3-4a7635c5b0b2",
        "outputId": "e3ed4e5e-517e-4970-93b4-a98d10dbd2c5"
      },
      "outputs": [
        {
          "output_type": "stream",
          "name": "stdout",
          "text": [
            "              precision    recall  f1-score   support\n",
            "\n",
            "           0       0.97      0.98      0.98        65\n",
            "           1       0.99      0.97      0.98        76\n",
            "\n",
            "    accuracy                           0.98       141\n",
            "   macro avg       0.98      0.98      0.98       141\n",
            "weighted avg       0.98      0.98      0.98       141\n",
            "\n"
          ]
        }
      ],
      "source": [
        "# Import decision tree classifier from SKLearn\n",
        "from sklearn import tree\n",
        "\n",
        "# Initiate the model instance\n",
        "dtc = tree.DecisionTreeClassifier()\n",
        "\n",
        "# Fit the model using the training data\n",
        "dtc_model = dtc.fit(X_train_scaled, y_train)\n",
        "\n",
        "# Use the testing dataset to generate the predictions for the new model\n",
        "dtc_pred = dtc_model.predict(X_test_scaled)\n",
        "\n",
        "# Use a classification report to evaluate the model using the predictions and testing data\n",
        "dtc_testing_report = classification_report(y_test, dtc_pred)\n",
        "\n",
        "# Print the classification report\n",
        "print(dtc_testing_report)"
      ]
    },
    {
      "cell_type": "markdown",
      "id": "30def59d-50d5-4b2f-b42c-6c5fa83150b5",
      "metadata": {
        "id": "30def59d-50d5-4b2f-b42c-6c5fa83150b5"
      },
      "source": [
        "---\n",
        "## Use Logistic Regression"
      ]
    },
    {
      "cell_type": "code",
      "execution_count": 299,
      "id": "26442ccc-f665-467b-aa37-3d60155408bc",
      "metadata": {
        "colab": {
          "base_uri": "https://localhost:8080/"
        },
        "id": "26442ccc-f665-467b-aa37-3d60155408bc",
        "outputId": "fb1aba37-ba6b-4d63-9da5-405f808bac85"
      },
      "outputs": [
        {
          "output_type": "stream",
          "name": "stdout",
          "text": [
            "              precision    recall  f1-score   support\n",
            "\n",
            "           0       0.97      0.98      0.98        65\n",
            "           1       0.99      0.97      0.98        76\n",
            "\n",
            "    accuracy                           0.98       141\n",
            "   macro avg       0.98      0.98      0.98       141\n",
            "weighted avg       0.98      0.98      0.98       141\n",
            "\n"
          ]
        }
      ],
      "source": [
        "# Import LogisticRegression from sklearn\n",
        "from sklearn.linear_model import LogisticRegression\n",
        "\n",
        "# Create an instance of the LogisticRegression model\n",
        "lr = LogisticRegression()\n",
        "\n",
        "# Fit the model using the training data\n",
        "lr_model = lr.fit(X_train_scaled, y_train)\n",
        "\n",
        "# Use the testing dataset to generate the predictions for the new model\n",
        "lr_pred = lr_model.predict(X_test_scaled)\n",
        "\n",
        "# Use a classification report to evaluate the model using the predictions and testing data\n",
        "lr_testing_report = classification_report(y_test, dtc_pred)\n",
        "\n",
        "# Print the classification report\n",
        "print(lr_testing_report)"
      ]
    },
    {
      "cell_type": "markdown",
      "id": "d783c501-bd67-45ab-9901-97d5ea280255",
      "metadata": {
        "id": "d783c501-bd67-45ab-9901-97d5ea280255"
      },
      "source": [
        "---\n",
        "## Use AdaBoost"
      ]
    },
    {
      "cell_type": "code",
      "execution_count": 300,
      "id": "03b8efe7-bbb4-4bec-aae4-8467afb68e3a",
      "metadata": {
        "colab": {
          "base_uri": "https://localhost:8080/"
        },
        "id": "03b8efe7-bbb4-4bec-aae4-8467afb68e3a",
        "outputId": "4092cf82-d555-452a-e6e1-b36cc01f1b3d"
      },
      "outputs": [
        {
          "output_type": "stream",
          "name": "stdout",
          "text": [
            "              precision    recall  f1-score   support\n",
            "\n",
            "           0       0.97      1.00      0.98        65\n",
            "           1       1.00      0.97      0.99        76\n",
            "\n",
            "    accuracy                           0.99       141\n",
            "   macro avg       0.99      0.99      0.99       141\n",
            "weighted avg       0.99      0.99      0.99       141\n",
            "\n"
          ]
        }
      ],
      "source": [
        "# Import AdaBoost classifier from SKLearn\n",
        "from sklearn.ensemble import AdaBoostClassifier\n",
        "\n",
        "# Initiate the model instance\n",
        "abc = AdaBoostClassifier()\n",
        "\n",
        "# Fit the model using the training data\n",
        "abc_model = abc.fit(X_train_scaled, y_train)\n",
        "\n",
        "# Use the testing dataset to generate the predictions for the new model\n",
        "abc_pred = abc_model.predict(X_test_scaled)\n",
        "\n",
        "# Use a classification report to evaluate the model using the predictions and testing data\n",
        "abc_testing_report = classification_report(y_test, abc_pred)\n",
        "\n",
        "# Print the classification report\n",
        "print(abc_testing_report)"
      ]
    },
    {
      "cell_type": "markdown",
      "source": [
        "##Save the best performing model"
      ],
      "metadata": {
        "id": "yxVkcGR629FC"
      },
      "id": "yxVkcGR629FC"
    },
    {
      "cell_type": "code",
      "source": [
        "import pickle\n",
        "# save the model\n",
        "AdaBoostClassifier = open(\"abc.pkl\",\"wb\")\n",
        "pickle.dump(abc_model,AdaBoostClassifier) \n",
        "AdaBoostClassifier.close() "
      ],
      "metadata": {
        "id": "Xvt2Wl5M2k3n"
      },
      "id": "Xvt2Wl5M2k3n",
      "execution_count": 318,
      "outputs": []
    },
    {
      "cell_type": "markdown",
      "id": "1e7fdf67-00f7-401d-963c-e63ff3cd1aa7",
      "metadata": {
        "id": "1e7fdf67-00f7-401d-963c-e63ff3cd1aa7"
      },
      "source": [
        "---\n",
        "## Use Deep Neural Network"
      ]
    },
    {
      "cell_type": "code",
      "execution_count": 301,
      "id": "d6fd94d9-3346-4e86-9c1d-d6fc4123bea7",
      "metadata": {
        "id": "d6fd94d9-3346-4e86-9c1d-d6fc4123bea7"
      },
      "outputs": [],
      "source": [
        "# Define number of nodes on each layer\n",
        "input_features = 13\n",
        "layer1 = 40\n",
        "layer2 = 30\n",
        "layer3 = 10\n",
        "\n",
        "# Initiate the model\n",
        "nn = Sequential()"
      ]
    },
    {
      "cell_type": "code",
      "execution_count": 302,
      "id": "32054a9c-7ce8-43d2-a158-737091d230e9",
      "metadata": {
        "id": "32054a9c-7ce8-43d2-a158-737091d230e9"
      },
      "outputs": [],
      "source": [
        "# Add all layers to the model\n",
        "nn.add(Dense(\n",
        "    units = layer1, \n",
        "    input_dim = input_features, \n",
        "    activation = 'relu'\n",
        "))\n",
        "\n",
        "nn.add(Dense(\n",
        "    units = layer2, \n",
        "    activation = 'relu'\n",
        "))\n",
        "\n",
        "nn.add(Dense(\n",
        "    units = layer3, \n",
        "    activation = 'relu'\n",
        "))\n",
        "\n",
        "# Add output layer\n",
        "nn.add(Dense(units=1, activation = 'sigmoid'))"
      ]
    },
    {
      "cell_type": "code",
      "execution_count": 303,
      "id": "c5730bb3-d26e-41a2-b7ec-51f00e761098",
      "metadata": {
        "id": "c5730bb3-d26e-41a2-b7ec-51f00e761098"
      },
      "outputs": [],
      "source": [
        "# Compile the model\n",
        "nn.compile(loss=\"mean_squared_error\", optimizer=\"adam\", metrics=[\"accuracy\"])"
      ]
    },
    {
      "cell_type": "code",
      "execution_count": 304,
      "id": "0e58ad14-878a-47b6-a798-5741d20be446",
      "metadata": {
        "tags": [],
        "colab": {
          "base_uri": "https://localhost:8080/"
        },
        "id": "0e58ad14-878a-47b6-a798-5741d20be446",
        "outputId": "597bf924-0d13-47c9-f1c0-529468833d46"
      },
      "outputs": [
        {
          "output_type": "stream",
          "name": "stdout",
          "text": [
            "Epoch 1/100\n",
            "14/14 [==============================] - 1s 3ms/step - loss: 0.2435 - accuracy: 0.5910\n",
            "Epoch 2/100\n",
            "14/14 [==============================] - 0s 2ms/step - loss: 0.2017 - accuracy: 0.8322\n",
            "Epoch 3/100\n",
            "14/14 [==============================] - 0s 2ms/step - loss: 0.1585 - accuracy: 0.9220\n",
            "Epoch 4/100\n",
            "14/14 [==============================] - 0s 2ms/step - loss: 0.1157 - accuracy: 0.9338\n",
            "Epoch 5/100\n",
            "14/14 [==============================] - 0s 2ms/step - loss: 0.0844 - accuracy: 0.9338\n",
            "Epoch 6/100\n",
            "14/14 [==============================] - 0s 3ms/step - loss: 0.0661 - accuracy: 0.9338\n",
            "Epoch 7/100\n",
            "14/14 [==============================] - 0s 2ms/step - loss: 0.0550 - accuracy: 0.9409\n",
            "Epoch 8/100\n",
            "14/14 [==============================] - 0s 2ms/step - loss: 0.0479 - accuracy: 0.9504\n",
            "Epoch 9/100\n",
            "14/14 [==============================] - 0s 2ms/step - loss: 0.0419 - accuracy: 0.9574\n",
            "Epoch 10/100\n",
            "14/14 [==============================] - 0s 2ms/step - loss: 0.0369 - accuracy: 0.9622\n",
            "Epoch 11/100\n",
            "14/14 [==============================] - 0s 2ms/step - loss: 0.0328 - accuracy: 0.9716\n",
            "Epoch 12/100\n",
            "14/14 [==============================] - 0s 2ms/step - loss: 0.0294 - accuracy: 0.9693\n",
            "Epoch 13/100\n",
            "14/14 [==============================] - 0s 2ms/step - loss: 0.0264 - accuracy: 0.9787\n",
            "Epoch 14/100\n",
            "14/14 [==============================] - 0s 2ms/step - loss: 0.0239 - accuracy: 0.9787\n",
            "Epoch 15/100\n",
            "14/14 [==============================] - 0s 2ms/step - loss: 0.0215 - accuracy: 0.9835\n",
            "Epoch 16/100\n",
            "14/14 [==============================] - 0s 3ms/step - loss: 0.0197 - accuracy: 0.9835\n",
            "Epoch 17/100\n",
            "14/14 [==============================] - 0s 3ms/step - loss: 0.0182 - accuracy: 0.9835\n",
            "Epoch 18/100\n",
            "14/14 [==============================] - 0s 3ms/step - loss: 0.0163 - accuracy: 0.9882\n",
            "Epoch 19/100\n",
            "14/14 [==============================] - 0s 2ms/step - loss: 0.0152 - accuracy: 0.9905\n",
            "Epoch 20/100\n",
            "14/14 [==============================] - 0s 2ms/step - loss: 0.0139 - accuracy: 0.9905\n",
            "Epoch 21/100\n",
            "14/14 [==============================] - 0s 2ms/step - loss: 0.0128 - accuracy: 0.9929\n",
            "Epoch 22/100\n",
            "14/14 [==============================] - 0s 2ms/step - loss: 0.0116 - accuracy: 0.9953\n",
            "Epoch 23/100\n",
            "14/14 [==============================] - 0s 2ms/step - loss: 0.0106 - accuracy: 0.9953\n",
            "Epoch 24/100\n",
            "14/14 [==============================] - 0s 2ms/step - loss: 0.0097 - accuracy: 0.9953\n",
            "Epoch 25/100\n",
            "14/14 [==============================] - 0s 2ms/step - loss: 0.0086 - accuracy: 0.9953\n",
            "Epoch 26/100\n",
            "14/14 [==============================] - 0s 2ms/step - loss: 0.0079 - accuracy: 0.9976\n",
            "Epoch 27/100\n",
            "14/14 [==============================] - 0s 3ms/step - loss: 0.0073 - accuracy: 0.9976\n",
            "Epoch 28/100\n",
            "14/14 [==============================] - 0s 2ms/step - loss: 0.0067 - accuracy: 0.9976\n",
            "Epoch 29/100\n",
            "14/14 [==============================] - 0s 2ms/step - loss: 0.0062 - accuracy: 0.9976\n",
            "Epoch 30/100\n",
            "14/14 [==============================] - 0s 2ms/step - loss: 0.0061 - accuracy: 0.9976\n",
            "Epoch 31/100\n",
            "14/14 [==============================] - 0s 2ms/step - loss: 0.0054 - accuracy: 0.9976\n",
            "Epoch 32/100\n",
            "14/14 [==============================] - 0s 2ms/step - loss: 0.0049 - accuracy: 0.9976\n",
            "Epoch 33/100\n",
            "14/14 [==============================] - 0s 2ms/step - loss: 0.0047 - accuracy: 0.9976\n",
            "Epoch 34/100\n",
            "14/14 [==============================] - 0s 2ms/step - loss: 0.0046 - accuracy: 0.9976\n",
            "Epoch 35/100\n",
            "14/14 [==============================] - 0s 2ms/step - loss: 0.0044 - accuracy: 0.9976\n",
            "Epoch 36/100\n",
            "14/14 [==============================] - 0s 2ms/step - loss: 0.0041 - accuracy: 0.9976\n",
            "Epoch 37/100\n",
            "14/14 [==============================] - 0s 2ms/step - loss: 0.0039 - accuracy: 0.9976\n",
            "Epoch 38/100\n",
            "14/14 [==============================] - 0s 2ms/step - loss: 0.0038 - accuracy: 0.9976\n",
            "Epoch 39/100\n",
            "14/14 [==============================] - 0s 2ms/step - loss: 0.0036 - accuracy: 0.9976\n",
            "Epoch 40/100\n",
            "14/14 [==============================] - 0s 2ms/step - loss: 0.0035 - accuracy: 0.9976\n",
            "Epoch 41/100\n",
            "14/14 [==============================] - 0s 2ms/step - loss: 0.0034 - accuracy: 0.9976\n",
            "Epoch 42/100\n",
            "14/14 [==============================] - 0s 3ms/step - loss: 0.0033 - accuracy: 0.9976\n",
            "Epoch 43/100\n",
            "14/14 [==============================] - 0s 2ms/step - loss: 0.0033 - accuracy: 0.9976\n",
            "Epoch 44/100\n",
            "14/14 [==============================] - 0s 2ms/step - loss: 0.0032 - accuracy: 0.9976\n",
            "Epoch 45/100\n",
            "14/14 [==============================] - 0s 2ms/step - loss: 0.0032 - accuracy: 0.9976\n",
            "Epoch 46/100\n",
            "14/14 [==============================] - 0s 2ms/step - loss: 0.0031 - accuracy: 0.9976\n",
            "Epoch 47/100\n",
            "14/14 [==============================] - 0s 2ms/step - loss: 0.0031 - accuracy: 0.9976\n",
            "Epoch 48/100\n",
            "14/14 [==============================] - 0s 2ms/step - loss: 0.0030 - accuracy: 0.9976\n",
            "Epoch 49/100\n",
            "14/14 [==============================] - 0s 2ms/step - loss: 0.0030 - accuracy: 0.9976\n",
            "Epoch 50/100\n",
            "14/14 [==============================] - 0s 2ms/step - loss: 0.0029 - accuracy: 0.9976\n",
            "Epoch 51/100\n",
            "14/14 [==============================] - 0s 2ms/step - loss: 0.0029 - accuracy: 0.9976\n",
            "Epoch 52/100\n",
            "14/14 [==============================] - 0s 2ms/step - loss: 0.0029 - accuracy: 0.9976\n",
            "Epoch 53/100\n",
            "14/14 [==============================] - 0s 2ms/step - loss: 0.0029 - accuracy: 0.9976\n",
            "Epoch 54/100\n",
            "14/14 [==============================] - 0s 2ms/step - loss: 0.0028 - accuracy: 0.9976\n",
            "Epoch 55/100\n",
            "14/14 [==============================] - 0s 2ms/step - loss: 0.0028 - accuracy: 0.9976\n",
            "Epoch 56/100\n",
            "14/14 [==============================] - 0s 2ms/step - loss: 0.0028 - accuracy: 0.9976\n",
            "Epoch 57/100\n",
            "14/14 [==============================] - 0s 2ms/step - loss: 0.0028 - accuracy: 0.9976\n",
            "Epoch 58/100\n",
            "14/14 [==============================] - 0s 2ms/step - loss: 0.0027 - accuracy: 0.9976\n",
            "Epoch 59/100\n",
            "14/14 [==============================] - 0s 2ms/step - loss: 0.0027 - accuracy: 0.9976\n",
            "Epoch 60/100\n",
            "14/14 [==============================] - 0s 2ms/step - loss: 0.0027 - accuracy: 0.9976\n",
            "Epoch 61/100\n",
            "14/14 [==============================] - 0s 2ms/step - loss: 0.0027 - accuracy: 0.9976\n",
            "Epoch 62/100\n",
            "14/14 [==============================] - 0s 2ms/step - loss: 0.0027 - accuracy: 0.9976\n",
            "Epoch 63/100\n",
            "14/14 [==============================] - 0s 2ms/step - loss: 0.0027 - accuracy: 0.9976\n",
            "Epoch 64/100\n",
            "14/14 [==============================] - 0s 2ms/step - loss: 0.0026 - accuracy: 0.9976\n",
            "Epoch 65/100\n",
            "14/14 [==============================] - 0s 2ms/step - loss: 0.0026 - accuracy: 0.9976\n",
            "Epoch 66/100\n",
            "14/14 [==============================] - 0s 2ms/step - loss: 0.0026 - accuracy: 0.9976\n",
            "Epoch 67/100\n",
            "14/14 [==============================] - 0s 2ms/step - loss: 0.0026 - accuracy: 0.9976\n",
            "Epoch 68/100\n",
            "14/14 [==============================] - 0s 3ms/step - loss: 0.0026 - accuracy: 0.9976\n",
            "Epoch 69/100\n",
            "14/14 [==============================] - 0s 2ms/step - loss: 0.0026 - accuracy: 0.9976\n",
            "Epoch 70/100\n",
            "14/14 [==============================] - 0s 2ms/step - loss: 0.0026 - accuracy: 0.9976\n",
            "Epoch 71/100\n",
            "14/14 [==============================] - 0s 3ms/step - loss: 0.0026 - accuracy: 0.9976\n",
            "Epoch 72/100\n",
            "14/14 [==============================] - 0s 2ms/step - loss: 0.0026 - accuracy: 0.9976\n",
            "Epoch 73/100\n",
            "14/14 [==============================] - 0s 2ms/step - loss: 0.0026 - accuracy: 0.9976\n",
            "Epoch 74/100\n",
            "14/14 [==============================] - 0s 2ms/step - loss: 0.0026 - accuracy: 0.9976\n",
            "Epoch 75/100\n",
            "14/14 [==============================] - 0s 2ms/step - loss: 0.0025 - accuracy: 0.9976\n",
            "Epoch 76/100\n",
            "14/14 [==============================] - 0s 2ms/step - loss: 0.0025 - accuracy: 0.9976\n",
            "Epoch 77/100\n",
            "14/14 [==============================] - 0s 2ms/step - loss: 0.0025 - accuracy: 0.9976\n",
            "Epoch 78/100\n",
            "14/14 [==============================] - 0s 2ms/step - loss: 0.0025 - accuracy: 0.9976\n",
            "Epoch 79/100\n",
            "14/14 [==============================] - 0s 2ms/step - loss: 0.0025 - accuracy: 0.9976\n",
            "Epoch 80/100\n",
            "14/14 [==============================] - 0s 3ms/step - loss: 0.0025 - accuracy: 0.9976\n",
            "Epoch 81/100\n",
            "14/14 [==============================] - 0s 2ms/step - loss: 0.0025 - accuracy: 0.9976\n",
            "Epoch 82/100\n",
            "14/14 [==============================] - 0s 2ms/step - loss: 0.0025 - accuracy: 0.9976\n",
            "Epoch 83/100\n",
            "14/14 [==============================] - 0s 2ms/step - loss: 0.0025 - accuracy: 0.9976\n",
            "Epoch 84/100\n",
            "14/14 [==============================] - 0s 2ms/step - loss: 0.0025 - accuracy: 0.9976\n",
            "Epoch 85/100\n",
            "14/14 [==============================] - 0s 2ms/step - loss: 0.0025 - accuracy: 0.9976\n",
            "Epoch 86/100\n",
            "14/14 [==============================] - 0s 2ms/step - loss: 0.0025 - accuracy: 0.9976\n",
            "Epoch 87/100\n",
            "14/14 [==============================] - 0s 2ms/step - loss: 0.0025 - accuracy: 0.9976\n",
            "Epoch 88/100\n",
            "14/14 [==============================] - 0s 2ms/step - loss: 0.0025 - accuracy: 0.9976\n",
            "Epoch 89/100\n",
            "14/14 [==============================] - 0s 2ms/step - loss: 0.0025 - accuracy: 0.9976\n",
            "Epoch 90/100\n",
            "14/14 [==============================] - 0s 2ms/step - loss: 0.0025 - accuracy: 0.9976\n",
            "Epoch 91/100\n",
            "14/14 [==============================] - 0s 3ms/step - loss: 0.0025 - accuracy: 0.9976\n",
            "Epoch 92/100\n",
            "14/14 [==============================] - 0s 2ms/step - loss: 0.0025 - accuracy: 0.9976\n",
            "Epoch 93/100\n",
            "14/14 [==============================] - 0s 2ms/step - loss: 0.0025 - accuracy: 0.9976\n",
            "Epoch 94/100\n",
            "14/14 [==============================] - 0s 2ms/step - loss: 0.0025 - accuracy: 0.9976\n",
            "Epoch 95/100\n",
            "14/14 [==============================] - 0s 2ms/step - loss: 0.0025 - accuracy: 0.9976\n",
            "Epoch 96/100\n",
            "14/14 [==============================] - 0s 2ms/step - loss: 0.0025 - accuracy: 0.9976\n",
            "Epoch 97/100\n",
            "14/14 [==============================] - 0s 2ms/step - loss: 0.0025 - accuracy: 0.9976\n",
            "Epoch 98/100\n",
            "14/14 [==============================] - 0s 2ms/step - loss: 0.0025 - accuracy: 0.9976\n",
            "Epoch 99/100\n",
            "14/14 [==============================] - 0s 2ms/step - loss: 0.0025 - accuracy: 0.9976\n",
            "Epoch 100/100\n",
            "14/14 [==============================] - 0s 2ms/step - loss: 0.0024 - accuracy: 0.9976\n"
          ]
        }
      ],
      "source": [
        "# Fit the model\n",
        "deep_net_model = nn.fit(X_train_scaled, y_train, epochs=100)"
      ]
    },
    {
      "cell_type": "code",
      "execution_count": 305,
      "id": "59f91c8e-be1b-40cf-80f8-8045d90d11f7",
      "metadata": {
        "colab": {
          "base_uri": "https://localhost:8080/"
        },
        "id": "59f91c8e-be1b-40cf-80f8-8045d90d11f7",
        "outputId": "c567c43e-33b9-42d0-bef3-87c5b97dbe32"
      },
      "outputs": [
        {
          "output_type": "stream",
          "name": "stdout",
          "text": [
            "14/14 - 0s - loss: 0.0024 - accuracy: 0.9976 - 123ms/epoch - 9ms/step\n"
          ]
        }
      ],
      "source": [
        "# Print loss and accuracy score of training set\n",
        "loss, accuracy = nn.evaluate(X_train_scaled, y_train, verbose=2)"
      ]
    },
    {
      "cell_type": "code",
      "execution_count": 306,
      "id": "dcd64a11-3551-4aab-8de8-ce9bb532fdb8",
      "metadata": {
        "colab": {
          "base_uri": "https://localhost:8080/"
        },
        "id": "dcd64a11-3551-4aab-8de8-ce9bb532fdb8",
        "outputId": "772cbb97-97f3-4299-bf5d-2f5da3b32222"
      },
      "outputs": [
        {
          "output_type": "stream",
          "name": "stdout",
          "text": [
            "5/5 - 0s - loss: 0.0330 - accuracy: 0.9645 - 22ms/epoch - 4ms/step\n"
          ]
        }
      ],
      "source": [
        "# Print loss and accuracy score of testing set\n",
        "val_loss, val_accuracy = nn.evaluate(X_test_scaled, y_test, verbose=2)"
      ]
    },
    {
      "cell_type": "code",
      "source": [
        "X_test_scaled"
      ],
      "metadata": {
        "colab": {
          "base_uri": "https://localhost:8080/"
        },
        "id": "2EtRVEdT-XW2",
        "outputId": "515d0c73-d057-4858-ece5-fd1ff199e199"
      },
      "id": "2EtRVEdT-XW2",
      "execution_count": 307,
      "outputs": [
        {
          "output_type": "execute_result",
          "data": {
            "text/plain": [
              "array([[-0.19755913, -0.70478077,  0.69525395, ...,  0.37247641,\n",
              "        -0.50228366,  1.16738428],\n",
              "       [ 0.22503259, -0.52843413,  0.18754506, ..., -0.32008412,\n",
              "         0.27771749, -1.24858714],\n",
              "       [ 1.21107994,  0.67843821,  2.79978918, ..., -0.76896595,\n",
              "        -0.08066142, -0.9907562 ],\n",
              "       ...,\n",
              "       [ 0.92935213,  0.73905736, -1.37652587, ...,  1.02656136,\n",
              "        -0.03849919,  0.86180687],\n",
              "       [ 0.3658965 ,  1.49404143,  0.13841194, ..., -0.29443373,\n",
              "        -0.46012144,  0.9668491 ],\n",
              "       [-0.90187867, -0.64416161,  0.31856671, ..., -0.10205581,\n",
              "         0.2987986 ,  0.63262381]])"
            ]
          },
          "metadata": {},
          "execution_count": 307
        }
      ]
    },
    {
      "cell_type": "code",
      "source": [
        "y_test"
      ],
      "metadata": {
        "colab": {
          "base_uri": "https://localhost:8080/"
        },
        "id": "HVaPEKsVEy9e",
        "outputId": "d677456f-d0b5-4d27-85d4-bf64bcff98f6"
      },
      "id": "HVaPEKsVEy9e",
      "execution_count": 308,
      "outputs": [
        {
          "output_type": "execute_result",
          "data": {
            "text/plain": [
              "47     0\n",
              "246    0\n",
              "509    1\n",
              "458    1\n",
              "358    1\n",
              "      ..\n",
              "236    0\n",
              "405    1\n",
              "523    1\n",
              "304    1\n",
              "16     0\n",
              "Name: Group, Length: 141, dtype: int64"
            ]
          },
          "metadata": {},
          "execution_count": 308
        }
      ]
    },
    {
      "cell_type": "code",
      "source": [
        "deep_net_pred = nn.predict(X_test_scaled)\n",
        "deep_net_pred[:10]"
      ],
      "metadata": {
        "colab": {
          "base_uri": "https://localhost:8080/"
        },
        "id": "xOEqBDpm-aM8",
        "outputId": "c631ee74-e922-4d87-9f44-5e64a33de950"
      },
      "id": "xOEqBDpm-aM8",
      "execution_count": 309,
      "outputs": [
        {
          "output_type": "execute_result",
          "data": {
            "text/plain": [
              "array([[3.9285421e-04],\n",
              "       [8.7796003e-02],\n",
              "       [9.9750519e-01],\n",
              "       [9.9999774e-01],\n",
              "       [9.9999863e-01],\n",
              "       [9.9999207e-01],\n",
              "       [1.8781745e-06],\n",
              "       [9.9998832e-01],\n",
              "       [9.9988592e-01],\n",
              "       [2.3701787e-04]], dtype=float32)"
            ]
          },
          "metadata": {},
          "execution_count": 309
        }
      ]
    },
    {
      "cell_type": "code",
      "source": [
        "import numpy as np\n",
        "deep_net_pred = np.where(deep_net_pred > .5, 1, 0)\n"
      ],
      "metadata": {
        "id": "f5yaMwy5HBW6"
      },
      "id": "f5yaMwy5HBW6",
      "execution_count": 310,
      "outputs": []
    },
    {
      "cell_type": "code",
      "source": [
        "# deep_net_pred = nn.predict(X_test_scaled)\n",
        "from itertools import chain\n",
        "pred = list(chain(*deep_net_pred))\n",
        "import numpy as np\n",
        "array = np.asarray(pred)\n",
        "array[:10]"
      ],
      "metadata": {
        "colab": {
          "base_uri": "https://localhost:8080/"
        },
        "id": "BPUWBpOjrD7m",
        "outputId": "d926dd5f-f187-4895-e186-e1e9e6c05bb1"
      },
      "id": "BPUWBpOjrD7m",
      "execution_count": 311,
      "outputs": [
        {
          "output_type": "execute_result",
          "data": {
            "text/plain": [
              "array([0, 0, 1, 1, 1, 1, 0, 1, 1, 0])"
            ]
          },
          "metadata": {},
          "execution_count": 311
        }
      ]
    },
    {
      "cell_type": "code",
      "source": [
        "deep_net_classification_report = classification_report(y_test, array)\n",
        "\n",
        "# Print the classification report\n",
        "print(deep_net_classification_report)"
      ],
      "metadata": {
        "colab": {
          "base_uri": "https://localhost:8080/"
        },
        "id": "GCMFFMyAjEch",
        "outputId": "a453f1bb-1eca-4ae0-8937-d6078fc79350"
      },
      "id": "GCMFFMyAjEch",
      "execution_count": 312,
      "outputs": [
        {
          "output_type": "stream",
          "name": "stdout",
          "text": [
            "              precision    recall  f1-score   support\n",
            "\n",
            "           0       0.94      0.98      0.96        65\n",
            "           1       0.99      0.95      0.97        76\n",
            "\n",
            "    accuracy                           0.96       141\n",
            "   macro avg       0.96      0.97      0.96       141\n",
            "weighted avg       0.97      0.96      0.96       141\n",
            "\n"
          ]
        }
      ]
    },
    {
      "cell_type": "code",
      "execution_count": 313,
      "id": "3c4a42d7-3724-44a6-87d2-b027e94acb94",
      "metadata": {
        "id": "3c4a42d7-3724-44a6-87d2-b027e94acb94",
        "colab": {
          "base_uri": "https://localhost:8080/",
          "height": 283
        },
        "outputId": "67065391-af8f-4385-ff80-33033ec0e43b"
      },
      "outputs": [
        {
          "output_type": "execute_result",
          "data": {
            "text/plain": [
              "<matplotlib.axes._subplots.AxesSubplot at 0x7fdbed9dc310>"
            ]
          },
          "metadata": {},
          "execution_count": 313
        },
        {
          "output_type": "display_data",
          "data": {
            "text/plain": [
              "<Figure size 432x288 with 1 Axes>"
            ],
            "image/png": "[encoded data removed]"
          },
          "metadata": {
            "needs_background": "light"
          }
        }
      ],
      "source": [
        "# Plot the loss rate\n",
        "loss_df = pd.DataFrame(deep_net_model.history['loss'])\n",
        "loss_df.plot()"
      ]
    },
    {
      "cell_type": "code",
      "execution_count": 314,
      "id": "76ff9ba1-63fa-4cc4-9f60-8226f72bb761",
      "metadata": {
        "id": "76ff9ba1-63fa-4cc4-9f60-8226f72bb761",
        "colab": {
          "base_uri": "https://localhost:8080/",
          "height": 283
        },
        "outputId": "063e4e71-2c58-4634-8149-a38c4d5859ef"
      },
      "outputs": [
        {
          "output_type": "execute_result",
          "data": {
            "text/plain": [
              "<matplotlib.axes._subplots.AxesSubplot at 0x7fdbebd23090>"
            ]
          },
          "metadata": {},
          "execution_count": 314
        },
        {
          "output_type": "display_data",
          "data": {
            "text/plain": [
              "<Figure size 432x288 with 1 Axes>"
            ],
            "image/png": "[encoded data removed]"
          },
          "metadata": {
            "needs_background": "light"
          }
        }
      ],
      "source": [
        "# Plot the accuracy score\n",
        "accuracy_df = pd.DataFrame(deep_net_model.history['accuracy'])\n",
        "accuracy_df.plot()"
      ]
    },
    {
      "cell_type": "markdown",
      "metadata": {
        "id": "kGuq4xwJF3t6"
      },
      "source": [
        "---\n",
        "## Using LazyPredict\n"
      ],
      "id": "kGuq4xwJF3t6"
    },
    {
      "cell_type": "code",
      "source": [
        "# Install LazyPRedict\n",
        "!pip install lazypredict"
      ],
      "metadata": {
        "id": "JPHj8XLyF8La",
        "colab": {
          "base_uri": "https://localhost:8080/"
        },
        "outputId": "4ab747f2-7576-4b6a-ba11-6e202808c4d5"
      },
      "id": "JPHj8XLyF8La",
      "execution_count": 315,
      "outputs": [
        {
          "output_type": "stream",
          "name": "stdout",
          "text": [
            "Looking in indexes: https://pypi.org/simple, https://us-python.pkg.dev/colab-wheels/public/simple/\n",
            "Requirement already satisfied: lazypredict in /usr/local/lib/python3.7/dist-packages (0.2.9)\n",
            "Requirement already satisfied: PyYAML==5.3.1 in /usr/local/lib/python3.7/dist-packages (from lazypredict) (5.3.1)\n",
            "Requirement already satisfied: lightgbm==2.3.1 in /usr/local/lib/python3.7/dist-packages (from lazypredict) (2.3.1)\n",
            "Requirement already satisfied: scipy==1.5.4 in /usr/local/lib/python3.7/dist-packages (from lazypredict) (1.5.4)\n",
            "Requirement already satisfied: xgboost==1.1.1 in /usr/local/lib/python3.7/dist-packages (from lazypredict) (1.1.1)\n",
            "Requirement already satisfied: scikit-learn==0.23.1 in /usr/local/lib/python3.7/dist-packages (from lazypredict) (0.23.1)\n",
            "Requirement already satisfied: six==1.15.0 in /usr/local/lib/python3.7/dist-packages (from lazypredict) (1.15.0)\n",
            "Requirement already satisfied: pandas==1.0.5 in /usr/local/lib/python3.7/dist-packages (from lazypredict) (1.0.5)\n",
            "Requirement already satisfied: pytest==5.4.3 in /usr/local/lib/python3.7/dist-packages (from lazypredict) (5.4.3)\n",
            "Requirement already satisfied: numpy==1.19.1 in /usr/local/lib/python3.7/dist-packages (from lazypredict) (1.19.1)\n",
            "Requirement already satisfied: click==7.1.2 in /usr/local/lib/python3.7/dist-packages (from lazypredict) (7.1.2)\n",
            "Requirement already satisfied: joblib==1.0.0 in /usr/local/lib/python3.7/dist-packages (from lazypredict) (1.0.0)\n",
            "Requirement already satisfied: tqdm==4.56.0 in /usr/local/lib/python3.7/dist-packages (from lazypredict) (4.56.0)\n",
            "Requirement already satisfied: python-dateutil>=2.6.1 in /usr/local/lib/python3.7/dist-packages (from pandas==1.0.5->lazypredict) (2.8.2)\n",
            "Requirement already satisfied: pytz>=2017.2 in /usr/local/lib/python3.7/dist-packages (from pandas==1.0.5->lazypredict) (2022.1)\n",
            "Requirement already satisfied: pluggy<1.0,>=0.12 in /usr/local/lib/python3.7/dist-packages (from pytest==5.4.3->lazypredict) (0.13.1)\n",
            "Requirement already satisfied: py>=1.5.0 in /usr/local/lib/python3.7/dist-packages (from pytest==5.4.3->lazypredict) (1.11.0)\n",
            "Requirement already satisfied: wcwidth in /usr/local/lib/python3.7/dist-packages (from pytest==5.4.3->lazypredict) (0.2.5)\n",
            "Requirement already satisfied: attrs>=17.4.0 in /usr/local/lib/python3.7/dist-packages (from pytest==5.4.3->lazypredict) (21.4.0)\n",
            "Requirement already satisfied: packaging in /usr/local/lib/python3.7/dist-packages (from pytest==5.4.3->lazypredict) (21.3)\n",
            "Requirement already satisfied: importlib-metadata>=0.12 in /usr/local/lib/python3.7/dist-packages (from pytest==5.4.3->lazypredict) (4.12.0)\n",
            "Requirement already satisfied: more-itertools>=4.0.0 in /usr/local/lib/python3.7/dist-packages (from pytest==5.4.3->lazypredict) (8.13.0)\n",
            "Requirement already satisfied: threadpoolctl>=2.0.0 in /usr/local/lib/python3.7/dist-packages (from scikit-learn==0.23.1->lazypredict) (3.1.0)\n",
            "Requirement already satisfied: zipp>=0.5 in /usr/local/lib/python3.7/dist-packages (from importlib-metadata>=0.12->pytest==5.4.3->lazypredict) (3.8.1)\n",
            "Requirement already satisfied: typing-extensions>=3.6.4 in /usr/local/lib/python3.7/dist-packages (from importlib-metadata>=0.12->pytest==5.4.3->lazypredict) (4.1.1)\n",
            "Requirement already satisfied: pyparsing!=3.0.5,>=2.0.2 in /usr/local/lib/python3.7/dist-packages (from packaging->pytest==5.4.3->lazypredict) (3.0.9)\n"
          ]
        }
      ]
    },
    {
      "cell_type": "markdown",
      "source": [
        "# After installation, restart Runtime and proceed to the next cell"
      ],
      "metadata": {
        "id": "POADaCC2B1Y_"
      },
      "id": "POADaCC2B1Y_"
    },
    {
      "cell_type": "code",
      "source": [
        "import lazypredict\n",
        "from lazypredict.Supervised import LazyClassifier"
      ],
      "metadata": {
        "id": "C6aLq2BEGCm3",
        "colab": {
          "base_uri": "https://localhost:8080/"
        },
        "outputId": "6f973966-aeff-47e6-b42f-4263e3bed4ac"
      },
      "id": "C6aLq2BEGCm3",
      "execution_count": 1,
      "outputs": [
        {
          "output_type": "stream",
          "name": "stderr",
          "text": [
            "/usr/local/lib/python3.7/dist-packages/sklearn/utils/deprecation.py:143: FutureWarning: The sklearn.utils.testing module is  deprecated in version 0.22 and will be removed in version 0.24. The corresponding classes / functions should instead be imported from sklearn.utils. Anything that cannot be imported from sklearn.utils is now part of the private API.\n",
            "  warnings.warn(message, FutureWarning)\n"
          ]
        }
      ]
    },
    {
      "cell_type": "code",
      "source": [
        "import pandas as pd\n",
        "from pathlib import Path\n",
        "from sklearn.preprocessing import StandardScaler\n",
        "from sklearn.model_selection import train_test_split\n",
        "\n",
        "# Upload cc_default.csv to Colab\n",
        "from google.colab import files\n",
        "# csv_file = files.upload()\n",
        "# Load data and fill blank cells with 0\n",
        "df_all = pd.read_csv(Path('CollegeBasketballPlayers2009-2022.csv'), low_memory = False)\n",
        "df_all = df_all.fillna(0)\n",
        "\n",
        "# Build model with 2009-2021 data\n",
        "df = df_all.loc[df_all['year'] < 2022]\n",
        "# 2022 data will be test data\n",
        "\n",
        "# Create a column to hold Group data\n",
        "df.loc[:,'Group'] = 0\n",
        "\n",
        "# Create groups based on ranks\n",
        "for index, row in df.iterrows():\n",
        "    if row['pick'] <= 15 and row['pick'] > 0:\n",
        "        df.at[index,'Group'] = 1\n",
        "    else:\n",
        "        df.at[index,'Group'] = 0\n",
        "\n",
        "\n",
        "# Creates X by using specific statistics\n",
        "features = ['GP','Min_per', 'ftr', 'pts', 'ORB_per', 'DRB_per', 'blk_per', 'stl_per', 'dporpag', 'porpag', 'AST_per', 'TO_per', 'FT_per']\n",
        "# Set Feature and Target\n",
        "X = df[features]\n",
        "y = df['Group']\n",
        "\n",
        "# Import imbalanced-learn\n",
        "import imblearn\n",
        "# Undersample imbalanced dataset with NearMiss\n",
        "from collections import Counter\n",
        "from imblearn.under_sampling import NearMiss\n",
        "from matplotlib import pyplot\n",
        "from numpy import where\n",
        "\n",
        "# define the undersampling method\n",
        "undersample = NearMiss(version=2, n_neighbors=3)\n",
        "# transform the dataset\n",
        "X, y = undersample.fit_resample(X, y)\n",
        "\n",
        "\n",
        "# Re-split the train, test dataset\n",
        "X_train, X_test, y_train, y_test = train_test_split(X, y,test_size=.5,random_state =123)\n",
        "# Initiate the scaler\n",
        "X_scaler = StandardScaler()\n",
        "# Fit the scaler to the features dataset\n",
        "X_scaler = X_scaler.fit(X)\n",
        "# Scale train, test datasets\n",
        "X_train_scaled = X_scaler.transform(X_train)\n",
        "X_test_scaled = X_scaler.transform(X_test)\n",
        "\n",
        "\n",
        "# Train the new datasets\n",
        "lc = LazyClassifier(verbose=0,ignore_warnings=True, custom_metric=None)\n",
        "lc_predictions = lc.fit(X_train_scaled, X_test_scaled, y_train, y_test)\n",
        "\n",
        "# Print the model\n",
        "print(lc_predictions)"
      ],
      "metadata": {
        "id": "ysahCx3eGG20",
        "colab": {
          "base_uri": "https://localhost:8080/"
        },
        "outputId": "c5334d01-6fb2-4743-a2e8-04310c9e0342"
      },
      "id": "ysahCx3eGG20",
      "execution_count": 2,
      "outputs": [
        {
          "output_type": "stream",
          "name": "stderr",
          "text": [
            "100%|██████████| 29/29 [00:02<00:00, 11.10it/s]"
          ]
        },
        {
          "output_type": "stream",
          "name": "stdout",
          "text": [
            "(                               Accuracy  Balanced Accuracy  ROC AUC  F1 Score  \\\n",
            "Model                                                                           \n",
            "ExtraTreesClassifier               0.99               0.99     0.99      0.99   \n",
            "RandomForestClassifier             0.98               0.98     0.98      0.98   \n",
            "QuadraticDiscriminantAnalysis      0.98               0.98     0.98      0.98   \n",
            "SVC                                0.98               0.98     0.98      0.98   \n",
            "LGBMClassifier                     0.98               0.98     0.98      0.98   \n",
            "XGBClassifier                      0.98               0.98     0.98      0.98   \n",
            "BaggingClassifier                  0.97               0.97     0.97      0.97   \n",
            "DecisionTreeClassifier             0.97               0.97     0.97      0.97   \n",
            "NuSVC                              0.96               0.97     0.97      0.96   \n",
            "GaussianNB                         0.96               0.96     0.96      0.96   \n",
            "AdaBoostClassifier                 0.96               0.96     0.96      0.96   \n",
            "KNeighborsClassifier               0.94               0.94     0.94      0.94   \n",
            "LabelSpreading                     0.93               0.93     0.93      0.93   \n",
            "LinearDiscriminantAnalysis         0.93               0.93     0.93      0.93   \n",
            "LabelPropagation                   0.93               0.93     0.93      0.93   \n",
            "RidgeClassifier                    0.93               0.93     0.93      0.93   \n",
            "RidgeClassifierCV                  0.93               0.93     0.93      0.93   \n",
            "LogisticRegression                 0.93               0.93     0.93      0.93   \n",
            "SGDClassifier                      0.93               0.93     0.93      0.93   \n",
            "PassiveAggressiveClassifier        0.92               0.92     0.92      0.92   \n",
            "Perceptron                         0.92               0.92     0.92      0.92   \n",
            "CalibratedClassifierCV             0.92               0.92     0.92      0.92   \n",
            "LinearSVC                          0.91               0.91     0.91      0.91   \n",
            "NearestCentroid                    0.90               0.91     0.91      0.90   \n",
            "BernoulliNB                        0.89               0.89     0.89      0.89   \n",
            "ExtraTreeClassifier                0.85               0.85     0.85      0.85   \n",
            "DummyClassifier                    0.50               0.50     0.50      0.50   \n",
            "\n",
            "                               Time Taken  \n",
            "Model                                      \n",
            "ExtraTreesClassifier                 0.55  \n",
            "RandomForestClassifier               0.37  \n",
            "QuadraticDiscriminantAnalysis        0.04  \n",
            "SVC                                  0.03  \n",
            "LGBMClassifier                       0.18  \n",
            "XGBClassifier                        0.28  \n",
            "BaggingClassifier                    0.08  \n",
            "DecisionTreeClassifier               0.02  \n",
            "NuSVC                                0.03  \n",
            "GaussianNB                           0.06  \n",
            "AdaBoostClassifier                   0.19  \n",
            "KNeighborsClassifier                 0.12  \n",
            "LabelSpreading                       0.04  \n",
            "LinearDiscriminantAnalysis           0.07  \n",
            "LabelPropagation                     0.06  \n",
            "RidgeClassifier                      0.03  \n",
            "RidgeClassifierCV                    0.03  \n",
            "LogisticRegression                   0.04  \n",
            "SGDClassifier                        0.02  \n",
            "PassiveAggressiveClassifier          0.02  \n",
            "Perceptron                           0.02  \n",
            "CalibratedClassifierCV               0.08  \n",
            "LinearSVC                            0.05  \n",
            "NearestCentroid                      0.04  \n",
            "BernoulliNB                          0.03  \n",
            "ExtraTreeClassifier                  0.02  \n",
            "DummyClassifier                      0.02  ,                                Accuracy  Balanced Accuracy  ROC AUC  F1 Score  \\\n",
            "Model                                                                           \n",
            "ExtraTreesClassifier               0.99               0.99     0.99      0.99   \n",
            "RandomForestClassifier             0.98               0.98     0.98      0.98   \n",
            "QuadraticDiscriminantAnalysis      0.98               0.98     0.98      0.98   \n",
            "SVC                                0.98               0.98     0.98      0.98   \n",
            "LGBMClassifier                     0.98               0.98     0.98      0.98   \n",
            "XGBClassifier                      0.98               0.98     0.98      0.98   \n",
            "BaggingClassifier                  0.97               0.97     0.97      0.97   \n",
            "DecisionTreeClassifier             0.97               0.97     0.97      0.97   \n",
            "NuSVC                              0.96               0.97     0.97      0.96   \n",
            "GaussianNB                         0.96               0.96     0.96      0.96   \n",
            "AdaBoostClassifier                 0.96               0.96     0.96      0.96   \n",
            "KNeighborsClassifier               0.94               0.94     0.94      0.94   \n",
            "LabelSpreading                     0.93               0.93     0.93      0.93   \n",
            "LinearDiscriminantAnalysis         0.93               0.93     0.93      0.93   \n",
            "LabelPropagation                   0.93               0.93     0.93      0.93   \n",
            "RidgeClassifier                    0.93               0.93     0.93      0.93   \n",
            "RidgeClassifierCV                  0.93               0.93     0.93      0.93   \n",
            "LogisticRegression                 0.93               0.93     0.93      0.93   \n",
            "SGDClassifier                      0.93               0.93     0.93      0.93   \n",
            "PassiveAggressiveClassifier        0.92               0.92     0.92      0.92   \n",
            "Perceptron                         0.92               0.92     0.92      0.92   \n",
            "CalibratedClassifierCV             0.92               0.92     0.92      0.92   \n",
            "LinearSVC                          0.91               0.91     0.91      0.91   \n",
            "NearestCentroid                    0.90               0.91     0.91      0.90   \n",
            "BernoulliNB                        0.89               0.89     0.89      0.89   \n",
            "ExtraTreeClassifier                0.85               0.85     0.85      0.85   \n",
            "DummyClassifier                    0.50               0.50     0.50      0.50   \n",
            "\n",
            "                               Time Taken  \n",
            "Model                                      \n",
            "ExtraTreesClassifier                 0.55  \n",
            "RandomForestClassifier               0.37  \n",
            "QuadraticDiscriminantAnalysis        0.04  \n",
            "SVC                                  0.03  \n",
            "LGBMClassifier                       0.18  \n",
            "XGBClassifier                        0.28  \n",
            "BaggingClassifier                    0.08  \n",
            "DecisionTreeClassifier               0.02  \n",
            "NuSVC                                0.03  \n",
            "GaussianNB                           0.06  \n",
            "AdaBoostClassifier                   0.19  \n",
            "KNeighborsClassifier                 0.12  \n",
            "LabelSpreading                       0.04  \n",
            "LinearDiscriminantAnalysis           0.07  \n",
            "LabelPropagation                     0.06  \n",
            "RidgeClassifier                      0.03  \n",
            "RidgeClassifierCV                    0.03  \n",
            "LogisticRegression                   0.04  \n",
            "SGDClassifier                        0.02  \n",
            "PassiveAggressiveClassifier          0.02  \n",
            "Perceptron                           0.02  \n",
            "CalibratedClassifierCV               0.08  \n",
            "LinearSVC                            0.05  \n",
            "NearestCentroid                      0.04  \n",
            "BernoulliNB                          0.03  \n",
            "ExtraTreeClassifier                  0.02  \n",
            "DummyClassifier                      0.02  )\n"
          ]
        },
        {
          "output_type": "stream",
          "name": "stderr",
          "text": [
            "\n"
          ]
        }
      ]
    },
    {
      "cell_type": "markdown",
      "source": [
        "---\n",
        "##The best ML model under **NearMiss Version 2** undersampling method is: **ExtraTreesClassifier** `accuracy` .99 and class 1 `F1` score .99"
      ],
      "metadata": {
        "id": "VerVc_uE53oG"
      },
      "id": "VerVc_uE53oG"
    },
    {
      "cell_type": "code",
      "source": [
        ""
      ],
      "metadata": {
        "id": "6ZcrTiQ06HOP"
      },
      "id": "6ZcrTiQ06HOP",
      "execution_count": null,
      "outputs": []
    }
  ],
  "metadata": {
    "kernelspec": {
      "display_name": "dev",
      "language": "python",
      "name": "dev"
    },
    "language_info": {
      "codemirror_mode": {
        "name": "ipython",
        "version": 3
      },
      "file_extension": ".py",
      "mimetype": "text/x-python",
      "name": "python",
      "nbconvert_exporter": "python",
      "pygments_lexer": "ipython3",
      "version": "3.9.12"
    },
    "colab": {
      "name": "FF_top15_college_data.ipynb",
      "provenance": [],
      "collapsed_sections": [],
      "include_colab_link": true
    }
  },
  "nbformat": 4,
  "nbformat_minor": 5
}