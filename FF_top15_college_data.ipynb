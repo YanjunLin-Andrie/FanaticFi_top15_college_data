{
  "cells": [
    {
      "cell_type": "markdown",
      "metadata": {
        "id": "view-in-github",
        "colab_type": "text"
      },
      "source": [
        "<a href=\"https://colab.research.google.com/github/YanjunLin-Andrie/FanaticFi_top15_college_data/blob/main/FF_top15_college_data.ipynb\" target=\"_parent\"><img src=\"https://colab.research.google.com/assets/colab-badge.svg\" alt=\"Open In Colab\"/></a>"
      ]
    },
    {
      "cell_type": "code",
      "execution_count": 1,
      "id": "88acc28f-848d-4881-b818-3e1afc45797a",
      "metadata": {
        "tags": [],
        "id": "88acc28f-848d-4881-b818-3e1afc45797a"
      },
      "outputs": [],
      "source": [
        "# Imports\n",
        "import pandas as pd\n",
        "from pathlib import Path"
      ]
    },
    {
      "cell_type": "markdown",
      "source": [
        "### Data referrence:\n",
        "\n",
        "* Data credit to `T-Rank Era Player Finder` by Bart Torvik. Click [here](https://barttorvik.com/) for more information\n",
        "\n",
        "* Bart Torvik's [blog](http://adamcwisports.blogspot.com/p/data.html) provides information on how to scrape data from his website.\n",
        "\n",
        "* I followed guidance from `College Basketball 2009-2021 + NBA Advanced Stats` by Aditya Jumar. Click [here](https://www.kaggle.com/datasets/adityak2003/college-basketball-players-20092021) for more information\n",
        "\n",
        "* 2022 Draft Data were collected from nba.com, click [here](https://www.nba.com/stats/draft/history/) for more information"
      ],
      "metadata": {
        "id": "NOnFnGMDiw-h"
      },
      "id": "NOnFnGMDiw-h"
    },
    {
      "cell_type": "code",
      "source": [
        "# Load data and fill blank cells with 0\n",
        "df_all = pd.read_csv(Path('2009-2022.csv'), low_memory = False)\n",
        "df_all = df_all.fillna(0)\n",
        "# Create a column to hold Group data\n",
        "df_all.loc[:,'Group'] = 0\n",
        "df_all"
      ],
      "metadata": {
        "colab": {
          "base_uri": "https://localhost:8080/",
          "height": 557
        },
        "id": "AVcgSIC_Aw77",
        "outputId": "f75e1bbe-d316-4d37-c199-e1e4ebf8365f"
      },
      "id": "AVcgSIC_Aw77",
      "execution_count": 2,
      "outputs": [
        {
          "output_type": "execute_result",
          "data": {
            "text/plain": [
              "          player_name               team  conf  GP  Min_per   Ortg   usg  \\\n",
              "0       A.D. Vassallo      Virginia Tech   ACC  34     89.8  111.8  25.0   \n",
              "1         A.J. Abrams              Texas   B12  35     93.5  116.0  19.0   \n",
              "2          A.J. Davis            Wyoming   MWC  28     26.7   80.1  15.2   \n",
              "3       A.J. Gasporra               UTSA  Slnd  13      6.6   91.1  15.6   \n",
              "4       A.J. Hardeman         New Mexico   MWC  33     21.5   84.2  16.6   \n",
              "...               ...                ...   ...  ..      ...    ...   ...   \n",
              "66068      Zion Young            Oakland  Horz   7      6.6  105.3  21.0   \n",
              "66069       Zoar Nedd             Hawaii    BW  19     12.1   83.9  16.3   \n",
              "66070      Zool Kueth  Northern Illinois   MAC  30     38.3   92.0  15.2   \n",
              "66071  Zurabi Zhgenti   Northwestern St.  Slnd  28     30.7   79.6  19.6   \n",
              "66072     Zyon Pullin       UC Riverside    BW  25     83.6  107.6  25.0   \n",
              "\n",
              "        eFG  TS_per  ORB_per  ...    oreb    dreb    treb     ast     stl  \\\n",
              "0      53.0   56.50      4.4  ...  1.3824  4.8235  6.2059  2.5882  0.8235   \n",
              "1      50.7   54.32      1.2  ...  0.4000  1.8286  2.2286  1.3143  1.3429   \n",
              "2      42.3   44.60      3.0  ...  0.2857  1.9286  2.2143  0.5357  0.3571   \n",
              "3      71.9   71.88      1.4  ...  0.0769  0.1538  0.2308  0.2308  0.0769   \n",
              "4      52.4   48.49      8.0  ...  0.5758  1.5455  2.1212  0.0909  0.2424   \n",
              "...     ...     ...      ...  ...     ...     ...     ...     ...     ...   \n",
              "66068  50.0   53.08      1.5  ...  0.1429  1.2857  1.4286  0.1429  0.1429   \n",
              "66069  36.8   39.00      3.0  ...  0.1429  0.8095  0.9524  0.2857  0.2381   \n",
              "66070  40.1   46.62      4.7  ...  0.6333  1.1667  1.8000  0.2333  0.3333   \n",
              "66071  40.7   47.31      6.3  ...  0.8710  2.0000  2.8710  0.6129  0.2581   \n",
              "66072  50.4   56.84      1.4  ...  0.3704  5.1852  5.5556  4.3333  0.8148   \n",
              "\n",
              "          blk      pts  Unnamed: 64  Unnamed: 65  Group  \n",
              "0      0.8529  19.0588            0    10.674900      0  \n",
              "1      0.1143  16.5714            0    11.797500      0  \n",
              "2      0.0714   2.4643            0     3.407200      0  \n",
              "3      0.0000   1.7692            0     8.791720      0  \n",
              "4      0.4848   2.2424            0     0.400413      0  \n",
              "...       ...      ...          ...          ...    ...  \n",
              "66068  0.1429   5.2857    Stretch 4    19.847300      0  \n",
              "66069  0.0000   1.8095       Wing G    14.099300      0  \n",
              "66070  0.4667   3.7667    Stretch 4    10.106600      0  \n",
              "66071  0.0968   3.8710    Stretch 4     5.054760      0  \n",
              "66072  0.0000  14.3333      Combo G     3.003410      0  \n",
              "\n",
              "[66073 rows x 67 columns]"
            ],
            "text/html": [
              "\n",
              "  <div id=\"df-ab9b0531-3a23-445f-a0c3-a6e0180982ca\">\n",
              "    <div class=\"colab-df-container\">\n",
              "      <div>\n",
              "<style scoped>\n",
              "    .dataframe tbody tr th:only-of-type {\n",
              "        vertical-align: middle;\n",
              "    }\n",
              "\n",
              "    .dataframe tbody tr th {\n",
              "        vertical-align: top;\n",
              "    }\n",
              "\n",
              "    .dataframe thead th {\n",
              "        text-align: right;\n",
              "    }\n",
              "</style>\n",
              "<table border=\"1\" class=\"dataframe\">\n",
              "  <thead>\n",
              "    <tr style=\"text-align: right;\">\n",
              "      <th></th>\n",
              "      <th>player_name</th>\n",
              "      <th>team</th>\n",
              "      <th>conf</th>\n",
              "      <th>GP</th>\n",
              "      <th>Min_per</th>\n",
              "      <th>Ortg</th>\n",
              "      <th>usg</th>\n",
              "      <th>eFG</th>\n",
              "      <th>TS_per</th>\n",
              "      <th>ORB_per</th>\n",
              "      <th>...</th>\n",
              "      <th>oreb</th>\n",
              "      <th>dreb</th>\n",
              "      <th>treb</th>\n",
              "      <th>ast</th>\n",
              "      <th>stl</th>\n",
              "      <th>blk</th>\n",
              "      <th>pts</th>\n",
              "      <th>Unnamed: 64</th>\n",
              "      <th>Unnamed: 65</th>\n",
              "      <th>Group</th>\n",
              "    </tr>\n",
              "  </thead>\n",
              "  <tbody>\n",
              "    <tr>\n",
              "      <th>0</th>\n",
              "      <td>A.D. Vassallo</td>\n",
              "      <td>Virginia Tech</td>\n",
              "      <td>ACC</td>\n",
              "      <td>34</td>\n",
              "      <td>89.8</td>\n",
              "      <td>111.8</td>\n",
              "      <td>25.0</td>\n",
              "      <td>53.0</td>\n",
              "      <td>56.50</td>\n",
              "      <td>4.4</td>\n",
              "      <td>...</td>\n",
              "      <td>1.3824</td>\n",
              "      <td>4.8235</td>\n",
              "      <td>6.2059</td>\n",
              "      <td>2.5882</td>\n",
              "      <td>0.8235</td>\n",
              "      <td>0.8529</td>\n",
              "      <td>19.0588</td>\n",
              "      <td>0</td>\n",
              "      <td>10.674900</td>\n",
              "      <td>0</td>\n",
              "    </tr>\n",
              "    <tr>\n",
              "      <th>1</th>\n",
              "      <td>A.J. Abrams</td>\n",
              "      <td>Texas</td>\n",
              "      <td>B12</td>\n",
              "      <td>35</td>\n",
              "      <td>93.5</td>\n",
              "      <td>116.0</td>\n",
              "      <td>19.0</td>\n",
              "      <td>50.7</td>\n",
              "      <td>54.32</td>\n",
              "      <td>1.2</td>\n",
              "      <td>...</td>\n",
              "      <td>0.4000</td>\n",
              "      <td>1.8286</td>\n",
              "      <td>2.2286</td>\n",
              "      <td>1.3143</td>\n",
              "      <td>1.3429</td>\n",
              "      <td>0.1143</td>\n",
              "      <td>16.5714</td>\n",
              "      <td>0</td>\n",
              "      <td>11.797500</td>\n",
              "      <td>0</td>\n",
              "    </tr>\n",
              "    <tr>\n",
              "      <th>2</th>\n",
              "      <td>A.J. Davis</td>\n",
              "      <td>Wyoming</td>\n",
              "      <td>MWC</td>\n",
              "      <td>28</td>\n",
              "      <td>26.7</td>\n",
              "      <td>80.1</td>\n",
              "      <td>15.2</td>\n",
              "      <td>42.3</td>\n",
              "      <td>44.60</td>\n",
              "      <td>3.0</td>\n",
              "      <td>...</td>\n",
              "      <td>0.2857</td>\n",
              "      <td>1.9286</td>\n",
              "      <td>2.2143</td>\n",
              "      <td>0.5357</td>\n",
              "      <td>0.3571</td>\n",
              "      <td>0.0714</td>\n",
              "      <td>2.4643</td>\n",
              "      <td>0</td>\n",
              "      <td>3.407200</td>\n",
              "      <td>0</td>\n",
              "    </tr>\n",
              "    <tr>\n",
              "      <th>3</th>\n",
              "      <td>A.J. Gasporra</td>\n",
              "      <td>UTSA</td>\n",
              "      <td>Slnd</td>\n",
              "      <td>13</td>\n",
              "      <td>6.6</td>\n",
              "      <td>91.1</td>\n",
              "      <td>15.6</td>\n",
              "      <td>71.9</td>\n",
              "      <td>71.88</td>\n",
              "      <td>1.4</td>\n",
              "      <td>...</td>\n",
              "      <td>0.0769</td>\n",
              "      <td>0.1538</td>\n",
              "      <td>0.2308</td>\n",
              "      <td>0.2308</td>\n",
              "      <td>0.0769</td>\n",
              "      <td>0.0000</td>\n",
              "      <td>1.7692</td>\n",
              "      <td>0</td>\n",
              "      <td>8.791720</td>\n",
              "      <td>0</td>\n",
              "    </tr>\n",
              "    <tr>\n",
              "      <th>4</th>\n",
              "      <td>A.J. Hardeman</td>\n",
              "      <td>New Mexico</td>\n",
              "      <td>MWC</td>\n",
              "      <td>33</td>\n",
              "      <td>21.5</td>\n",
              "      <td>84.2</td>\n",
              "      <td>16.6</td>\n",
              "      <td>52.4</td>\n",
              "      <td>48.49</td>\n",
              "      <td>8.0</td>\n",
              "      <td>...</td>\n",
              "      <td>0.5758</td>\n",
              "      <td>1.5455</td>\n",
              "      <td>2.1212</td>\n",
              "      <td>0.0909</td>\n",
              "      <td>0.2424</td>\n",
              "      <td>0.4848</td>\n",
              "      <td>2.2424</td>\n",
              "      <td>0</td>\n",
              "      <td>0.400413</td>\n",
              "      <td>0</td>\n",
              "    </tr>\n",
              "    <tr>\n",
              "      <th>...</th>\n",
              "      <td>...</td>\n",
              "      <td>...</td>\n",
              "      <td>...</td>\n",
              "      <td>...</td>\n",
              "      <td>...</td>\n",
              "      <td>...</td>\n",
              "      <td>...</td>\n",
              "      <td>...</td>\n",
              "      <td>...</td>\n",
              "      <td>...</td>\n",
              "      <td>...</td>\n",
              "      <td>...</td>\n",
              "      <td>...</td>\n",
              "      <td>...</td>\n",
              "      <td>...</td>\n",
              "      <td>...</td>\n",
              "      <td>...</td>\n",
              "      <td>...</td>\n",
              "      <td>...</td>\n",
              "      <td>...</td>\n",
              "      <td>...</td>\n",
              "    </tr>\n",
              "    <tr>\n",
              "      <th>66068</th>\n",
              "      <td>Zion Young</td>\n",
              "      <td>Oakland</td>\n",
              "      <td>Horz</td>\n",
              "      <td>7</td>\n",
              "      <td>6.6</td>\n",
              "      <td>105.3</td>\n",
              "      <td>21.0</td>\n",
              "      <td>50.0</td>\n",
              "      <td>53.08</td>\n",
              "      <td>1.5</td>\n",
              "      <td>...</td>\n",
              "      <td>0.1429</td>\n",
              "      <td>1.2857</td>\n",
              "      <td>1.4286</td>\n",
              "      <td>0.1429</td>\n",
              "      <td>0.1429</td>\n",
              "      <td>0.1429</td>\n",
              "      <td>5.2857</td>\n",
              "      <td>Stretch 4</td>\n",
              "      <td>19.847300</td>\n",
              "      <td>0</td>\n",
              "    </tr>\n",
              "    <tr>\n",
              "      <th>66069</th>\n",
              "      <td>Zoar Nedd</td>\n",
              "      <td>Hawaii</td>\n",
              "      <td>BW</td>\n",
              "      <td>19</td>\n",
              "      <td>12.1</td>\n",
              "      <td>83.9</td>\n",
              "      <td>16.3</td>\n",
              "      <td>36.8</td>\n",
              "      <td>39.00</td>\n",
              "      <td>3.0</td>\n",
              "      <td>...</td>\n",
              "      <td>0.1429</td>\n",
              "      <td>0.8095</td>\n",
              "      <td>0.9524</td>\n",
              "      <td>0.2857</td>\n",
              "      <td>0.2381</td>\n",
              "      <td>0.0000</td>\n",
              "      <td>1.8095</td>\n",
              "      <td>Wing G</td>\n",
              "      <td>14.099300</td>\n",
              "      <td>0</td>\n",
              "    </tr>\n",
              "    <tr>\n",
              "      <th>66070</th>\n",
              "      <td>Zool Kueth</td>\n",
              "      <td>Northern Illinois</td>\n",
              "      <td>MAC</td>\n",
              "      <td>30</td>\n",
              "      <td>38.3</td>\n",
              "      <td>92.0</td>\n",
              "      <td>15.2</td>\n",
              "      <td>40.1</td>\n",
              "      <td>46.62</td>\n",
              "      <td>4.7</td>\n",
              "      <td>...</td>\n",
              "      <td>0.6333</td>\n",
              "      <td>1.1667</td>\n",
              "      <td>1.8000</td>\n",
              "      <td>0.2333</td>\n",
              "      <td>0.3333</td>\n",
              "      <td>0.4667</td>\n",
              "      <td>3.7667</td>\n",
              "      <td>Stretch 4</td>\n",
              "      <td>10.106600</td>\n",
              "      <td>0</td>\n",
              "    </tr>\n",
              "    <tr>\n",
              "      <th>66071</th>\n",
              "      <td>Zurabi Zhgenti</td>\n",
              "      <td>Northwestern St.</td>\n",
              "      <td>Slnd</td>\n",
              "      <td>28</td>\n",
              "      <td>30.7</td>\n",
              "      <td>79.6</td>\n",
              "      <td>19.6</td>\n",
              "      <td>40.7</td>\n",
              "      <td>47.31</td>\n",
              "      <td>6.3</td>\n",
              "      <td>...</td>\n",
              "      <td>0.8710</td>\n",
              "      <td>2.0000</td>\n",
              "      <td>2.8710</td>\n",
              "      <td>0.6129</td>\n",
              "      <td>0.2581</td>\n",
              "      <td>0.0968</td>\n",
              "      <td>3.8710</td>\n",
              "      <td>Stretch 4</td>\n",
              "      <td>5.054760</td>\n",
              "      <td>0</td>\n",
              "    </tr>\n",
              "    <tr>\n",
              "      <th>66072</th>\n",
              "      <td>Zyon Pullin</td>\n",
              "      <td>UC Riverside</td>\n",
              "      <td>BW</td>\n",
              "      <td>25</td>\n",
              "      <td>83.6</td>\n",
              "      <td>107.6</td>\n",
              "      <td>25.0</td>\n",
              "      <td>50.4</td>\n",
              "      <td>56.84</td>\n",
              "      <td>1.4</td>\n",
              "      <td>...</td>\n",
              "      <td>0.3704</td>\n",
              "      <td>5.1852</td>\n",
              "      <td>5.5556</td>\n",
              "      <td>4.3333</td>\n",
              "      <td>0.8148</td>\n",
              "      <td>0.0000</td>\n",
              "      <td>14.3333</td>\n",
              "      <td>Combo G</td>\n",
              "      <td>3.003410</td>\n",
              "      <td>0</td>\n",
              "    </tr>\n",
              "  </tbody>\n",
              "</table>\n",
              "<p>66073 rows × 67 columns</p>\n",
              "</div>\n",
              "      <button class=\"colab-df-convert\" onclick=\"convertToInteractive('df-ab9b0531-3a23-445f-a0c3-a6e0180982ca')\"\n",
              "              title=\"Convert this dataframe to an interactive table.\"\n",
              "              style=\"display:none;\">\n",
              "        \n",
              "  <svg xmlns=\"http://www.w3.org/2000/svg\" height=\"24px\"viewBox=\"0 0 24 24\"\n",
              "       width=\"24px\">\n",
              "    <path d=\"M0 0h24v24H0V0z\" fill=\"none\"/>\n",
              "    <path d=\"M18.56 5.44l.94 2.06.94-2.06 2.06-.94-2.06-.94-.94-2.06-.94 2.06-2.06.94zm-11 1L8.5 8.5l.94-2.06 2.06-.94-2.06-.94L8.5 2.5l-.94 2.06-2.06.94zm10 10l.94 2.06.94-2.06 2.06-.94-2.06-.94-.94-2.06-.94 2.06-2.06.94z\"/><path d=\"M17.41 7.96l-1.37-1.37c-.4-.4-.92-.59-1.43-.59-.52 0-1.04.2-1.43.59L10.3 9.45l-7.72 7.72c-.78.78-.78 2.05 0 2.83L4 21.41c.39.39.9.59 1.41.59.51 0 1.02-.2 1.41-.59l7.78-7.78 2.81-2.81c.8-.78.8-2.07 0-2.86zM5.41 20L4 18.59l7.72-7.72 1.47 1.35L5.41 20z\"/>\n",
              "  </svg>\n",
              "      </button>\n",
              "      \n",
              "  <style>\n",
              "    .colab-df-container {\n",
              "      display:flex;\n",
              "      flex-wrap:wrap;\n",
              "      gap: 12px;\n",
              "    }\n",
              "\n",
              "    .colab-df-convert {\n",
              "      background-color: #E8F0FE;\n",
              "      border: none;\n",
              "      border-radius: 50%;\n",
              "      cursor: pointer;\n",
              "      display: none;\n",
              "      fill: #1967D2;\n",
              "      height: 32px;\n",
              "      padding: 0 0 0 0;\n",
              "      width: 32px;\n",
              "    }\n",
              "\n",
              "    .colab-df-convert:hover {\n",
              "      background-color: #E2EBFA;\n",
              "      box-shadow: 0px 1px 2px rgba(60, 64, 67, 0.3), 0px 1px 3px 1px rgba(60, 64, 67, 0.15);\n",
              "      fill: #174EA6;\n",
              "    }\n",
              "\n",
              "    [theme=dark] .colab-df-convert {\n",
              "      background-color: #3B4455;\n",
              "      fill: #D2E3FC;\n",
              "    }\n",
              "\n",
              "    [theme=dark] .colab-df-convert:hover {\n",
              "      background-color: #434B5C;\n",
              "      box-shadow: 0px 1px 3px 1px rgba(0, 0, 0, 0.15);\n",
              "      filter: drop-shadow(0px 1px 2px rgba(0, 0, 0, 0.3));\n",
              "      fill: #FFFFFF;\n",
              "    }\n",
              "  </style>\n",
              "\n",
              "      <script>\n",
              "        const buttonEl =\n",
              "          document.querySelector('#df-ab9b0531-3a23-445f-a0c3-a6e0180982ca button.colab-df-convert');\n",
              "        buttonEl.style.display =\n",
              "          google.colab.kernel.accessAllowed ? 'block' : 'none';\n",
              "\n",
              "        async function convertToInteractive(key) {\n",
              "          const element = document.querySelector('#df-ab9b0531-3a23-445f-a0c3-a6e0180982ca');\n",
              "          const dataTable =\n",
              "            await google.colab.kernel.invokeFunction('convertToInteractive',\n",
              "                                                     [key], {});\n",
              "          if (!dataTable) return;\n",
              "\n",
              "          const docLinkHtml = 'Like what you see? Visit the ' +\n",
              "            '<a target=\"_blank\" href=https://colab.research.google.com/notebooks/data_table.ipynb>data table notebook</a>'\n",
              "            + ' to learn more about interactive tables.';\n",
              "          element.innerHTML = '';\n",
              "          dataTable['output_type'] = 'display_data';\n",
              "          await google.colab.output.renderOutput(dataTable, element);\n",
              "          const docLink = document.createElement('div');\n",
              "          docLink.innerHTML = docLinkHtml;\n",
              "          element.appendChild(docLink);\n",
              "        }\n",
              "      </script>\n",
              "    </div>\n",
              "  </div>\n",
              "  "
            ]
          },
          "metadata": {},
          "execution_count": 2
        }
      ]
    },
    {
      "cell_type": "markdown",
      "id": "5f7b85bc-b2ff-4939-9e9e-a5cbd168c1d1",
      "metadata": {
        "id": "5f7b85bc-b2ff-4939-9e9e-a5cbd168c1d1"
      },
      "source": [
        "---\n",
        "## Find top 15\n",
        "### Binary Classification"
      ]
    },
    {
      "cell_type": "code",
      "execution_count": 4,
      "id": "518b1441-c425-4483-98b6-2c8dd9bdcf69",
      "metadata": {
        "tags": [],
        "colab": {
          "base_uri": "https://localhost:8080/",
          "height": 557
        },
        "id": "518b1441-c425-4483-98b6-2c8dd9bdcf69",
        "outputId": "c25331b7-1f96-49a5-db8f-b94685ab3a9b"
      },
      "outputs": [
        {
          "output_type": "execute_result",
          "data": {
            "text/plain": [
              "          player_name               team  conf  GP  Min_per   Ortg   usg  \\\n",
              "0       A.D. Vassallo      Virginia Tech   ACC  34     89.8  111.8  25.0   \n",
              "1         A.J. Abrams              Texas   B12  35     93.5  116.0  19.0   \n",
              "2          A.J. Davis            Wyoming   MWC  28     26.7   80.1  15.2   \n",
              "3       A.J. Gasporra               UTSA  Slnd  13      6.6   91.1  15.6   \n",
              "4       A.J. Hardeman         New Mexico   MWC  33     21.5   84.2  16.6   \n",
              "...               ...                ...   ...  ..      ...    ...   ...   \n",
              "66068      Zion Young            Oakland  Horz   7      6.6  105.3  21.0   \n",
              "66069       Zoar Nedd             Hawaii    BW  19     12.1   83.9  16.3   \n",
              "66070      Zool Kueth  Northern Illinois   MAC  30     38.3   92.0  15.2   \n",
              "66071  Zurabi Zhgenti   Northwestern St.  Slnd  28     30.7   79.6  19.6   \n",
              "66072     Zyon Pullin       UC Riverside    BW  25     83.6  107.6  25.0   \n",
              "\n",
              "        eFG  TS_per  ORB_per  ...    oreb    dreb    treb     ast     stl  \\\n",
              "0      53.0   56.50      4.4  ...  1.3824  4.8235  6.2059  2.5882  0.8235   \n",
              "1      50.7   54.32      1.2  ...  0.4000  1.8286  2.2286  1.3143  1.3429   \n",
              "2      42.3   44.60      3.0  ...  0.2857  1.9286  2.2143  0.5357  0.3571   \n",
              "3      71.9   71.88      1.4  ...  0.0769  0.1538  0.2308  0.2308  0.0769   \n",
              "4      52.4   48.49      8.0  ...  0.5758  1.5455  2.1212  0.0909  0.2424   \n",
              "...     ...     ...      ...  ...     ...     ...     ...     ...     ...   \n",
              "66068  50.0   53.08      1.5  ...  0.1429  1.2857  1.4286  0.1429  0.1429   \n",
              "66069  36.8   39.00      3.0  ...  0.1429  0.8095  0.9524  0.2857  0.2381   \n",
              "66070  40.1   46.62      4.7  ...  0.6333  1.1667  1.8000  0.2333  0.3333   \n",
              "66071  40.7   47.31      6.3  ...  0.8710  2.0000  2.8710  0.6129  0.2581   \n",
              "66072  50.4   56.84      1.4  ...  0.3704  5.1852  5.5556  4.3333  0.8148   \n",
              "\n",
              "          blk      pts  Unnamed: 64  Unnamed: 65  Group  \n",
              "0      0.8529  19.0588            0    10.674900      0  \n",
              "1      0.1143  16.5714            0    11.797500      0  \n",
              "2      0.0714   2.4643            0     3.407200      0  \n",
              "3      0.0000   1.7692            0     8.791720      0  \n",
              "4      0.4848   2.2424            0     0.400413      0  \n",
              "...       ...      ...          ...          ...    ...  \n",
              "66068  0.1429   5.2857    Stretch 4    19.847300      0  \n",
              "66069  0.0000   1.8095       Wing G    14.099300      0  \n",
              "66070  0.4667   3.7667    Stretch 4    10.106600      0  \n",
              "66071  0.0968   3.8710    Stretch 4     5.054760      0  \n",
              "66072  0.0000  14.3333      Combo G     3.003410      0  \n",
              "\n",
              "[66073 rows x 67 columns]"
            ],
            "text/html": [
              "\n",
              "  <div id=\"df-aef8bc63-70b6-4a4d-90fe-b6d344e551a3\">\n",
              "    <div class=\"colab-df-container\">\n",
              "      <div>\n",
              "<style scoped>\n",
              "    .dataframe tbody tr th:only-of-type {\n",
              "        vertical-align: middle;\n",
              "    }\n",
              "\n",
              "    .dataframe tbody tr th {\n",
              "        vertical-align: top;\n",
              "    }\n",
              "\n",
              "    .dataframe thead th {\n",
              "        text-align: right;\n",
              "    }\n",
              "</style>\n",
              "<table border=\"1\" class=\"dataframe\">\n",
              "  <thead>\n",
              "    <tr style=\"text-align: right;\">\n",
              "      <th></th>\n",
              "      <th>player_name</th>\n",
              "      <th>team</th>\n",
              "      <th>conf</th>\n",
              "      <th>GP</th>\n",
              "      <th>Min_per</th>\n",
              "      <th>Ortg</th>\n",
              "      <th>usg</th>\n",
              "      <th>eFG</th>\n",
              "      <th>TS_per</th>\n",
              "      <th>ORB_per</th>\n",
              "      <th>...</th>\n",
              "      <th>oreb</th>\n",
              "      <th>dreb</th>\n",
              "      <th>treb</th>\n",
              "      <th>ast</th>\n",
              "      <th>stl</th>\n",
              "      <th>blk</th>\n",
              "      <th>pts</th>\n",
              "      <th>Unnamed: 64</th>\n",
              "      <th>Unnamed: 65</th>\n",
              "      <th>Group</th>\n",
              "    </tr>\n",
              "  </thead>\n",
              "  <tbody>\n",
              "    <tr>\n",
              "      <th>0</th>\n",
              "      <td>A.D. Vassallo</td>\n",
              "      <td>Virginia Tech</td>\n",
              "      <td>ACC</td>\n",
              "      <td>34</td>\n",
              "      <td>89.8</td>\n",
              "      <td>111.8</td>\n",
              "      <td>25.0</td>\n",
              "      <td>53.0</td>\n",
              "      <td>56.50</td>\n",
              "      <td>4.4</td>\n",
              "      <td>...</td>\n",
              "      <td>1.3824</td>\n",
              "      <td>4.8235</td>\n",
              "      <td>6.2059</td>\n",
              "      <td>2.5882</td>\n",
              "      <td>0.8235</td>\n",
              "      <td>0.8529</td>\n",
              "      <td>19.0588</td>\n",
              "      <td>0</td>\n",
              "      <td>10.674900</td>\n",
              "      <td>0</td>\n",
              "    </tr>\n",
              "    <tr>\n",
              "      <th>1</th>\n",
              "      <td>A.J. Abrams</td>\n",
              "      <td>Texas</td>\n",
              "      <td>B12</td>\n",
              "      <td>35</td>\n",
              "      <td>93.5</td>\n",
              "      <td>116.0</td>\n",
              "      <td>19.0</td>\n",
              "      <td>50.7</td>\n",
              "      <td>54.32</td>\n",
              "      <td>1.2</td>\n",
              "      <td>...</td>\n",
              "      <td>0.4000</td>\n",
              "      <td>1.8286</td>\n",
              "      <td>2.2286</td>\n",
              "      <td>1.3143</td>\n",
              "      <td>1.3429</td>\n",
              "      <td>0.1143</td>\n",
              "      <td>16.5714</td>\n",
              "      <td>0</td>\n",
              "      <td>11.797500</td>\n",
              "      <td>0</td>\n",
              "    </tr>\n",
              "    <tr>\n",
              "      <th>2</th>\n",
              "      <td>A.J. Davis</td>\n",
              "      <td>Wyoming</td>\n",
              "      <td>MWC</td>\n",
              "      <td>28</td>\n",
              "      <td>26.7</td>\n",
              "      <td>80.1</td>\n",
              "      <td>15.2</td>\n",
              "      <td>42.3</td>\n",
              "      <td>44.60</td>\n",
              "      <td>3.0</td>\n",
              "      <td>...</td>\n",
              "      <td>0.2857</td>\n",
              "      <td>1.9286</td>\n",
              "      <td>2.2143</td>\n",
              "      <td>0.5357</td>\n",
              "      <td>0.3571</td>\n",
              "      <td>0.0714</td>\n",
              "      <td>2.4643</td>\n",
              "      <td>0</td>\n",
              "      <td>3.407200</td>\n",
              "      <td>0</td>\n",
              "    </tr>\n",
              "    <tr>\n",
              "      <th>3</th>\n",
              "      <td>A.J. Gasporra</td>\n",
              "      <td>UTSA</td>\n",
              "      <td>Slnd</td>\n",
              "      <td>13</td>\n",
              "      <td>6.6</td>\n",
              "      <td>91.1</td>\n",
              "      <td>15.6</td>\n",
              "      <td>71.9</td>\n",
              "      <td>71.88</td>\n",
              "      <td>1.4</td>\n",
              "      <td>...</td>\n",
              "      <td>0.0769</td>\n",
              "      <td>0.1538</td>\n",
              "      <td>0.2308</td>\n",
              "      <td>0.2308</td>\n",
              "      <td>0.0769</td>\n",
              "      <td>0.0000</td>\n",
              "      <td>1.7692</td>\n",
              "      <td>0</td>\n",
              "      <td>8.791720</td>\n",
              "      <td>0</td>\n",
              "    </tr>\n",
              "    <tr>\n",
              "      <th>4</th>\n",
              "      <td>A.J. Hardeman</td>\n",
              "      <td>New Mexico</td>\n",
              "      <td>MWC</td>\n",
              "      <td>33</td>\n",
              "      <td>21.5</td>\n",
              "      <td>84.2</td>\n",
              "      <td>16.6</td>\n",
              "      <td>52.4</td>\n",
              "      <td>48.49</td>\n",
              "      <td>8.0</td>\n",
              "      <td>...</td>\n",
              "      <td>0.5758</td>\n",
              "      <td>1.5455</td>\n",
              "      <td>2.1212</td>\n",
              "      <td>0.0909</td>\n",
              "      <td>0.2424</td>\n",
              "      <td>0.4848</td>\n",
              "      <td>2.2424</td>\n",
              "      <td>0</td>\n",
              "      <td>0.400413</td>\n",
              "      <td>0</td>\n",
              "    </tr>\n",
              "    <tr>\n",
              "      <th>...</th>\n",
              "      <td>...</td>\n",
              "      <td>...</td>\n",
              "      <td>...</td>\n",
              "      <td>...</td>\n",
              "      <td>...</td>\n",
              "      <td>...</td>\n",
              "      <td>...</td>\n",
              "      <td>...</td>\n",
              "      <td>...</td>\n",
              "      <td>...</td>\n",
              "      <td>...</td>\n",
              "      <td>...</td>\n",
              "      <td>...</td>\n",
              "      <td>...</td>\n",
              "      <td>...</td>\n",
              "      <td>...</td>\n",
              "      <td>...</td>\n",
              "      <td>...</td>\n",
              "      <td>...</td>\n",
              "      <td>...</td>\n",
              "      <td>...</td>\n",
              "    </tr>\n",
              "    <tr>\n",
              "      <th>66068</th>\n",
              "      <td>Zion Young</td>\n",
              "      <td>Oakland</td>\n",
              "      <td>Horz</td>\n",
              "      <td>7</td>\n",
              "      <td>6.6</td>\n",
              "      <td>105.3</td>\n",
              "      <td>21.0</td>\n",
              "      <td>50.0</td>\n",
              "      <td>53.08</td>\n",
              "      <td>1.5</td>\n",
              "      <td>...</td>\n",
              "      <td>0.1429</td>\n",
              "      <td>1.2857</td>\n",
              "      <td>1.4286</td>\n",
              "      <td>0.1429</td>\n",
              "      <td>0.1429</td>\n",
              "      <td>0.1429</td>\n",
              "      <td>5.2857</td>\n",
              "      <td>Stretch 4</td>\n",
              "      <td>19.847300</td>\n",
              "      <td>0</td>\n",
              "    </tr>\n",
              "    <tr>\n",
              "      <th>66069</th>\n",
              "      <td>Zoar Nedd</td>\n",
              "      <td>Hawaii</td>\n",
              "      <td>BW</td>\n",
              "      <td>19</td>\n",
              "      <td>12.1</td>\n",
              "      <td>83.9</td>\n",
              "      <td>16.3</td>\n",
              "      <td>36.8</td>\n",
              "      <td>39.00</td>\n",
              "      <td>3.0</td>\n",
              "      <td>...</td>\n",
              "      <td>0.1429</td>\n",
              "      <td>0.8095</td>\n",
              "      <td>0.9524</td>\n",
              "      <td>0.2857</td>\n",
              "      <td>0.2381</td>\n",
              "      <td>0.0000</td>\n",
              "      <td>1.8095</td>\n",
              "      <td>Wing G</td>\n",
              "      <td>14.099300</td>\n",
              "      <td>0</td>\n",
              "    </tr>\n",
              "    <tr>\n",
              "      <th>66070</th>\n",
              "      <td>Zool Kueth</td>\n",
              "      <td>Northern Illinois</td>\n",
              "      <td>MAC</td>\n",
              "      <td>30</td>\n",
              "      <td>38.3</td>\n",
              "      <td>92.0</td>\n",
              "      <td>15.2</td>\n",
              "      <td>40.1</td>\n",
              "      <td>46.62</td>\n",
              "      <td>4.7</td>\n",
              "      <td>...</td>\n",
              "      <td>0.6333</td>\n",
              "      <td>1.1667</td>\n",
              "      <td>1.8000</td>\n",
              "      <td>0.2333</td>\n",
              "      <td>0.3333</td>\n",
              "      <td>0.4667</td>\n",
              "      <td>3.7667</td>\n",
              "      <td>Stretch 4</td>\n",
              "      <td>10.106600</td>\n",
              "      <td>0</td>\n",
              "    </tr>\n",
              "    <tr>\n",
              "      <th>66071</th>\n",
              "      <td>Zurabi Zhgenti</td>\n",
              "      <td>Northwestern St.</td>\n",
              "      <td>Slnd</td>\n",
              "      <td>28</td>\n",
              "      <td>30.7</td>\n",
              "      <td>79.6</td>\n",
              "      <td>19.6</td>\n",
              "      <td>40.7</td>\n",
              "      <td>47.31</td>\n",
              "      <td>6.3</td>\n",
              "      <td>...</td>\n",
              "      <td>0.8710</td>\n",
              "      <td>2.0000</td>\n",
              "      <td>2.8710</td>\n",
              "      <td>0.6129</td>\n",
              "      <td>0.2581</td>\n",
              "      <td>0.0968</td>\n",
              "      <td>3.8710</td>\n",
              "      <td>Stretch 4</td>\n",
              "      <td>5.054760</td>\n",
              "      <td>0</td>\n",
              "    </tr>\n",
              "    <tr>\n",
              "      <th>66072</th>\n",
              "      <td>Zyon Pullin</td>\n",
              "      <td>UC Riverside</td>\n",
              "      <td>BW</td>\n",
              "      <td>25</td>\n",
              "      <td>83.6</td>\n",
              "      <td>107.6</td>\n",
              "      <td>25.0</td>\n",
              "      <td>50.4</td>\n",
              "      <td>56.84</td>\n",
              "      <td>1.4</td>\n",
              "      <td>...</td>\n",
              "      <td>0.3704</td>\n",
              "      <td>5.1852</td>\n",
              "      <td>5.5556</td>\n",
              "      <td>4.3333</td>\n",
              "      <td>0.8148</td>\n",
              "      <td>0.0000</td>\n",
              "      <td>14.3333</td>\n",
              "      <td>Combo G</td>\n",
              "      <td>3.003410</td>\n",
              "      <td>0</td>\n",
              "    </tr>\n",
              "  </tbody>\n",
              "</table>\n",
              "<p>66073 rows × 67 columns</p>\n",
              "</div>\n",
              "      <button class=\"colab-df-convert\" onclick=\"convertToInteractive('df-aef8bc63-70b6-4a4d-90fe-b6d344e551a3')\"\n",
              "              title=\"Convert this dataframe to an interactive table.\"\n",
              "              style=\"display:none;\">\n",
              "        \n",
              "  <svg xmlns=\"http://www.w3.org/2000/svg\" height=\"24px\"viewBox=\"0 0 24 24\"\n",
              "       width=\"24px\">\n",
              "    <path d=\"M0 0h24v24H0V0z\" fill=\"none\"/>\n",
              "    <path d=\"M18.56 5.44l.94 2.06.94-2.06 2.06-.94-2.06-.94-.94-2.06-.94 2.06-2.06.94zm-11 1L8.5 8.5l.94-2.06 2.06-.94-2.06-.94L8.5 2.5l-.94 2.06-2.06.94zm10 10l.94 2.06.94-2.06 2.06-.94-2.06-.94-.94-2.06-.94 2.06-2.06.94z\"/><path d=\"M17.41 7.96l-1.37-1.37c-.4-.4-.92-.59-1.43-.59-.52 0-1.04.2-1.43.59L10.3 9.45l-7.72 7.72c-.78.78-.78 2.05 0 2.83L4 21.41c.39.39.9.59 1.41.59.51 0 1.02-.2 1.41-.59l7.78-7.78 2.81-2.81c.8-.78.8-2.07 0-2.86zM5.41 20L4 18.59l7.72-7.72 1.47 1.35L5.41 20z\"/>\n",
              "  </svg>\n",
              "      </button>\n",
              "      \n",
              "  <style>\n",
              "    .colab-df-container {\n",
              "      display:flex;\n",
              "      flex-wrap:wrap;\n",
              "      gap: 12px;\n",
              "    }\n",
              "\n",
              "    .colab-df-convert {\n",
              "      background-color: #E8F0FE;\n",
              "      border: none;\n",
              "      border-radius: 50%;\n",
              "      cursor: pointer;\n",
              "      display: none;\n",
              "      fill: #1967D2;\n",
              "      height: 32px;\n",
              "      padding: 0 0 0 0;\n",
              "      width: 32px;\n",
              "    }\n",
              "\n",
              "    .colab-df-convert:hover {\n",
              "      background-color: #E2EBFA;\n",
              "      box-shadow: 0px 1px 2px rgba(60, 64, 67, 0.3), 0px 1px 3px 1px rgba(60, 64, 67, 0.15);\n",
              "      fill: #174EA6;\n",
              "    }\n",
              "\n",
              "    [theme=dark] .colab-df-convert {\n",
              "      background-color: #3B4455;\n",
              "      fill: #D2E3FC;\n",
              "    }\n",
              "\n",
              "    [theme=dark] .colab-df-convert:hover {\n",
              "      background-color: #434B5C;\n",
              "      box-shadow: 0px 1px 3px 1px rgba(0, 0, 0, 0.15);\n",
              "      filter: drop-shadow(0px 1px 2px rgba(0, 0, 0, 0.3));\n",
              "      fill: #FFFFFF;\n",
              "    }\n",
              "  </style>\n",
              "\n",
              "      <script>\n",
              "        const buttonEl =\n",
              "          document.querySelector('#df-aef8bc63-70b6-4a4d-90fe-b6d344e551a3 button.colab-df-convert');\n",
              "        buttonEl.style.display =\n",
              "          google.colab.kernel.accessAllowed ? 'block' : 'none';\n",
              "\n",
              "        async function convertToInteractive(key) {\n",
              "          const element = document.querySelector('#df-aef8bc63-70b6-4a4d-90fe-b6d344e551a3');\n",
              "          const dataTable =\n",
              "            await google.colab.kernel.invokeFunction('convertToInteractive',\n",
              "                                                     [key], {});\n",
              "          if (!dataTable) return;\n",
              "\n",
              "          const docLinkHtml = 'Like what you see? Visit the ' +\n",
              "            '<a target=\"_blank\" href=https://colab.research.google.com/notebooks/data_table.ipynb>data table notebook</a>'\n",
              "            + ' to learn more about interactive tables.';\n",
              "          element.innerHTML = '';\n",
              "          dataTable['output_type'] = 'display_data';\n",
              "          await google.colab.output.renderOutput(dataTable, element);\n",
              "          const docLink = document.createElement('div');\n",
              "          docLink.innerHTML = docLinkHtml;\n",
              "          element.appendChild(docLink);\n",
              "        }\n",
              "      </script>\n",
              "    </div>\n",
              "  </div>\n",
              "  "
            ]
          },
          "metadata": {},
          "execution_count": 4
        }
      ],
      "source": [
        "# Create groups based on ranks\n",
        "for index, row in df_all.iterrows():\n",
        "    if row['pick'] <= 15 and row['pick'] > 0:\n",
        "        df_all.at[index,'Group'] = 1\n",
        "    else:\n",
        "        df_all.at[index,'Group'] = 0\n",
        "    \n",
        "df_all"
      ]
    },
    {
      "cell_type": "code",
      "source": [
        "# Select from the following to be X\n",
        "df_all.columns"
      ],
      "metadata": {
        "colab": {
          "base_uri": "https://localhost:8080/"
        },
        "id": "ejH3DEGqpxMY",
        "outputId": "528536cd-2a65-4617-b1fd-6570070af067"
      },
      "id": "ejH3DEGqpxMY",
      "execution_count": 5,
      "outputs": [
        {
          "output_type": "execute_result",
          "data": {
            "text/plain": [
              "Index(['player_name', 'team', 'conf', 'GP', 'Min_per', 'Ortg', 'usg', 'eFG',\n",
              "       'TS_per', 'ORB_per', 'DRB_per', 'AST_per', 'TO_per', 'FTM', 'FTA',\n",
              "       'FT_per', 'twoPM', 'twoPA', 'twoP_per', 'TPM', 'TPA', 'TP_per',\n",
              "       'blk_per', 'stl_per', 'ftr', 'yr', 'ht', 'num', 'porpag', 'adjoe',\n",
              "       'pfr', 'year', 'pid', 'type', 'Rec Rank', 'ast/tov', 'rimmade',\n",
              "       'rimmade+rimmiss', 'midmade', 'midmade+midmiss',\n",
              "       'rimmade/(rimmade+rimmiss)', 'midmade/(midmade+midmiss)', 'dunksmade',\n",
              "       'dunksmiss+dunksmade', 'dunksmade/(dunksmade+dunksmiss)', 'pick',\n",
              "       'drtg', 'adrtg', 'dporpag', 'stops', 'bpm', 'obpm', 'dbpm', 'gbpm',\n",
              "       'mp', 'ogbpm', 'dgbpm', 'oreb', 'dreb', 'treb', 'ast', 'stl', 'blk',\n",
              "       'pts', 'Unnamed: 64', 'Unnamed: 65', 'Group'],\n",
              "      dtype='object')"
            ]
          },
          "metadata": {},
          "execution_count": 5
        }
      ]
    },
    {
      "cell_type": "code",
      "source": [
        "# Creates X by using specific statistics\n",
        "features = ['GP','Min_per', 'Ortg','eFG','TS_per', 'ORB_per', 'DRB_per', 'AST_per', 'blk_per','stl_per', 'ftr', 'pts', 'twoP_per', 'TP_per','dporpag', 'porpag', 'TO_per', 'FT_per']"
      ],
      "metadata": {
        "id": "dJLHZ8YZqY8d"
      },
      "id": "dJLHZ8YZqY8d",
      "execution_count": 6,
      "outputs": []
    },
    {
      "cell_type": "code",
      "source": [
        "# Build model with 2009-2021 data\n",
        "model_df = df_all.loc[df_all['year'] < 2022]\n",
        "\n",
        "# 2022 data will be used as test data\n",
        "test_df = df_all.loc[df_all['year'] == 2022]"
      ],
      "metadata": {
        "id": "mVw3oiSa7iBY"
      },
      "id": "mVw3oiSa7iBY",
      "execution_count": 8,
      "outputs": []
    },
    {
      "cell_type": "code",
      "execution_count": 12,
      "id": "290bdb37-91f8-4004-b652-c9a51b99794d",
      "metadata": {
        "id": "290bdb37-91f8-4004-b652-c9a51b99794d"
      },
      "outputs": [],
      "source": [
        "# Set Feature and Target for model_df\n",
        "X = model_df[features]\n",
        "y = model_df['Group']"
      ]
    },
    {
      "cell_type": "code",
      "execution_count": 13,
      "id": "32d8f00e-86c9-45a5-81c5-16c7f16d41cd",
      "metadata": {
        "colab": {
          "base_uri": "https://localhost:8080/"
        },
        "id": "32d8f00e-86c9-45a5-81c5-16c7f16d41cd",
        "outputId": "9375e331-6813-473f-b533-b2bd12aedf97"
      },
      "outputs": [
        {
          "output_type": "execute_result",
          "data": {
            "text/plain": [
              "0    60769\n",
              "1      292\n",
              "Name: Group, dtype: int64"
            ]
          },
          "metadata": {},
          "execution_count": 13
        }
      ],
      "source": [
        "# Review Grouped data size\n",
        "y.value_counts()"
      ]
    },
    {
      "cell_type": "code",
      "source": [
        "# Set Feature and Target for test_df\n",
        "X_2022 = test_df[features]\n",
        "y_2022 = test_df['Group']\n",
        "y_2022.value_counts()"
      ],
      "metadata": {
        "colab": {
          "base_uri": "https://localhost:8080/"
        },
        "id": "ImOEaJUlB1Wb",
        "outputId": "e7b39d9c-62c5-4f87-c863-03119925830b"
      },
      "id": "ImOEaJUlB1Wb",
      "execution_count": 14,
      "outputs": [
        {
          "output_type": "execute_result",
          "data": {
            "text/plain": [
              "0    5000\n",
              "1      12\n",
              "Name: Group, dtype: int64"
            ]
          },
          "metadata": {},
          "execution_count": 14
        }
      ]
    },
    {
      "cell_type": "markdown",
      "source": [
        "### The data is very imballanced and `Under Sampling` procedures are taken to revise the dataset to train ML models"
      ],
      "metadata": {
        "id": "TPUrPpQwiF5L"
      },
      "id": "TPUrPpQwiF5L"
    },
    {
      "cell_type": "markdown",
      "metadata": {
        "id": "y-neATQks9Ko"
      },
      "source": [
        "## Under sampling\n",
        "\n",
        "Referrence:\n",
        "\n",
        "`Undersampling Algoriths for Imbalanced Classification` by Jason Brownlee PhD \n",
        "\n",
        "Click [here](https://machinelearningmastery.com/undersampling-algorithms-for-imbalanced-classification/) for more information"
      ],
      "id": "y-neATQks9Ko"
    },
    {
      "cell_type": "code",
      "source": [
        "# Import imbalanced-learn\n",
        "import imblearn\n",
        "print(imblearn.__version__)"
      ],
      "metadata": {
        "colab": {
          "base_uri": "https://localhost:8080/"
        },
        "id": "oP2BpSJkwtxB",
        "outputId": "fbddf4c4-f932-4334-a372-8eee918305a5"
      },
      "id": "oP2BpSJkwtxB",
      "execution_count": 15,
      "outputs": [
        {
          "output_type": "stream",
          "name": "stdout",
          "text": [
            "0.8.1\n"
          ]
        }
      ]
    },
    {
      "cell_type": "markdown",
      "source": [
        "###Methods that select examples to KEEP\n",
        "---\n",
        "####1. Near Miss Undersampling\n",
        "NearMiss-1: Majority class examples with minimum average distance to three closest minority class examples.\n",
        "\n",
        "NearMiss-2: Majority class examples with minimum average distance to three furthest minority class examples.\n",
        "\n",
        "NearMiss-3: Majority class examples with minimum distance to each minority class example."
      ],
      "metadata": {
        "id": "LcgLxeTsd1xi"
      },
      "id": "LcgLxeTsd1xi"
    },
    {
      "cell_type": "code",
      "execution_count": 16,
      "metadata": {
        "colab": {
          "base_uri": "https://localhost:8080/"
        },
        "id": "UHuXTAWKs9Kp",
        "outputId": "0ee391fb-8ed4-4f6c-ff0b-d355819ebd6a"
      },
      "outputs": [
        {
          "output_type": "stream",
          "name": "stdout",
          "text": [
            "Counter({0: 292, 1: 292})\n"
          ]
        }
      ],
      "source": [
        "# Undersample imbalanced dataset with NearMiss-1\n",
        "from collections import Counter\n",
        "from imblearn.under_sampling import NearMiss\n",
        "\n",
        "# define the undersampling method\n",
        "undersample = NearMiss(version=2, n_neighbors=3)\n",
        "# transform the dataset\n",
        "X, y = undersample.fit_resample(X, y)\n",
        "# summarize the new class distribution\n",
        "counter = Counter(y)\n",
        "print(counter)"
      ],
      "id": "UHuXTAWKs9Kp"
    },
    {
      "cell_type": "markdown",
      "source": [
        "### Performace repport:\n",
        "*   NM1 best performing model: SVC .82 accuracy, class 1 F1 score .81\n",
        "*   NM2 best performing model: AdaBoost .99 accuracy, class 1 F1 score .99\n",
        "*   NM3 best performing model: SVC .79 accuracy, class 1 F1 score .80"
      ],
      "metadata": {
        "id": "8HBdCuY1ex0a"
      },
      "id": "8HBdCuY1ex0a"
    },
    {
      "cell_type": "markdown",
      "source": [
        "---\n",
        "###Methods that select examples to KEEP\n",
        "####2. Condensed Nearest Neighbor Rule Underssampling\n",
        "Seeks a subset of a collection of samples that results in no loss in model performance, referred to as a minimal consistent set.\n",
        "\n",
        "It’s a relatively slow procedure, so small datasets and small k values are preferred."
      ],
      "metadata": {
        "id": "JENghnqifov9"
      },
      "id": "JENghnqifov9"
    },
    {
      "cell_type": "code",
      "source": [
        "# # Import method library\n",
        "# from imblearn.under_sampling import CondensedNearestNeighbour\n",
        "# from collections import Counter\n",
        "# # define the undersampling method\n",
        "# undersample = CondensedNearestNeighbour(n_neighbors=1)\n",
        "# # transform the dataset\n",
        "# X, y = undersample.fit_resample(X, y)\n",
        "# # summarize the new class distribution\n",
        "# counter = Counter(y)\n",
        "# print(counter)"
      ],
      "metadata": {
        "id": "e4FV6BHsf4Xb"
      },
      "id": "e4FV6BHsf4Xb",
      "execution_count": 287,
      "outputs": []
    },
    {
      "cell_type": "markdown",
      "source": [
        "### Performace repport:\n",
        "*   CNN best performing model: DNN with .86 accuracy, class 1 F1 score .47"
      ],
      "metadata": {
        "id": "iTQrRHT9kHo0"
      },
      "id": "iTQrRHT9kHo0"
    },
    {
      "cell_type": "markdown",
      "source": [
        "---\n",
        "###Methods that select examples to DELETE\n",
        "####Tomek Links for Undersampling\n",
        "A criticism of the Condensed Nearest Neighbor Rule is that examples are selected randomly, especially initially.\n",
        "\n",
        "Tomek Links finds pairs of examples, one from each class; they together have the smallest Euclidean distance to each other in feature space. These cross-class pairs are now generally referred to as “Tomek Links” and are valuable as they define the class boundary."
      ],
      "metadata": {
        "id": "lHlml1azkCOU"
      },
      "id": "lHlml1azkCOU"
    },
    {
      "cell_type": "code",
      "source": [
        "# # Import method library\n",
        "# from imblearn.under_sampling import TomekLinks\n",
        "# from collections import Counter\n",
        "# # define the undersampling method\n",
        "# undersample = TomekLinks()\n",
        "# # transform the dataset\n",
        "# X, y = undersample.fit_resample(X, y)\n",
        "# # summarize the new class distribution\n",
        "# counter = Counter(y)\n",
        "# print(counter)"
      ],
      "metadata": {
        "id": "yk3sgD6mmFlG"
      },
      "id": "yk3sgD6mmFlG",
      "execution_count": 288,
      "outputs": []
    },
    {
      "cell_type": "markdown",
      "source": [
        "### Performace repport:\n",
        "*   Tomek Links best performing model: DNN with 1.0 accuracy and class 1 F1 score .23 "
      ],
      "metadata": {
        "id": "dR86hAhwnBYl"
      },
      "id": "dR86hAhwnBYl"
    },
    {
      "cell_type": "markdown",
      "source": [
        "---\n",
        "###Combinations of KEEP and DELETE methods\n",
        "####1. One-Sided Selection for Undersampling\n",
        "One-Sided Selection, or OSS for short, is an undersampling technique that combines Tomek Links and the Condensed Nearest Neighbor (CNN) Rule."
      ],
      "metadata": {
        "id": "MmOdelZbpXql"
      },
      "id": "MmOdelZbpXql"
    },
    {
      "cell_type": "code",
      "source": [
        "# # Import method library\n",
        "# from imblearn.under_sampling import OneSidedSelection\n",
        "# from collections import Counter\n",
        "# # define the undersampling method\n",
        "# undersample = OneSidedSelection(n_neighbors=1, n_seeds_S=200)\n",
        "# # transform the dataset\n",
        "# X, y = undersample.fit_resample(X, y)\n",
        "# # summarize the new class distribution\n",
        "# counter = Counter(y)\n",
        "# print(counter)"
      ],
      "metadata": {
        "id": "DHkB_DMnpXql"
      },
      "execution_count": 289,
      "outputs": [],
      "id": "DHkB_DMnpXql"
    },
    {
      "cell_type": "markdown",
      "source": [
        "### Performace repport:\n",
        "*   OSS best performing model: AdaBoost with .98 accuracy and class 1 F1 score .25 "
      ],
      "metadata": {
        "id": "Ce9aMEACpXql"
      },
      "id": "Ce9aMEACpXql"
    },
    {
      "cell_type": "markdown",
      "source": [
        "---\n",
        "###Combinations of KEEP and DELETE methods\n",
        "####2. Neighborhood Cleaning Rule for Undersampling\n",
        "The Neighborhood Cleaning Rule, or NCR for short, is an undersampling technique that combines both the Condensed Nearest Neighbor (CNN) Rule to remove redundant examples and the Edited Nearest Neighbors (ENN) Rule to remove noisy or ambiguous examples."
      ],
      "metadata": {
        "id": "o04uJDNEqG3B"
      },
      "id": "o04uJDNEqG3B"
    },
    {
      "cell_type": "code",
      "source": [
        "# # Import method library\n",
        "# from imblearn.under_sampling import NeighbourhoodCleaningRule\n",
        "# from collections import Counter\n",
        "# # define the undersampling method\n",
        "# undersample = NeighbourhoodCleaningRule(n_neighbors=3, threshold_cleaning=0.5)\n",
        "# # transform the dataset\n",
        "# X, y = undersample.fit_resample(X, y)\n",
        "# # summarize the new class distribution\n",
        "# counter = Counter(y)\n",
        "# print(counter)"
      ],
      "metadata": {
        "id": "CvSXa_42qG3K"
      },
      "execution_count": 290,
      "outputs": [],
      "id": "CvSXa_42qG3K"
    },
    {
      "cell_type": "markdown",
      "source": [
        "### Performace repport:\n",
        "*   NCR best performing model: AdaBoost with 1.0 accuracy and class 1 F1 score .16"
      ],
      "metadata": {
        "id": "ZVZUx_t9qG3K"
      },
      "id": "ZVZUx_t9qG3K"
    },
    {
      "cell_type": "markdown",
      "source": [
        "---\n",
        "##The best undersampling method for FanaticFi Top15 data is: **NearMiss Version 2**\n",
        "##The best ML model under that undersampling method is: **AdaBoost** `accuracy` .99 and class 1 `F1` score .99"
      ],
      "metadata": {
        "id": "GsIDtXwWqioB"
      },
      "id": "GsIDtXwWqioB"
    },
    {
      "cell_type": "markdown",
      "source": [
        "---\n",
        "##Split and Scale data"
      ],
      "metadata": {
        "id": "bfVUSwLHnV6w"
      },
      "id": "bfVUSwLHnV6w"
    },
    {
      "cell_type": "code",
      "execution_count": 20,
      "id": "1dfa9601-e2a8-4a42-8e76-7f9db33aaae6",
      "metadata": {
        "id": "1dfa9601-e2a8-4a42-8e76-7f9db33aaae6"
      },
      "outputs": [],
      "source": [
        "from sklearn.model_selection import train_test_split\n",
        "from sklearn.preprocessing import StandardScaler\n",
        "# Split dataset into train, test datasets\n",
        "X_train, X_test, y_train, y_test = train_test_split(X,y,random_state = 1)"
      ]
    },
    {
      "cell_type": "code",
      "execution_count": 21,
      "id": "fceb7a30-3bbb-45ce-8848-18fa75800428",
      "metadata": {
        "id": "fceb7a30-3bbb-45ce-8848-18fa75800428"
      },
      "outputs": [],
      "source": [
        "# Initiate the scaler\n",
        "X_scaler = StandardScaler()\n",
        "\n",
        "# Fit the scaler to the features dataset\n",
        "X_scaler = X_scaler.fit(X)"
      ]
    },
    {
      "cell_type": "code",
      "execution_count": 22,
      "id": "11cf9937-03d2-403c-ac43-ee64335a4193",
      "metadata": {
        "id": "11cf9937-03d2-403c-ac43-ee64335a4193"
      },
      "outputs": [],
      "source": [
        "# Scale train, test datasets\n",
        "X_train_scaled = X_scaler.transform(X_train)\n",
        "X_test_scaled = X_scaler.transform(X_test)"
      ]
    },
    {
      "cell_type": "code",
      "source": [
        "# Scale 2022 data\n",
        "X_2022_scaled = X_scaler.transform(X_2022)"
      ],
      "metadata": {
        "id": "-DdwWA9pQ4ph"
      },
      "id": "-DdwWA9pQ4ph",
      "execution_count": 47,
      "outputs": []
    },
    {
      "cell_type": "markdown",
      "metadata": {
        "id": "pa1JPh5pARud"
      },
      "source": [
        "---\n",
        "## Using LazyPredict\n"
      ],
      "id": "pa1JPh5pARud"
    },
    {
      "cell_type": "code",
      "source": [
        "# Install LazyPRedict\n",
        "!pip install lazypredict"
      ],
      "metadata": {
        "colab": {
          "base_uri": "https://localhost:8080/"
        },
        "id": "WBZFMAFsARul",
        "outputId": "91c3fc4b-5fa8-4aa9-cd2c-f1d6e20ca259"
      },
      "execution_count": 23,
      "outputs": [
        {
          "output_type": "stream",
          "name": "stdout",
          "text": [
            "Looking in indexes: https://pypi.org/simple, https://us-python.pkg.dev/colab-wheels/public/simple/\n",
            "Requirement already satisfied: lazypredict in /usr/local/lib/python3.7/dist-packages (0.2.9)\n",
            "Requirement already satisfied: six==1.15.0 in /usr/local/lib/python3.7/dist-packages (from lazypredict) (1.15.0)\n",
            "Requirement already satisfied: scikit-learn==0.23.1 in /usr/local/lib/python3.7/dist-packages (from lazypredict) (0.23.1)\n",
            "Requirement already satisfied: PyYAML==5.3.1 in /usr/local/lib/python3.7/dist-packages (from lazypredict) (5.3.1)\n",
            "Requirement already satisfied: scipy==1.5.4 in /usr/local/lib/python3.7/dist-packages (from lazypredict) (1.5.4)\n",
            "Requirement already satisfied: numpy==1.19.1 in /usr/local/lib/python3.7/dist-packages (from lazypredict) (1.19.1)\n",
            "Requirement already satisfied: lightgbm==2.3.1 in /usr/local/lib/python3.7/dist-packages (from lazypredict) (2.3.1)\n",
            "Requirement already satisfied: pandas==1.0.5 in /usr/local/lib/python3.7/dist-packages (from lazypredict) (1.0.5)\n",
            "Requirement already satisfied: joblib==1.0.0 in /usr/local/lib/python3.7/dist-packages (from lazypredict) (1.0.0)\n",
            "Requirement already satisfied: xgboost==1.1.1 in /usr/local/lib/python3.7/dist-packages (from lazypredict) (1.1.1)\n",
            "Requirement already satisfied: tqdm==4.56.0 in /usr/local/lib/python3.7/dist-packages (from lazypredict) (4.56.0)\n",
            "Requirement already satisfied: click==7.1.2 in /usr/local/lib/python3.7/dist-packages (from lazypredict) (7.1.2)\n",
            "Requirement already satisfied: pytest==5.4.3 in /usr/local/lib/python3.7/dist-packages (from lazypredict) (5.4.3)\n",
            "Requirement already satisfied: pytz>=2017.2 in /usr/local/lib/python3.7/dist-packages (from pandas==1.0.5->lazypredict) (2022.1)\n",
            "Requirement already satisfied: python-dateutil>=2.6.1 in /usr/local/lib/python3.7/dist-packages (from pandas==1.0.5->lazypredict) (2.8.2)\n",
            "Requirement already satisfied: wcwidth in /usr/local/lib/python3.7/dist-packages (from pytest==5.4.3->lazypredict) (0.2.5)\n",
            "Requirement already satisfied: py>=1.5.0 in /usr/local/lib/python3.7/dist-packages (from pytest==5.4.3->lazypredict) (1.11.0)\n",
            "Requirement already satisfied: packaging in /usr/local/lib/python3.7/dist-packages (from pytest==5.4.3->lazypredict) (21.3)\n",
            "Requirement already satisfied: pluggy<1.0,>=0.12 in /usr/local/lib/python3.7/dist-packages (from pytest==5.4.3->lazypredict) (0.13.1)\n",
            "Requirement already satisfied: importlib-metadata>=0.12 in /usr/local/lib/python3.7/dist-packages (from pytest==5.4.3->lazypredict) (4.12.0)\n",
            "Requirement already satisfied: more-itertools>=4.0.0 in /usr/local/lib/python3.7/dist-packages (from pytest==5.4.3->lazypredict) (8.13.0)\n",
            "Requirement already satisfied: attrs>=17.4.0 in /usr/local/lib/python3.7/dist-packages (from pytest==5.4.3->lazypredict) (21.4.0)\n",
            "Requirement already satisfied: threadpoolctl>=2.0.0 in /usr/local/lib/python3.7/dist-packages (from scikit-learn==0.23.1->lazypredict) (3.1.0)\n",
            "Requirement already satisfied: zipp>=0.5 in /usr/local/lib/python3.7/dist-packages (from importlib-metadata>=0.12->pytest==5.4.3->lazypredict) (3.8.1)\n",
            "Requirement already satisfied: typing-extensions>=3.6.4 in /usr/local/lib/python3.7/dist-packages (from importlib-metadata>=0.12->pytest==5.4.3->lazypredict) (4.1.1)\n",
            "Requirement already satisfied: pyparsing!=3.0.5,>=2.0.2 in /usr/local/lib/python3.7/dist-packages (from packaging->pytest==5.4.3->lazypredict) (3.0.9)\n"
          ]
        }
      ],
      "id": "WBZFMAFsARul"
    },
    {
      "cell_type": "markdown",
      "source": [
        "# After installation, restart Runtime and proceed to the next cell"
      ],
      "metadata": {
        "id": "OhELVu8eARul"
      },
      "id": "OhELVu8eARul"
    },
    {
      "cell_type": "code",
      "source": [
        "import lazypredict\n",
        "from lazypredict.Supervised import LazyClassifier"
      ],
      "metadata": {
        "colab": {
          "base_uri": "https://localhost:8080/"
        },
        "outputId": "e359e862-89a4-49d3-e891-19fc8d0eb720",
        "id": "OwHK3UkuARul"
      },
      "execution_count": 24,
      "outputs": [
        {
          "output_type": "stream",
          "name": "stderr",
          "text": [
            "/usr/local/lib/python3.7/dist-packages/sklearn/utils/deprecation.py:143: FutureWarning: The sklearn.utils.testing module is  deprecated in version 0.22 and will be removed in version 0.24. The corresponding classes / functions should instead be imported from sklearn.utils. Anything that cannot be imported from sklearn.utils is now part of the private API.\n",
            "  warnings.warn(message, FutureWarning)\n"
          ]
        }
      ],
      "id": "OwHK3UkuARul"
    },
    {
      "cell_type": "code",
      "source": [
        "# Train the new datasets\n",
        "lc = LazyClassifier(verbose=0,ignore_warnings=True, custom_metric=None)\n",
        "lc_predictions = lc.fit(X_train_scaled, X_test_scaled, y_train, y_test)\n",
        "\n",
        "# Print the model\n",
        "print(lc_predictions)"
      ],
      "metadata": {
        "colab": {
          "base_uri": "https://localhost:8080/"
        },
        "outputId": "bcfdda03-1b0a-4dbf-cf6d-e41713d1c2e1",
        "id": "EcQQUt1JARul"
      },
      "execution_count": 25,
      "outputs": [
        {
          "output_type": "stream",
          "name": "stderr",
          "text": [
            "100%|██████████| 29/29 [00:03<00:00,  8.51it/s]"
          ]
        },
        {
          "output_type": "stream",
          "name": "stdout",
          "text": [
            "(                               Accuracy  Balanced Accuracy  ROC AUC  F1 Score  \\\n",
            "Model                                                                           \n",
            "SVC                                0.98               0.98     0.98      0.98   \n",
            "QuadraticDiscriminantAnalysis      0.98               0.98     0.98      0.98   \n",
            "LGBMClassifier                     0.97               0.97     0.97      0.97   \n",
            "ExtraTreesClassifier               0.97               0.97     0.97      0.97   \n",
            "XGBClassifier                      0.97               0.97     0.97      0.97   \n",
            "NuSVC                              0.97               0.97     0.97      0.97   \n",
            "RandomForestClassifier             0.96               0.96     0.96      0.96   \n",
            "GaussianNB                         0.96               0.96     0.96      0.96   \n",
            "AdaBoostClassifier                 0.95               0.95     0.95      0.95   \n",
            "KNeighborsClassifier               0.95               0.95     0.95      0.95   \n",
            "DecisionTreeClassifier             0.95               0.95     0.95      0.95   \n",
            "LinearSVC                          0.95               0.95     0.95      0.95   \n",
            "LabelPropagation                   0.94               0.94     0.94      0.94   \n",
            "LabelSpreading                     0.94               0.94     0.94      0.94   \n",
            "CalibratedClassifierCV             0.94               0.94     0.94      0.94   \n",
            "BaggingClassifier                  0.94               0.94     0.94      0.94   \n",
            "RidgeClassifier                    0.93               0.93     0.93      0.93   \n",
            "SGDClassifier                      0.93               0.93     0.93      0.93   \n",
            "LinearDiscriminantAnalysis         0.92               0.93     0.93      0.92   \n",
            "RidgeClassifierCV                  0.92               0.93     0.93      0.92   \n",
            "LogisticRegression                 0.92               0.92     0.92      0.92   \n",
            "PassiveAggressiveClassifier        0.92               0.92     0.92      0.92   \n",
            "BernoulliNB                        0.89               0.90     0.90      0.89   \n",
            "NearestCentroid                    0.88               0.89     0.89      0.88   \n",
            "Perceptron                         0.88               0.88     0.88      0.88   \n",
            "ExtraTreeClassifier                0.86               0.87     0.87      0.86   \n",
            "DummyClassifier                    0.49               0.49     0.49      0.49   \n",
            "\n",
            "                               Time Taken  \n",
            "Model                                      \n",
            "SVC                                  0.08  \n",
            "QuadraticDiscriminantAnalysis        0.02  \n",
            "LGBMClassifier                       0.41  \n",
            "ExtraTreesClassifier                 0.37  \n",
            "XGBClassifier                        0.34  \n",
            "NuSVC                                0.06  \n",
            "RandomForestClassifier               0.48  \n",
            "GaussianNB                           0.02  \n",
            "AdaBoostClassifier                   0.33  \n",
            "KNeighborsClassifier                 0.04  \n",
            "DecisionTreeClassifier               0.07  \n",
            "LinearSVC                            0.06  \n",
            "LabelPropagation                     0.07  \n",
            "LabelSpreading                       0.09  \n",
            "CalibratedClassifierCV               0.31  \n",
            "BaggingClassifier                    0.12  \n",
            "RidgeClassifier                      0.06  \n",
            "SGDClassifier                        0.03  \n",
            "LinearDiscriminantAnalysis           0.07  \n",
            "RidgeClassifierCV                    0.04  \n",
            "LogisticRegression                   0.04  \n",
            "PassiveAggressiveClassifier          0.02  \n",
            "BernoulliNB                          0.05  \n",
            "NearestCentroid                      0.04  \n",
            "Perceptron                           0.02  \n",
            "ExtraTreeClassifier                  0.02  \n",
            "DummyClassifier                      0.02  ,                                Accuracy  Balanced Accuracy  ROC AUC  F1 Score  \\\n",
            "Model                                                                           \n",
            "SVC                                0.98               0.98     0.98      0.98   \n",
            "QuadraticDiscriminantAnalysis      0.98               0.98     0.98      0.98   \n",
            "LGBMClassifier                     0.97               0.97     0.97      0.97   \n",
            "ExtraTreesClassifier               0.97               0.97     0.97      0.97   \n",
            "XGBClassifier                      0.97               0.97     0.97      0.97   \n",
            "NuSVC                              0.97               0.97     0.97      0.97   \n",
            "RandomForestClassifier             0.96               0.96     0.96      0.96   \n",
            "GaussianNB                         0.96               0.96     0.96      0.96   \n",
            "AdaBoostClassifier                 0.95               0.95     0.95      0.95   \n",
            "KNeighborsClassifier               0.95               0.95     0.95      0.95   \n",
            "DecisionTreeClassifier             0.95               0.95     0.95      0.95   \n",
            "LinearSVC                          0.95               0.95     0.95      0.95   \n",
            "LabelPropagation                   0.94               0.94     0.94      0.94   \n",
            "LabelSpreading                     0.94               0.94     0.94      0.94   \n",
            "CalibratedClassifierCV             0.94               0.94     0.94      0.94   \n",
            "BaggingClassifier                  0.94               0.94     0.94      0.94   \n",
            "RidgeClassifier                    0.93               0.93     0.93      0.93   \n",
            "SGDClassifier                      0.93               0.93     0.93      0.93   \n",
            "LinearDiscriminantAnalysis         0.92               0.93     0.93      0.92   \n",
            "RidgeClassifierCV                  0.92               0.93     0.93      0.92   \n",
            "LogisticRegression                 0.92               0.92     0.92      0.92   \n",
            "PassiveAggressiveClassifier        0.92               0.92     0.92      0.92   \n",
            "BernoulliNB                        0.89               0.90     0.90      0.89   \n",
            "NearestCentroid                    0.88               0.89     0.89      0.88   \n",
            "Perceptron                         0.88               0.88     0.88      0.88   \n",
            "ExtraTreeClassifier                0.86               0.87     0.87      0.86   \n",
            "DummyClassifier                    0.49               0.49     0.49      0.49   \n",
            "\n",
            "                               Time Taken  \n",
            "Model                                      \n",
            "SVC                                  0.08  \n",
            "QuadraticDiscriminantAnalysis        0.02  \n",
            "LGBMClassifier                       0.41  \n",
            "ExtraTreesClassifier                 0.37  \n",
            "XGBClassifier                        0.34  \n",
            "NuSVC                                0.06  \n",
            "RandomForestClassifier               0.48  \n",
            "GaussianNB                           0.02  \n",
            "AdaBoostClassifier                   0.33  \n",
            "KNeighborsClassifier                 0.04  \n",
            "DecisionTreeClassifier               0.07  \n",
            "LinearSVC                            0.06  \n",
            "LabelPropagation                     0.07  \n",
            "LabelSpreading                       0.09  \n",
            "CalibratedClassifierCV               0.31  \n",
            "BaggingClassifier                    0.12  \n",
            "RidgeClassifier                      0.06  \n",
            "SGDClassifier                        0.03  \n",
            "LinearDiscriminantAnalysis           0.07  \n",
            "RidgeClassifierCV                    0.04  \n",
            "LogisticRegression                   0.04  \n",
            "PassiveAggressiveClassifier          0.02  \n",
            "BernoulliNB                          0.05  \n",
            "NearestCentroid                      0.04  \n",
            "Perceptron                           0.02  \n",
            "ExtraTreeClassifier                  0.02  \n",
            "DummyClassifier                      0.02  )\n"
          ]
        },
        {
          "output_type": "stream",
          "name": "stderr",
          "text": [
            "\n"
          ]
        }
      ],
      "id": "EcQQUt1JARul"
    },
    {
      "cell_type": "markdown",
      "source": [
        "---\n",
        "##The best ML model under **NearMiss Version 2** undersampling method is: **SVC** `accuracy` .98 and class 1 `F1` score .98"
      ],
      "metadata": {
        "id": "cIjvZAdoARum"
      },
      "id": "cIjvZAdoARum"
    },
    {
      "cell_type": "code",
      "source": [
        "# Import machine learning dependencies\n",
        "import tensorflow as tf\n",
        "from sklearn import svm\n",
        "import matplotlib.pyplot as plt\n",
        "from tensorflow.keras.layers import Dense\n",
        "from tensorflow.keras.models import Sequential\n",
        "from sklearn.metrics import classification_report"
      ],
      "metadata": {
        "id": "vBhQkFdDAiP2"
      },
      "id": "vBhQkFdDAiP2",
      "execution_count": 26,
      "outputs": []
    },
    {
      "cell_type": "markdown",
      "id": "7ac5e6e0-7e69-472c-99e1-0c72efe4bdae",
      "metadata": {
        "id": "7ac5e6e0-7e69-472c-99e1-0c72efe4bdae"
      },
      "source": [
        "## Machine Learning with preprocessed data\n",
        "\n",
        "\n",
        "*   Support Vector Classifier (SVC)\n",
        "*   Deceision Tree\n",
        "*   Logistic Regression\n",
        "*   AdaBoost\n",
        "*   Deep Neural Network\n",
        "\n",
        "---\n",
        "## Use the SVC classifier model"
      ]
    },
    {
      "cell_type": "code",
      "execution_count": 46,
      "id": "74dae2d5-f930-4def-9173-8829c2343955",
      "metadata": {
        "colab": {
          "base_uri": "https://localhost:8080/"
        },
        "id": "74dae2d5-f930-4def-9173-8829c2343955",
        "outputId": "bc2f806e-195c-4cd7-b7fd-c14870e83a7f"
      },
      "outputs": [
        {
          "output_type": "stream",
          "name": "stdout",
          "text": [
            "              precision    recall  f1-score   support\n",
            "\n",
            "           0       0.97      0.99      0.98        67\n",
            "           1       0.99      0.97      0.98        79\n",
            "\n",
            "    accuracy                           0.98       146\n",
            "   macro avg       0.98      0.98      0.98       146\n",
            "weighted avg       0.98      0.98      0.98       146\n",
            "\n"
          ]
        }
      ],
      "source": [
        "# From SVM, instantiate SVC classifier model instance\n",
        "svm_model = svm.SVC()\n",
        " \n",
        "# Fit the model to the data using the training data\n",
        "svm_model = svm_model.fit(X_train_scaled, y_train)\n",
        " \n",
        "# Use the testing data to make the model predictions\n",
        "svm_pred = svm_model.predict(X_test_scaled)\n",
        "\n",
        "# Use a classification report to evaluate the model using the predictions and testing data\n",
        "svm_testing_report = classification_report(y_test, svm_pred)\n",
        "\n",
        "# Print the classification report\n",
        "print(svm_testing_report)"
      ]
    },
    {
      "cell_type": "markdown",
      "id": "19d7d476-a38b-4cb3-835b-2aedfd66a8ac",
      "metadata": {
        "id": "19d7d476-a38b-4cb3-835b-2aedfd66a8ac"
      },
      "source": [
        "---\n",
        "## Use Ddceision Tree"
      ]
    },
    {
      "cell_type": "code",
      "execution_count": 29,
      "id": "5e42b48b-4046-470c-8db3-4a7635c5b0b2",
      "metadata": {
        "colab": {
          "base_uri": "https://localhost:8080/"
        },
        "id": "5e42b48b-4046-470c-8db3-4a7635c5b0b2",
        "outputId": "93050c40-2620-4160-9101-55cd6643fc41"
      },
      "outputs": [
        {
          "output_type": "stream",
          "name": "stdout",
          "text": [
            "              precision    recall  f1-score   support\n",
            "\n",
            "           0       0.94      0.93      0.93        67\n",
            "           1       0.94      0.95      0.94        79\n",
            "\n",
            "    accuracy                           0.94       146\n",
            "   macro avg       0.94      0.94      0.94       146\n",
            "weighted avg       0.94      0.94      0.94       146\n",
            "\n"
          ]
        }
      ],
      "source": [
        "# Import decision tree classifier from SKLearn\n",
        "from sklearn import tree\n",
        "\n",
        "# Initiate the model instance\n",
        "dtc = tree.DecisionTreeClassifier()\n",
        "\n",
        "# Fit the model using the training data\n",
        "dtc_model = dtc.fit(X_train_scaled, y_train)\n",
        "\n",
        "# Use the testing dataset to generate the predictions for the new model\n",
        "dtc_pred = dtc_model.predict(X_test_scaled)\n",
        "\n",
        "# Use a classification report to evaluate the model using the predictions and testing data\n",
        "dtc_testing_report = classification_report(y_test, dtc_pred)\n",
        "\n",
        "# Print the classification report\n",
        "print(dtc_testing_report)"
      ]
    },
    {
      "cell_type": "markdown",
      "id": "30def59d-50d5-4b2f-b42c-6c5fa83150b5",
      "metadata": {
        "id": "30def59d-50d5-4b2f-b42c-6c5fa83150b5"
      },
      "source": [
        "---\n",
        "## Use Logistic Regression"
      ]
    },
    {
      "cell_type": "code",
      "execution_count": 30,
      "id": "26442ccc-f665-467b-aa37-3d60155408bc",
      "metadata": {
        "colab": {
          "base_uri": "https://localhost:8080/"
        },
        "id": "26442ccc-f665-467b-aa37-3d60155408bc",
        "outputId": "bfa3088c-50ca-4486-bfe4-3f15a4b78492"
      },
      "outputs": [
        {
          "output_type": "stream",
          "name": "stdout",
          "text": [
            "              precision    recall  f1-score   support\n",
            "\n",
            "           0       0.94      0.93      0.93        67\n",
            "           1       0.94      0.95      0.94        79\n",
            "\n",
            "    accuracy                           0.94       146\n",
            "   macro avg       0.94      0.94      0.94       146\n",
            "weighted avg       0.94      0.94      0.94       146\n",
            "\n"
          ]
        }
      ],
      "source": [
        "# Import LogisticRegression from sklearn\n",
        "from sklearn.linear_model import LogisticRegression\n",
        "\n",
        "# Create an instance of the LogisticRegression model\n",
        "lr = LogisticRegression()\n",
        "\n",
        "# Fit the model using the training data\n",
        "lr_model = lr.fit(X_train_scaled, y_train)\n",
        "\n",
        "# Use the testing dataset to generate the predictions for the new model\n",
        "lr_pred = lr_model.predict(X_test_scaled)\n",
        "\n",
        "# Use a classification report to evaluate the model using the predictions and testing data\n",
        "lr_testing_report = classification_report(y_test, dtc_pred)\n",
        "\n",
        "# Print the classification report\n",
        "print(lr_testing_report)"
      ]
    },
    {
      "cell_type": "markdown",
      "id": "d783c501-bd67-45ab-9901-97d5ea280255",
      "metadata": {
        "id": "d783c501-bd67-45ab-9901-97d5ea280255"
      },
      "source": [
        "---\n",
        "## Use AdaBoost"
      ]
    },
    {
      "cell_type": "code",
      "execution_count": 31,
      "id": "03b8efe7-bbb4-4bec-aae4-8467afb68e3a",
      "metadata": {
        "colab": {
          "base_uri": "https://localhost:8080/"
        },
        "id": "03b8efe7-bbb4-4bec-aae4-8467afb68e3a",
        "outputId": "650dac66-fee1-4ab7-b4bd-0540a32ae012"
      },
      "outputs": [
        {
          "output_type": "stream",
          "name": "stdout",
          "text": [
            "              precision    recall  f1-score   support\n",
            "\n",
            "           0       0.93      0.97      0.95        67\n",
            "           1       0.97      0.94      0.95        79\n",
            "\n",
            "    accuracy                           0.95       146\n",
            "   macro avg       0.95      0.95      0.95       146\n",
            "weighted avg       0.95      0.95      0.95       146\n",
            "\n"
          ]
        }
      ],
      "source": [
        "# Import AdaBoost classifier from SKLearn\n",
        "from sklearn.ensemble import AdaBoostClassifier\n",
        "\n",
        "# Initiate the model instance\n",
        "abc = AdaBoostClassifier()\n",
        "\n",
        "# Fit the model using the training data\n",
        "abc_model = abc.fit(X_train_scaled, y_train)\n",
        "\n",
        "# Use the testing dataset to generate the predictions for the new model\n",
        "abc_pred = abc_model.predict(X_test_scaled)\n",
        "\n",
        "# Use a classification report to evaluate the model using the predictions and testing data\n",
        "abc_testing_report = classification_report(y_test, abc_pred)\n",
        "\n",
        "# Print the classification report\n",
        "print(abc_testing_report)"
      ]
    },
    {
      "cell_type": "markdown",
      "source": [
        "##Save the best performing model"
      ],
      "metadata": {
        "id": "yxVkcGR629FC"
      },
      "id": "yxVkcGR629FC"
    },
    {
      "cell_type": "code",
      "source": [
        "# import pickle\n",
        "# # save the model\n",
        "# AdaBoostClassifier = open(\"abc.pkl\",\"wb\")\n",
        "# pickle.dump(abc_model,AdaBoostClassifier) \n",
        "# AdaBoostClassifier.close() "
      ],
      "metadata": {
        "id": "Xvt2Wl5M2k3n"
      },
      "id": "Xvt2Wl5M2k3n",
      "execution_count": 49,
      "outputs": []
    },
    {
      "cell_type": "markdown",
      "id": "1e7fdf67-00f7-401d-963c-e63ff3cd1aa7",
      "metadata": {
        "id": "1e7fdf67-00f7-401d-963c-e63ff3cd1aa7"
      },
      "source": [
        "---\n",
        "## Use Deep Neural Network"
      ]
    },
    {
      "cell_type": "code",
      "execution_count": 32,
      "id": "d6fd94d9-3346-4e86-9c1d-d6fc4123bea7",
      "metadata": {
        "id": "d6fd94d9-3346-4e86-9c1d-d6fc4123bea7"
      },
      "outputs": [],
      "source": [
        "# Define number of nodes on each layer\n",
        "input_features = 18\n",
        "layer1 = 40\n",
        "layer2 = 30\n",
        "layer3 = 10\n",
        "\n",
        "# Initiate the model\n",
        "nn = Sequential()"
      ]
    },
    {
      "cell_type": "code",
      "execution_count": 33,
      "id": "32054a9c-7ce8-43d2-a158-737091d230e9",
      "metadata": {
        "id": "32054a9c-7ce8-43d2-a158-737091d230e9"
      },
      "outputs": [],
      "source": [
        "# Add all layers to the model\n",
        "nn.add(Dense(\n",
        "    units = layer1, \n",
        "    input_dim = input_features, \n",
        "    activation = 'relu'\n",
        "))\n",
        "\n",
        "nn.add(Dense(\n",
        "    units = layer2, \n",
        "    activation = 'relu'\n",
        "))\n",
        "\n",
        "nn.add(Dense(\n",
        "    units = layer3, \n",
        "    activation = 'relu'\n",
        "))\n",
        "\n",
        "# Add output layer\n",
        "nn.add(Dense(units=1, activation = 'sigmoid'))"
      ]
    },
    {
      "cell_type": "code",
      "execution_count": 34,
      "id": "c5730bb3-d26e-41a2-b7ec-51f00e761098",
      "metadata": {
        "id": "c5730bb3-d26e-41a2-b7ec-51f00e761098"
      },
      "outputs": [],
      "source": [
        "# Compile the model\n",
        "nn.compile(loss=\"mean_squared_error\", optimizer=\"adam\", metrics=[\"accuracy\"])"
      ]
    },
    {
      "cell_type": "code",
      "execution_count": 35,
      "id": "0e58ad14-878a-47b6-a798-5741d20be446",
      "metadata": {
        "tags": [],
        "colab": {
          "base_uri": "https://localhost:8080/"
        },
        "id": "0e58ad14-878a-47b6-a798-5741d20be446",
        "outputId": "e947efca-e4b8-4e86-dc08-e0a29fdaa9d1"
      },
      "outputs": [
        {
          "output_type": "stream",
          "name": "stdout",
          "text": [
            "Epoch 1/100\n",
            "14/14 [==============================] - 1s 3ms/step - loss: 0.2448 - accuracy: 0.6096\n",
            "Epoch 2/100\n",
            "14/14 [==============================] - 0s 2ms/step - loss: 0.1770 - accuracy: 0.8858\n",
            "Epoch 3/100\n",
            "14/14 [==============================] - 0s 2ms/step - loss: 0.1284 - accuracy: 0.9178\n",
            "Epoch 4/100\n",
            "14/14 [==============================] - 0s 2ms/step - loss: 0.0944 - accuracy: 0.9361\n",
            "Epoch 5/100\n",
            "14/14 [==============================] - 0s 2ms/step - loss: 0.0724 - accuracy: 0.9429\n",
            "Epoch 6/100\n",
            "14/14 [==============================] - 0s 3ms/step - loss: 0.0601 - accuracy: 0.9452\n",
            "Epoch 7/100\n",
            "14/14 [==============================] - 0s 2ms/step - loss: 0.0528 - accuracy: 0.9429\n",
            "Epoch 8/100\n",
            "14/14 [==============================] - 0s 3ms/step - loss: 0.0461 - accuracy: 0.9452\n",
            "Epoch 9/100\n",
            "14/14 [==============================] - 0s 2ms/step - loss: 0.0424 - accuracy: 0.9498\n",
            "Epoch 10/100\n",
            "14/14 [==============================] - 0s 3ms/step - loss: 0.0394 - accuracy: 0.9566\n",
            "Epoch 11/100\n",
            "14/14 [==============================] - 0s 3ms/step - loss: 0.0370 - accuracy: 0.9612\n",
            "Epoch 12/100\n",
            "14/14 [==============================] - 0s 2ms/step - loss: 0.0347 - accuracy: 0.9635\n",
            "Epoch 13/100\n",
            "14/14 [==============================] - 0s 3ms/step - loss: 0.0331 - accuracy: 0.9635\n",
            "Epoch 14/100\n",
            "14/14 [==============================] - 0s 2ms/step - loss: 0.0313 - accuracy: 0.9658\n",
            "Epoch 15/100\n",
            "14/14 [==============================] - 0s 3ms/step - loss: 0.0298 - accuracy: 0.9703\n",
            "Epoch 16/100\n",
            "14/14 [==============================] - 0s 2ms/step - loss: 0.0281 - accuracy: 0.9726\n",
            "Epoch 17/100\n",
            "14/14 [==============================] - 0s 2ms/step - loss: 0.0269 - accuracy: 0.9772\n",
            "Epoch 18/100\n",
            "14/14 [==============================] - 0s 3ms/step - loss: 0.0252 - accuracy: 0.9749\n",
            "Epoch 19/100\n",
            "14/14 [==============================] - 0s 2ms/step - loss: 0.0231 - accuracy: 0.9795\n",
            "Epoch 20/100\n",
            "14/14 [==============================] - 0s 2ms/step - loss: 0.0214 - accuracy: 0.9817\n",
            "Epoch 21/100\n",
            "14/14 [==============================] - 0s 2ms/step - loss: 0.0196 - accuracy: 0.9817\n",
            "Epoch 22/100\n",
            "14/14 [==============================] - 0s 2ms/step - loss: 0.0183 - accuracy: 0.9840\n",
            "Epoch 23/100\n",
            "14/14 [==============================] - 0s 2ms/step - loss: 0.0171 - accuracy: 0.9886\n",
            "Epoch 24/100\n",
            "14/14 [==============================] - 0s 2ms/step - loss: 0.0162 - accuracy: 0.9886\n",
            "Epoch 25/100\n",
            "14/14 [==============================] - 0s 2ms/step - loss: 0.0150 - accuracy: 0.9886\n",
            "Epoch 26/100\n",
            "14/14 [==============================] - 0s 2ms/step - loss: 0.0139 - accuracy: 0.9886\n",
            "Epoch 27/100\n",
            "14/14 [==============================] - 0s 2ms/step - loss: 0.0129 - accuracy: 0.9886\n",
            "Epoch 28/100\n",
            "14/14 [==============================] - 0s 2ms/step - loss: 0.0124 - accuracy: 0.9909\n",
            "Epoch 29/100\n",
            "14/14 [==============================] - 0s 2ms/step - loss: 0.0118 - accuracy: 0.9909\n",
            "Epoch 30/100\n",
            "14/14 [==============================] - 0s 2ms/step - loss: 0.0113 - accuracy: 0.9932\n",
            "Epoch 31/100\n",
            "14/14 [==============================] - 0s 3ms/step - loss: 0.0107 - accuracy: 0.9932\n",
            "Epoch 32/100\n",
            "14/14 [==============================] - 0s 2ms/step - loss: 0.0106 - accuracy: 0.9932\n",
            "Epoch 33/100\n",
            "14/14 [==============================] - 0s 2ms/step - loss: 0.0099 - accuracy: 0.9932\n",
            "Epoch 34/100\n",
            "14/14 [==============================] - 0s 2ms/step - loss: 0.0096 - accuracy: 0.9932\n",
            "Epoch 35/100\n",
            "14/14 [==============================] - 0s 2ms/step - loss: 0.0092 - accuracy: 0.9932\n",
            "Epoch 36/100\n",
            "14/14 [==============================] - 0s 2ms/step - loss: 0.0090 - accuracy: 0.9932\n",
            "Epoch 37/100\n",
            "14/14 [==============================] - 0s 2ms/step - loss: 0.0088 - accuracy: 0.9932\n",
            "Epoch 38/100\n",
            "14/14 [==============================] - 0s 2ms/step - loss: 0.0084 - accuracy: 0.9932\n",
            "Epoch 39/100\n",
            "14/14 [==============================] - 0s 3ms/step - loss: 0.0082 - accuracy: 0.9932\n",
            "Epoch 40/100\n",
            "14/14 [==============================] - 0s 2ms/step - loss: 0.0078 - accuracy: 0.9932\n",
            "Epoch 41/100\n",
            "14/14 [==============================] - 0s 2ms/step - loss: 0.0075 - accuracy: 0.9932\n",
            "Epoch 42/100\n",
            "14/14 [==============================] - 0s 2ms/step - loss: 0.0070 - accuracy: 0.9932\n",
            "Epoch 43/100\n",
            "14/14 [==============================] - 0s 2ms/step - loss: 0.0067 - accuracy: 0.9954\n",
            "Epoch 44/100\n",
            "14/14 [==============================] - 0s 2ms/step - loss: 0.0064 - accuracy: 0.9954\n",
            "Epoch 45/100\n",
            "14/14 [==============================] - 0s 2ms/step - loss: 0.0062 - accuracy: 0.9954\n",
            "Epoch 46/100\n",
            "14/14 [==============================] - 0s 2ms/step - loss: 0.0060 - accuracy: 0.9954\n",
            "Epoch 47/100\n",
            "14/14 [==============================] - 0s 2ms/step - loss: 0.0058 - accuracy: 0.9954\n",
            "Epoch 48/100\n",
            "14/14 [==============================] - 0s 2ms/step - loss: 0.0057 - accuracy: 0.9954\n",
            "Epoch 49/100\n",
            "14/14 [==============================] - 0s 3ms/step - loss: 0.0056 - accuracy: 0.9954\n",
            "Epoch 50/100\n",
            "14/14 [==============================] - 0s 3ms/step - loss: 0.0055 - accuracy: 0.9954\n",
            "Epoch 51/100\n",
            "14/14 [==============================] - 0s 2ms/step - loss: 0.0055 - accuracy: 0.9954\n",
            "Epoch 52/100\n",
            "14/14 [==============================] - 0s 2ms/step - loss: 0.0054 - accuracy: 0.9954\n",
            "Epoch 53/100\n",
            "14/14 [==============================] - 0s 2ms/step - loss: 0.0053 - accuracy: 0.9954\n",
            "Epoch 54/100\n",
            "14/14 [==============================] - 0s 2ms/step - loss: 0.0052 - accuracy: 0.9954\n",
            "Epoch 55/100\n",
            "14/14 [==============================] - 0s 3ms/step - loss: 0.0052 - accuracy: 0.9954\n",
            "Epoch 56/100\n",
            "14/14 [==============================] - 0s 3ms/step - loss: 0.0051 - accuracy: 0.9954\n",
            "Epoch 57/100\n",
            "14/14 [==============================] - 0s 2ms/step - loss: 0.0051 - accuracy: 0.9954\n",
            "Epoch 58/100\n",
            "14/14 [==============================] - 0s 2ms/step - loss: 0.0051 - accuracy: 0.9954\n",
            "Epoch 59/100\n",
            "14/14 [==============================] - 0s 3ms/step - loss: 0.0050 - accuracy: 0.9954\n",
            "Epoch 60/100\n",
            "14/14 [==============================] - 0s 2ms/step - loss: 0.0050 - accuracy: 0.9954\n",
            "Epoch 61/100\n",
            "14/14 [==============================] - 0s 2ms/step - loss: 0.0050 - accuracy: 0.9954\n",
            "Epoch 62/100\n",
            "14/14 [==============================] - 0s 2ms/step - loss: 0.0050 - accuracy: 0.9954\n",
            "Epoch 63/100\n",
            "14/14 [==============================] - 0s 2ms/step - loss: 0.0050 - accuracy: 0.9954\n",
            "Epoch 64/100\n",
            "14/14 [==============================] - 0s 2ms/step - loss: 0.0049 - accuracy: 0.9954\n",
            "Epoch 65/100\n",
            "14/14 [==============================] - 0s 2ms/step - loss: 0.0049 - accuracy: 0.9954\n",
            "Epoch 66/100\n",
            "14/14 [==============================] - 0s 3ms/step - loss: 0.0049 - accuracy: 0.9954\n",
            "Epoch 67/100\n",
            "14/14 [==============================] - 0s 2ms/step - loss: 0.0049 - accuracy: 0.9954\n",
            "Epoch 68/100\n",
            "14/14 [==============================] - 0s 2ms/step - loss: 0.0049 - accuracy: 0.9954\n",
            "Epoch 69/100\n",
            "14/14 [==============================] - 0s 3ms/step - loss: 0.0049 - accuracy: 0.9954\n",
            "Epoch 70/100\n",
            "14/14 [==============================] - 0s 2ms/step - loss: 0.0048 - accuracy: 0.9954\n",
            "Epoch 71/100\n",
            "14/14 [==============================] - 0s 2ms/step - loss: 0.0048 - accuracy: 0.9954\n",
            "Epoch 72/100\n",
            "14/14 [==============================] - 0s 2ms/step - loss: 0.0048 - accuracy: 0.9954\n",
            "Epoch 73/100\n",
            "14/14 [==============================] - 0s 2ms/step - loss: 0.0048 - accuracy: 0.9954\n",
            "Epoch 74/100\n",
            "14/14 [==============================] - 0s 3ms/step - loss: 0.0048 - accuracy: 0.9954\n",
            "Epoch 75/100\n",
            "14/14 [==============================] - 0s 2ms/step - loss: 0.0048 - accuracy: 0.9954\n",
            "Epoch 76/100\n",
            "14/14 [==============================] - 0s 2ms/step - loss: 0.0048 - accuracy: 0.9954\n",
            "Epoch 77/100\n",
            "14/14 [==============================] - 0s 2ms/step - loss: 0.0048 - accuracy: 0.9954\n",
            "Epoch 78/100\n",
            "14/14 [==============================] - 0s 2ms/step - loss: 0.0048 - accuracy: 0.9954\n",
            "Epoch 79/100\n",
            "14/14 [==============================] - 0s 2ms/step - loss: 0.0048 - accuracy: 0.9954\n",
            "Epoch 80/100\n",
            "14/14 [==============================] - 0s 3ms/step - loss: 0.0047 - accuracy: 0.9954\n",
            "Epoch 81/100\n",
            "14/14 [==============================] - 0s 2ms/step - loss: 0.0047 - accuracy: 0.9954\n",
            "Epoch 82/100\n",
            "14/14 [==============================] - 0s 2ms/step - loss: 0.0047 - accuracy: 0.9954\n",
            "Epoch 83/100\n",
            "14/14 [==============================] - 0s 2ms/step - loss: 0.0047 - accuracy: 0.9954\n",
            "Epoch 84/100\n",
            "14/14 [==============================] - 0s 3ms/step - loss: 0.0047 - accuracy: 0.9954\n",
            "Epoch 85/100\n",
            "14/14 [==============================] - 0s 2ms/step - loss: 0.0047 - accuracy: 0.9954\n",
            "Epoch 86/100\n",
            "14/14 [==============================] - 0s 3ms/step - loss: 0.0047 - accuracy: 0.9954\n",
            "Epoch 87/100\n",
            "14/14 [==============================] - 0s 2ms/step - loss: 0.0047 - accuracy: 0.9954\n",
            "Epoch 88/100\n",
            "14/14 [==============================] - 0s 2ms/step - loss: 0.0047 - accuracy: 0.9954\n",
            "Epoch 89/100\n",
            "14/14 [==============================] - 0s 2ms/step - loss: 0.0047 - accuracy: 0.9954\n",
            "Epoch 90/100\n",
            "14/14 [==============================] - 0s 2ms/step - loss: 0.0047 - accuracy: 0.9954\n",
            "Epoch 91/100\n",
            "14/14 [==============================] - 0s 2ms/step - loss: 0.0047 - accuracy: 0.9954\n",
            "Epoch 92/100\n",
            "14/14 [==============================] - 0s 2ms/step - loss: 0.0047 - accuracy: 0.9954\n",
            "Epoch 93/100\n",
            "14/14 [==============================] - 0s 3ms/step - loss: 0.0047 - accuracy: 0.9954\n",
            "Epoch 94/100\n",
            "14/14 [==============================] - 0s 2ms/step - loss: 0.0047 - accuracy: 0.9954\n",
            "Epoch 95/100\n",
            "14/14 [==============================] - 0s 3ms/step - loss: 0.0047 - accuracy: 0.9954\n",
            "Epoch 96/100\n",
            "14/14 [==============================] - 0s 3ms/step - loss: 0.0047 - accuracy: 0.9954\n",
            "Epoch 97/100\n",
            "14/14 [==============================] - 0s 2ms/step - loss: 0.0047 - accuracy: 0.9954\n",
            "Epoch 98/100\n",
            "14/14 [==============================] - 0s 2ms/step - loss: 0.0047 - accuracy: 0.9954\n",
            "Epoch 99/100\n",
            "14/14 [==============================] - 0s 2ms/step - loss: 0.0047 - accuracy: 0.9954\n",
            "Epoch 100/100\n",
            "14/14 [==============================] - 0s 2ms/step - loss: 0.0047 - accuracy: 0.9954\n"
          ]
        }
      ],
      "source": [
        "# Fit the model\n",
        "deep_net_model = nn.fit(X_train_scaled, y_train, epochs=100)"
      ]
    },
    {
      "cell_type": "code",
      "execution_count": 36,
      "id": "59f91c8e-be1b-40cf-80f8-8045d90d11f7",
      "metadata": {
        "colab": {
          "base_uri": "https://localhost:8080/"
        },
        "id": "59f91c8e-be1b-40cf-80f8-8045d90d11f7",
        "outputId": "afdde379-6b3b-496c-aabc-09d87514ab52"
      },
      "outputs": [
        {
          "output_type": "stream",
          "name": "stdout",
          "text": [
            "14/14 - 0s - loss: 0.0047 - accuracy: 0.9954 - 158ms/epoch - 11ms/step\n"
          ]
        }
      ],
      "source": [
        "# Print loss and accuracy score of training set\n",
        "loss, accuracy = nn.evaluate(X_train_scaled, y_train, verbose=2)"
      ]
    },
    {
      "cell_type": "code",
      "execution_count": 37,
      "id": "dcd64a11-3551-4aab-8de8-ce9bb532fdb8",
      "metadata": {
        "colab": {
          "base_uri": "https://localhost:8080/"
        },
        "id": "dcd64a11-3551-4aab-8de8-ce9bb532fdb8",
        "outputId": "434b69cb-3094-4eb9-d978-4874af106d21"
      },
      "outputs": [
        {
          "output_type": "stream",
          "name": "stdout",
          "text": [
            "5/5 - 0s - loss: 0.0466 - accuracy: 0.9315 - 22ms/epoch - 4ms/step\n"
          ]
        }
      ],
      "source": [
        "# Print loss and accuracy score of testing set\n",
        "val_loss, val_accuracy = nn.evaluate(X_test_scaled, y_test, verbose=2)"
      ]
    },
    {
      "cell_type": "code",
      "source": [
        "X_test_scaled"
      ],
      "metadata": {
        "colab": {
          "base_uri": "https://localhost:8080/"
        },
        "id": "2EtRVEdT-XW2",
        "outputId": "0cb35fa5-2fae-4e38-d52f-c2b61d2c0e54"
      },
      "id": "2EtRVEdT-XW2",
      "execution_count": 38,
      "outputs": [
        {
          "output_type": "execute_result",
          "data": {
            "text/plain": [
              "array([[-1.75464895, -0.87382549,  0.18072535, ..., -0.43260519,\n",
              "         0.47497886,  0.7425042 ],\n",
              "       [ 1.61745513,  1.32136467,  2.55290602, ...,  1.88541156,\n",
              "        -1.72228848,  1.3597462 ],\n",
              "       [ 1.48257096,  0.94162798,  0.09468771, ...,  0.47068398,\n",
              "         0.03552539,  0.31441702],\n",
              "       ...,\n",
              "       [-0.67557565, -0.72297119,  0.34050954, ...,  0.34670288,\n",
              "        -0.82025241, -0.6910901 ],\n",
              "       [ 0.80815015,  0.78036993,  1.88918708, ...,  2.04039091,\n",
              "        -1.42160979,  1.26019104],\n",
              "       [ 0.53838182,  1.49302645,  0.3896739 , ...,  1.01923456,\n",
              "         0.01239626,  1.28010207]])"
            ]
          },
          "metadata": {},
          "execution_count": 38
        }
      ]
    },
    {
      "cell_type": "code",
      "source": [
        "y_test"
      ],
      "metadata": {
        "colab": {
          "base_uri": "https://localhost:8080/"
        },
        "id": "HVaPEKsVEy9e",
        "outputId": "b60f49e2-44ae-4e8c-a644-60e688e58ca6"
      },
      "id": "HVaPEKsVEy9e",
      "execution_count": 39,
      "outputs": [
        {
          "output_type": "execute_result",
          "data": {
            "text/plain": [
              "0      0\n",
              "514    1\n",
              "355    1\n",
              "23     0\n",
              "385    1\n",
              "      ..\n",
              "411    1\n",
              "160    0\n",
              "19     0\n",
              "318    1\n",
              "306    1\n",
              "Name: Group, Length: 146, dtype: int64"
            ]
          },
          "metadata": {},
          "execution_count": 39
        }
      ]
    },
    {
      "cell_type": "code",
      "source": [
        "deep_net_pred = nn.predict(X_test_scaled)\n",
        "deep_net_pred[:10]"
      ],
      "metadata": {
        "colab": {
          "base_uri": "https://localhost:8080/"
        },
        "id": "xOEqBDpm-aM8",
        "outputId": "8e3caa2c-5860-45f1-8ea4-9684333be4d4"
      },
      "id": "xOEqBDpm-aM8",
      "execution_count": 40,
      "outputs": [
        {
          "output_type": "execute_result",
          "data": {
            "text/plain": [
              "array([[3.3038855e-04],\n",
              "       [1.0000000e+00],\n",
              "       [9.9999464e-01],\n",
              "       [5.6770444e-04],\n",
              "       [9.9962521e-01],\n",
              "       [1.8593669e-04],\n",
              "       [1.0135749e-01],\n",
              "       [3.6808848e-04],\n",
              "       [2.1389127e-04],\n",
              "       [4.7243237e-03]], dtype=float32)"
            ]
          },
          "metadata": {},
          "execution_count": 40
        }
      ]
    },
    {
      "cell_type": "code",
      "source": [
        "import numpy as np\n",
        "deep_net_pred = np.where(deep_net_pred > .5, 1, 0)\n"
      ],
      "metadata": {
        "id": "f5yaMwy5HBW6"
      },
      "id": "f5yaMwy5HBW6",
      "execution_count": 41,
      "outputs": []
    },
    {
      "cell_type": "code",
      "source": [
        "# deep_net_pred = nn.predict(X_test_scaled)\n",
        "from itertools import chain\n",
        "pred = list(chain(*deep_net_pred))\n",
        "import numpy as np\n",
        "array = np.asarray(pred)\n",
        "array[:10]"
      ],
      "metadata": {
        "colab": {
          "base_uri": "https://localhost:8080/"
        },
        "id": "BPUWBpOjrD7m",
        "outputId": "12e9a42a-a924-4842-97f6-4727a5fa8d60"
      },
      "id": "BPUWBpOjrD7m",
      "execution_count": 42,
      "outputs": [
        {
          "output_type": "execute_result",
          "data": {
            "text/plain": [
              "array([0, 1, 1, 0, 1, 0, 0, 0, 0, 0])"
            ]
          },
          "metadata": {},
          "execution_count": 42
        }
      ]
    },
    {
      "cell_type": "code",
      "source": [
        "deep_net_classification_report = classification_report(y_test, array)\n",
        "\n",
        "# Print the classification report\n",
        "print(deep_net_classification_report)"
      ],
      "metadata": {
        "colab": {
          "base_uri": "https://localhost:8080/"
        },
        "id": "GCMFFMyAjEch",
        "outputId": "e657bd9c-4e90-4930-9b21-36dc5bf07f2c"
      },
      "id": "GCMFFMyAjEch",
      "execution_count": 43,
      "outputs": [
        {
          "output_type": "stream",
          "name": "stdout",
          "text": [
            "              precision    recall  f1-score   support\n",
            "\n",
            "           0       0.88      0.99      0.93        67\n",
            "           1       0.99      0.89      0.93        79\n",
            "\n",
            "    accuracy                           0.93       146\n",
            "   macro avg       0.93      0.94      0.93       146\n",
            "weighted avg       0.94      0.93      0.93       146\n",
            "\n"
          ]
        }
      ]
    },
    {
      "cell_type": "code",
      "execution_count": 44,
      "id": "3c4a42d7-3724-44a6-87d2-b027e94acb94",
      "metadata": {
        "id": "3c4a42d7-3724-44a6-87d2-b027e94acb94",
        "colab": {
          "base_uri": "https://localhost:8080/",
          "height": 283
        },
        "outputId": "9d1513f8-fbc3-4ad9-989f-f7cc509082a0"
      },
      "outputs": [
        {
          "output_type": "execute_result",
          "data": {
            "text/plain": [
              "<matplotlib.axes._subplots.AxesSubplot at 0x7fb0723a8310>"
            ]
          },
          "metadata": {},
          "execution_count": 44
        },
        {
          "output_type": "display_data",
          "data": {
            "text/plain": [
              "<Figure size 432x288 with 1 Axes>"
            ],
            "image/png": "[encoded data removed]"
          },
          "metadata": {
            "needs_background": "light"
          }
        }
      ],
      "source": [
        "# Plot the loss rate\n",
        "loss_df = pd.DataFrame(deep_net_model.history['loss'])\n",
        "loss_df.plot()"
      ]
    },
    {
      "cell_type": "code",
      "execution_count": 45,
      "id": "76ff9ba1-63fa-4cc4-9f60-8226f72bb761",
      "metadata": {
        "id": "76ff9ba1-63fa-4cc4-9f60-8226f72bb761",
        "colab": {
          "base_uri": "https://localhost:8080/",
          "height": 283
        },
        "outputId": "9eb1ee23-0d93-4a06-b562-c2267fe7bb39"
      },
      "outputs": [
        {
          "output_type": "execute_result",
          "data": {
            "text/plain": [
              "<matplotlib.axes._subplots.AxesSubplot at 0x7fb072307c50>"
            ]
          },
          "metadata": {},
          "execution_count": 45
        },
        {
          "output_type": "display_data",
          "data": {
            "text/plain": [
              "<Figure size 432x288 with 1 Axes>"
            ],
            "image/png": "[encoded data removed]"
          },
          "metadata": {
            "needs_background": "light"
          }
        }
      ],
      "source": [
        "# Plot the accuracy score\n",
        "accuracy_df = pd.DataFrame(deep_net_model.history['accuracy'])\n",
        "accuracy_df.plot()"
      ]
    },
    {
      "cell_type": "markdown",
      "source": [
        "---\n",
        "## Test model with 2022 data"
      ],
      "metadata": {
        "id": "8D2xKELk7irl"
      },
      "id": "8D2xKELk7irl"
    },
    {
      "cell_type": "code",
      "source": [
        ""
      ],
      "metadata": {
        "id": "_IcrgH5V_vLR"
      },
      "id": "_IcrgH5V_vLR",
      "execution_count": null,
      "outputs": []
    }
  ],
  "metadata": {
    "kernelspec": {
      "display_name": "dev",
      "language": "python",
      "name": "dev"
    },
    "language_info": {
      "codemirror_mode": {
        "name": "ipython",
        "version": 3
      },
      "file_extension": ".py",
      "mimetype": "text/x-python",
      "name": "python",
      "nbconvert_exporter": "python",
      "pygments_lexer": "ipython3",
      "version": "3.9.12"
    },
    "colab": {
      "name": "FF_top15_college_data.ipynb",
      "provenance": [],
      "collapsed_sections": [],
      "include_colab_link": true
    }
  },
  "nbformat": 4,
  "nbformat_minor": 5
}